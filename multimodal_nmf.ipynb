{
  "nbformat": 4,
  "nbformat_minor": 0,
  "metadata": {
    "colab": {
      "provenance": [],
      "machine_shape": "hm",
      "collapsed_sections": [
        "gPw7A6MeT12G",
        "8tng64uyCOGb",
        "tqZEN5JL7zZj",
        "KaZZz_e2z62s"
      ],
      "mount_file_id": "1O5_-Xx8wXr1suQIEaL19CPWpOfQQGhFK",
      "authorship_tag": "ABX9TyNLAFgAXi94LB6TWqG5wlvM",
      "include_colab_link": true
    },
    "kernelspec": {
      "name": "python3",
      "display_name": "Python 3"
    },
    "language_info": {
      "name": "python"
    },
    "gpuClass": "standard"
  },
  "cells": [
    {
      "cell_type": "markdown",
      "metadata": {
        "id": "view-in-github",
        "colab_type": "text"
      },
      "source": [
        "<a href=\"https://colab.research.google.com/github/Enterprise-D/sc_multimodal/blob/main/multimodal_nmf.ipynb\" target=\"_parent\"><img src=\"https://colab.research.google.com/assets/colab-badge.svg\" alt=\"Open In Colab\"/></a>"
      ]
    },
    {
      "cell_type": "markdown",
      "source": [
        "## Colab Administrative"
      ],
      "metadata": {
        "id": "gPw7A6MeT12G"
      }
    },
    {
      "cell_type": "markdown",
      "source": [
        "Mount Google Drive:"
      ],
      "metadata": {
        "id": "aXvd5fxMTp60"
      }
    },
    {
      "cell_type": "code",
      "source": [
        "from google.colab import drive\n",
        "drive.mount('/content/drive')"
      ],
      "metadata": {
        "colab": {
          "base_uri": "https://localhost:8080/"
        },
        "id": "VRT--MTkTflt",
        "outputId": "cb7f3fda-18f2-4cd1-e64a-988d2f4aa70b"
      },
      "execution_count": 2,
      "outputs": [
        {
          "output_type": "stream",
          "name": "stdout",
          "text": [
            "Drive already mounted at /content/drive; to attempt to forcibly remount, call drive.mount(\"/content/drive\", force_remount=True).\n"
          ]
        }
      ]
    },
    {
      "cell_type": "markdown",
      "source": [
        "## Data Compression"
      ],
      "metadata": {
        "id": "8tng64uyCOGb"
      }
    },
    {
      "cell_type": "markdown",
      "source": [
        "Install and load h5df modules:"
      ],
      "metadata": {
        "id": "ZeLMI5ReCluQ"
      }
    },
    {
      "cell_type": "code",
      "source": [
        "import h5py\n",
        "\n",
        "!pip install hdf5plugin\n",
        "import hdf5plugin"
      ],
      "metadata": {
        "id": "Pw8PddPwCPRy"
      },
      "execution_count": null,
      "outputs": []
    },
    {
      "cell_type": "markdown",
      "source": [
        "handle inputs:"
      ],
      "metadata": {
        "id": "-Fv5wM1vDvgQ"
      }
    },
    {
      "cell_type": "code",
      "source": [
        "path_train_multi_inputs = '/content/drive/MyDrive/multimodal/train_multi_inputs.h5'\n",
        "file_train_multi_inputs = h5py.File(path_train_multi_inputs, \"r\")\n",
        "\n",
        "path_test_multi_inputs = '/content/drive/MyDrive/multimodal/test_multi_inputs.h5'\n",
        "file_test_multi_inputs = h5py.File(path_test_multi_inputs, \"r\")\n",
        "\n",
        "file_train_multi_inputs.keys(), file_test_multi_inputs.keys()"
      ],
      "metadata": {
        "id": "bUsBrfM2Cedl"
      },
      "execution_count": null,
      "outputs": []
    },
    {
      "cell_type": "code",
      "source": [
        "group_train_multi_inputs = file_train_multi_inputs['train_multi_inputs']\n",
        "\n",
        "group_test_multi_inputs = file_test_multi_inputs['test_multi_inputs']\n",
        "\n",
        "group_train_multi_inputs.keys(), group_test_multi_inputs.keys()"
      ],
      "metadata": {
        "id": "rIq_boddfJxB"
      },
      "execution_count": null,
      "outputs": []
    },
    {
      "cell_type": "code",
      "source": [
        "group_train_multi_inputs['block0_values'].shape, \\\n",
        "group_test_multi_inputs['block0_values'].shape\n",
        "# axis0 & block0_items: features (genomic coordinates, GRCh38)\n",
        "# axis1: cell_ids\n",
        "# block0_values: entries"
      ],
      "metadata": {
        "id": "-Rl_4P0gfiCW"
      },
      "execution_count": null,
      "outputs": []
    },
    {
      "cell_type": "code",
      "source": [
        "group_train_multi_inputs['block0_values'][1:10,1:6]"
      ],
      "metadata": {
        "id": "sE8IAkUk0mJK"
      },
      "execution_count": null,
      "outputs": []
    },
    {
      "cell_type": "markdown",
      "source": [
        "handle targets:"
      ],
      "metadata": {
        "id": "im-6LWJhfMFN"
      }
    },
    {
      "cell_type": "code",
      "source": [
        "path_train_multi_targets = '/content/drive/MyDrive/multimodal/train_multi_targets.h5'\n",
        "file_train_multi_targets = h5py.File(path_train_multi_targets, \"r\")\n",
        "\n",
        "file_train_multi_targets.keys()"
      ],
      "metadata": {
        "id": "gg5xH9eofH_d"
      },
      "execution_count": null,
      "outputs": []
    },
    {
      "cell_type": "code",
      "source": [
        "group_train_multi_targets = file_train_multi_targets['train_multi_targets']\n",
        "group_train_multi_targets.keys()"
      ],
      "metadata": {
        "id": "TpAqs2WBDykP"
      },
      "execution_count": null,
      "outputs": []
    },
    {
      "cell_type": "code",
      "source": [
        "group_train_multi_targets['block0_values'].shape\n",
        "# axis0 & block0_items: features (expression reads, GRCh38)\n",
        "# axis1: cell_ids\n",
        "# block0_values: entries"
      ],
      "metadata": {
        "id": "3LMUF0_iGY13"
      },
      "execution_count": null,
      "outputs": []
    },
    {
      "cell_type": "code",
      "source": [
        "group_train_multi_targets['block0_values'][1:10,1:6]"
      ],
      "metadata": {
        "id": "M0UWdsbM0Qrw"
      },
      "execution_count": null,
      "outputs": []
    },
    {
      "cell_type": "code",
      "source": [
        "import numpy as np\n",
        "import pandas as pd\n",
        "import os\n",
        "import scipy.sparse as sps\n",
        "from tqdm import tqdm as tqdm\n",
        "import gc"
      ],
      "metadata": {
        "id": "qHRDARgfhg_U"
      },
      "execution_count": 7,
      "outputs": []
    },
    {
      "cell_type": "markdown",
      "source": [
        "Datasets are too sparse:"
      ],
      "metadata": {
        "id": "LjZvelVQ3van"
      }
    },
    {
      "cell_type": "code",
      "source": [
        "%load_ext Cython"
      ],
      "metadata": {
        "id": "VRjR2Vm43tSZ"
      },
      "execution_count": null,
      "outputs": []
    },
    {
      "cell_type": "code",
      "source": [
        "%%cython\n",
        "\n",
        "import cython\n",
        "cimport cython\n",
        "cimport numpy as np\n",
        "import numpy as np\n",
        "from tqdm import tqdm, trange\n",
        "\n",
        "ctypedef np.int64_t INT64_t\n",
        "\n",
        "@cython.boundscheck(False)\n",
        "@cython.wraparound(False)\n",
        "cpdef np.ndarray[INT64_t, ndim=1] create_indptr(INT64_t[:] row_indices, int start_pos, int nrows):\n",
        "    cdef int shape = row_indices.shape[0]\n",
        "    res = np.zeros(nrows, dtype=np.int64)\n",
        "    cdef INT64_t[:] res_view = res\n",
        "    \n",
        "    cdef int i\n",
        "    cdef int curr_row = 0\n",
        "    cdef int prev = row_indices[0]\n",
        "    \n",
        "    for i in range(shape):\n",
        "        if row_indices[i] != prev:\n",
        "            curr_row += 1\n",
        "            res_view[curr_row] = i\n",
        "            prev = row_indices[i]\n",
        "    # res_view[curr_row + 1] = shape\n",
        "    return res + start_pos"
      ],
      "metadata": {
        "id": "ie-kHKl2ywJm"
      },
      "execution_count": null,
      "outputs": []
    },
    {
      "cell_type": "code",
      "source": [
        "def create_csr_arrays(h5_file_path):\n",
        "    def check_size(xs, ys, datas):\n",
        "        return (xs.nbytes + ys.nbytes + datas.nbytes) * 1e-9\n",
        "\n",
        "    print(f\"\\n\\nProcessing File {h5_file_path}\")\n",
        "    pbar = tqdm()\n",
        "\n",
        "    # Initialize Variables\n",
        "    chunksize = 1000 # Keep it low\n",
        "    loaded_rows = chunksize\n",
        "    start = 0\n",
        "    start_pos = 0\n",
        "    file_pointer = 0\n",
        "\n",
        "    # Initialize CSR arrays\n",
        "    indptr = np.array([], dtype=np.int64)\n",
        "    indices = np.array([], dtype=np.int32)\n",
        "    data_s = np.array([], dtype=np.float32)\n",
        "    \n",
        "    prefix_filename = h5_file_path.split('/')[-1].replace('.h5', '')\n",
        "\n",
        "    while chunksize == loaded_rows:\n",
        "\n",
        "        # Check current size: if the total sum of sizes are > 7GB, then save three arrays and re-initialize them\n",
        "        size_gb = check_size(indptr, indices, data_s)\n",
        "        if size_gb > 7.0:\n",
        "            pbar.set_description(f\"Total size is {size_gb}. Saving ..\")\n",
        "            np.save(f\"{prefix_filename}_indptr_{file_pointer}.npy\", indptr)\n",
        "            np.save(f\"{prefix_filename}_indices_{file_pointer}.npy\", indices)\n",
        "            np.save(f\"{prefix_filename}_data_{file_pointer}.npy\", data_s)\n",
        "            # Re-initialize\n",
        "            indptr = np.array([], dtype=np.int64)\n",
        "            indices = np.array([], dtype=np.int32)\n",
        "            data_s = np.array([], dtype=np.float32)\n",
        "            # Increment pointer\n",
        "            file_pointer += 1\n",
        "\n",
        "        pbar.set_description(\"Reading .h5 chunk\")\n",
        "        df = pd.read_hdf(h5_file_path, start=start, stop=start+chunksize)\n",
        "        pbar.set_description(\"Extracting non-zero values\")\n",
        "        x_coords, y_coords = df.values.nonzero()\n",
        "        tmp_data = df.values[df.values != 0.0]\n",
        "\n",
        "        loaded_rows = df.shape[0]\n",
        "\n",
        "        # Convert types\n",
        "        y_coords = y_coords.astype(np.int32, copy=False)\n",
        "        tmp_data = tmp_data.astype(np.float32, copy=False)\n",
        "\n",
        "        # Compress x_coords\n",
        "        pbar.set_description(\"Compressing rows values\")\n",
        "        x_coords = create_indptr(x_coords, start_pos=start_pos, nrows=loaded_rows)\n",
        "\n",
        "        gc.collect()\n",
        "\n",
        "        # Update variables\n",
        "        pbar.set_description(\"Update variables\")\n",
        "        start_pos += y_coords.shape[0]\n",
        "        start += chunksize\n",
        "        # Append data at the end of each array\n",
        "        indptr = np.hstack((indptr, x_coords))\n",
        "        indices = np.hstack((indices, y_coords))\n",
        "        data_s = np.hstack((data_s, tmp_data))\n",
        "\n",
        "        pbar.update(loaded_rows)\n",
        "\n",
        "    print('Done. Save last files')\n",
        "    np.save(f\"{prefix_filename}_indptr_{file_pointer}.npy\", indptr)\n",
        "    np.save(f\"{prefix_filename}_indices_{file_pointer}.npy\", indices)\n",
        "    np.save(f\"{prefix_filename}_data_{file_pointer}.npy\", data_s)\n",
        "    \n",
        "    del indptr, indices, data_s"
      ],
      "metadata": {
        "id": "hVq6XQKFzgTw"
      },
      "execution_count": null,
      "outputs": []
    },
    {
      "cell_type": "code",
      "source": [
        "create_csr_arrays(path_train_multi_inputs)"
      ],
      "metadata": {
        "id": "QTi5EZAK015w"
      },
      "execution_count": null,
      "outputs": []
    },
    {
      "cell_type": "code",
      "source": [
        "indptr = np.load('train_multi_inputs_indptr_0.npy')\n",
        "indices = np.load('train_multi_inputs_indices_0.npy')\n",
        "data = np.load('train_multi_inputs_data_0.npy')\n",
        "indptr = np.append(indptr, indptr[-1] + indices[indptr[-1]:].shape)\n",
        "N_ROWS = group_train_multi_inputs['block0_values'].shape[0]\n",
        "N_COLS = group_train_multi_inputs['block0_values'].shape[1]\n",
        "csr_matrix = sps.csr_matrix((data, indices, indptr), shape=(N_ROWS, N_COLS))\n",
        "sps.save_npz('train_multi_inputs_sparse.npz', csr_matrix)\n",
        "del csr_matrix, indices, indptr, data"
      ],
      "metadata": {
        "id": "lmV3uKrm5QLq"
      },
      "execution_count": null,
      "outputs": []
    },
    {
      "cell_type": "code",
      "source": [
        "create_csr_arrays(path_train_multi_targets)"
      ],
      "metadata": {
        "id": "iUCehtUw1ex4"
      },
      "execution_count": null,
      "outputs": []
    },
    {
      "cell_type": "code",
      "source": [
        "indptr = np.load('train_multi_targets_indptr_0.npy')\n",
        "indices = np.load('train_multi_targets_indices_0.npy')\n",
        "data = np.load('train_multi_targets_data_0.npy')\n",
        "indptr = np.append(indptr, indptr[-1] + indices[indptr[-1]:].shape)\n",
        "N_ROWS = group_train_multi_targets['block0_values'].shape[0]\n",
        "N_COLS = group_train_multi_targets['block0_values'].shape[1]\n",
        "csr_matrix = sps.csr_matrix((data, indices, indptr), shape=(N_ROWS, N_COLS))\n",
        "sps.save_npz('train_multi_targets_sparse.npz', csr_matrix)\n",
        "del csr_matrix, indices, indptr, data"
      ],
      "metadata": {
        "id": "VbDIjfh25bIW"
      },
      "execution_count": null,
      "outputs": []
    },
    {
      "cell_type": "code",
      "source": [
        "create_csr_arrays(path_test_multi_inputs)"
      ],
      "metadata": {
        "id": "u7harJTv1fei"
      },
      "execution_count": null,
      "outputs": []
    },
    {
      "cell_type": "code",
      "source": [
        "indptr = np.load('test_multi_inputs_indptr_0.npy')\n",
        "indices = np.load('test_multi_inputs_indices_0.npy')\n",
        "data = np.load('test_multi_inputs_data_0.npy')\n",
        "indptr = np.append(indptr, indptr[-1] + indices[indptr[-1]:].shape)\n",
        "N_ROWS = group_test_multi_inputs['block0_values'].shape[0]\n",
        "N_COLS = group_test_multi_inputs['block0_values'].shape[1]\n",
        "csr_matrix = sps.csr_matrix((data, indices, indptr), shape=(N_ROWS, N_COLS))\n",
        "sps.save_npz('test_multi_inputs_sparse.npz', csr_matrix)\n",
        "del csr_matrix, indices, indptr, data"
      ],
      "metadata": {
        "id": "ayoFhfX75Wzl"
      },
      "execution_count": null,
      "outputs": []
    },
    {
      "cell_type": "code",
      "source": [
        "!mv *.npy /content/drive/MyDrive/multimodal_sparse\n",
        "!mv *.npz /content/drive/MyDrive/multimodal_sparse"
      ],
      "metadata": {
        "id": "u-3ZSEQR0uZ5"
      },
      "execution_count": null,
      "outputs": []
    },
    {
      "cell_type": "markdown",
      "source": [
        "## Splitting, Denoising and Normalization"
      ],
      "metadata": {
        "id": "4NjUGRr80tdL"
      }
    },
    {
      "cell_type": "markdown",
      "source": [
        "### Split datasets into training and validation parts:"
      ],
      "metadata": {
        "id": "tqZEN5JL7zZj"
      }
    },
    {
      "cell_type": "code",
      "source": [
        "import random\n",
        "import numpy as np\n",
        "import pandas as pd\n",
        "from sklearn import decomposition, model_selection\n",
        "\n",
        "import os\n",
        "import gc\n",
        "import scipy.sparse as sps\n",
        "from tqdm import tqdm as tqdm"
      ],
      "metadata": {
        "id": "lyCAh0Nx2QN2"
      },
      "execution_count": 1,
      "outputs": []
    },
    {
      "cell_type": "markdown",
      "source": [
        "Fix random seeds:"
      ],
      "metadata": {
        "id": "ESxaEBAlTKxJ"
      }
    },
    {
      "cell_type": "code",
      "source": [
        "random_seed = 3407\n",
        "random.seed(random_seed)\n",
        "np.random.seed(random_seed)"
      ],
      "metadata": {
        "id": "4ad_Mo7JTIEO"
      },
      "execution_count": 2,
      "outputs": []
    },
    {
      "cell_type": "markdown",
      "source": [
        "Copy data to local disk and load into python:"
      ],
      "metadata": {
        "id": "7suLbHzl0e_S"
      }
    },
    {
      "cell_type": "code",
      "source": [
        "!cp /content/drive/MyDrive/multimodal_sparse/*.npz /content/"
      ],
      "metadata": {
        "id": "O-6Abheg1Wf0"
      },
      "execution_count": 3,
      "outputs": []
    },
    {
      "cell_type": "code",
      "source": [
        "train_input = sps.load_npz('/content/train_multi_inputs_sparse.npz')"
      ],
      "metadata": {
        "id": "w7Jr_TKt1UPw"
      },
      "execution_count": 4,
      "outputs": []
    },
    {
      "cell_type": "code",
      "source": [
        "train_target = sps.load_npz('/content/train_multi_targets_sparse.npz')"
      ],
      "metadata": {
        "id": "-1HgZfj-uh_e"
      },
      "execution_count": 5,
      "outputs": []
    },
    {
      "cell_type": "code",
      "source": [
        "! rm *.npz"
      ],
      "metadata": {
        "id": "jjQeo-Ve1Ca8"
      },
      "execution_count": 6,
      "outputs": []
    },
    {
      "cell_type": "markdown",
      "source": [
        "Split datasets in advance to prevent model from seeing validation data:"
      ],
      "metadata": {
        "id": "VDX9E4Dg0v_O"
      }
    },
    {
      "cell_type": "code",
      "source": [
        "X_train, X_test, y_train, y_test = model_selection.train_test_split(train_input,\n",
        "                                                                    train_target, \n",
        "                                                                    test_size=0.2, \n",
        "                                                                    random_state = random_seed)\n",
        "del train_input, train_target\n",
        "\n",
        "sps.save_npz('X_train.npz', X_train)\n",
        "del X_train\n",
        "\n",
        "sps.save_npz('X_test.npz', X_test)\n",
        "del X_test\n",
        "\n",
        "sps.save_npz('y_train.npz', y_train)\n",
        "del y_train\n",
        "\n",
        "sps.save_npz('y_test.npz', y_test)\n",
        "del y_test"
      ],
      "metadata": {
        "id": "NDZiA17Ww-Yj"
      },
      "execution_count": 7,
      "outputs": []
    },
    {
      "cell_type": "code",
      "source": [
        "!cp *.npz /content/drive/MyDrive/multimodal_split"
      ],
      "metadata": {
        "id": "xBQEblm22F8L"
      },
      "execution_count": 8,
      "outputs": []
    },
    {
      "cell_type": "markdown",
      "source": [
        "### Non-Negative Matrix Factorization:"
      ],
      "metadata": {
        "id": "9aKGSh2Dfwaz"
      }
    },
    {
      "cell_type": "markdown",
      "source": [
        "For input dataset:"
      ],
      "metadata": {
        "id": "Dn7tAtxc67OQ"
      }
    },
    {
      "cell_type": "code",
      "source": [
        "# be careful with memory quota\n",
        "train_input = sps.load_npz('X_train.npz')\n",
        "\n",
        "nmf_input = decomposition.NMF(n_components=128, init='nndsvd')\n",
        "W_train_input = nmf_input.fit_transform(train_input)\n",
        "H_train_input = nmf_input.components_\n",
        "\n",
        "np.save(\"W_train_input.npy\", W_train_input)\n",
        "np.save(\"H_train_input.npy\", H_train_input)\n",
        "\n",
        "del train_input"
      ],
      "metadata": {
        "colab": {
          "base_uri": "https://localhost:8080/"
        },
        "id": "1ydo65hW24uc",
        "outputId": "55ef3179-7855-4bdb-b553-95aca3091b4c"
      },
      "execution_count": null,
      "outputs": [
        {
          "output_type": "stream",
          "name": "stdout",
          "text": [
            "violation: 1.0\n",
            "violation: 0.38308703503914526\n",
            "violation: 0.18589536332706555\n",
            "violation: 0.12880470798061674\n"
          ]
        }
      ]
    },
    {
      "cell_type": "code",
      "source": [
        "valid_input = sps.load_npz('X_test.npz')\n",
        "\n",
        "W_valid_input = nmf_input.transform(valid_input)\n",
        "H_valid_input = nmf_input.components_\n",
        "\n",
        "np.save(\"W_valid_input.npy\", W_valid_input)\n",
        "np.save(\"H_valid_input.npy\", H_valid_input)\n",
        "\n",
        "del valid_input"
      ],
      "metadata": {
        "id": "2prgqkjg5Mrc"
      },
      "execution_count": null,
      "outputs": []
    },
    {
      "cell_type": "markdown",
      "source": [
        "For target dataset:"
      ],
      "metadata": {
        "id": "_UZTD2hb7Agi"
      }
    },
    {
      "cell_type": "code",
      "source": [
        "train_target = sps.load_npz('Y_train.npz')\n",
        "\n",
        "nmf_input = decomposition.NMF(n_components=128, init='nndsvd')\n",
        "W_train_target = nmf_input.fit_transform(train_target)\n",
        "H_train_target = nmf_input.components_\n",
        "\n",
        "np.save(\"W_train_target.npy\", W_train_target)\n",
        "np.save(\"H_train_target.npy\", H_train_target)\n",
        "\n",
        "del train_target"
      ],
      "metadata": {
        "id": "mB015l8p4r3z"
      },
      "execution_count": null,
      "outputs": []
    },
    {
      "cell_type": "code",
      "source": [
        "valid_target = sps.load_npz('y_test.npz')\n",
        "\n",
        "W_valid_target = nmf_input.transform(valid_target)\n",
        "H_valid_target = nmf_input.components_\n",
        "\n",
        "np.save(\"W_valid_target.npy\", W_valid_target)\n",
        "np.save(\"H_valid_target.npy\", H_valid_target)\n",
        "\n",
        "del valid_target"
      ],
      "metadata": {
        "id": "b2kJLF5Z5zad"
      },
      "execution_count": null,
      "outputs": []
    },
    {
      "cell_type": "code",
      "source": [
        "!mv *.npy /content/drive/MyDrive/multimodal_nmf"
      ],
      "metadata": {
        "id": "Srv3NuGc6iXP"
      },
      "execution_count": null,
      "outputs": []
    },
    {
      "cell_type": "markdown",
      "source": [
        "### Randomized SVD (abandoned): "
      ],
      "metadata": {
        "id": "KaZZz_e2z62s"
      }
    },
    {
      "cell_type": "code",
      "source": [
        "!pip install fbpca\n",
        "import fbpca"
      ],
      "metadata": {
        "id": "4DZaRAZHgdWI"
      },
      "execution_count": null,
      "outputs": []
    },
    {
      "cell_type": "code",
      "source": [
        "k_svd_input = 128\n",
        "U_input, s_input, Va_input = fbpca.pca(train_input,k=k_svd_input,n_iter=4)\n",
        "\n",
        "np.save(\"U_input.npy\", U_input)\n",
        "np.save(\"s_input.npy\", s_input)\n",
        "np.save(\"Va_input.npy\", Va_input)"
      ],
      "metadata": {
        "id": "yxaXgZrCh0SK"
      },
      "execution_count": null,
      "outputs": []
    },
    {
      "cell_type": "code",
      "source": [
        "k_svd_target = 128\n",
        "U_target, s_target, Va_target = fbpca.pca(train_target,k=k_svd_target,n_iter=4)\n",
        "\n",
        "np.save(\"U_target.npy\", U_target)\n",
        "np.save(\"s_target.npy\", s_target)\n",
        "np.save(\"Va_target.npy\", Va_target)"
      ],
      "metadata": {
        "id": "svzY-uA1mRA_"
      },
      "execution_count": null,
      "outputs": []
    },
    {
      "cell_type": "code",
      "source": [
        "!mv *.npy /content/drive/MyDrive/multimodal_compiled"
      ],
      "metadata": {
        "id": "1iUGN1Rbqepm"
      },
      "execution_count": null,
      "outputs": []
    },
    {
      "cell_type": "markdown",
      "source": [
        "## PyTorch Workflow"
      ],
      "metadata": {
        "id": "PWTDDJRZ3a_-"
      }
    },
    {
      "cell_type": "code",
      "source": [
        "import torch\n",
        "import torch.nn as nn\n",
        "import torch.utils.data as Data\n",
        "from torch.utils.data.sampler import SubsetRandomSampler\n",
        "\n",
        "import random\n",
        "import numpy as np\n",
        "import pandas as pd\n",
        "from scipy import stats\n",
        "\n",
        "import matplotlib.pyplot as plt"
      ],
      "metadata": {
        "id": "8qL24wDn63cY"
      },
      "execution_count": null,
      "outputs": []
    },
    {
      "cell_type": "markdown",
      "source": [
        "Fix random seeds:"
      ],
      "metadata": {
        "id": "m0MrUgKGQqNS"
      }
    },
    {
      "cell_type": "code",
      "source": [
        "random_seed = 3407\n",
        "torch.manual_seed(random_seed)\n",
        "random.seed(random_seed)\n",
        "np.random.seed(random_seed)"
      ],
      "metadata": {
        "id": "2OoOPmbEQtHI"
      },
      "execution_count": null,
      "outputs": []
    },
    {
      "cell_type": "code",
      "source": [
        "!cp /content/drive/MyDrive/multimodal_nmf/*.npy /content/"
      ],
      "metadata": {
        "id": "vqQtdbbj0RNy"
      },
      "execution_count": null,
      "outputs": []
    },
    {
      "cell_type": "code",
      "source": [
        "W_train_input = np.load(\"W_train_input.npy\")\n",
        "W_train_target = np.load(\"W_train_target.npy\")\n",
        "\n",
        "W_valid_input = np.load(\"W_valid_input.npy\")\n",
        "W_valid_target = np.load(\"W_valid_target.npy\")"
      ],
      "metadata": {
        "id": "j-uNvFVQ5B9a"
      },
      "execution_count": null,
      "outputs": []
    },
    {
      "cell_type": "markdown",
      "source": [
        "Normalize targets (for MSE calculation):"
      ],
      "metadata": {
        "id": "l-aQIO5s0R-5"
      }
    },
    {
      "cell_type": "code",
      "source": [
        "W_train_input_std = W_train_input.std(axis=0).reshape(1, -1)\n",
        "W_train_input_avg = W_train_input.mean(axis=0).reshape(1, -1)\n",
        "W_train_input_norm = (W_train_input - W_train_input_avg) / W_train_input_std\n",
        "\n",
        "W_train_target_std = W_train_target.std(axis=0).reshape(1, -1)\n",
        "W_train_target_avg = W_train_target.mean(axis=0).reshape(1, -1)\n",
        "W_train_target_norm = (W_train_target - W_train_target_avg) / W_train_target_std\n",
        "\n",
        "W_train_target_std_tensor = torch.from_numpy(W_train_target_std.astype('float32')).cuda()\n",
        "W_train_target_avg_tensor = torch.from_numpy(W_train_target_avg.astype('float32')).cuda()\n",
        "# for final validation purpose"
      ],
      "metadata": {
        "id": "AKMxD56m0N6j"
      },
      "execution_count": null,
      "outputs": []
    },
    {
      "cell_type": "code",
      "source": [
        "W_valid_input_norm = (W_valid_input - W_train_input_avg) / W_train_input_std\n",
        "W_valid_target_norm = (W_valid_target - W_train_target_avg) / W_train_target_std"
      ],
      "metadata": {
        "id": "RmZlA1tz-Lv0"
      },
      "execution_count": null,
      "outputs": []
    },
    {
      "cell_type": "markdown",
      "source": [
        "Construct dataset and dataloader:"
      ],
      "metadata": {
        "id": "vywIBWgU0Xfp"
      }
    },
    {
      "cell_type": "code",
      "source": [
        "class TrainDataset(Data.Dataset):\n",
        "    def __init__(self):\n",
        "      self.inputs_data = torch.from_numpy(W_train_input_norm.astype('float32')).cuda()\n",
        "      self.targets_data = torch.from_numpy(W_train_target_norm.astype('float32')).cuda()\n",
        "      # send to GPU as a whole due to small size.\n",
        "\n",
        "    def __len__(self):\n",
        "      return self.inputs_data.shape[0]\n",
        "\n",
        "    def __getitem__(self, idx):\n",
        "      inputs_sliced = self.inputs_data[idx, ...]\n",
        "      targets_sliced = self.targets_data[idx, ...]\n",
        "\n",
        "      return inputs_sliced, targets_sliced\n",
        "\n",
        "class ValidDataset(Data.Dataset):\n",
        "    def __init__(self):\n",
        "      self.inputs_data = torch.from_numpy(W_valid_input_norm.astype('float32')).cuda()\n",
        "      self.targets_data = torch.from_numpy(W_valid_target_norm.astype('float32')).cuda()\n",
        "      # send to GPU as a whole due to small size.\n",
        "\n",
        "    def __len__(self):\n",
        "      return self.inputs_data.shape[0]\n",
        "\n",
        "    def __getitem__(self, idx):\n",
        "      inputs_sliced = self.inputs_data[idx, ...]\n",
        "      targets_sliced = self.targets_data[idx, ...]\n",
        "\n",
        "      return inputs_sliced, targets_sliced"
      ],
      "metadata": {
        "id": "xvvRd1cL0_L2"
      },
      "execution_count": null,
      "outputs": []
    },
    {
      "cell_type": "code",
      "source": [
        "batch_size = 256\n",
        "\n",
        "train_dataloader = torch.utils.data.DataLoader(TrainDataset(),\n",
        "                                               batch_size=batch_size,\n",
        "                                               shuffle = True)\n",
        "valid_dataloader = torch.utils.data.DataLoader(TrainDataset(), \n",
        "                                               batch_size=batch_size,\n",
        "                                               shuffle = True)\n",
        "\n",
        "len(train_dataloader), len(valid_dataloader)"
      ],
      "metadata": {
        "id": "3FiuK7imsvHu"
      },
      "execution_count": null,
      "outputs": []
    },
    {
      "cell_type": "markdown",
      "source": [
        "Construct and train a MLP model:"
      ],
      "metadata": {
        "id": "nRkKZVbWq5iu"
      }
    },
    {
      "cell_type": "code",
      "source": [
        "class DenseModel(nn.Module):\n",
        "    def __init__(self,\n",
        "                 input_size=U_input_norm.shape[1],\n",
        "                 output_size=U_target_norm.shape[1],\n",
        "                 hidden_size=256):\n",
        "\n",
        "        super(DenseModel, self).__init__()\n",
        "        self.dense1 = nn.Sequential(\n",
        "            nn.Linear(input_size, hidden_size),\n",
        "            nn.LeakyReLU())\n",
        "        \n",
        "        self.dense2 = nn.Sequential(\n",
        "            nn.Dropout(0.3),\n",
        "            nn.BatchNorm1d(hidden_size),\n",
        "            nn.Linear(hidden_size, hidden_size),\n",
        "            nn.LeakyReLU())\n",
        "        \n",
        "        self.dense3 = nn.Sequential(\n",
        "            nn.Dropout(0.3),\n",
        "            nn.BatchNorm1d(hidden_size),\n",
        "            nn.Linear(hidden_size, hidden_size),\n",
        "            nn.LeakyReLU())\n",
        "        \n",
        "        self.dense4 = nn.Sequential(\n",
        "            nn.Dropout(0.3),\n",
        "            nn.BatchNorm1d(hidden_size),\n",
        "            nn.Linear(hidden_size, hidden_size),\n",
        "            nn.LeakyReLU())\n",
        "                \n",
        "        self.dense5 = nn.Sequential(\n",
        "            nn.BatchNorm1d(hidden_size),\n",
        "            nn.Linear(hidden_size, output_size))\n",
        "\n",
        "    def forward(self, input):\n",
        "        output = self.dense1(input)\n",
        "        output = self.dense2(output)\n",
        "        output = self.dense3(output)\n",
        "        output = self.dense4(output)\n",
        "        output = self.dense5(output)\n",
        "        return output"
      ],
      "metadata": {
        "id": "hrX8xZm3q-wZ"
      },
      "execution_count": null,
      "outputs": []
    },
    {
      "cell_type": "code",
      "source": [
        "dense_model = DenseModel().cuda()"
      ],
      "metadata": {
        "id": "5cwrXl8xsANC"
      },
      "execution_count": null,
      "outputs": []
    },
    {
      "cell_type": "code",
      "source": [
        "criterion = nn.MSELoss()\n",
        "\n",
        "num_epochs = 100\n",
        "learning_rate = 0.01\n",
        "optimizer = torch.optim.Adam(params=dense_model.parameters(), lr=learning_rate)\n",
        "scheduler = torch.optim.lr_scheduler.ReduceLROnPlateau(optimizer)"
      ],
      "metadata": {
        "id": "keLoFGm-rzPV"
      },
      "execution_count": null,
      "outputs": []
    },
    {
      "cell_type": "code",
      "source": [
        "metric_train = np.zeros(shape=num_epochs)\n",
        "metric_valid = np.zeros(shape=num_epochs)\n",
        "\n",
        "for epoch in range(num_epochs):\n",
        "    loss_train = np.zeros(shape=len(train_dataloader))\n",
        "    weights_train = np.zeros(shape=len(train_dataloader))\n",
        "    \n",
        "    for i, (inputs, targets) in enumerate(train_dataloader):\n",
        "        weights_train[i] = targets.shape[0]\n",
        "\n",
        "        dense_model.train()\n",
        "\n",
        "        outputs = dense_model(inputs)\n",
        "        loss = criterion(outputs, targets)\n",
        "\n",
        "        optimizer.zero_grad()\n",
        "        loss.backward()\n",
        "        optimizer.step()\n",
        "\n",
        "        dense_model.eval()\n",
        "        with torch.no_grad():\n",
        "          outputs = dense_model(inputs)\n",
        "          loss_train[i] = criterion(outputs, targets)\n",
        "\n",
        "    loss_valid = np.zeros(shape=len(valid_dataloader))\n",
        "    weights_valid = np.zeros(shape=len(valid_dataloader))\n",
        "\n",
        "    with torch.no_grad():\n",
        "        for i, (inputs, targets) in enumerate(valid_dataloader):\n",
        "          weights_valid[i] = targets.shape[0]\n",
        "\n",
        "          outputs = dense_model(inputs)\n",
        "          loss_valid[i] = criterion(outputs, targets)\n",
        "\n",
        "    metric_train[epoch] = np.average(loss_train, weights=weights_train)\n",
        "    metric_valid[epoch] = np.average(loss_valid, weights=weights_valid)\n",
        "\n",
        "    scheduler.step(metric_valid[epoch])\n",
        "\n",
        "    print('epoch', epoch+1,\n",
        "          '| train_loss:',round(metric_train[epoch],4),\n",
        "          '| valid_loss:',round(metric_valid[epoch],4))"
      ],
      "metadata": {
        "id": "6uSUv2Hvs1cL"
      },
      "execution_count": null,
      "outputs": []
    },
    {
      "cell_type": "code",
      "source": [
        "plt.plot(metric_train, color='r')\n",
        "plt.plot(metric_valid, color='g')\n",
        "\n",
        "plt.show()"
      ],
      "metadata": {
        "id": "dBTJWlUKv-K2"
      },
      "execution_count": null,
      "outputs": []
    },
    {
      "cell_type": "markdown",
      "source": [
        "### Evaluation by correlation"
      ],
      "metadata": {
        "id": "0pNzo7pZVR9W"
      }
    },
    {
      "cell_type": "markdown",
      "source": [
        "Load H matrix from NMF:"
      ],
      "metadata": {
        "id": "izu8L7RoGavE"
      }
    },
    {
      "cell_type": "code",
      "source": [
        "H_train_input = torch.from_numpy(np.load(\"H_train_input.npy\").astype('float32')).cuda()\n",
        "H_train_target = torch.from_numpy(np.load(\"H_train_target.npy\").astype('float32')).cuda()\n",
        "\n",
        "H_valid_input = torch.from_numpy(np.load(\"H_valid_input.npy\").astype('float32')).cuda()\n",
        "H_valid_target = torch.from_numpy(np.load(\"H_valid_target.npy\").astype('float32')).cuda()"
      ],
      "metadata": {
        "id": "Ul-6u38D-eDZ"
      },
      "execution_count": null,
      "outputs": []
    },
    {
      "cell_type": "markdown",
      "source": [
        "Vectorized version of pearson correlation coefficient:"
      ],
      "metadata": {
        "id": "7Kuc58BvGOmk"
      }
    },
    {
      "cell_type": "code",
      "source": [
        "def pcorr_vec(X,Y):\n",
        "  Xnorm = X-X.mean(axis=1).reshape(-1, 1)\n",
        "  Ynorm = Y-Y.mean(axis=1).reshape(-1, 1)\n",
        "  cov = torch.diagonal(torch.matmul(Xnorm,torch.transpose(Ynorm,1,0)))\n",
        "  Xsigma2 = torch.diagonal(torch.matmul(Xnorm,torch.transpose(Xnorm,1,0)))\n",
        "  Ysigma2 = torch.diagonal(torch.matmul(Ynorm,torch.transpose(Ynorm,1,0)))\n",
        "  sigma = torch.sqrt(torch.mul(Xsigma2,Ysigma2))\n",
        "  return torch.mean(cov/sigma)"
      ],
      "metadata": {
        "id": "JAR_Nn9GGOAU"
      },
      "execution_count": null,
      "outputs": []
    },
    {
      "cell_type": "markdown",
      "source": [
        "Final evaluation:"
      ],
      "metadata": {
        "id": "dsyUytSDJozU"
      }
    },
    {
      "cell_type": "code",
      "source": [
        "dense_model.eval()\n",
        "\n",
        "pcorr_avg = np.zeros(shape=len(valid_dataloader))\n",
        "weights = np.zeros(shape=len(valid_dataloader))\n",
        "\n",
        "with torch.no_grad():\n",
        "    for i, (inputs, targets) in enumerate(valid_dataloader):\n",
        "\n",
        "      outputs = dense_model(inputs)\n",
        "\n",
        "      targets = targets * U_target_std_tensor + U_target_avg_tensor\n",
        "      outputs = outputs * U_target_std_tensor + U_target_avg_tensor\n",
        "\n",
        "      A_targets = torch.matmul(targets,Va_target)\n",
        "      A_outputs = torch.matmul(outputs,Va_target)\n",
        "\n",
        "      weights[i] = A_outputs.shape[0]\n",
        "      pcorr_avg[i] = pcorr_vec(A_targets,A_outputs)\n",
        "\n",
        "\n",
        "score = round(np.average(pcorr_avg,weights = weights),6)\n",
        "score"
      ],
      "metadata": {
        "id": "o45QLh_X_tSo"
      },
      "execution_count": null,
      "outputs": []
    },
    {
      "cell_type": "code",
      "source": [],
      "metadata": {
        "id": "Bt5-Pl4uQNaV"
      },
      "execution_count": null,
      "outputs": []
    }
  ]
}