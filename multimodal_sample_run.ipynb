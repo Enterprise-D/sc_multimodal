{
  "cells": [
    {
      "cell_type": "markdown",
      "metadata": {
        "id": "view-in-github",
        "colab_type": "text"
      },
      "source": [
        "<a href=\"https://colab.research.google.com/github/Enterprise-D/sc_multimodal/blob/main/multimodal_sample_run.ipynb\" target=\"_parent\"><img src=\"https://colab.research.google.com/assets/colab-badge.svg\" alt=\"Open In Colab\"/></a>"
      ]
    },
    {
      "cell_type": "markdown",
      "source": [
        "## Evaluation"
      ],
      "metadata": {
        "id": "OKeninNlXflb"
      }
    },
    {
      "cell_type": "code",
      "execution_count": 148,
      "metadata": {
        "id": "lyCAh0Nx2QN2"
      },
      "outputs": [],
      "source": [
        "import random\n",
        "import joblib\n",
        "import numpy as np\n",
        "import pandas as pd\n",
        "from sklearn import decomposition, model_selection, preprocessing\n",
        "\n",
        "import os\n",
        "import gc\n",
        "import scipy.sparse as sps\n",
        "from tqdm import tqdm as tqdm"
      ]
    },
    {
      "cell_type": "markdown",
      "metadata": {
        "id": "ESxaEBAlTKxJ"
      },
      "source": [
        "Fix random seeds:"
      ]
    },
    {
      "cell_type": "code",
      "execution_count": 149,
      "metadata": {
        "id": "4ad_Mo7JTIEO"
      },
      "outputs": [],
      "source": [
        "random_seed = 42\n",
        "random.seed(random_seed)\n",
        "np.random.seed(random_seed)"
      ]
    },
    {
      "cell_type": "markdown",
      "source": [
        "tSVD on original data:"
      ],
      "metadata": {
        "id": "vDDEr5El-eJz"
      }
    },
    {
      "cell_type": "code",
      "execution_count": 150,
      "metadata": {
        "id": "PgbUKkVDBdaO"
      },
      "outputs": [],
      "source": [
        "tsvd_input = joblib.load('tsvd_input.pkl')\n",
        "\n",
        "valid_input = sps.load_npz('sample_input.npz')\n",
        "\n",
        "U_valid_input = tsvd_input.transform(valid_input)"
      ]
    },
    {
      "cell_type": "markdown",
      "source": [
        "tSVD on binarized data:"
      ],
      "metadata": {
        "id": "zIN87HGB-fdY"
      }
    },
    {
      "cell_type": "code",
      "execution_count": 151,
      "metadata": {
        "id": "9BHqN_MlfhJx"
      },
      "outputs": [],
      "source": [
        "tsvd_input_binary = joblib.load('tsvd_input_binary.pkl')\n",
        "\n",
        "valid_input[valid_input.nonzero()]=1\n",
        "\n",
        "U_valid_input_bin = tsvd_input_binary.transform(valid_input)"
      ]
    },
    {
      "cell_type": "code",
      "source": [
        "import torch\n",
        "import torch.nn as nn\n",
        "import torch.utils.data as Data\n",
        "\n",
        "torch.manual_seed(random_seed)"
      ],
      "metadata": {
        "id": "Z8L1k-0wWJZR",
        "colab": {
          "base_uri": "https://localhost:8080/"
        },
        "outputId": "11a9593b-92bc-4c2f-8ea4-04796f190c55"
      },
      "execution_count": 152,
      "outputs": [
        {
          "output_type": "execute_result",
          "data": {
            "text/plain": [
              "<torch._C.Generator at 0x7fd91165ebd0>"
            ]
          },
          "metadata": {},
          "execution_count": 152
        }
      ]
    },
    {
      "cell_type": "markdown",
      "metadata": {
        "id": "aQr3j6nZX85B"
      },
      "source": [
        "Prepare files:"
      ]
    },
    {
      "cell_type": "code",
      "source": [
        "valid_target = sps.load_npz('sample_target.npz')\n",
        "\n",
        "hvg_index = np.load('hvg_index.npy', allow_pickle=True)\n",
        "hvg_index"
      ],
      "metadata": {
        "colab": {
          "base_uri": "https://localhost:8080/"
        },
        "id": "TZ2WxZtpYLr2",
        "outputId": "54588627-5df3-4977-d6a4-aadbde8bd8f0"
      },
      "execution_count": 153,
      "outputs": [
        {
          "output_type": "execute_result",
          "data": {
            "text/plain": [
              "array(['2', '13', '18', ..., '23316', '23377', '23401'], dtype=object)"
            ]
          },
          "metadata": {},
          "execution_count": 153
        }
      ]
    },
    {
      "cell_type": "markdown",
      "source": [
        "Normalize inputs:"
      ],
      "metadata": {
        "id": "nKl-HY7fC_Ee"
      }
    },
    {
      "cell_type": "code",
      "execution_count": 154,
      "metadata": {
        "id": "ecgDrkuWX85D"
      },
      "outputs": [],
      "source": [
        "U_valid_input_std = U_valid_input.std(axis=1).reshape(-1, 1)\n",
        "U_valid_input_norm = U_valid_input / U_valid_input_std"
      ]
    },
    {
      "cell_type": "code",
      "source": [
        "valid_target_mean = np.ma.mean(np.ma.masked_equal(valid_target.toarray(),0),axis=1).data\n",
        "valid_target = valid_target/valid_target_mean.reshape(-1,1)"
      ],
      "metadata": {
        "id": "lebw6qXYX85E"
      },
      "execution_count": 155,
      "outputs": []
    },
    {
      "cell_type": "markdown",
      "source": [
        "Define dataset and dataloader:"
      ],
      "metadata": {
        "id": "ddDWcPFoDD4N"
      }
    },
    {
      "cell_type": "code",
      "source": [
        "class ValidDatasetFINAL(Data.Dataset):\n",
        "    def __init__(self):\n",
        "      self.inputs_data = torch.from_numpy(U_valid_input_norm.astype('float32')).cuda()\n",
        "      self.inputs_data_bin = torch.from_numpy(U_valid_input_bin.astype('float32')).cuda()\n",
        "      self.targets_data_ori = torch.from_numpy(valid_target.astype('float32'))\n",
        "      # large true data, send accordingly\n",
        "\n",
        "    def __len__(self):\n",
        "      return self.inputs_data.shape[0]\n",
        "\n",
        "    def __getitem__(self, idx):\n",
        "      inputs_sliced = torch.squeeze(self.inputs_data[idx, ...])\n",
        "      inputs_sliced_bin = torch.squeeze(self.inputs_data_bin[idx, ...])\n",
        "      targets_ori_sliced = torch.squeeze(self.targets_data_ori[idx, ...]).cuda()\n",
        "\n",
        "      return inputs_sliced, inputs_sliced_bin, targets_ori_sliced\n",
        "\n",
        "valid_dataloader_final = torch.utils.data.DataLoader(ValidDatasetFINAL(), \n",
        "                                               batch_size=256,\n",
        "                                               shuffle = True)"
      ],
      "metadata": {
        "id": "-KLEkysRYfoA"
      },
      "execution_count": 156,
      "outputs": []
    },
    {
      "cell_type": "markdown",
      "source": [
        "Define deep models:"
      ],
      "metadata": {
        "id": "_fvP9xvKDJgQ"
      }
    },
    {
      "cell_type": "code",
      "source": [
        "class DenseModel(nn.Module):\n",
        "    def __init__(self,\n",
        "                 input_size=U_valid_input.shape[1],\n",
        "                 output_size=valid_target.shape[1]):\n",
        "\n",
        "        super(DenseModel, self).__init__()\n",
        "        \n",
        "        self.dense1 = nn.Sequential(\n",
        "            nn.Linear(input_size*2, 2048),\n",
        "            nn.ReLU())\n",
        "        \n",
        "        self.dense2 = nn.Sequential(\n",
        "            nn.Linear(2048, 2048),\n",
        "            nn.BatchNorm1d(2048),\n",
        "            nn.ReLU(),\n",
        "            nn.Dropout(0.5))\n",
        "        \n",
        "        self.dense3 = nn.Sequential(\n",
        "            nn.Linear(2048, 2048),\n",
        "            nn.BatchNorm1d(2048),\n",
        "            nn.ReLU(),\n",
        "            nn.Dropout(0.5))\n",
        "        \n",
        "        self.dense4 = nn.Sequential(\n",
        "            nn.Linear(2048, 2048),\n",
        "            nn.BatchNorm1d(2048),\n",
        "            nn.ReLU(),\n",
        "            nn.Dropout(0.5))\n",
        "        \n",
        "        self.dense5 = nn.Sequential(\n",
        "            nn.Linear(2048, 2048),\n",
        "            nn.BatchNorm1d(2048),\n",
        "            nn.ReLU(),\n",
        "            nn.Dropout(0.5))\n",
        "                \n",
        "        self.dense6 = nn.Sequential(\n",
        "            nn.Linear(2048, output_size))\n",
        "\n",
        "    def forward(self, input_val, input_bin):\n",
        "        output = self.dense1(torch.cat((input_val, input_bin),1))\n",
        "        output = self.dense2(output)\n",
        "        output = self.dense3(output)\n",
        "        output = self.dense4(output)\n",
        "        output = self.dense5(output)\n",
        "        output = self.dense6(output)\n",
        "        return output"
      ],
      "metadata": {
        "id": "wvwYWBQd7Lu_"
      },
      "execution_count": 157,
      "outputs": []
    },
    {
      "cell_type": "code",
      "execution_count": 158,
      "metadata": {
        "id": "NvkF8GEDH6v1"
      },
      "outputs": [],
      "source": [
        "class DenseModelHVG(nn.Module):\n",
        "    def __init__(self,\n",
        "                 input_size=U_valid_input.shape[1],\n",
        "                 output_size=hvg_index.shape[0]):\n",
        "\n",
        "        super(DenseModelHVG, self).__init__()\n",
        "\n",
        "        self.dense1 = nn.Sequential(\n",
        "            nn.Linear(input_size*2, 2048),\n",
        "            nn.ReLU())\n",
        "        \n",
        "        self.dense2 = nn.Sequential(\n",
        "            nn.Linear(2048, 2048),\n",
        "            nn.BatchNorm1d(2048),\n",
        "            nn.ReLU(),\n",
        "            nn.Dropout(0.5))\n",
        "        \n",
        "        self.dense3 = nn.Sequential(\n",
        "            nn.Linear(2048, 2048),\n",
        "            nn.BatchNorm1d(2048),\n",
        "            nn.ReLU(),\n",
        "            nn.Dropout(0.5))\n",
        "        \n",
        "        self.dense4 = nn.Sequential(\n",
        "            nn.Linear(2048, 2048),\n",
        "            nn.BatchNorm1d(2048),\n",
        "            nn.ReLU(),\n",
        "            nn.Dropout(0.5))\n",
        "        \n",
        "        self.dense5 = nn.Sequential(\n",
        "            nn.Linear(2048, 2048),\n",
        "            nn.BatchNorm1d(2048),\n",
        "            nn.ReLU(),\n",
        "            nn.Dropout(0.5))\n",
        "                \n",
        "        self.dense6 = nn.Sequential(\n",
        "            nn.Linear(2048, output_size))\n",
        "\n",
        "    def forward(self, input_val, input_bin):\n",
        "        output = self.dense1(torch.cat((input_val,input_bin),1))\n",
        "        output = self.dense2(output)\n",
        "        output = self.dense3(output)\n",
        "        output = self.dense4(output)\n",
        "        output = self.dense5(output)\n",
        "        output = self.dense6(output)\n",
        "        return output"
      ]
    },
    {
      "cell_type": "code",
      "execution_count": 159,
      "metadata": {
        "id": "TLagKBB0H6v2"
      },
      "outputs": [],
      "source": [
        "dense_model = DenseModel().cuda()\n",
        "dense_model_hvg = DenseModelHVG().cuda()"
      ]
    },
    {
      "cell_type": "markdown",
      "source": [
        "Load model parameters:"
      ],
      "metadata": {
        "id": "dDNlpXFJDOmR"
      }
    },
    {
      "cell_type": "code",
      "source": [
        "dense_model = DenseModel().cuda()\n",
        "dense_model.load_state_dict(torch.load('dense_model.pt'))"
      ],
      "metadata": {
        "colab": {
          "base_uri": "https://localhost:8080/"
        },
        "id": "LiuDDkqOeXxn",
        "outputId": "a3ab7937-5b78-43e1-82bc-5fe4f0b4fd3a"
      },
      "execution_count": 160,
      "outputs": [
        {
          "output_type": "execute_result",
          "data": {
            "text/plain": [
              "<All keys matched successfully>"
            ]
          },
          "metadata": {},
          "execution_count": 160
        }
      ]
    },
    {
      "cell_type": "code",
      "source": [
        "dense_model_hvg = DenseModelHVG().cuda()\n",
        "dense_model_hvg.load_state_dict(torch.load('dense_model_hvg.pt'))"
      ],
      "metadata": {
        "colab": {
          "base_uri": "https://localhost:8080/"
        },
        "id": "BupstE9JAkHZ",
        "outputId": "af9d4058-2278-42a1-fd1b-b5ecd69eac88"
      },
      "execution_count": 161,
      "outputs": [
        {
          "output_type": "execute_result",
          "data": {
            "text/plain": [
              "<All keys matched successfully>"
            ]
          },
          "metadata": {},
          "execution_count": 161
        }
      ]
    },
    {
      "cell_type": "code",
      "execution_count": 162,
      "metadata": {
        "id": "1n1VkGlhH6v3"
      },
      "outputs": [],
      "source": [
        "def pcorr_vec(X,Y):\n",
        "  Xnorm = X-X.mean(axis=1).reshape(-1, 1)\n",
        "  Ynorm = Y-Y.mean(axis=1).reshape(-1, 1)\n",
        "  cov = torch.diagonal(torch.matmul(Xnorm,torch.transpose(Ynorm,1,0)))\n",
        "  Xsigma2 = torch.diagonal(torch.matmul(Xnorm,torch.transpose(Xnorm,1,0)))\n",
        "  Ysigma2 = torch.diagonal(torch.matmul(Ynorm,torch.transpose(Ynorm,1,0)))\n",
        "  sigma = torch.sqrt(torch.mul(Xsigma2,Ysigma2))\n",
        "  return torch.mean(cov/sigma)"
      ]
    },
    {
      "cell_type": "code",
      "source": [
        "dense_model_hvg.eval()\n",
        "dense_model.eval()\n",
        "\n",
        "pcorr_avg_true = np.zeros(shape=len(valid_dataloader_final))\n",
        "weights = np.zeros(shape=len(valid_dataloader_final))\n",
        "\n",
        "with torch.no_grad():\n",
        "    for i, (inputs_val, inputs_bin, targets_ori) in enumerate(valid_dataloader_final):\n",
        "      \n",
        "      outputs = dense_model(inputs_val, inputs_bin)\n",
        "      outputs_hvg = dense_model_hvg(inputs_val, inputs_bin)\n",
        "\n",
        "      for j in range(outputs_hvg.shape[1]):\n",
        "        outputs[:,int(hvg_index[j])] = outputs_hvg[:,j]\n",
        "\n",
        "      weights[i] = targets_ori.shape[0]\n",
        "      pcorr_avg_true[i] = pcorr_vec(targets_ori,outputs)\n",
        "\n",
        "score_true = round(np.average(pcorr_avg_true,weights = weights),6)\n",
        "\n",
        "score_true"
      ],
      "metadata": {
        "id": "Kh2HvshxZICE",
        "colab": {
          "base_uri": "https://localhost:8080/"
        },
        "outputId": "446ca42d-a53b-4244-889b-940bc1919b41"
      },
      "execution_count": 163,
      "outputs": [
        {
          "output_type": "execute_result",
          "data": {
            "text/plain": [
              "0.669148"
            ]
          },
          "metadata": {},
          "execution_count": 163
        }
      ]
    },
    {
      "cell_type": "code",
      "source": [],
      "metadata": {
        "id": "mpLCD7agEWFb"
      },
      "execution_count": 163,
      "outputs": []
    }
  ],
  "metadata": {
    "colab": {
      "machine_shape": "hm",
      "provenance": [],
      "mount_file_id": "1L4VmUYx8Sq0LfapKFteyNj4V6zti6FXm",
      "authorship_tag": "ABX9TyNQD3ZzWhL9Pc/RE80CxWoV",
      "include_colab_link": true
    },
    "gpuClass": "standard",
    "kernelspec": {
      "display_name": "Python 3",
      "name": "python3"
    },
    "language_info": {
      "name": "python"
    },
    "accelerator": "GPU"
  },
  "nbformat": 4,
  "nbformat_minor": 0
}