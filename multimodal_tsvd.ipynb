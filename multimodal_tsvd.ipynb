{
  "nbformat": 4,
  "nbformat_minor": 0,
  "metadata": {
    "colab": {
      "provenance": [],
      "machine_shape": "hm",
      "collapsed_sections": [
        "gPw7A6MeT12G",
        "8tng64uyCOGb",
        "4NjUGRr80tdL",
        "tqZEN5JL7zZj",
        "fmb1rnWgKhoX",
        "KaZZz_e2z62s",
        "PWTDDJRZ3a_-"
      ],
      "mount_file_id": "1vCVjjaWwOdjxf_oNXIwx3u2cfRZY5ljE",
      "authorship_tag": "ABX9TyMvI5yVKzInxrg6r+347dHn",
      "include_colab_link": true
    },
    "kernelspec": {
      "name": "python3",
      "display_name": "Python 3"
    },
    "language_info": {
      "name": "python"
    },
    "gpuClass": "standard"
  },
  "cells": [
    {
      "cell_type": "markdown",
      "metadata": {
        "id": "view-in-github",
        "colab_type": "text"
      },
      "source": [
        "<a href=\"https://colab.research.google.com/github/Enterprise-D/sc_multimodal/blob/main/multimodal_tsvd.ipynb\" target=\"_parent\"><img src=\"https://colab.research.google.com/assets/colab-badge.svg\" alt=\"Open In Colab\"/></a>"
      ]
    },
    {
      "cell_type": "markdown",
      "source": [
        "## Colab Administrative"
      ],
      "metadata": {
        "id": "gPw7A6MeT12G"
      }
    },
    {
      "cell_type": "markdown",
      "source": [
        "Mount Google Drive:"
      ],
      "metadata": {
        "id": "aXvd5fxMTp60"
      }
    },
    {
      "cell_type": "code",
      "source": [
        "from google.colab import drive\n",
        "drive.mount('/content/drive')"
      ],
      "metadata": {
        "colab": {
          "base_uri": "https://localhost:8080/"
        },
        "id": "VRT--MTkTflt",
        "outputId": "cb7f3fda-18f2-4cd1-e64a-988d2f4aa70b"
      },
      "execution_count": null,
      "outputs": [
        {
          "output_type": "stream",
          "name": "stdout",
          "text": [
            "Drive already mounted at /content/drive; to attempt to forcibly remount, call drive.mount(\"/content/drive\", force_remount=True).\n"
          ]
        }
      ]
    },
    {
      "cell_type": "markdown",
      "source": [
        "## Data Compression"
      ],
      "metadata": {
        "id": "8tng64uyCOGb"
      }
    },
    {
      "cell_type": "markdown",
      "source": [
        "Install and load h5df modules:"
      ],
      "metadata": {
        "id": "ZeLMI5ReCluQ"
      }
    },
    {
      "cell_type": "code",
      "source": [
        "import h5py\n",
        "\n",
        "!pip install hdf5plugin\n",
        "import hdf5plugin"
      ],
      "metadata": {
        "id": "Pw8PddPwCPRy"
      },
      "execution_count": null,
      "outputs": []
    },
    {
      "cell_type": "markdown",
      "source": [
        "handle inputs:"
      ],
      "metadata": {
        "id": "-Fv5wM1vDvgQ"
      }
    },
    {
      "cell_type": "code",
      "source": [
        "path_train_multi_inputs = '/content/drive/MyDrive/multimodal/train_multi_inputs.h5'\n",
        "file_train_multi_inputs = h5py.File(path_train_multi_inputs, \"r\")\n",
        "\n",
        "path_test_multi_inputs = '/content/drive/MyDrive/multimodal/test_multi_inputs.h5'\n",
        "file_test_multi_inputs = h5py.File(path_test_multi_inputs, \"r\")\n",
        "\n",
        "file_train_multi_inputs.keys(), file_test_multi_inputs.keys()"
      ],
      "metadata": {
        "id": "bUsBrfM2Cedl"
      },
      "execution_count": null,
      "outputs": []
    },
    {
      "cell_type": "code",
      "source": [
        "group_train_multi_inputs = file_train_multi_inputs['train_multi_inputs']\n",
        "\n",
        "group_test_multi_inputs = file_test_multi_inputs['test_multi_inputs']\n",
        "\n",
        "group_train_multi_inputs.keys(), group_test_multi_inputs.keys()"
      ],
      "metadata": {
        "id": "rIq_boddfJxB"
      },
      "execution_count": null,
      "outputs": []
    },
    {
      "cell_type": "code",
      "source": [
        "group_train_multi_inputs['block0_values'].shape, \\\n",
        "group_test_multi_inputs['block0_values'].shape\n",
        "# axis0 & block0_items: features (genomic coordinates, GRCh38)\n",
        "# axis1: cell_ids\n",
        "# block0_values: entries"
      ],
      "metadata": {
        "id": "-Rl_4P0gfiCW"
      },
      "execution_count": null,
      "outputs": []
    },
    {
      "cell_type": "code",
      "source": [
        "group_train_multi_inputs['block0_values'][1:10,1:6]"
      ],
      "metadata": {
        "id": "sE8IAkUk0mJK"
      },
      "execution_count": null,
      "outputs": []
    },
    {
      "cell_type": "markdown",
      "source": [
        "handle targets:"
      ],
      "metadata": {
        "id": "im-6LWJhfMFN"
      }
    },
    {
      "cell_type": "code",
      "source": [
        "path_train_multi_targets = '/content/drive/MyDrive/multimodal/train_multi_targets.h5'\n",
        "file_train_multi_targets = h5py.File(path_train_multi_targets, \"r\")\n",
        "\n",
        "file_train_multi_targets.keys()"
      ],
      "metadata": {
        "id": "gg5xH9eofH_d"
      },
      "execution_count": null,
      "outputs": []
    },
    {
      "cell_type": "code",
      "source": [
        "group_train_multi_targets = file_train_multi_targets['train_multi_targets']\n",
        "group_train_multi_targets.keys()"
      ],
      "metadata": {
        "id": "TpAqs2WBDykP"
      },
      "execution_count": null,
      "outputs": []
    },
    {
      "cell_type": "code",
      "source": [
        "group_train_multi_targets['block0_values'].shape\n",
        "# axis0 & block0_items: features (expression reads, GRCh38)\n",
        "# axis1: cell_ids\n",
        "# block0_values: entries"
      ],
      "metadata": {
        "id": "3LMUF0_iGY13"
      },
      "execution_count": null,
      "outputs": []
    },
    {
      "cell_type": "code",
      "source": [
        "group_train_multi_targets['block0_values'][1:10,1:6]"
      ],
      "metadata": {
        "id": "M0UWdsbM0Qrw"
      },
      "execution_count": null,
      "outputs": []
    },
    {
      "cell_type": "code",
      "source": [
        "import numpy as np\n",
        "import pandas as pd\n",
        "import os\n",
        "import scipy.sparse as sps\n",
        "from tqdm import tqdm as tqdm\n",
        "import gc"
      ],
      "metadata": {
        "id": "qHRDARgfhg_U"
      },
      "execution_count": null,
      "outputs": []
    },
    {
      "cell_type": "markdown",
      "source": [
        "Datasets are too sparse:"
      ],
      "metadata": {
        "id": "LjZvelVQ3van"
      }
    },
    {
      "cell_type": "code",
      "source": [
        "%load_ext Cython"
      ],
      "metadata": {
        "id": "VRjR2Vm43tSZ"
      },
      "execution_count": null,
      "outputs": []
    },
    {
      "cell_type": "code",
      "source": [
        "%%cython\n",
        "\n",
        "import cython\n",
        "cimport cython\n",
        "cimport numpy as np\n",
        "import numpy as np\n",
        "from tqdm import tqdm, trange\n",
        "\n",
        "ctypedef np.int64_t INT64_t\n",
        "\n",
        "@cython.boundscheck(False)\n",
        "@cython.wraparound(False)\n",
        "cpdef np.ndarray[INT64_t, ndim=1] create_indptr(INT64_t[:] row_indices, int start_pos, int nrows):\n",
        "    cdef int shape = row_indices.shape[0]\n",
        "    res = np.zeros(nrows, dtype=np.int64)\n",
        "    cdef INT64_t[:] res_view = res\n",
        "    \n",
        "    cdef int i\n",
        "    cdef int curr_row = 0\n",
        "    cdef int prev = row_indices[0]\n",
        "    \n",
        "    for i in range(shape):\n",
        "        if row_indices[i] != prev:\n",
        "            curr_row += 1\n",
        "            res_view[curr_row] = i\n",
        "            prev = row_indices[i]\n",
        "    # res_view[curr_row + 1] = shape\n",
        "    return res + start_pos"
      ],
      "metadata": {
        "id": "ie-kHKl2ywJm"
      },
      "execution_count": null,
      "outputs": []
    },
    {
      "cell_type": "code",
      "source": [
        "def create_csr_arrays(h5_file_path):\n",
        "    def check_size(xs, ys, datas):\n",
        "        return (xs.nbytes + ys.nbytes + datas.nbytes) * 1e-9\n",
        "\n",
        "    print(f\"\\n\\nProcessing File {h5_file_path}\")\n",
        "    pbar = tqdm()\n",
        "\n",
        "    # Initialize Variables\n",
        "    chunksize = 1000 # Keep it low\n",
        "    loaded_rows = chunksize\n",
        "    start = 0\n",
        "    start_pos = 0\n",
        "    file_pointer = 0\n",
        "\n",
        "    # Initialize CSR arrays\n",
        "    indptr = np.array([], dtype=np.int64)\n",
        "    indices = np.array([], dtype=np.int32)\n",
        "    data_s = np.array([], dtype=np.float32)\n",
        "    \n",
        "    prefix_filename = h5_file_path.split('/')[-1].replace('.h5', '')\n",
        "\n",
        "    while chunksize == loaded_rows:\n",
        "\n",
        "        # Check current size: if the total sum of sizes are > 7GB, then save three arrays and re-initialize them\n",
        "        size_gb = check_size(indptr, indices, data_s)\n",
        "        if size_gb > 7.0:\n",
        "            pbar.set_description(f\"Total size is {size_gb}. Saving ..\")\n",
        "            np.save(f\"{prefix_filename}_indptr_{file_pointer}.npy\", indptr)\n",
        "            np.save(f\"{prefix_filename}_indices_{file_pointer}.npy\", indices)\n",
        "            np.save(f\"{prefix_filename}_data_{file_pointer}.npy\", data_s)\n",
        "            # Re-initialize\n",
        "            indptr = np.array([], dtype=np.int64)\n",
        "            indices = np.array([], dtype=np.int32)\n",
        "            data_s = np.array([], dtype=np.float32)\n",
        "            # Increment pointer\n",
        "            file_pointer += 1\n",
        "\n",
        "        pbar.set_description(\"Reading .h5 chunk\")\n",
        "        df = pd.read_hdf(h5_file_path, start=start, stop=start+chunksize)\n",
        "        pbar.set_description(\"Extracting non-zero values\")\n",
        "        x_coords, y_coords = df.values.nonzero()\n",
        "        tmp_data = df.values[df.values != 0.0]\n",
        "\n",
        "        loaded_rows = df.shape[0]\n",
        "\n",
        "        # Convert types\n",
        "        y_coords = y_coords.astype(np.int32, copy=False)\n",
        "        tmp_data = tmp_data.astype(np.float32, copy=False)\n",
        "\n",
        "        # Compress x_coords\n",
        "        pbar.set_description(\"Compressing rows values\")\n",
        "        x_coords = create_indptr(x_coords, start_pos=start_pos, nrows=loaded_rows)\n",
        "\n",
        "        gc.collect()\n",
        "\n",
        "        # Update variables\n",
        "        pbar.set_description(\"Update variables\")\n",
        "        start_pos += y_coords.shape[0]\n",
        "        start += chunksize\n",
        "        # Append data at the end of each array\n",
        "        indptr = np.hstack((indptr, x_coords))\n",
        "        indices = np.hstack((indices, y_coords))\n",
        "        data_s = np.hstack((data_s, tmp_data))\n",
        "\n",
        "        pbar.update(loaded_rows)\n",
        "\n",
        "    print('Done. Save last files')\n",
        "    np.save(f\"{prefix_filename}_indptr_{file_pointer}.npy\", indptr)\n",
        "    np.save(f\"{prefix_filename}_indices_{file_pointer}.npy\", indices)\n",
        "    np.save(f\"{prefix_filename}_data_{file_pointer}.npy\", data_s)\n",
        "    \n",
        "    del indptr, indices, data_s"
      ],
      "metadata": {
        "id": "hVq6XQKFzgTw"
      },
      "execution_count": null,
      "outputs": []
    },
    {
      "cell_type": "code",
      "source": [
        "create_csr_arrays(path_train_multi_inputs)"
      ],
      "metadata": {
        "id": "QTi5EZAK015w"
      },
      "execution_count": null,
      "outputs": []
    },
    {
      "cell_type": "code",
      "source": [
        "indptr = np.load('train_multi_inputs_indptr_0.npy')\n",
        "indices = np.load('train_multi_inputs_indices_0.npy')\n",
        "data = np.load('train_multi_inputs_data_0.npy')\n",
        "indptr = np.append(indptr, indptr[-1] + indices[indptr[-1]:].shape)\n",
        "N_ROWS = group_train_multi_inputs['block0_values'].shape[0]\n",
        "N_COLS = group_train_multi_inputs['block0_values'].shape[1]\n",
        "csr_matrix = sps.csr_matrix((data, indices, indptr), shape=(N_ROWS, N_COLS))\n",
        "sps.save_npz('train_multi_inputs_sparse.npz', csr_matrix)\n",
        "del csr_matrix, indices, indptr, data"
      ],
      "metadata": {
        "id": "lmV3uKrm5QLq"
      },
      "execution_count": null,
      "outputs": []
    },
    {
      "cell_type": "code",
      "source": [
        "create_csr_arrays(path_train_multi_targets)"
      ],
      "metadata": {
        "id": "iUCehtUw1ex4"
      },
      "execution_count": null,
      "outputs": []
    },
    {
      "cell_type": "code",
      "source": [
        "indptr = np.load('train_multi_targets_indptr_0.npy')\n",
        "indices = np.load('train_multi_targets_indices_0.npy')\n",
        "data = np.load('train_multi_targets_data_0.npy')\n",
        "indptr = np.append(indptr, indptr[-1] + indices[indptr[-1]:].shape)\n",
        "N_ROWS = group_train_multi_targets['block0_values'].shape[0]\n",
        "N_COLS = group_train_multi_targets['block0_values'].shape[1]\n",
        "csr_matrix = sps.csr_matrix((data, indices, indptr), shape=(N_ROWS, N_COLS))\n",
        "sps.save_npz('train_multi_targets_sparse.npz', csr_matrix)\n",
        "del csr_matrix, indices, indptr, data"
      ],
      "metadata": {
        "id": "VbDIjfh25bIW"
      },
      "execution_count": null,
      "outputs": []
    },
    {
      "cell_type": "code",
      "source": [
        "create_csr_arrays(path_test_multi_inputs)"
      ],
      "metadata": {
        "id": "u7harJTv1fei"
      },
      "execution_count": null,
      "outputs": []
    },
    {
      "cell_type": "code",
      "source": [
        "indptr = np.load('test_multi_inputs_indptr_0.npy')\n",
        "indices = np.load('test_multi_inputs_indices_0.npy')\n",
        "data = np.load('test_multi_inputs_data_0.npy')\n",
        "indptr = np.append(indptr, indptr[-1] + indices[indptr[-1]:].shape)\n",
        "N_ROWS = group_test_multi_inputs['block0_values'].shape[0]\n",
        "N_COLS = group_test_multi_inputs['block0_values'].shape[1]\n",
        "csr_matrix = sps.csr_matrix((data, indices, indptr), shape=(N_ROWS, N_COLS))\n",
        "sps.save_npz('test_multi_inputs_sparse.npz', csr_matrix)\n",
        "del csr_matrix, indices, indptr, data"
      ],
      "metadata": {
        "id": "ayoFhfX75Wzl"
      },
      "execution_count": null,
      "outputs": []
    },
    {
      "cell_type": "code",
      "source": [
        "!mv *.npy /content/drive/MyDrive/multimodal_sparse\n",
        "!mv *.npz /content/drive/MyDrive/multimodal_sparse"
      ],
      "metadata": {
        "id": "u-3ZSEQR0uZ5"
      },
      "execution_count": null,
      "outputs": []
    },
    {
      "cell_type": "markdown",
      "source": [
        "## Splitting, Denoising and Normalization"
      ],
      "metadata": {
        "id": "4NjUGRr80tdL"
      }
    },
    {
      "cell_type": "code",
      "source": [
        "import random\n",
        "import joblib\n",
        "import numpy as np\n",
        "import pandas as pd\n",
        "from sklearn import decomposition, model_selection\n",
        "\n",
        "import os\n",
        "import gc\n",
        "import scipy.sparse as sps\n",
        "from tqdm import tqdm as tqdm"
      ],
      "metadata": {
        "id": "lyCAh0Nx2QN2"
      },
      "execution_count": 1,
      "outputs": []
    },
    {
      "cell_type": "markdown",
      "source": [
        "Fix random seeds:"
      ],
      "metadata": {
        "id": "ESxaEBAlTKxJ"
      }
    },
    {
      "cell_type": "code",
      "source": [
        "random_seed = 3407\n",
        "random.seed(random_seed)\n",
        "np.random.seed(random_seed)"
      ],
      "metadata": {
        "id": "4ad_Mo7JTIEO"
      },
      "execution_count": 2,
      "outputs": []
    },
    {
      "cell_type": "markdown",
      "source": [
        "### Split datasets into training and validation parts:"
      ],
      "metadata": {
        "id": "tqZEN5JL7zZj"
      }
    },
    {
      "cell_type": "markdown",
      "source": [
        "Copy data to local disk and load into python:"
      ],
      "metadata": {
        "id": "7suLbHzl0e_S"
      }
    },
    {
      "cell_type": "code",
      "source": [
        "!cp /content/drive/MyDrive/multimodal_sparse/*.npz /content/"
      ],
      "metadata": {
        "id": "O-6Abheg1Wf0"
      },
      "execution_count": null,
      "outputs": []
    },
    {
      "cell_type": "code",
      "source": [
        "input_csr = sps.load_npz('/content/train_multi_inputs_sparse.npz')"
      ],
      "metadata": {
        "id": "w7Jr_TKt1UPw"
      },
      "execution_count": null,
      "outputs": []
    },
    {
      "cell_type": "code",
      "source": [
        "target_csr = sps.load_npz('/content/train_multi_targets_sparse.npz')"
      ],
      "metadata": {
        "id": "-1HgZfj-uh_e"
      },
      "execution_count": null,
      "outputs": []
    },
    {
      "cell_type": "code",
      "source": [
        "input_csr.shape, target_csr.shape"
      ],
      "metadata": {
        "id": "Q1zHlj5zqdTw"
      },
      "execution_count": null,
      "outputs": []
    },
    {
      "cell_type": "code",
      "source": [
        "! rm *.npz"
      ],
      "metadata": {
        "id": "jjQeo-Ve1Ca8"
      },
      "execution_count": null,
      "outputs": []
    },
    {
      "cell_type": "markdown",
      "source": [
        "Split datasets in advance to prevent model from seeing validation data:"
      ],
      "metadata": {
        "id": "VDX9E4Dg0v_O"
      }
    },
    {
      "cell_type": "code",
      "source": [
        "X_train, X_test, y_train, y_test = model_selection.train_test_split(input_csr,\n",
        "                                                                    target_csr, \n",
        "                                                                    test_size=0.2, \n",
        "                                                                    random_state = random_seed)\n",
        "del input_csr, target_csr\n",
        "\n",
        "sps.save_npz('X_train.npz', X_train)\n",
        "del X_train\n",
        "\n",
        "sps.save_npz('X_test.npz', X_test)\n",
        "del X_test\n",
        "\n",
        "sps.save_npz('y_train.npz', y_train)\n",
        "del y_train\n",
        "\n",
        "sps.save_npz('y_test.npz', y_test)\n",
        "del y_test"
      ],
      "metadata": {
        "id": "NDZiA17Ww-Yj"
      },
      "execution_count": null,
      "outputs": []
    },
    {
      "cell_type": "code",
      "source": [
        "!cp *.npz /content/drive/MyDrive/multimodal_split"
      ],
      "metadata": {
        "id": "xBQEblm22F8L"
      },
      "execution_count": null,
      "outputs": []
    },
    {
      "cell_type": "code",
      "source": [
        "!cp /content/drive/MyDrive/multimodal_split/*.npz /content/"
      ],
      "metadata": {
        "id": "zMyxaGlzNq2T"
      },
      "execution_count": null,
      "outputs": []
    },
    {
      "cell_type": "code",
      "source": [
        "# be careful with memory quota\n",
        "train_input = sps.load_npz('X_train.npz')\n",
        "\n",
        "nmf_input = joblib.load(\"/content/drive/MyDrive/multimodal_nmf/nmf_input.pkl\")\n",
        "\n",
        "#nmf_input = decomposition.NMF(n_components=128, init='nndsvd',max_iter=150)\n",
        "#W_train_input = nmf_input.fit_transform(train_input)\n",
        "W_train_input = nmf_input.transform(train_input)\n",
        "H_train_input = nmf_input.components_\n",
        "\n",
        "np.save(\"W_train_input.npy\", W_train_input)\n",
        "np.save(\"H_train_input.npy\", H_train_input)\n",
        "\n",
        "del train_input"
      ],
      "metadata": {
        "id": "gqjvqc5PH5yL"
      },
      "execution_count": null,
      "outputs": []
    },
    {
      "cell_type": "code",
      "source": [
        "valid_input = sps.load_npz('X_test.npz')\n",
        "\n",
        "W_valid_input = nmf_input.transform(valid_input)\n",
        "H_valid_input = nmf_input.components_\n",
        "\n",
        "np.save(\"W_valid_input.npy\", W_valid_input)\n",
        "np.save(\"H_valid_input.npy\", H_valid_input)\n",
        "\n",
        "joblib.dump(nmf_input, '/content/drive/MyDrive/multimodal_nmf/nmf_input.pkl')\n",
        "\n",
        "del valid_input, nmf_input\n",
        "\n",
        "#H_train_input == H_valid_input?"
      ],
      "metadata": {
        "id": "_UgavZSNIx41"
      },
      "execution_count": null,
      "outputs": []
    },
    {
      "cell_type": "code",
      "source": [
        "train_target = sps.load_npz('y_train.npz')\n",
        "\n",
        "nmf_target = decomposition.NMF(n_components=128, init='nndsvd', max_iter=150)\n",
        "W_train_target = nmf_target.fit_transform(train_target)\n",
        "H_train_target = nmf_target.components_\n",
        "\n",
        "np.save(\"W_train_target.npy\", W_train_target)\n",
        "np.save(\"H_train_target.npy\", H_train_target)\n",
        "\n",
        "del train_target"
      ],
      "metadata": {
        "id": "xrqc3xBQP9wB"
      },
      "execution_count": null,
      "outputs": []
    },
    {
      "cell_type": "code",
      "source": [
        "valid_target = sps.load_npz('y_test.npz')\n",
        "\n",
        "W_valid_target = nmf_target.transform(valid_target)\n",
        "H_valid_target = nmf_target.components_\n",
        "\n",
        "np.save(\"W_valid_target.npy\", W_valid_target)\n",
        "np.save(\"H_valid_target.npy\", H_valid_target)\n",
        "\n",
        "joblib.dump(nmf_target, '/content/drive/MyDrive/multimodal_nmf/nmf_target.pkl')\n",
        "\n",
        "del valid_target, nmf_target"
      ],
      "metadata": {
        "id": "PbaxAtKjP_EY"
      },
      "execution_count": null,
      "outputs": []
    },
    {
      "cell_type": "code",
      "source": [
        "!mv *.npy /content/drive/MyDrive/multimodal_nmf"
      ],
      "metadata": {
        "id": "q_59TSVzItOJ"
      },
      "execution_count": null,
      "outputs": []
    },
    {
      "cell_type": "markdown",
      "source": [
        "### Truncated SVD"
      ],
      "metadata": {
        "id": "65xevLeABHui"
      }
    },
    {
      "cell_type": "code",
      "source": [
        "!cp /content/drive/MyDrive/multimodal_split/*.npz /content/"
      ],
      "metadata": {
        "id": "ofFD8psUNs0L"
      },
      "execution_count": 3,
      "outputs": []
    },
    {
      "cell_type": "markdown",
      "source": [
        "For regular data:"
      ],
      "metadata": {
        "id": "NmSy_i3Zauys"
      }
    },
    {
      "cell_type": "code",
      "source": [
        "train_input= sps.load_npz('X_train.npz')\n",
        "\n",
        "# be careful with memory quota\n",
        "tsvd_input = decomposition.TruncatedSVD(n_components=128,algorithm='arpack',random_state=random_seed)\n",
        "U_train_input = tsvd_input.fit_transform(train_input)\n",
        "s_train_input = tsvd_input.singular_values_\n",
        "Va_train_input = tsvd_input.components_\n",
        "\n",
        "np.save(\"U_train_input.npy\", U_train_input)\n",
        "np.save(\"s_train_input.npy\", s_train_input)\n",
        "np.save(\"Va_train_input.npy\", Va_train_input)\n",
        "\n",
        "del train_input\n",
        "\n",
        "!mv *.npy /content/drive/MyDrive/multimodal_tsvd_arpack"
      ],
      "metadata": {
        "id": "zsa6N-MwBOYJ"
      },
      "execution_count": null,
      "outputs": []
    },
    {
      "cell_type": "code",
      "source": [
        "valid_input = sps.load_npz('X_test.npz')\n",
        "\n",
        "U_valid_input = tsvd_input.transform(valid_input)\n",
        "s_valid_input = tsvd_input.singular_values_\n",
        "Va_valid_input = tsvd_input.components_\n",
        "\n",
        "np.save(\"U_valid_input.npy\", U_valid_input)\n",
        "np.save(\"s_valid_input.npy\", s_valid_input)\n",
        "np.save(\"Va_valid_input.npy\", Va_valid_input)\n",
        "\n",
        "joblib.dump(tsvd_input, '/content/drive/MyDrive/multimodal_tsvd/tsvd_input.pkl')\n",
        "\n",
        "del valid_input, tsvd_input\n",
        "\n",
        "!mv *.npy /content/drive/MyDrive/multimodal_tsvd_arpack"
      ],
      "metadata": {
        "id": "PgbUKkVDBdaO"
      },
      "execution_count": null,
      "outputs": []
    },
    {
      "cell_type": "code",
      "source": [
        "# be careful with memory quota\n",
        "train_target = sps.load_npz('y_train.npz')\n",
        "\n",
        "tsvd_target = decomposition.TruncatedSVD(n_components=128,algorithm='arpack',random_state=random_seed)\n",
        "U_train_target = tsvd_target.fit_transform(train_target)\n",
        "s_train_target = tsvd_target.singular_values_\n",
        "Va_train_target = tsvd_target.components_\n",
        "\n",
        "np.save(\"U_train_target.npy\", U_train_target)\n",
        "np.save(\"s_train_target.npy\", s_train_target)\n",
        "np.save(\"Va_train_target.npy\", Va_train_target)\n",
        "\n",
        "del train_target\n",
        "\n",
        "!mv *.npy /content/drive/MyDrive/multimodal_tsvd_arpack"
      ],
      "metadata": {
        "id": "9PYhGyHBVs5L"
      },
      "execution_count": null,
      "outputs": []
    },
    {
      "cell_type": "code",
      "source": [
        "valid_target = sps.load_npz('y_test.npz')\n",
        "\n",
        "U_valid_target = tsvd_target.transform(valid_target)\n",
        "s_valid_target = tsvd_target.singular_values_\n",
        "Va_valid_target = tsvd_target.components_\n",
        "\n",
        "np.save(\"U_valid_target.npy\", U_valid_target)\n",
        "np.save(\"s_valid_target.npy\", s_valid_target)\n",
        "np.save(\"Va_valid_target.npy\", Va_valid_target)\n",
        "\n",
        "joblib.dump(tsvd_target, '/content/drive/MyDrive/multimodal_tsvd/tsvd_target.pkl')\n",
        "\n",
        "del valid_target, tsvd_target\n",
        "\n",
        "!mv *.npy /content/drive/MyDrive/multimodal_tsvd_arpack"
      ],
      "metadata": {
        "id": "1Kx9Dj_rgFTq"
      },
      "execution_count": null,
      "outputs": []
    },
    {
      "cell_type": "markdown",
      "source": [
        "For binarized data:"
      ],
      "metadata": {
        "id": "BmEBkm0wfqPm"
      }
    },
    {
      "cell_type": "code",
      "source": [
        "train_input_binary = sps.load_npz('X_train.npz').astype('uint8')\n",
        "train_input_binary[train_input_binary.nonzero()]=1\n",
        "\n",
        "tsvd_input_binary = decomposition.TruncatedSVD(n_components=128)\n",
        "U_train_input_binary = tsvd_input_binary.fit_transform(train_input_binary)\n",
        "s_train_input_binary = tsvd_input_binary.singular_values_\n",
        "Va_train_input_binary = tsvd_input_binary.components_\n",
        "\n",
        "np.save(\"U_train_input_binary.npy\", U_train_input_binary)\n",
        "np.save(\"s_train_input_binary.npy\", s_train_input_binary)\n",
        "np.save(\"Va_train_input_binary.npy\", Va_train_input_binary)\n",
        "\n",
        "del train_input_binary\n",
        "\n",
        "!mv *.npy /content/drive/MyDrive/multimodal_tsvd"
      ],
      "metadata": {
        "id": "ArproB-2fk6Z"
      },
      "execution_count": null,
      "outputs": []
    },
    {
      "cell_type": "code",
      "source": [
        "valid_input_binary = sps.load_npz('X_test.npz').astype('uint8')\n",
        "valid_input_binary[valid_input_binary.nonzero()]=1\n",
        "\n",
        "U_valid_input_binary = tsvd_input_binary.transform(valid_input_binary)\n",
        "s_valid_input_binary = tsvd_input_binary.singular_values_\n",
        "Va_valid_input_binary = tsvd_input_binary.components_\n",
        "\n",
        "np.save(\"U_valid_input_binary.npy\", U_valid_input_binary)\n",
        "np.save(\"s_valid_input_binary.npy\", s_valid_input_binary)\n",
        "np.save(\"Va_valid_input_binary.npy\", Va_valid_input_binary)\n",
        "\n",
        "joblib.dump(tsvd_input_binary, '/content/drive/MyDrive/multimodal_tsvd/tsvd_input_binary.pkl')\n",
        "\n",
        "del valid_input_binary, tsvd_input_binary\n",
        "\n",
        "!mv *.npy /content/drive/MyDrive/multimodal_tsvd"
      ],
      "metadata": {
        "id": "9BHqN_MlfhJx"
      },
      "execution_count": null,
      "outputs": []
    },
    {
      "cell_type": "markdown",
      "source": [
        "## PyTorch Workflow (tSVD)"
      ],
      "metadata": {
        "id": "7_c1SPfVufjk"
      }
    },
    {
      "cell_type": "code",
      "source": [
        "import torch\n",
        "import torch.nn as nn\n",
        "import torch.utils.data as Data\n",
        "from torch.utils.data.sampler import SubsetRandomSampler\n",
        "\n",
        "import random\n",
        "import numpy as np\n",
        "import pandas as pd\n",
        "import scipy.sparse as sps\n",
        "from scipy import stats\n",
        "\n",
        "import matplotlib.pyplot as plt"
      ],
      "metadata": {
        "id": "wtdMsiwduje1"
      },
      "execution_count": 1,
      "outputs": []
    },
    {
      "cell_type": "markdown",
      "source": [
        "Fix random seeds:"
      ],
      "metadata": {
        "id": "z3NTij8swG48"
      }
    },
    {
      "cell_type": "code",
      "source": [
        "random_seed = 3407\n",
        "torch.manual_seed(random_seed)\n",
        "random.seed(random_seed)\n",
        "np.random.seed(random_seed)"
      ],
      "metadata": {
        "id": "EIl8JjKLuqWf"
      },
      "execution_count": 2,
      "outputs": []
    },
    {
      "cell_type": "markdown",
      "source": [
        "Prepare files:"
      ],
      "metadata": {
        "id": "MaDUV5wtLSpW"
      }
    },
    {
      "cell_type": "code",
      "source": [
        "!cp /content/drive/MyDrive/multimodal_tsvd/*.npy /content/"
      ],
      "metadata": {
        "id": "NQ6iFfUeusdU"
      },
      "execution_count": 3,
      "outputs": []
    },
    {
      "cell_type": "code",
      "source": [
        "U_train_input = np.load(\"U_train_input.npy\")\n",
        "U_train_target = np.load(\"U_train_target.npy\")\n",
        "\n",
        "U_valid_input = np.load(\"U_valid_input.npy\")\n",
        "U_valid_target = np.load(\"U_valid_target.npy\")"
      ],
      "metadata": {
        "id": "TFkFkvnZuu0J"
      },
      "execution_count": 3,
      "outputs": []
    },
    {
      "cell_type": "code",
      "source": [
        "!cp /content/drive/MyDrive/multimodal_split/y_train.npz /content/\n",
        "!cp /content/drive/MyDrive/multimodal_split/y_test.npz /content/"
      ],
      "metadata": {
        "id": "IBuJIOzPB-ST"
      },
      "execution_count": 23,
      "outputs": []
    },
    {
      "cell_type": "code",
      "source": [
        "train_target = sps.load_npz('y_train.npz')\n",
        "valid_target = sps.load_npz('y_test.npz')"
      ],
      "metadata": {
        "id": "Xf049aGdblXL"
      },
      "execution_count": 24,
      "outputs": []
    },
    {
      "cell_type": "markdown",
      "source": [
        "#### Normalize targets (for MSE calculation):"
      ],
      "metadata": {
        "id": "oD2O1a-bwJdR"
      }
    },
    {
      "cell_type": "code",
      "source": [
        "U_train_input_std = U_train_input.std(axis=1).reshape(-1, 1)\n",
        "#U_train_input_avg = U_train_input.mean(axis=1).reshape(-1, 1)\n",
        "U_train_input_norm = U_train_input / U_train_input_std\n",
        "\n",
        "U_train_target_std = U_train_target.std(axis=1).reshape(-1, 1)\n",
        "#U_train_target_avg = U_train_target.mean(axis=1).reshape(-1, 1)\n",
        "U_train_target_norm = U_train_target / U_train_target_std"
      ],
      "metadata": {
        "id": "eUG65-vEvD9L"
      },
      "execution_count": 9,
      "outputs": []
    },
    {
      "cell_type": "code",
      "source": [
        "U_valid_input_std = U_valid_input.std(axis=1).reshape(-1, 1)\n",
        "#U_valid_input_avg = U_valid_input.mean(axis=1).reshape(-1, 1)\n",
        "U_valid_input_norm = U_valid_input / U_valid_input_std\n",
        "\n",
        "U_valid_target_std = U_valid_target.std(axis=1).reshape(-1, 1)\n",
        "#U_valid_target_avg = U_valid_target.mean(axis=1).reshape(-1, 1)\n",
        "U_valid_target_norm = U_valid_target / U_valid_target_std"
      ],
      "metadata": {
        "id": "HJvikhO8jEiQ"
      },
      "execution_count": 10,
      "outputs": []
    },
    {
      "cell_type": "markdown",
      "source": [
        "#### Construct dataset and dataloader:"
      ],
      "metadata": {
        "id": "Dtd5eQMhwNkX"
      }
    },
    {
      "cell_type": "code",
      "source": [
        "class TrainDataset(Data.Dataset):\n",
        "    def __init__(self):\n",
        "      self.inputs_data = torch.from_numpy(U_train_input_norm.astype('float32')).cuda()\n",
        "      self.targets_data = torch.from_numpy(U_train_target_norm.astype('float32')).cuda()\n",
        "      # send to GPU as a whole due to small size.\n",
        "\n",
        "    def __len__(self):\n",
        "      return self.inputs_data.shape[0]\n",
        "\n",
        "    def __getitem__(self, idx):\n",
        "      inputs_sliced = self.inputs_data[idx, ...]\n",
        "      targets_sliced = self.targets_data[idx, ...]\n",
        "\n",
        "      return inputs_sliced, targets_sliced\n",
        "\n",
        "class ValidDataset(Data.Dataset):\n",
        "    def __init__(self):\n",
        "      self.inputs_data = torch.from_numpy(U_valid_input_norm.astype('float32')).cuda()\n",
        "      self.targets_data = torch.from_numpy(U_valid_target_norm.astype('float32')).cuda()\n",
        "      self.true_data_cpu = torch.from_numpy(valid_target.todense())\n",
        "      # large true data, send accordingly\n",
        "\n",
        "    def __len__(self):\n",
        "      return self.inputs_data.shape[0]\n",
        "\n",
        "    def __getitem__(self, idx):\n",
        "      inputs_sliced = self.inputs_data[idx, ...]\n",
        "      targets_sliced = self.targets_data[idx, ...]\n",
        "      true_sliced_cpu = self.true_data_cpu[idx, ...]\n",
        "\n",
        "      return inputs_sliced, targets_sliced, true_sliced_cpu"
      ],
      "metadata": {
        "id": "JdO5CSOZvazW"
      },
      "execution_count": 38,
      "outputs": []
    },
    {
      "cell_type": "code",
      "source": [
        "batch_size = 256\n",
        "\n",
        "train_dataloader = torch.utils.data.DataLoader(TrainDataset(),\n",
        "                                               batch_size=batch_size,\n",
        "                                               shuffle = True)\n",
        "valid_dataloader = torch.utils.data.DataLoader(ValidDataset(), \n",
        "                                               batch_size=batch_size,\n",
        "                                               shuffle = True)\n",
        "\n",
        "len(train_dataloader), len(valid_dataloader)"
      ],
      "metadata": {
        "id": "fT8XmcE_vhjM",
        "colab": {
          "base_uri": "https://localhost:8080/"
        },
        "outputId": "b36d1b25-7750-4e0b-e0bd-2177839aafe0"
      },
      "execution_count": 39,
      "outputs": [
        {
          "output_type": "execute_result",
          "data": {
            "text/plain": [
              "(332, 83)"
            ]
          },
          "metadata": {},
          "execution_count": 39
        }
      ]
    },
    {
      "cell_type": "markdown",
      "source": [
        "#### Construct and train a MLP model:"
      ],
      "metadata": {
        "id": "4tZeEdA5wT1V"
      }
    },
    {
      "cell_type": "code",
      "source": [
        "class DenseModel(nn.Module):\n",
        "    def __init__(self,\n",
        "                 input_size=U_train_input.shape[1],\n",
        "                 output_size=U_train_target.shape[1],\n",
        "                 hidden_size=256):\n",
        "\n",
        "        super(DenseModel, self).__init__()\n",
        "        self.dense1 = nn.Sequential(\n",
        "            nn.Linear(input_size, hidden_size),\n",
        "            nn.LeakyReLU())\n",
        "        \n",
        "        self.dense2 = nn.Sequential(\n",
        "            nn.Dropout(0.3),\n",
        "            nn.BatchNorm1d(hidden_size),\n",
        "            nn.Linear(hidden_size, hidden_size),\n",
        "            nn.LeakyReLU())\n",
        "        \n",
        "        self.dense3 = nn.Sequential(\n",
        "            nn.Dropout(0.3),\n",
        "            nn.BatchNorm1d(hidden_size),\n",
        "            nn.Linear(hidden_size, hidden_size),\n",
        "            nn.LeakyReLU())\n",
        "        \n",
        "        self.dense4 = nn.Sequential(\n",
        "            nn.Dropout(0.3),\n",
        "            nn.BatchNorm1d(hidden_size),\n",
        "            nn.Linear(hidden_size, hidden_size),\n",
        "            nn.LeakyReLU())\n",
        "        \n",
        "        self.dense5 = nn.Sequential(\n",
        "            nn.Dropout(0.3),\n",
        "            nn.BatchNorm1d(hidden_size),\n",
        "            nn.Linear(hidden_size, hidden_size),\n",
        "            nn.LeakyReLU())\n",
        "                \n",
        "        self.dense6 = nn.Sequential(\n",
        "            nn.BatchNorm1d(hidden_size),\n",
        "            nn.Linear(hidden_size, output_size))\n",
        "\n",
        "    def forward(self, input):\n",
        "        output = self.dense1(input)\n",
        "        output = self.dense2(output)\n",
        "        output = self.dense3(output)\n",
        "        output = self.dense4(output)\n",
        "        output = self.dense5(output)\n",
        "        output = self.dense6(output)\n",
        "        return output"
      ],
      "metadata": {
        "id": "YhY1ACC_vmO1"
      },
      "execution_count": 40,
      "outputs": []
    },
    {
      "cell_type": "code",
      "source": [
        "dense_model = DenseModel().cuda()"
      ],
      "metadata": {
        "id": "emgdI3ShvodC"
      },
      "execution_count": 41,
      "outputs": []
    },
    {
      "cell_type": "code",
      "source": [
        "criterion = nn.MSELoss()\n",
        "\n",
        "num_epochs = 100\n",
        "learning_rate = 0.003\n",
        "optimizer = torch.optim.Adam(params=dense_model.parameters(), lr=learning_rate)\n",
        "scheduler = torch.optim.lr_scheduler.ReduceLROnPlateau(optimizer)"
      ],
      "metadata": {
        "id": "kt_GtOrrvruY"
      },
      "execution_count": 42,
      "outputs": []
    },
    {
      "cell_type": "code",
      "source": [
        "metric_train = np.zeros(shape=num_epochs)\n",
        "metric_valid = np.zeros(shape=num_epochs)\n",
        "\n",
        "for epoch in range(num_epochs):\n",
        "    loss_train = np.zeros(shape=len(train_dataloader))\n",
        "    weights_train = np.zeros(shape=len(train_dataloader))\n",
        "    \n",
        "    for i, (inputs, targets) in enumerate(train_dataloader):\n",
        "        weights_train[i] = targets.shape[0]\n",
        "\n",
        "        dense_model.train()\n",
        "\n",
        "        outputs = dense_model(inputs)\n",
        "        loss = criterion(outputs, targets)\n",
        "\n",
        "        optimizer.zero_grad()\n",
        "        loss.backward()\n",
        "        optimizer.step()\n",
        "\n",
        "        dense_model.eval()\n",
        "        with torch.no_grad():\n",
        "          outputs = dense_model(inputs)\n",
        "          loss_train[i] = criterion(outputs, targets)\n",
        "\n",
        "    loss_valid = np.zeros(shape=len(valid_dataloader))\n",
        "    weights_valid = np.zeros(shape=len(valid_dataloader))\n",
        "\n",
        "    with torch.no_grad():\n",
        "        for i, (inputs, targets, _) in enumerate(valid_dataloader):\n",
        "          weights_valid[i] = targets.shape[0]\n",
        "\n",
        "          outputs = dense_model(inputs)\n",
        "          loss_valid[i] = criterion(outputs, targets)\n",
        "\n",
        "    metric_train[epoch] = np.average(loss_train, weights=weights_train)\n",
        "    metric_valid[epoch] = np.average(loss_valid, weights=weights_valid)\n",
        "\n",
        "    scheduler.step(metric_valid[epoch])\n",
        "\n",
        "    print('epoch', epoch+1,\n",
        "          '| train_loss:',round(metric_train[epoch],4),\n",
        "          '| valid_loss:',round(metric_valid[epoch],4))"
      ],
      "metadata": {
        "id": "zVxlL-CMvxkW",
        "colab": {
          "base_uri": "https://localhost:8080/",
          "height": 1000
        },
        "outputId": "be126c15-ff9e-4392-d06a-d105c6250b65"
      },
      "execution_count": 43,
      "outputs": [
        {
          "output_type": "error",
          "ename": "IndexError",
          "evalue": "ignored",
          "traceback": [
            "\u001b[0;31m---------------------------------------------------------------------------\u001b[0m",
            "\u001b[0;31mIndexError\u001b[0m                                Traceback (most recent call last)",
            "\u001b[0;32m<ipython-input-43-49eaa31fa8a8>\u001b[0m in \u001b[0;36m<module>\u001b[0;34m\u001b[0m\n\u001b[1;32m      6\u001b[0m     \u001b[0mweights_train\u001b[0m \u001b[0;34m=\u001b[0m \u001b[0mnp\u001b[0m\u001b[0;34m.\u001b[0m\u001b[0mzeros\u001b[0m\u001b[0;34m(\u001b[0m\u001b[0mshape\u001b[0m\u001b[0;34m=\u001b[0m\u001b[0mlen\u001b[0m\u001b[0;34m(\u001b[0m\u001b[0mtrain_dataloader\u001b[0m\u001b[0;34m)\u001b[0m\u001b[0;34m)\u001b[0m\u001b[0;34m\u001b[0m\u001b[0;34m\u001b[0m\u001b[0m\n\u001b[1;32m      7\u001b[0m \u001b[0;34m\u001b[0m\u001b[0m\n\u001b[0;32m----> 8\u001b[0;31m     \u001b[0;32mfor\u001b[0m \u001b[0mi\u001b[0m\u001b[0;34m,\u001b[0m \u001b[0;34m(\u001b[0m\u001b[0minputs\u001b[0m\u001b[0;34m,\u001b[0m \u001b[0mtargets\u001b[0m\u001b[0;34m,\u001b[0m \u001b[0m_\u001b[0m\u001b[0;34m)\u001b[0m \u001b[0;32min\u001b[0m \u001b[0menumerate\u001b[0m\u001b[0;34m(\u001b[0m\u001b[0mtrain_dataloader\u001b[0m\u001b[0;34m)\u001b[0m\u001b[0;34m:\u001b[0m\u001b[0;34m\u001b[0m\u001b[0;34m\u001b[0m\u001b[0m\n\u001b[0m\u001b[1;32m      9\u001b[0m         \u001b[0mweights_train\u001b[0m\u001b[0;34m[\u001b[0m\u001b[0mi\u001b[0m\u001b[0;34m]\u001b[0m \u001b[0;34m=\u001b[0m \u001b[0mtargets\u001b[0m\u001b[0;34m.\u001b[0m\u001b[0mshape\u001b[0m\u001b[0;34m[\u001b[0m\u001b[0;36m0\u001b[0m\u001b[0;34m]\u001b[0m\u001b[0;34m\u001b[0m\u001b[0;34m\u001b[0m\u001b[0m\n\u001b[1;32m     10\u001b[0m \u001b[0;34m\u001b[0m\u001b[0m\n",
            "\u001b[0;32m/usr/local/lib/python3.7/dist-packages/torch/utils/data/dataloader.py\u001b[0m in \u001b[0;36m__next__\u001b[0;34m(self)\u001b[0m\n\u001b[1;32m    679\u001b[0m                 \u001b[0;31m# TODO(https://github.com/pytorch/pytorch/issues/76750)\u001b[0m\u001b[0;34m\u001b[0m\u001b[0;34m\u001b[0m\u001b[0;34m\u001b[0m\u001b[0m\n\u001b[1;32m    680\u001b[0m                 \u001b[0mself\u001b[0m\u001b[0;34m.\u001b[0m\u001b[0m_reset\u001b[0m\u001b[0;34m(\u001b[0m\u001b[0;34m)\u001b[0m  \u001b[0;31m# type: ignore[call-arg]\u001b[0m\u001b[0;34m\u001b[0m\u001b[0;34m\u001b[0m\u001b[0m\n\u001b[0;32m--> 681\u001b[0;31m             \u001b[0mdata\u001b[0m \u001b[0;34m=\u001b[0m \u001b[0mself\u001b[0m\u001b[0;34m.\u001b[0m\u001b[0m_next_data\u001b[0m\u001b[0;34m(\u001b[0m\u001b[0;34m)\u001b[0m\u001b[0;34m\u001b[0m\u001b[0;34m\u001b[0m\u001b[0m\n\u001b[0m\u001b[1;32m    682\u001b[0m             \u001b[0mself\u001b[0m\u001b[0;34m.\u001b[0m\u001b[0m_num_yielded\u001b[0m \u001b[0;34m+=\u001b[0m \u001b[0;36m1\u001b[0m\u001b[0;34m\u001b[0m\u001b[0;34m\u001b[0m\u001b[0m\n\u001b[1;32m    683\u001b[0m             \u001b[0;32mif\u001b[0m \u001b[0mself\u001b[0m\u001b[0;34m.\u001b[0m\u001b[0m_dataset_kind\u001b[0m \u001b[0;34m==\u001b[0m \u001b[0m_DatasetKind\u001b[0m\u001b[0;34m.\u001b[0m\u001b[0mIterable\u001b[0m \u001b[0;32mand\u001b[0m\u001b[0;31m \u001b[0m\u001b[0;31m\\\u001b[0m\u001b[0;34m\u001b[0m\u001b[0;34m\u001b[0m\u001b[0m\n",
            "\u001b[0;32m/usr/local/lib/python3.7/dist-packages/torch/utils/data/dataloader.py\u001b[0m in \u001b[0;36m_next_data\u001b[0;34m(self)\u001b[0m\n\u001b[1;32m    719\u001b[0m     \u001b[0;32mdef\u001b[0m \u001b[0m_next_data\u001b[0m\u001b[0;34m(\u001b[0m\u001b[0mself\u001b[0m\u001b[0;34m)\u001b[0m\u001b[0;34m:\u001b[0m\u001b[0;34m\u001b[0m\u001b[0;34m\u001b[0m\u001b[0m\n\u001b[1;32m    720\u001b[0m         \u001b[0mindex\u001b[0m \u001b[0;34m=\u001b[0m \u001b[0mself\u001b[0m\u001b[0;34m.\u001b[0m\u001b[0m_next_index\u001b[0m\u001b[0;34m(\u001b[0m\u001b[0;34m)\u001b[0m  \u001b[0;31m# may raise StopIteration\u001b[0m\u001b[0;34m\u001b[0m\u001b[0;34m\u001b[0m\u001b[0m\n\u001b[0;32m--> 721\u001b[0;31m         \u001b[0mdata\u001b[0m \u001b[0;34m=\u001b[0m \u001b[0mself\u001b[0m\u001b[0;34m.\u001b[0m\u001b[0m_dataset_fetcher\u001b[0m\u001b[0;34m.\u001b[0m\u001b[0mfetch\u001b[0m\u001b[0;34m(\u001b[0m\u001b[0mindex\u001b[0m\u001b[0;34m)\u001b[0m  \u001b[0;31m# may raise StopIteration\u001b[0m\u001b[0;34m\u001b[0m\u001b[0;34m\u001b[0m\u001b[0m\n\u001b[0m\u001b[1;32m    722\u001b[0m         \u001b[0;32mif\u001b[0m \u001b[0mself\u001b[0m\u001b[0;34m.\u001b[0m\u001b[0m_pin_memory\u001b[0m\u001b[0;34m:\u001b[0m\u001b[0;34m\u001b[0m\u001b[0;34m\u001b[0m\u001b[0m\n\u001b[1;32m    723\u001b[0m             \u001b[0mdata\u001b[0m \u001b[0;34m=\u001b[0m \u001b[0m_utils\u001b[0m\u001b[0;34m.\u001b[0m\u001b[0mpin_memory\u001b[0m\u001b[0;34m.\u001b[0m\u001b[0mpin_memory\u001b[0m\u001b[0;34m(\u001b[0m\u001b[0mdata\u001b[0m\u001b[0;34m,\u001b[0m \u001b[0mself\u001b[0m\u001b[0;34m.\u001b[0m\u001b[0m_pin_memory_device\u001b[0m\u001b[0;34m)\u001b[0m\u001b[0;34m\u001b[0m\u001b[0;34m\u001b[0m\u001b[0m\n",
            "\u001b[0;32m/usr/local/lib/python3.7/dist-packages/torch/utils/data/_utils/fetch.py\u001b[0m in \u001b[0;36mfetch\u001b[0;34m(self, possibly_batched_index)\u001b[0m\n\u001b[1;32m     47\u001b[0m     \u001b[0;32mdef\u001b[0m \u001b[0mfetch\u001b[0m\u001b[0;34m(\u001b[0m\u001b[0mself\u001b[0m\u001b[0;34m,\u001b[0m \u001b[0mpossibly_batched_index\u001b[0m\u001b[0;34m)\u001b[0m\u001b[0;34m:\u001b[0m\u001b[0;34m\u001b[0m\u001b[0;34m\u001b[0m\u001b[0m\n\u001b[1;32m     48\u001b[0m         \u001b[0;32mif\u001b[0m \u001b[0mself\u001b[0m\u001b[0;34m.\u001b[0m\u001b[0mauto_collation\u001b[0m\u001b[0;34m:\u001b[0m\u001b[0;34m\u001b[0m\u001b[0;34m\u001b[0m\u001b[0m\n\u001b[0;32m---> 49\u001b[0;31m             \u001b[0mdata\u001b[0m \u001b[0;34m=\u001b[0m \u001b[0;34m[\u001b[0m\u001b[0mself\u001b[0m\u001b[0;34m.\u001b[0m\u001b[0mdataset\u001b[0m\u001b[0;34m[\u001b[0m\u001b[0midx\u001b[0m\u001b[0;34m]\u001b[0m \u001b[0;32mfor\u001b[0m \u001b[0midx\u001b[0m \u001b[0;32min\u001b[0m \u001b[0mpossibly_batched_index\u001b[0m\u001b[0;34m]\u001b[0m\u001b[0;34m\u001b[0m\u001b[0;34m\u001b[0m\u001b[0m\n\u001b[0m\u001b[1;32m     50\u001b[0m         \u001b[0;32melse\u001b[0m\u001b[0;34m:\u001b[0m\u001b[0;34m\u001b[0m\u001b[0;34m\u001b[0m\u001b[0m\n\u001b[1;32m     51\u001b[0m             \u001b[0mdata\u001b[0m \u001b[0;34m=\u001b[0m \u001b[0mself\u001b[0m\u001b[0;34m.\u001b[0m\u001b[0mdataset\u001b[0m\u001b[0;34m[\u001b[0m\u001b[0mpossibly_batched_index\u001b[0m\u001b[0;34m]\u001b[0m\u001b[0;34m\u001b[0m\u001b[0;34m\u001b[0m\u001b[0m\n",
            "\u001b[0;32m/usr/local/lib/python3.7/dist-packages/torch/utils/data/_utils/fetch.py\u001b[0m in \u001b[0;36m<listcomp>\u001b[0;34m(.0)\u001b[0m\n\u001b[1;32m     47\u001b[0m     \u001b[0;32mdef\u001b[0m \u001b[0mfetch\u001b[0m\u001b[0;34m(\u001b[0m\u001b[0mself\u001b[0m\u001b[0;34m,\u001b[0m \u001b[0mpossibly_batched_index\u001b[0m\u001b[0;34m)\u001b[0m\u001b[0;34m:\u001b[0m\u001b[0;34m\u001b[0m\u001b[0;34m\u001b[0m\u001b[0m\n\u001b[1;32m     48\u001b[0m         \u001b[0;32mif\u001b[0m \u001b[0mself\u001b[0m\u001b[0;34m.\u001b[0m\u001b[0mauto_collation\u001b[0m\u001b[0;34m:\u001b[0m\u001b[0;34m\u001b[0m\u001b[0;34m\u001b[0m\u001b[0m\n\u001b[0;32m---> 49\u001b[0;31m             \u001b[0mdata\u001b[0m \u001b[0;34m=\u001b[0m \u001b[0;34m[\u001b[0m\u001b[0mself\u001b[0m\u001b[0;34m.\u001b[0m\u001b[0mdataset\u001b[0m\u001b[0;34m[\u001b[0m\u001b[0midx\u001b[0m\u001b[0;34m]\u001b[0m \u001b[0;32mfor\u001b[0m \u001b[0midx\u001b[0m \u001b[0;32min\u001b[0m \u001b[0mpossibly_batched_index\u001b[0m\u001b[0;34m]\u001b[0m\u001b[0;34m\u001b[0m\u001b[0;34m\u001b[0m\u001b[0m\n\u001b[0m\u001b[1;32m     50\u001b[0m         \u001b[0;32melse\u001b[0m\u001b[0;34m:\u001b[0m\u001b[0;34m\u001b[0m\u001b[0;34m\u001b[0m\u001b[0m\n\u001b[1;32m     51\u001b[0m             \u001b[0mdata\u001b[0m \u001b[0;34m=\u001b[0m \u001b[0mself\u001b[0m\u001b[0;34m.\u001b[0m\u001b[0mdataset\u001b[0m\u001b[0;34m[\u001b[0m\u001b[0mpossibly_batched_index\u001b[0m\u001b[0;34m]\u001b[0m\u001b[0;34m\u001b[0m\u001b[0;34m\u001b[0m\u001b[0m\n",
            "\u001b[0;32m<ipython-input-38-46870ce5f6a5>\u001b[0m in \u001b[0;36m__getitem__\u001b[0;34m(self, idx)\u001b[0m\n\u001b[1;32m     11\u001b[0m       \u001b[0minputs_sliced\u001b[0m \u001b[0;34m=\u001b[0m \u001b[0mself\u001b[0m\u001b[0;34m.\u001b[0m\u001b[0minputs_data\u001b[0m\u001b[0;34m[\u001b[0m\u001b[0midx\u001b[0m\u001b[0;34m,\u001b[0m \u001b[0;34m...\u001b[0m\u001b[0;34m]\u001b[0m\u001b[0;34m\u001b[0m\u001b[0;34m\u001b[0m\u001b[0m\n\u001b[1;32m     12\u001b[0m       \u001b[0mtargets_sliced\u001b[0m \u001b[0;34m=\u001b[0m \u001b[0mself\u001b[0m\u001b[0;34m.\u001b[0m\u001b[0mtargets_data\u001b[0m\u001b[0;34m[\u001b[0m\u001b[0midx\u001b[0m\u001b[0;34m,\u001b[0m \u001b[0;34m...\u001b[0m\u001b[0;34m]\u001b[0m\u001b[0;34m\u001b[0m\u001b[0;34m\u001b[0m\u001b[0m\n\u001b[0;32m---> 13\u001b[0;31m       \u001b[0mtrue_sliced_cpu\u001b[0m \u001b[0;34m=\u001b[0m \u001b[0mtorch\u001b[0m\u001b[0;34m.\u001b[0m\u001b[0mfrom_numpy\u001b[0m\u001b[0;34m(\u001b[0m\u001b[0mself\u001b[0m\u001b[0;34m.\u001b[0m\u001b[0mtrue_data_cpu\u001b[0m\u001b[0;34m[\u001b[0m\u001b[0midx\u001b[0m\u001b[0;34m,\u001b[0m \u001b[0;34m...\u001b[0m\u001b[0;34m]\u001b[0m\u001b[0;34m.\u001b[0m\u001b[0mtodense\u001b[0m\u001b[0;34m(\u001b[0m\u001b[0;34m)\u001b[0m\u001b[0;34m)\u001b[0m\u001b[0;34m\u001b[0m\u001b[0;34m\u001b[0m\u001b[0m\n\u001b[0m\u001b[1;32m     14\u001b[0m \u001b[0;34m\u001b[0m\u001b[0m\n\u001b[1;32m     15\u001b[0m       \u001b[0;32mreturn\u001b[0m \u001b[0minputs_sliced\u001b[0m\u001b[0;34m,\u001b[0m \u001b[0mtargets_sliced\u001b[0m\u001b[0;34m,\u001b[0m \u001b[0mtrue_sliced_cpu\u001b[0m\u001b[0;34m\u001b[0m\u001b[0;34m\u001b[0m\u001b[0m\n",
            "\u001b[0;32m/usr/local/lib/python3.7/dist-packages/scipy/sparse/_index.py\u001b[0m in \u001b[0;36m__getitem__\u001b[0;34m(self, key)\u001b[0m\n\u001b[1;32m     31\u001b[0m     \"\"\"\n\u001b[1;32m     32\u001b[0m     \u001b[0;32mdef\u001b[0m \u001b[0m__getitem__\u001b[0m\u001b[0;34m(\u001b[0m\u001b[0mself\u001b[0m\u001b[0;34m,\u001b[0m \u001b[0mkey\u001b[0m\u001b[0;34m)\u001b[0m\u001b[0;34m:\u001b[0m\u001b[0;34m\u001b[0m\u001b[0;34m\u001b[0m\u001b[0m\n\u001b[0;32m---> 33\u001b[0;31m         \u001b[0mrow\u001b[0m\u001b[0;34m,\u001b[0m \u001b[0mcol\u001b[0m \u001b[0;34m=\u001b[0m \u001b[0mself\u001b[0m\u001b[0;34m.\u001b[0m\u001b[0m_validate_indices\u001b[0m\u001b[0;34m(\u001b[0m\u001b[0mkey\u001b[0m\u001b[0;34m)\u001b[0m\u001b[0;34m\u001b[0m\u001b[0;34m\u001b[0m\u001b[0m\n\u001b[0m\u001b[1;32m     34\u001b[0m         \u001b[0;31m# Dispatch to specialized methods.\u001b[0m\u001b[0;34m\u001b[0m\u001b[0;34m\u001b[0m\u001b[0;34m\u001b[0m\u001b[0m\n\u001b[1;32m     35\u001b[0m         \u001b[0;32mif\u001b[0m \u001b[0misinstance\u001b[0m\u001b[0;34m(\u001b[0m\u001b[0mrow\u001b[0m\u001b[0;34m,\u001b[0m \u001b[0mINT_TYPES\u001b[0m\u001b[0;34m)\u001b[0m\u001b[0;34m:\u001b[0m\u001b[0;34m\u001b[0m\u001b[0;34m\u001b[0m\u001b[0m\n",
            "\u001b[0;32m/usr/local/lib/python3.7/dist-packages/scipy/sparse/_index.py\u001b[0m in \u001b[0;36m_validate_indices\u001b[0;34m(self, key)\u001b[0m\n\u001b[1;32m    132\u001b[0m             \u001b[0mrow\u001b[0m \u001b[0;34m=\u001b[0m \u001b[0mint\u001b[0m\u001b[0;34m(\u001b[0m\u001b[0mrow\u001b[0m\u001b[0;34m)\u001b[0m\u001b[0;34m\u001b[0m\u001b[0;34m\u001b[0m\u001b[0m\n\u001b[1;32m    133\u001b[0m             \u001b[0;32mif\u001b[0m \u001b[0mrow\u001b[0m \u001b[0;34m<\u001b[0m \u001b[0;34m-\u001b[0m\u001b[0mM\u001b[0m \u001b[0;32mor\u001b[0m \u001b[0mrow\u001b[0m \u001b[0;34m>=\u001b[0m \u001b[0mM\u001b[0m\u001b[0;34m:\u001b[0m\u001b[0;34m\u001b[0m\u001b[0;34m\u001b[0m\u001b[0m\n\u001b[0;32m--> 134\u001b[0;31m                 \u001b[0;32mraise\u001b[0m \u001b[0mIndexError\u001b[0m\u001b[0;34m(\u001b[0m\u001b[0;34m'row index (%d) out of range'\u001b[0m \u001b[0;34m%\u001b[0m \u001b[0mrow\u001b[0m\u001b[0;34m)\u001b[0m\u001b[0;34m\u001b[0m\u001b[0;34m\u001b[0m\u001b[0m\n\u001b[0m\u001b[1;32m    135\u001b[0m             \u001b[0;32mif\u001b[0m \u001b[0mrow\u001b[0m \u001b[0;34m<\u001b[0m \u001b[0;36m0\u001b[0m\u001b[0;34m:\u001b[0m\u001b[0;34m\u001b[0m\u001b[0;34m\u001b[0m\u001b[0m\n\u001b[1;32m    136\u001b[0m                 \u001b[0mrow\u001b[0m \u001b[0;34m+=\u001b[0m \u001b[0mM\u001b[0m\u001b[0;34m\u001b[0m\u001b[0;34m\u001b[0m\u001b[0m\n",
            "\u001b[0;31mIndexError\u001b[0m: row index (57404) out of range"
          ]
        }
      ]
    },
    {
      "cell_type": "code",
      "source": [
        "plt.plot(metric_train, color='r')\n",
        "plt.plot(metric_valid, color='g')\n",
        "plt.show()"
      ],
      "metadata": {
        "id": "vzu-VlXAvx_0",
        "colab": {
          "base_uri": "https://localhost:8080/",
          "height": 265
        },
        "outputId": "ccc8f6f6-3772-487b-baa2-1d131434335c"
      },
      "execution_count": null,
      "outputs": [
        {
          "output_type": "display_data",
          "data": {
            "text/plain": [
              "<Figure size 432x288 with 1 Axes>"
            ],
            "image/png": "[encoded data removed]"
          },
          "metadata": {
            "needs_background": "light"
          }
        }
      ]
    },
    {
      "cell_type": "markdown",
      "source": [
        "#### Evaluation by correlation"
      ],
      "metadata": {
        "id": "yvpjrlT7wXKf"
      }
    },
    {
      "cell_type": "code",
      "source": [
        "#s_train_input = torch.from_numpy(np.diag(np.load(\"s_train_input.npy\")).astype('float32')).cuda()\n",
        "#s_train_target = torch.from_numpy(np.diag(np.load(\"s_train_target.npy\")).astype('float32')).cuda()\n",
        "\n",
        "#s_valid_input = torch.from_numpy(np.diag(np.load(\"s_valid_input.npy\")).astype('float32')).cuda()\n",
        "s_valid_target = torch.from_numpy(np.diag(np.load(\"s_valid_target.npy\")).astype('float32')).cuda()\n",
        "\n",
        "#Va_train_input = torch.from_numpy(np.load(\"Va_train_input.npy\").astype('float32')).cuda()\n",
        "#Va_train_target = torch.from_numpy(np.load(\"Va_train_target.npy\").astype('float32')).cuda()\n",
        "\n",
        "#Va_valid_input = torch.from_numpy(np.load(\"Va_valid_input.npy\").astype('float32')).cuda()\n",
        "Va_valid_target = torch.from_numpy(np.load(\"Va_valid_target.npy\").astype('float32')).cuda()"
      ],
      "metadata": {
        "id": "5W8C5IN4DCBE"
      },
      "execution_count": 12,
      "outputs": []
    },
    {
      "cell_type": "code",
      "source": [
        "def pcorr_vec(X,Y):\n",
        "  Xnorm = X-X.mean(axis=1).reshape(-1, 1)\n",
        "  Ynorm = Y-Y.mean(axis=1).reshape(-1, 1)\n",
        "  cov = torch.diagonal(torch.matmul(Xnorm,torch.transpose(Ynorm,1,0)))\n",
        "  Xsigma2 = torch.diagonal(torch.matmul(Xnorm,torch.transpose(Xnorm,1,0)))\n",
        "  Ysigma2 = torch.diagonal(torch.matmul(Ynorm,torch.transpose(Ynorm,1,0)))\n",
        "  sigma = torch.sqrt(torch.mul(Xsigma2,Ysigma2))\n",
        "  return torch.mean(cov/sigma)"
      ],
      "metadata": {
        "id": "0umPqVMtwAeu"
      },
      "execution_count": 6,
      "outputs": []
    },
    {
      "cell_type": "code",
      "source": [
        "dense_model.eval()\n",
        "\n",
        "pcorr_avg_decomp = np.zeros(shape=len(valid_dataloader))\n",
        "pcorr_avg_recomp = np.zeros(shape=len(valid_dataloader))\n",
        "pcorr_avg_true = np.zeros(shape=len(valid_dataloader))\n",
        "weights = np.zeros(shape=len(valid_dataloader))\n",
        "\n",
        "with torch.no_grad():\n",
        "    for i, (inputs, targets, true) in enumerate(valid_dataloader):\n",
        "\n",
        "      outputs = dense_model(inputs)\n",
        "\n",
        "      A_targets = torch.matmul(torch.matmul(targets,s_valid_target),Va_valid_target)\n",
        "      A_outputs = torch.matmul(torch.matmul(targets,s_valid_target),Va_valid_target)\n",
        "      \n",
        "      weights[i] = A_outputs.shape[0]\n",
        "      pcorr_avg_decomp[i] = pcorr_vec(targets,outputs)\n",
        "      pcorr_avg_recomp[i] = pcorr_vec(A_targets,A_outputs)\n",
        "      pcorr_avg_true[i] = pcorr_vec(true.cuda(),A_outputs)\n",
        "\n",
        "score_decomp = round(np.average(pcorr_avg_decomp,weights = weights),6)\n",
        "score_recomp = round(np.average(pcorr_avg_recomp,weights = weights),6)\n",
        "score_true = round(np.average(pcorr_avg_true,weights = weights),6)\n",
        "\n",
        "score_decomp, score_recomp, score_true"
      ],
      "metadata": {
        "id": "zeKDZh93w3mT",
        "colab": {
          "base_uri": "https://localhost:8080/",
          "height": 232
        },
        "outputId": "44e3879f-c1be-4e7a-eaf8-3a28d16bcb6e"
      },
      "execution_count": 45,
      "outputs": [
        {
          "output_type": "error",
          "ename": "NameError",
          "evalue": "ignored",
          "traceback": [
            "\u001b[0;31m---------------------------------------------------------------------------\u001b[0m",
            "\u001b[0;31mNameError\u001b[0m                                 Traceback (most recent call last)",
            "\u001b[0;32m<ipython-input-45-4fcc5c5e3af4>\u001b[0m in \u001b[0;36m<module>\u001b[0;34m\u001b[0m\n\u001b[1;32m     11\u001b[0m       \u001b[0moutputs\u001b[0m \u001b[0;34m=\u001b[0m \u001b[0mdense_model\u001b[0m\u001b[0;34m(\u001b[0m\u001b[0minputs\u001b[0m\u001b[0;34m)\u001b[0m\u001b[0;34m\u001b[0m\u001b[0;34m\u001b[0m\u001b[0m\n\u001b[1;32m     12\u001b[0m \u001b[0;34m\u001b[0m\u001b[0m\n\u001b[0;32m---> 13\u001b[0;31m       \u001b[0mA_targets\u001b[0m \u001b[0;34m=\u001b[0m \u001b[0mtorch\u001b[0m\u001b[0;34m.\u001b[0m\u001b[0mmatmul\u001b[0m\u001b[0;34m(\u001b[0m\u001b[0mtorch\u001b[0m\u001b[0;34m.\u001b[0m\u001b[0mmatmul\u001b[0m\u001b[0;34m(\u001b[0m\u001b[0mtargets\u001b[0m\u001b[0;34m,\u001b[0m\u001b[0ms_valid_target\u001b[0m\u001b[0;34m)\u001b[0m\u001b[0;34m,\u001b[0m\u001b[0mVa_valid_target\u001b[0m\u001b[0;34m)\u001b[0m\u001b[0;34m\u001b[0m\u001b[0;34m\u001b[0m\u001b[0m\n\u001b[0m\u001b[1;32m     14\u001b[0m       \u001b[0mA_outputs\u001b[0m \u001b[0;34m=\u001b[0m \u001b[0mtorch\u001b[0m\u001b[0;34m.\u001b[0m\u001b[0mmatmul\u001b[0m\u001b[0;34m(\u001b[0m\u001b[0mtorch\u001b[0m\u001b[0;34m.\u001b[0m\u001b[0mmatmul\u001b[0m\u001b[0;34m(\u001b[0m\u001b[0mtargets\u001b[0m\u001b[0;34m,\u001b[0m\u001b[0ms_valid_target\u001b[0m\u001b[0;34m)\u001b[0m\u001b[0;34m,\u001b[0m\u001b[0mVa_valid_target\u001b[0m\u001b[0;34m)\u001b[0m\u001b[0;34m\u001b[0m\u001b[0;34m\u001b[0m\u001b[0m\n\u001b[1;32m     15\u001b[0m \u001b[0;34m\u001b[0m\u001b[0m\n",
            "\u001b[0;31mNameError\u001b[0m: name 's_valid_target' is not defined"
          ]
        }
      ]
    },
    {
      "cell_type": "code",
      "source": [
        "Mtrain = torch.from_numpy(train_target[0:2000].todense()).cuda()\n",
        "Mvalid = torch.from_numpy(valid_target[0:2000].todense()).cuda()\n",
        "Utrain = torch.from_numpy(U_train_target_norm[0:2000]).cuda()\n",
        "Uvalid = torch.from_numpy(U_valid_target_norm[0:2000]).cuda()"
      ],
      "metadata": {
        "id": "zXf3V96nNME9"
      },
      "execution_count": 25,
      "outputs": []
    },
    {
      "cell_type": "code",
      "source": [
        "Atrain = torch.matmul(torch.matmul(Utrain,s_valid_target),Va_valid_target)\n",
        "Avalid = torch.matmul(torch.matmul(Uvalid,s_valid_target),Va_valid_target)"
      ],
      "metadata": {
        "id": "JLz2SThqb6V0"
      },
      "execution_count": 29,
      "outputs": []
    },
    {
      "cell_type": "code",
      "source": [
        "pcorr_vec(Mtrain,Atrain), pcorr_vec(Mvalid,Avalid)"
      ],
      "metadata": {
        "colab": {
          "base_uri": "https://localhost:8080/"
        },
        "id": "1FKJaNwkciQ3",
        "outputId": "bcd13fc1-a88c-4a68-f63c-ceda43d3564c"
      },
      "execution_count": 30,
      "outputs": [
        {
          "output_type": "execute_result",
          "data": {
            "text/plain": [
              "(tensor(0.6826, device='cuda:0'), tensor(0.6819, device='cuda:0'))"
            ]
          },
          "metadata": {},
          "execution_count": 30
        }
      ]
    },
    {
      "cell_type": "code",
      "source": [],
      "metadata": {
        "id": "i_2IkQKAc7vp"
      },
      "execution_count": null,
      "outputs": []
    }
  ]
}