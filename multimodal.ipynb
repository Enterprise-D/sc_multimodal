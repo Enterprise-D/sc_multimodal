{
  "nbformat": 4,
  "nbformat_minor": 0,
  "metadata": {
    "colab": {
      "provenance": [],
      "machine_shape": "hm",
      "mount_file_id": "1O5_-Xx8wXr1suQIEaL19CPWpOfQQGhFK",
      "authorship_tag": "ABX9TyPaIUBqdPjR2m1LG2UnCzbp",
      "include_colab_link": true
    },
    "kernelspec": {
      "name": "python3",
      "display_name": "Python 3"
    },
    "language_info": {
      "name": "python"
    },
    "gpuClass": "standard",
    "accelerator": "GPU"
  },
  "cells": [
    {
      "cell_type": "markdown",
      "metadata": {
        "id": "view-in-github",
        "colab_type": "text"
      },
      "source": [
        "<a href=\"https://colab.research.google.com/github/Enterprise-D/sc_multimodal/blob/main/multimodal.ipynb\" target=\"_parent\"><img src=\"https://colab.research.google.com/assets/colab-badge.svg\" alt=\"Open In Colab\"/></a>"
      ]
    },
    {
      "cell_type": "markdown",
      "source": [
        "## Data Compression"
      ],
      "metadata": {
        "id": "8tng64uyCOGb"
      }
    },
    {
      "cell_type": "markdown",
      "source": [
        "Install and load h5df modules:"
      ],
      "metadata": {
        "id": "ZeLMI5ReCluQ"
      }
    },
    {
      "cell_type": "code",
      "source": [
        "!pip install hdf5plugin\n",
        "import h5py\n",
        "import hdf5plugin"
      ],
      "metadata": {
        "id": "Pw8PddPwCPRy"
      },
      "execution_count": null,
      "outputs": []
    },
    {
      "cell_type": "markdown",
      "source": [
        "handle inputs:"
      ],
      "metadata": {
        "id": "-Fv5wM1vDvgQ"
      }
    },
    {
      "cell_type": "code",
      "source": [
        "path_train_multi_inputs = '/content/drive/MyDrive/multimodal/train_multi_inputs.h5'\n",
        "file_train_multi_inputs = h5py.File(path_train_multi_inputs, \"r\")\n",
        "\n",
        "path_test_multi_inputs = '/content/drive/MyDrive/multimodal/test_multi_inputs.h5'\n",
        "file_test_multi_inputs = h5py.File(path_test_multi_inputs, \"r\")\n",
        "\n",
        "file_train_multi_inputs.keys(), file_test_multi_inputs.keys()"
      ],
      "metadata": {
        "id": "bUsBrfM2Cedl"
      },
      "execution_count": null,
      "outputs": []
    },
    {
      "cell_type": "code",
      "source": [
        "group_train_multi_inputs = file_train_multi_inputs['train_multi_inputs']\n",
        "\n",
        "group_test_multi_inputs = file_test_multi_inputs['test_multi_inputs']\n",
        "\n",
        "group_train_multi_inputs.keys(), group_test_multi_inputs.keys()"
      ],
      "metadata": {
        "id": "rIq_boddfJxB"
      },
      "execution_count": null,
      "outputs": []
    },
    {
      "cell_type": "code",
      "source": [
        "group_train_multi_inputs['block0_values'].shape, \\\n",
        "group_test_multi_inputs['block0_values'].shape\n",
        "# axis0 & block0_items: features (genomic coordinates, GRCh38)\n",
        "# axis1: cell_ids\n",
        "# block0_values: entries"
      ],
      "metadata": {
        "id": "-Rl_4P0gfiCW"
      },
      "execution_count": null,
      "outputs": []
    },
    {
      "cell_type": "code",
      "source": [
        "group_train_multi_inputs['block0_values'][1:10,1:6]"
      ],
      "metadata": {
        "id": "sE8IAkUk0mJK"
      },
      "execution_count": null,
      "outputs": []
    },
    {
      "cell_type": "markdown",
      "source": [
        "handle targets:"
      ],
      "metadata": {
        "id": "im-6LWJhfMFN"
      }
    },
    {
      "cell_type": "code",
      "source": [
        "path_train_multi_targets = '/content/drive/MyDrive/multimodal/train_multi_targets.h5'\n",
        "file_train_multi_targets = h5py.File(path_train_multi_targets, \"r\")\n",
        "\n",
        "file_train_multi_targets.keys()"
      ],
      "metadata": {
        "id": "gg5xH9eofH_d"
      },
      "execution_count": null,
      "outputs": []
    },
    {
      "cell_type": "code",
      "source": [
        "group_train_multi_targets = file_train_multi_targets['train_multi_targets']\n",
        "group_train_multi_targets.keys()"
      ],
      "metadata": {
        "id": "TpAqs2WBDykP"
      },
      "execution_count": null,
      "outputs": []
    },
    {
      "cell_type": "code",
      "source": [
        "group_train_multi_targets['block0_values'].shape\n",
        "# axis0 & block0_items: features (expression reads, GRCh38)\n",
        "# axis1: cell_ids\n",
        "# block0_values: entries"
      ],
      "metadata": {
        "id": "3LMUF0_iGY13"
      },
      "execution_count": null,
      "outputs": []
    },
    {
      "cell_type": "code",
      "source": [
        "group_train_multi_targets['block0_values'][1:10,1:6]"
      ],
      "metadata": {
        "id": "M0UWdsbM0Qrw"
      },
      "execution_count": null,
      "outputs": []
    },
    {
      "cell_type": "code",
      "source": [
        "import numpy as np\n",
        "import pandas as pd\n",
        "import os\n",
        "import scipy.sparse as sps\n",
        "from tqdm import tqdm as tqdm\n",
        "import gc"
      ],
      "metadata": {
        "id": "qHRDARgfhg_U"
      },
      "execution_count": null,
      "outputs": []
    },
    {
      "cell_type": "markdown",
      "source": [
        "Datasets are too sparse:"
      ],
      "metadata": {
        "id": "LjZvelVQ3van"
      }
    },
    {
      "cell_type": "code",
      "source": [
        "%load_ext Cython"
      ],
      "metadata": {
        "id": "VRjR2Vm43tSZ"
      },
      "execution_count": null,
      "outputs": []
    },
    {
      "cell_type": "code",
      "source": [
        "%%cython\n",
        "\n",
        "import cython\n",
        "cimport cython\n",
        "cimport numpy as np\n",
        "import numpy as np\n",
        "from tqdm import tqdm, trange\n",
        "\n",
        "ctypedef np.int64_t INT64_t\n",
        "\n",
        "@cython.boundscheck(False)\n",
        "@cython.wraparound(False)\n",
        "cpdef np.ndarray[INT64_t, ndim=1] create_indptr(INT64_t[:] row_indices, int start_pos, int nrows):\n",
        "    cdef int shape = row_indices.shape[0]\n",
        "    res = np.zeros(nrows, dtype=np.int64)\n",
        "    cdef INT64_t[:] res_view = res\n",
        "    \n",
        "    cdef int i\n",
        "    cdef int curr_row = 0\n",
        "    cdef int prev = row_indices[0]\n",
        "    \n",
        "    for i in range(shape):\n",
        "        if row_indices[i] != prev:\n",
        "            curr_row += 1\n",
        "            res_view[curr_row] = i\n",
        "            prev = row_indices[i]\n",
        "    # res_view[curr_row + 1] = shape\n",
        "    return res + start_pos"
      ],
      "metadata": {
        "id": "ie-kHKl2ywJm"
      },
      "execution_count": null,
      "outputs": []
    },
    {
      "cell_type": "code",
      "source": [
        "def create_csr_arrays(h5_file_path):\n",
        "    def check_size(xs, ys, datas):\n",
        "        return (xs.nbytes + ys.nbytes + datas.nbytes) * 1e-9\n",
        "\n",
        "    print(f\"\\n\\nProcessing File {h5_file_path}\")\n",
        "    pbar = tqdm()\n",
        "\n",
        "    # Initialize Variables\n",
        "    chunksize = 1000 # Keep it low\n",
        "    loaded_rows = chunksize\n",
        "    start = 0\n",
        "    start_pos = 0\n",
        "    file_pointer = 0\n",
        "\n",
        "    # Initialize CSR arrays\n",
        "    indptr = np.array([], dtype=np.int64)\n",
        "    indices = np.array([], dtype=np.int32)\n",
        "    data_s = np.array([], dtype=np.float32)\n",
        "    \n",
        "    prefix_filename = h5_file_path.split('/')[-1].replace('.h5', '')\n",
        "\n",
        "    while chunksize == loaded_rows:\n",
        "\n",
        "        # Check current size: if the total sum of sizes are > 7GB, then save three arrays and re-initialize them\n",
        "        size_gb = check_size(indptr, indices, data_s)\n",
        "        if size_gb > 7.0:\n",
        "            pbar.set_description(f\"Total size is {size_gb}. Saving ..\")\n",
        "            np.save(f\"{prefix_filename}_indptr_{file_pointer}.npy\", indptr)\n",
        "            np.save(f\"{prefix_filename}_indices_{file_pointer}.npy\", indices)\n",
        "            np.save(f\"{prefix_filename}_data_{file_pointer}.npy\", data_s)\n",
        "            # Re-initialize\n",
        "            indptr = np.array([], dtype=np.int64)\n",
        "            indices = np.array([], dtype=np.int32)\n",
        "            data_s = np.array([], dtype=np.float32)\n",
        "            # Increment pointer\n",
        "            file_pointer += 1\n",
        "\n",
        "        pbar.set_description(\"Reading .h5 chunk\")\n",
        "        df = pd.read_hdf(h5_file_path, start=start, stop=start+chunksize)\n",
        "        pbar.set_description(\"Extracting non-zero values\")\n",
        "        x_coords, y_coords = df.values.nonzero()\n",
        "        tmp_data = df.values[df.values != 0.0]\n",
        "\n",
        "        loaded_rows = df.shape[0]\n",
        "\n",
        "        # Convert types\n",
        "        y_coords = y_coords.astype(np.int32, copy=False)\n",
        "        tmp_data = tmp_data.astype(np.float32, copy=False)\n",
        "\n",
        "        # Compress x_coords\n",
        "        pbar.set_description(\"Compressing rows values\")\n",
        "        x_coords = create_indptr(x_coords, start_pos=start_pos, nrows=loaded_rows)\n",
        "\n",
        "        gc.collect()\n",
        "\n",
        "        # Update variables\n",
        "        pbar.set_description(\"Update variables\")\n",
        "        start_pos += y_coords.shape[0]\n",
        "        start += chunksize\n",
        "        # Append data at the end of each array\n",
        "        indptr = np.hstack((indptr, x_coords))\n",
        "        indices = np.hstack((indices, y_coords))\n",
        "        data_s = np.hstack((data_s, tmp_data))\n",
        "\n",
        "        pbar.update(loaded_rows)\n",
        "\n",
        "    print('Done. Save last files')\n",
        "    np.save(f\"{prefix_filename}_indptr_{file_pointer}.npy\", indptr)\n",
        "    np.save(f\"{prefix_filename}_indices_{file_pointer}.npy\", indices)\n",
        "    np.save(f\"{prefix_filename}_data_{file_pointer}.npy\", data_s)\n",
        "    \n",
        "    del indptr, indices, data_s"
      ],
      "metadata": {
        "id": "hVq6XQKFzgTw"
      },
      "execution_count": null,
      "outputs": []
    },
    {
      "cell_type": "code",
      "source": [
        "create_csr_arrays(path_train_multi_inputs)"
      ],
      "metadata": {
        "id": "QTi5EZAK015w"
      },
      "execution_count": null,
      "outputs": []
    },
    {
      "cell_type": "code",
      "source": [
        "indptr = np.load('train_multi_inputs_indptr_0.npy')\n",
        "indices = np.load('train_multi_inputs_indices_0.npy')\n",
        "data = np.load('train_multi_inputs_data_0.npy')\n",
        "indptr = np.append(indptr, indptr[-1] + indices[indptr[-1]:].shape)\n",
        "N_ROWS = group_train_multi_inputs['block0_values'].shape[0]\n",
        "N_COLS = group_train_multi_inputs['block0_values'].shape[1]\n",
        "csr_matrix = sps.csr_matrix((data, indices, indptr), shape=(N_ROWS, N_COLS))\n",
        "sps.save_npz('train_multi_inputs_sparse.npz', csr_matrix)\n",
        "del csr_matrix, indices, indptr, data"
      ],
      "metadata": {
        "id": "lmV3uKrm5QLq"
      },
      "execution_count": null,
      "outputs": []
    },
    {
      "cell_type": "code",
      "source": [
        "create_csr_arrays(path_train_multi_targets)"
      ],
      "metadata": {
        "id": "iUCehtUw1ex4"
      },
      "execution_count": null,
      "outputs": []
    },
    {
      "cell_type": "code",
      "source": [
        "indptr = np.load('train_multi_targets_indptr_0.npy')\n",
        "indices = np.load('train_multi_targets_indices_0.npy')\n",
        "data = np.load('train_multi_targets_data_0.npy')\n",
        "indptr = np.append(indptr, indptr[-1] + indices[indptr[-1]:].shape)\n",
        "N_ROWS = group_train_multi_targets['block0_values'].shape[0]\n",
        "N_COLS = group_train_multi_targets['block0_values'].shape[1]\n",
        "csr_matrix = sps.csr_matrix((data, indices, indptr), shape=(N_ROWS, N_COLS))\n",
        "sps.save_npz('train_multi_targets_sparse.npz', csr_matrix)\n",
        "del csr_matrix, indices, indptr, data"
      ],
      "metadata": {
        "id": "VbDIjfh25bIW"
      },
      "execution_count": null,
      "outputs": []
    },
    {
      "cell_type": "code",
      "source": [
        "create_csr_arrays(path_test_multi_inputs)"
      ],
      "metadata": {
        "id": "u7harJTv1fei"
      },
      "execution_count": null,
      "outputs": []
    },
    {
      "cell_type": "code",
      "source": [
        "indptr = np.load('test_multi_inputs_indptr_0.npy')\n",
        "indices = np.load('test_multi_inputs_indices_0.npy')\n",
        "data = np.load('test_multi_inputs_data_0.npy')\n",
        "indptr = np.append(indptr, indptr[-1] + indices[indptr[-1]:].shape)\n",
        "N_ROWS = group_test_multi_inputs['block0_values'].shape[0]\n",
        "N_COLS = group_test_multi_inputs['block0_values'].shape[1]\n",
        "csr_matrix = sps.csr_matrix((data, indices, indptr), shape=(N_ROWS, N_COLS))\n",
        "sps.save_npz('test_multi_inputs_sparse.npz', csr_matrix)\n",
        "del csr_matrix, indices, indptr, data"
      ],
      "metadata": {
        "id": "ayoFhfX75Wzl"
      },
      "execution_count": null,
      "outputs": []
    },
    {
      "cell_type": "code",
      "source": [
        "!mv *.npy /content/drive/MyDrive/multimodal_sparse\n",
        "!mv *.npz /content/drive/MyDrive/multimodal_sparse"
      ],
      "metadata": {
        "id": "u-3ZSEQR0uZ5"
      },
      "execution_count": null,
      "outputs": []
    },
    {
      "cell_type": "markdown",
      "source": [
        "## Denoising and Normalization"
      ],
      "metadata": {
        "id": "4NjUGRr80tdL"
      }
    },
    {
      "cell_type": "code",
      "source": [
        "import numpy as np\n",
        "import pandas as pd\n",
        "from sklearn import decomposition\n",
        "\n",
        "import os\n",
        "import scipy.sparse as sps\n",
        "from tqdm import tqdm as tqdm\n",
        "import gc"
      ],
      "metadata": {
        "id": "lyCAh0Nx2QN2"
      },
      "execution_count": 1,
      "outputs": []
    },
    {
      "cell_type": "markdown",
      "source": [
        "Copy data to local disk and load into python:"
      ],
      "metadata": {
        "id": "7suLbHzl0e_S"
      }
    },
    {
      "cell_type": "code",
      "source": [
        "!cp /content/drive/MyDrive/multimodal_sparse/*.npz /content/"
      ],
      "metadata": {
        "id": "O-6Abheg1Wf0"
      },
      "execution_count": 2,
      "outputs": []
    },
    {
      "cell_type": "code",
      "source": [
        "train_input = sps.load_npz('/content/train_multi_inputs_sparse.npz')\n",
        "train_target = sps.load_npz('/content/train_multi_targets_sparse.npz')"
      ],
      "metadata": {
        "id": "w7Jr_TKt1UPw"
      },
      "execution_count": 3,
      "outputs": []
    },
    {
      "cell_type": "markdown",
      "source": [
        "Dimensionality reduction with Meta Randomized SVD: "
      ],
      "metadata": {
        "id": "KaZZz_e2z62s"
      }
    },
    {
      "cell_type": "code",
      "source": [
        "!pip install fbpca\n",
        "import fbpca"
      ],
      "metadata": {
        "colab": {
          "base_uri": "https://localhost:8080/"
        },
        "id": "4DZaRAZHgdWI",
        "outputId": "10ff3afd-5f77-4e7f-e8a4-1ad267401f83"
      },
      "execution_count": 4,
      "outputs": [
        {
          "output_type": "stream",
          "name": "stdout",
          "text": [
            "Looking in indexes: https://pypi.org/simple, https://us-python.pkg.dev/colab-wheels/public/simple/\n",
            "Collecting fbpca\n",
            "  Downloading fbpca-1.0.tar.gz (11 kB)\n",
            "Building wheels for collected packages: fbpca\n",
            "  Building wheel for fbpca (setup.py) ... \u001b[?25l\u001b[?25hdone\n",
            "  Created wheel for fbpca: filename=fbpca-1.0-py3-none-any.whl size=11377 sha256=f6b3f7323e0dcd5c33ebeb8d88be6ad9b5ca1512527d82c578e9f211aea5fa12\n",
            "  Stored in directory: /root/.cache/pip/wheels/93/08/0c/1b9866c35c8d3f136d100dfe88036a32e0795437daca089f70\n",
            "Successfully built fbpca\n",
            "Installing collected packages: fbpca\n",
            "Successfully installed fbpca-1.0\n"
          ]
        }
      ]
    },
    {
      "cell_type": "code",
      "source": [
        "k_svd_input = 128\n",
        "U_input, s_input, Va_input = fbpca.pca(train_input,k=k_svd_input)\n",
        "\n",
        "\n",
        "np.save(\"U_input.npy\", U_input)\n",
        "np.save(\"s_input.npy\", s_input)\n",
        "np.save(\"Va_input.npy\", Va_input)"
      ],
      "metadata": {
        "id": "yxaXgZrCh0SK"
      },
      "execution_count": 5,
      "outputs": []
    },
    {
      "cell_type": "code",
      "source": [
        "k_svd_target = 128\n",
        "U_target, s_target, Va_target = fbpca.pca(train_target,k=k_svd_target)\n",
        "\n",
        "np.save(\"U_target.npy\", U_target)\n",
        "np.save(\"s_target.npy\", s_target)\n",
        "np.save(\"Va_target.npy\", Va_target)"
      ],
      "metadata": {
        "id": "svzY-uA1mRA_"
      },
      "execution_count": 6,
      "outputs": []
    },
    {
      "cell_type": "code",
      "source": [
        "!mv *.npy /content/drive/MyDrive/multimodal_compiled"
      ],
      "metadata": {
        "id": "1iUGN1Rbqepm"
      },
      "execution_count": 17,
      "outputs": []
    },
    {
      "cell_type": "markdown",
      "source": [
        "## PyTorch Workflow"
      ],
      "metadata": {
        "id": "PWTDDJRZ3a_-"
      }
    },
    {
      "cell_type": "code",
      "source": [
        "import torch\n",
        "import torch.nn as nn\n",
        "import torch.utils.data as Data\n",
        "from torch.utils.data.sampler import SubsetRandomSampler\n",
        "\n",
        "import numpy as np\n",
        "import pandas as pd\n",
        "from scipy import stats\n",
        "\n",
        "import matplotlib.pyplot as plt"
      ],
      "metadata": {
        "id": "8qL24wDn63cY"
      },
      "execution_count": 66,
      "outputs": []
    },
    {
      "cell_type": "code",
      "source": [
        "!cp /content/drive/MyDrive/multimodal_compiled/*.npy /content/"
      ],
      "metadata": {
        "id": "vqQtdbbj0RNy"
      },
      "execution_count": 2,
      "outputs": []
    },
    {
      "cell_type": "markdown",
      "source": [
        "Normalize targets (for MSE calculation):"
      ],
      "metadata": {
        "id": "l-aQIO5s0R-5"
      }
    },
    {
      "cell_type": "code",
      "source": [
        "U_target_std = U_target.std(axis=1).reshape(-1, 1)\n",
        "U_target_norm = U_target / U_target_std\n",
        "\n",
        "U_input = np.load(\"U_input.npy\")\n",
        "U_target = np.load(\"U_target.npy\")"
      ],
      "metadata": {
        "id": "AKMxD56m0N6j"
      },
      "execution_count": 5,
      "outputs": []
    },
    {
      "cell_type": "markdown",
      "source": [
        "Construct dataset:"
      ],
      "metadata": {
        "id": "vywIBWgU0Xfp"
      }
    },
    {
      "cell_type": "code",
      "source": [
        "class TrainDataset(Data.Dataset):\n",
        "    def __init__(self):\n",
        "      self.inputs_data = U_input.astype('float32')\n",
        "      self.targets_data = U_target_norm.astype('float32')\n",
        "\n",
        "    def __len__(self):\n",
        "      return self.inputs_data.shape[0]\n",
        "\n",
        "    def __getitem__(self, idx):\n",
        "      inputs_sliced = self.inputs_data[idx, ...]#.toarray()\n",
        "      targets_sliced = self.targets_data[idx, ...]#.toarray()\n",
        "\n",
        "      return inputs_sliced, targets_sliced"
      ],
      "metadata": {
        "id": "xvvRd1cL0_L2"
      },
      "execution_count": 6,
      "outputs": []
    },
    {
      "cell_type": "code",
      "source": [
        "validation_split = .2\n",
        "shuffle_dataset = True\n",
        "random_seed = 42\n",
        "\n",
        "# Creating data indices for training and validation splits:\n",
        "dataset_size = len(TrainDataset())\n",
        "indices = list(range(dataset_size))\n",
        "split = int(np.floor(validation_split * dataset_size))\n",
        "if shuffle_dataset :\n",
        "    np.random.seed(random_seed)\n",
        "    np.random.shuffle(indices)\n",
        "train_indices, val_indices = indices[split:], indices[:split]\n",
        "\n",
        "train_sampler = SubsetRandomSampler(train_indices)\n",
        "valid_sampler = SubsetRandomSampler(val_indices)"
      ],
      "metadata": {
        "id": "ijHqUsMmrZj-"
      },
      "execution_count": 7,
      "outputs": []
    },
    {
      "cell_type": "code",
      "source": [
        "batch_size = 512\n",
        "\n",
        "train_dataloader = torch.utils.data.DataLoader(TrainDataset(),\n",
        "                                               batch_size=batch_size,\n",
        "                                               sampler=train_sampler)\n",
        "valid_dataloader = torch.utils.data.DataLoader(TrainDataset(), \n",
        "                                               batch_size=batch_size,\n",
        "                                               sampler=valid_sampler)\n",
        "\n",
        "len(train_dataloader), len(valid_dataloader)"
      ],
      "metadata": {
        "colab": {
          "base_uri": "https://localhost:8080/"
        },
        "id": "3FiuK7imsvHu",
        "outputId": "31c16b37-a2cf-4faa-f1ae-bf72b89a7163"
      },
      "execution_count": 8,
      "outputs": [
        {
          "output_type": "execute_result",
          "data": {
            "text/plain": [
              "(166, 42)"
            ]
          },
          "metadata": {},
          "execution_count": 8
        }
      ]
    },
    {
      "cell_type": "markdown",
      "source": [
        "Construct models:"
      ],
      "metadata": {
        "id": "nRkKZVbWq5iu"
      }
    },
    {
      "cell_type": "code",
      "source": [
        "class DenseModel(nn.Module):\n",
        "    def __init__(self, input_size=128, hidden_size=128, output_size=128):\n",
        "        super(DenseModel, self).__init__()\n",
        "        self.dense1 = nn.Sequential(\n",
        "            nn.Linear(input_size, hidden_size),\n",
        "            nn.ReLU())\n",
        "        \n",
        "        self.dense2 = nn.Sequential(\n",
        "            nn.BatchNorm1d(hidden_size),\n",
        "            nn.Linear(hidden_size, hidden_size),\n",
        "            nn.ReLU())\n",
        "        \n",
        "        self.dense3 = nn.Sequential(\n",
        "            nn.BatchNorm1d(hidden_size),\n",
        "            nn.Linear(hidden_size, hidden_size),\n",
        "            nn.ReLU())\n",
        "                \n",
        "        self.dense4 = nn.Sequential(\n",
        "            nn.BatchNorm1d(hidden_size),\n",
        "            nn.Linear(hidden_size, output_size))\n",
        "\n",
        "    def forward(self, input):\n",
        "        output = self.dense1(input)\n",
        "        output = self.dense2(output)\n",
        "        output = self.dense3(output)\n",
        "        output = self.dense4(output)\n",
        "        return output"
      ],
      "metadata": {
        "id": "hrX8xZm3q-wZ"
      },
      "execution_count": 97,
      "outputs": []
    },
    {
      "cell_type": "code",
      "source": [
        "dense_model = DenseModel().cuda()"
      ],
      "metadata": {
        "id": "5cwrXl8xsANC"
      },
      "execution_count": 98,
      "outputs": []
    },
    {
      "cell_type": "code",
      "source": [
        "criterion = nn.MSELoss()\n",
        "\n",
        "num_epochs = 100\n",
        "learning_rate = 0.01\n",
        "optimizer = torch.optim.Adam(params=dense_model.parameters(), lr=learning_rate)\n",
        "\n",
        "total_step = len(train_dataloader)"
      ],
      "metadata": {
        "id": "keLoFGm-rzPV"
      },
      "execution_count": 99,
      "outputs": []
    },
    {
      "cell_type": "code",
      "source": [
        "metric_train = np.zeros(shape=num_epochs)\n",
        "metric_valid = np.zeros(shape=num_epochs)\n",
        "\n",
        "for epoch in range(num_epochs):\n",
        "    dense_model.train()\n",
        "    loss_train = np.zeros(shape=len(train_dataloader))\n",
        "\n",
        "    for i, (inputs, targets) in enumerate(train_dataloader):\n",
        "\n",
        "        inputs = inputs.cuda()\n",
        "        targets = targets.cuda()\n",
        "\n",
        "        outputs = dense_model(inputs)\n",
        "        loss = criterion(outputs, targets)\n",
        "        loss_train[i] = loss\n",
        "\n",
        "        optimizer.zero_grad()\n",
        "        loss.backward()\n",
        "        optimizer.step()\n",
        "\n",
        "        #if (i+1) % 100 == 0:\n",
        "        #    print ('Epoch [{}/{}], Step [{}/{}], Loss: {:.10f}'\n",
        "        #           .format(epoch+1, num_epochs, i+1, total_step, loss.item()))\n",
        "\n",
        "    dense_model.eval()\n",
        "    loss_valid = np.zeros(shape=len(valid_dataloader))\n",
        "\n",
        "    with torch.no_grad():\n",
        "        for i, (inputs, targets) in enumerate(valid_dataloader):\n",
        "\n",
        "          inputs = inputs.cuda()\n",
        "          targets = targets.cuda()\n",
        "\n",
        "          outputs = dense_model(inputs)\n",
        "          loss = criterion(outputs, targets)\n",
        "          loss_valid[i] = loss\n",
        "\n",
        "    metric_train[epoch] = np.mean(loss_train)\n",
        "    metric_valid[epoch] = np.mean(loss_valid)\n",
        "\n",
        "    print('Epoch', epoch+1,'| train:',round(metric_train[epoch],4) ,'| valid:',round(metric_valid[epoch],4))"
      ],
      "metadata": {
        "colab": {
          "base_uri": "https://localhost:8080/"
        },
        "id": "6uSUv2Hvs1cL",
        "outputId": "51c8d265-91ee-40ec-f1e5-70c7b1062461"
      },
      "execution_count": 100,
      "outputs": [
        {
          "output_type": "stream",
          "name": "stdout",
          "text": [
            "Epoch 1 | train: 0.9321 | valid: 1.3875\n",
            "Epoch 2 | train: 0.8892 | valid: 1.1137\n",
            "Epoch 3 | train: 0.8816 | valid: 1.0859\n",
            "Epoch 4 | train: 0.878 | valid: 0.922\n",
            "Epoch 5 | train: 0.8759 | valid: 0.9036\n",
            "Epoch 6 | train: 0.8742 | valid: 0.9154\n",
            "Epoch 7 | train: 0.873 | valid: 0.8955\n",
            "Epoch 8 | train: 0.8723 | valid: 0.9242\n",
            "Epoch 9 | train: 0.8714 | valid: 0.8828\n",
            "Epoch 10 | train: 0.8707 | valid: 0.8767\n",
            "Epoch 11 | train: 0.8703 | valid: 0.8986\n",
            "Epoch 12 | train: 0.8698 | valid: 0.8856\n",
            "Epoch 13 | train: 0.8692 | valid: 0.9374\n",
            "Epoch 14 | train: 0.869 | valid: 0.8754\n",
            "Epoch 15 | train: 0.8686 | valid: 0.8755\n",
            "Epoch 16 | train: 0.8684 | valid: 0.878\n",
            "Epoch 17 | train: 0.8679 | valid: 0.874\n",
            "Epoch 18 | train: 0.8677 | valid: 0.8748\n",
            "Epoch 19 | train: 0.8676 | valid: 0.8725\n",
            "Epoch 20 | train: 0.8673 | valid: 0.8734\n",
            "Epoch 21 | train: 0.8671 | valid: 0.8737\n",
            "Epoch 22 | train: 0.867 | valid: 0.8883\n",
            "Epoch 23 | train: 0.8668 | valid: 0.8725\n",
            "Epoch 24 | train: 0.8666 | valid: 0.8723\n",
            "Epoch 25 | train: 0.8665 | valid: 0.8719\n",
            "Epoch 26 | train: 0.8664 | valid: 0.8708\n",
            "Epoch 27 | train: 0.8661 | valid: 0.8722\n",
            "Epoch 28 | train: 0.866 | valid: 0.8721\n",
            "Epoch 29 | train: 0.866 | valid: 0.8708\n",
            "Epoch 30 | train: 0.8658 | valid: 0.872\n",
            "Epoch 31 | train: 0.8657 | valid: 0.8722\n",
            "Epoch 32 | train: 0.8656 | valid: 0.871\n",
            "Epoch 33 | train: 0.8652 | valid: 0.8862\n",
            "Epoch 34 | train: 0.8655 | valid: 0.8719\n",
            "Epoch 35 | train: 0.8651 | valid: 0.8711\n",
            "Epoch 36 | train: 0.8652 | valid: 0.8742\n",
            "Epoch 37 | train: 0.8651 | valid: 0.8711\n",
            "Epoch 38 | train: 0.8648 | valid: 0.8708\n",
            "Epoch 39 | train: 0.8648 | valid: 0.8705\n",
            "Epoch 40 | train: 0.8647 | valid: 0.87\n",
            "Epoch 41 | train: 0.8646 | valid: 0.8704\n",
            "Epoch 42 | train: 0.8646 | valid: 0.8981\n",
            "Epoch 43 | train: 0.8644 | valid: 0.8805\n",
            "Epoch 44 | train: 0.8642 | valid: 0.8697\n",
            "Epoch 45 | train: 0.8642 | valid: 0.8706\n",
            "Epoch 46 | train: 0.864 | valid: 0.8701\n",
            "Epoch 47 | train: 0.8639 | valid: 0.8703\n",
            "Epoch 48 | train: 0.8639 | valid: 0.8702\n",
            "Epoch 49 | train: 0.864 | valid: 0.8707\n",
            "Epoch 50 | train: 0.8638 | valid: 0.8701\n",
            "Epoch 51 | train: 0.8637 | valid: 0.8713\n",
            "Epoch 52 | train: 0.8636 | valid: 0.8699\n",
            "Epoch 53 | train: 0.8636 | valid: 0.8701\n",
            "Epoch 54 | train: 0.8636 | valid: 0.8886\n",
            "Epoch 55 | train: 0.8634 | valid: 0.8693\n",
            "Epoch 56 | train: 0.8633 | valid: 0.8695\n",
            "Epoch 57 | train: 0.8633 | valid: 0.8694\n",
            "Epoch 58 | train: 0.8632 | valid: 0.8701\n",
            "Epoch 59 | train: 0.8632 | valid: 0.8701\n",
            "Epoch 60 | train: 0.8632 | valid: 0.8702\n",
            "Epoch 61 | train: 0.8631 | valid: 0.8696\n",
            "Epoch 62 | train: 0.863 | valid: 0.8789\n",
            "Epoch 63 | train: 0.8631 | valid: 0.8693\n",
            "Epoch 64 | train: 0.863 | valid: 0.87\n",
            "Epoch 65 | train: 0.8629 | valid: 0.8694\n",
            "Epoch 66 | train: 0.863 | valid: 0.8696\n",
            "Epoch 67 | train: 0.8628 | valid: 0.8702\n",
            "Epoch 68 | train: 0.8627 | valid: 0.8696\n",
            "Epoch 69 | train: 0.8626 | valid: 0.87\n",
            "Epoch 70 | train: 0.8625 | valid: 0.8696\n",
            "Epoch 71 | train: 0.8626 | valid: 0.8696\n",
            "Epoch 72 | train: 0.8624 | valid: 0.882\n",
            "Epoch 73 | train: 0.8625 | valid: 0.8695\n",
            "Epoch 74 | train: 0.8625 | valid: 0.8702\n",
            "Epoch 75 | train: 0.8624 | valid: 0.8698\n",
            "Epoch 76 | train: 0.8624 | valid: 0.8694\n",
            "Epoch 77 | train: 0.8624 | valid: 0.8696\n",
            "Epoch 78 | train: 0.8623 | valid: 0.8696\n",
            "Epoch 79 | train: 0.8623 | valid: 0.8691\n",
            "Epoch 80 | train: 0.8623 | valid: 0.8689\n",
            "Epoch 81 | train: 0.8621 | valid: 0.8692\n",
            "Epoch 82 | train: 0.8621 | valid: 0.8691\n",
            "Epoch 83 | train: 0.8622 | valid: 0.8688\n",
            "Epoch 84 | train: 0.8622 | valid: 0.8698\n",
            "Epoch 85 | train: 0.8622 | valid: 0.8695\n",
            "Epoch 86 | train: 0.8622 | valid: 0.8698\n",
            "Epoch 87 | train: 0.862 | valid: 0.8694\n",
            "Epoch 88 | train: 0.8619 | valid: 0.8701\n",
            "Epoch 89 | train: 0.862 | valid: 0.8691\n",
            "Epoch 90 | train: 0.862 | valid: 0.8698\n",
            "Epoch 91 | train: 0.862 | valid: 0.8694\n",
            "Epoch 92 | train: 0.8621 | valid: 0.9084\n",
            "Epoch 93 | train: 0.8619 | valid: 0.8691\n",
            "Epoch 94 | train: 0.8619 | valid: 0.8712\n",
            "Epoch 95 | train: 0.8618 | valid: 0.8711\n",
            "Epoch 96 | train: 0.8617 | valid: 0.8694\n",
            "Epoch 97 | train: 0.8618 | valid: 0.8689\n",
            "Epoch 98 | train: 0.8617 | valid: 0.8798\n",
            "Epoch 99 | train: 0.8618 | valid: 0.8695\n",
            "Epoch 100 | train: 0.8617 | valid: 0.869\n"
          ]
        }
      ]
    },
    {
      "cell_type": "code",
      "source": [
        "plt.plot(metric_train, color='r')\n",
        "plt.plot(metric_valid, color='g')\n",
        "plt.show()"
      ],
      "metadata": {
        "colab": {
          "base_uri": "https://localhost:8080/",
          "height": 265
        },
        "id": "dBTJWlUKv-K2",
        "outputId": "0fc7a477-7f3d-4527-988a-d0193b38af08"
      },
      "execution_count": 102,
      "outputs": [
        {
          "output_type": "display_data",
          "data": {
            "text/plain": [
              "<Figure size 432x288 with 1 Axes>"
            ],
            "image/png": "[encoded data removed]"
          },
          "metadata": {
            "needs_background": "light"
          }
        }
      ]
    },
    {
      "cell_type": "markdown",
      "source": [
        "### Evaluation by correlation"
      ],
      "metadata": {
        "id": "0pNzo7pZVR9W"
      }
    },
    {
      "cell_type": "code",
      "source": [
        "s_input = np.diag(np.load(\"s_input.npy\"))\n",
        "s_target = torch.from_numpy(np.diag(np.load(\"s_target.npy\")).astype('float32'))\n",
        "\n",
        "Va_input = np.load(\"Va_input.npy\")\n",
        "Va_target = torch.from_numpy(np.load(\"Va_target.npy\").astype('float32'))"
      ],
      "metadata": {
        "id": "Ul-6u38D-eDZ"
      },
      "execution_count": 103,
      "outputs": []
    },
    {
      "cell_type": "code",
      "source": [
        "dense_model.eval()\n",
        "\n",
        "avg_outer = np.zeros(shape=len(valid_dataloader))\n",
        "\n",
        "with torch.no_grad():\n",
        "    for i, (inputs, targets) in enumerate(valid_dataloader):\n",
        "\n",
        "      inputs = inputs.cuda()\n",
        "      targets = targets.cuda()\n",
        "\n",
        "      outputs = dense_model(inputs)\n",
        "\n",
        "      targets = targets\n",
        "      outputs = outputs\n",
        "\n",
        "      A_targets = torch.matmul(torch.matmul(targets,s_target.cuda()),Va_target.cuda())\n",
        "      A_outputs = torch.matmul(torch.matmul(outputs,s_target.cuda()),Va_target.cuda())\n",
        "\n",
        "      avg_inner = np.zeros(A_targets.shape[0])\n",
        "\n",
        "      for j in range(A_targets.shape[0]):\n",
        "        avg_inner[j] = stats.pearsonr(A_targets[i].cpu(),A_outputs[i].cpu())[0]\n",
        "      \n",
        "      avg_outer[i] = np.mean(avg_inner)"
      ],
      "metadata": {
        "colab": {
          "base_uri": "https://localhost:8080/"
        },
        "id": "o45QLh_X_tSo",
        "outputId": "3f6d955f-a381-42b7-e761-743cc036d827"
      },
      "execution_count": 104,
      "outputs": [
        {
          "output_type": "execute_result",
          "data": {
            "text/plain": [
              "0.7682072171884063"
            ]
          },
          "metadata": {},
          "execution_count": 104
        }
      ]
    },
    {
      "cell_type": "code",
      "source": [
        "np.mean(avg_outer)"
      ],
      "metadata": {
        "colab": {
          "base_uri": "https://localhost:8080/"
        },
        "id": "4k6tA9QWWGVZ",
        "outputId": "71ba52e5-40bb-493b-c371-c1043e6d2793"
      },
      "execution_count": 105,
      "outputs": [
        {
          "output_type": "execute_result",
          "data": {
            "text/plain": [
              "0.7682072171884063"
            ]
          },
          "metadata": {},
          "execution_count": 105
        }
      ]
    },
    {
      "cell_type": "code",
      "source": [],
      "metadata": {
        "id": "L3YvTty4WMsQ"
      },
      "execution_count": null,
      "outputs": []
    }
  ]
}