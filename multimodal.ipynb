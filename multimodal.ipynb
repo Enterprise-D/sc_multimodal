{
  "nbformat": 4,
  "nbformat_minor": 0,
  "metadata": {
    "colab": {
      "provenance": [],
      "machine_shape": "hm",
      "collapsed_sections": [
        "8tng64uyCOGb",
        "4NjUGRr80tdL",
        "1N7Uy3qewoKu"
      ],
      "mount_file_id": "1O5_-Xx8wXr1suQIEaL19CPWpOfQQGhFK",
      "authorship_tag": "ABX9TyPZVCW3XX7qWE03fcWg7sLZ",
      "include_colab_link": true
    },
    "kernelspec": {
      "name": "python3",
      "display_name": "Python 3"
    },
    "language_info": {
      "name": "python"
    },
    "gpuClass": "standard"
  },
  "cells": [
    {
      "cell_type": "markdown",
      "metadata": {
        "id": "view-in-github",
        "colab_type": "text"
      },
      "source": [
        "<a href=\"https://colab.research.google.com/github/Enterprise-D/sc_multimodal/blob/main/multimodal.ipynb\" target=\"_parent\"><img src=\"https://colab.research.google.com/assets/colab-badge.svg\" alt=\"Open In Colab\"/></a>"
      ]
    },
    {
      "cell_type": "markdown",
      "source": [
        "## Multiome Data Preprocessing"
      ],
      "metadata": {
        "id": "8tng64uyCOGb"
      }
    },
    {
      "cell_type": "markdown",
      "source": [
        "Install and load h5df modules:"
      ],
      "metadata": {
        "id": "ZeLMI5ReCluQ"
      }
    },
    {
      "cell_type": "code",
      "source": [
        "!pip install hdf5plugin\n",
        "import h5py\n",
        "import hdf5plugin"
      ],
      "metadata": {
        "colab": {
          "base_uri": "https://localhost:8080/"
        },
        "id": "Pw8PddPwCPRy",
        "outputId": "5123d1f3-c0de-4916-8fef-de22be18b79e"
      },
      "execution_count": null,
      "outputs": [
        {
          "output_type": "stream",
          "name": "stdout",
          "text": [
            "Looking in indexes: https://pypi.org/simple, https://us-python.pkg.dev/colab-wheels/public/simple/\n",
            "Collecting hdf5plugin\n",
            "  Downloading hdf5plugin-3.3.1-py3-none-manylinux_2_17_x86_64.manylinux2014_x86_64.whl (9.7 MB)\n",
            "\u001b[K     |████████████████████████████████| 9.7 MB 5.2 MB/s \n",
            "\u001b[?25hRequirement already satisfied: h5py in /usr/local/lib/python3.7/dist-packages (from hdf5plugin) (3.1.0)\n",
            "Requirement already satisfied: numpy>=1.14.5 in /usr/local/lib/python3.7/dist-packages (from h5py->hdf5plugin) (1.21.6)\n",
            "Requirement already satisfied: cached-property in /usr/local/lib/python3.7/dist-packages (from h5py->hdf5plugin) (1.5.2)\n",
            "Installing collected packages: hdf5plugin\n",
            "Successfully installed hdf5plugin-3.3.1\n"
          ]
        }
      ]
    },
    {
      "cell_type": "markdown",
      "source": [
        "handle inputs:"
      ],
      "metadata": {
        "id": "-Fv5wM1vDvgQ"
      }
    },
    {
      "cell_type": "code",
      "source": [
        "path_train_multi_inputs = '/content/drive/MyDrive/multimodal/train_multi_inputs.h5'\n",
        "file_train_multi_inputs = h5py.File(path_train_multi_inputs, \"r\")\n",
        "\n",
        "path_test_multi_inputs = '/content/drive/MyDrive/multimodal/test_multi_inputs.h5'\n",
        "file_test_multi_inputs = h5py.File(path_test_multi_inputs, \"r\")\n",
        "\n",
        "file_train_multi_inputs.keys(), file_test_multi_inputs.keys()"
      ],
      "metadata": {
        "colab": {
          "base_uri": "https://localhost:8080/"
        },
        "id": "bUsBrfM2Cedl",
        "outputId": "ac1e4cce-963c-4506-d524-bac934c7d986"
      },
      "execution_count": null,
      "outputs": [
        {
          "output_type": "execute_result",
          "data": {
            "text/plain": [
              "(<KeysViewHDF5 ['train_multi_inputs']>, <KeysViewHDF5 ['test_multi_inputs']>)"
            ]
          },
          "metadata": {},
          "execution_count": 2
        }
      ]
    },
    {
      "cell_type": "code",
      "source": [
        "group_train_multi_inputs = file_train_multi_inputs['train_multi_inputs']\n",
        "\n",
        "group_test_multi_inputs = file_test_multi_inputs['test_multi_inputs']\n",
        "\n",
        "group_train_multi_inputs.keys(), group_test_multi_inputs.keys()"
      ],
      "metadata": {
        "colab": {
          "base_uri": "https://localhost:8080/"
        },
        "id": "rIq_boddfJxB",
        "outputId": "8dd6b662-9779-4782-c068-f2834d23ba3e"
      },
      "execution_count": null,
      "outputs": [
        {
          "output_type": "execute_result",
          "data": {
            "text/plain": [
              "(<KeysViewHDF5 ['axis0', 'axis1', 'block0_items', 'block0_values']>,\n",
              " <KeysViewHDF5 ['axis0', 'axis1', 'block0_items', 'block0_values']>)"
            ]
          },
          "metadata": {},
          "execution_count": 3
        }
      ]
    },
    {
      "cell_type": "code",
      "source": [
        "group_train_multi_inputs['block0_values'].shape, \\\n",
        "group_test_multi_inputs['block0_values'].shape\n",
        "# axis0 & block0_items: features (genomic coordinates, GRCh38)\n",
        "# axis1: cell_ids\n",
        "# block0_values: entries"
      ],
      "metadata": {
        "colab": {
          "base_uri": "https://localhost:8080/"
        },
        "id": "-Rl_4P0gfiCW",
        "outputId": "3bee0701-c519-4a3c-e6d4-e7920ccc4537"
      },
      "execution_count": null,
      "outputs": [
        {
          "output_type": "execute_result",
          "data": {
            "text/plain": [
              "((105942, 228942), (55935, 228942))"
            ]
          },
          "metadata": {},
          "execution_count": 4
        }
      ]
    },
    {
      "cell_type": "code",
      "source": [
        "group_train_multi_inputs['block0_values'][1:10,1:6]"
      ],
      "metadata": {
        "colab": {
          "base_uri": "https://localhost:8080/"
        },
        "id": "sE8IAkUk0mJK",
        "outputId": "b934b7cd-5eef-450d-c3f5-8a01bb2c2ebc"
      },
      "execution_count": null,
      "outputs": [
        {
          "output_type": "execute_result",
          "data": {
            "text/plain": [
              "array([[0., 0., 0., 0., 0.],\n",
              "       [0., 0., 0., 0., 0.],\n",
              "       [0., 0., 0., 0., 0.],\n",
              "       [0., 0., 0., 0., 0.],\n",
              "       [0., 0., 0., 0., 0.],\n",
              "       [0., 0., 0., 0., 0.],\n",
              "       [0., 0., 0., 0., 0.],\n",
              "       [0., 0., 0., 0., 0.],\n",
              "       [0., 0., 0., 0., 0.]], dtype=float32)"
            ]
          },
          "metadata": {},
          "execution_count": 5
        }
      ]
    },
    {
      "cell_type": "markdown",
      "source": [
        "handle targets:"
      ],
      "metadata": {
        "id": "im-6LWJhfMFN"
      }
    },
    {
      "cell_type": "code",
      "source": [
        "path_train_multi_targets = '/content/drive/MyDrive/multimodal/train_multi_targets.h5'\n",
        "file_train_multi_targets = h5py.File(path_train_multi_targets, \"r\")\n",
        "\n",
        "file_train_multi_targets.keys()"
      ],
      "metadata": {
        "colab": {
          "base_uri": "https://localhost:8080/"
        },
        "id": "gg5xH9eofH_d",
        "outputId": "bc182b83-8124-49ba-d59a-533f3fa48ed3"
      },
      "execution_count": null,
      "outputs": [
        {
          "output_type": "execute_result",
          "data": {
            "text/plain": [
              "<KeysViewHDF5 ['train_multi_targets']>"
            ]
          },
          "metadata": {},
          "execution_count": 6
        }
      ]
    },
    {
      "cell_type": "code",
      "source": [
        "group_train_multi_targets = file_train_multi_targets['train_multi_targets']\n",
        "group_train_multi_targets.keys()"
      ],
      "metadata": {
        "colab": {
          "base_uri": "https://localhost:8080/"
        },
        "id": "TpAqs2WBDykP",
        "outputId": "2bf66cfc-7a8c-4665-9c76-59372565a353"
      },
      "execution_count": null,
      "outputs": [
        {
          "output_type": "execute_result",
          "data": {
            "text/plain": [
              "<KeysViewHDF5 ['axis0', 'axis1', 'block0_items', 'block0_values']>"
            ]
          },
          "metadata": {},
          "execution_count": 7
        }
      ]
    },
    {
      "cell_type": "code",
      "source": [
        "group_train_multi_targets['block0_values'].shape\n",
        "# axis0 & block0_items: features (expression reads, GRCh38)\n",
        "# axis1: cell_ids\n",
        "# block0_values: entries"
      ],
      "metadata": {
        "colab": {
          "base_uri": "https://localhost:8080/"
        },
        "id": "3LMUF0_iGY13",
        "outputId": "249bbfbc-17ba-4fb0-ef7c-db06f91322ca"
      },
      "execution_count": null,
      "outputs": [
        {
          "output_type": "execute_result",
          "data": {
            "text/plain": [
              "(105942, 23418)"
            ]
          },
          "metadata": {},
          "execution_count": 8
        }
      ]
    },
    {
      "cell_type": "code",
      "source": [
        "group_train_multi_targets['block0_values'][1:10,1:6]"
      ],
      "metadata": {
        "colab": {
          "base_uri": "https://localhost:8080/"
        },
        "id": "M0UWdsbM0Qrw",
        "outputId": "fea71c26-82dc-4e8b-915d-be8538e7a333"
      },
      "execution_count": null,
      "outputs": [
        {
          "output_type": "execute_result",
          "data": {
            "text/plain": [
              "array([[0.       , 0.       , 0.       , 0.       , 0.       ],\n",
              "       [0.       , 0.       , 0.       , 0.       , 0.       ],\n",
              "       [4.5079365, 0.       , 0.       , 0.       , 0.       ],\n",
              "       [0.       , 0.       , 0.       , 0.       , 0.       ],\n",
              "       [0.       , 0.       , 0.       , 0.       , 0.       ],\n",
              "       [0.       , 0.       , 0.       , 0.       , 0.       ],\n",
              "       [0.       , 0.       , 0.       , 0.       , 0.       ],\n",
              "       [0.       , 0.       , 0.       , 0.       , 0.       ],\n",
              "       [0.       , 0.       , 0.       , 0.       , 0.       ]],\n",
              "      dtype=float32)"
            ]
          },
          "metadata": {},
          "execution_count": 9
        }
      ]
    },
    {
      "cell_type": "code",
      "source": [
        "import numpy as np\n",
        "import pandas as pd\n",
        "import os\n",
        "import scipy.sparse as sps\n",
        "from tqdm import tqdm as tqdm\n",
        "import gc"
      ],
      "metadata": {
        "id": "qHRDARgfhg_U"
      },
      "execution_count": null,
      "outputs": []
    },
    {
      "cell_type": "markdown",
      "source": [
        "Datasets are too sparse:"
      ],
      "metadata": {
        "id": "LjZvelVQ3van"
      }
    },
    {
      "cell_type": "code",
      "source": [
        "%load_ext Cython"
      ],
      "metadata": {
        "id": "VRjR2Vm43tSZ"
      },
      "execution_count": null,
      "outputs": []
    },
    {
      "cell_type": "code",
      "source": [
        "%%cython\n",
        "\n",
        "import cython\n",
        "cimport cython\n",
        "cimport numpy as np\n",
        "import numpy as np\n",
        "from tqdm import tqdm, trange\n",
        "\n",
        "ctypedef np.int64_t INT64_t\n",
        "\n",
        "@cython.boundscheck(False)\n",
        "@cython.wraparound(False)\n",
        "cpdef np.ndarray[INT64_t, ndim=1] create_indptr(INT64_t[:] row_indices, int start_pos, int nrows):\n",
        "    cdef int shape = row_indices.shape[0]\n",
        "    res = np.zeros(nrows, dtype=np.int64)\n",
        "    cdef INT64_t[:] res_view = res\n",
        "    \n",
        "    cdef int i\n",
        "    cdef int curr_row = 0\n",
        "    cdef int prev = row_indices[0]\n",
        "    \n",
        "    for i in range(shape):\n",
        "        if row_indices[i] != prev:\n",
        "            curr_row += 1\n",
        "            res_view[curr_row] = i\n",
        "            prev = row_indices[i]\n",
        "    # res_view[curr_row + 1] = shape\n",
        "    return res + start_pos"
      ],
      "metadata": {
        "id": "ie-kHKl2ywJm"
      },
      "execution_count": null,
      "outputs": []
    },
    {
      "cell_type": "code",
      "source": [
        "def create_csr_arrays(h5_file_path):\n",
        "    def check_size(xs, ys, datas):\n",
        "        return (xs.nbytes + ys.nbytes + datas.nbytes) * 1e-9\n",
        "\n",
        "    print(f\"\\n\\nProcessing File {h5_file_path}\")\n",
        "    pbar = tqdm()\n",
        "\n",
        "    # Initialize Variables\n",
        "    chunksize = 1000 # Keep it low\n",
        "    loaded_rows = chunksize\n",
        "    start = 0\n",
        "    start_pos = 0\n",
        "    file_pointer = 0\n",
        "\n",
        "    # Initialize CSR arrays\n",
        "    indptr = np.array([], dtype=np.int64)\n",
        "    indices = np.array([], dtype=np.int32)\n",
        "    data_s = np.array([], dtype=np.float32)\n",
        "    \n",
        "    prefix_filename = h5_file_path.split('/')[-1].replace('.h5', '')\n",
        "\n",
        "    while chunksize == loaded_rows:\n",
        "\n",
        "        # Check current size: if the total sum of sizes are > 7GB, then save three arrays and re-initialize them\n",
        "        size_gb = check_size(indptr, indices, data_s)\n",
        "        if size_gb > 7.0:\n",
        "            pbar.set_description(f\"Total size is {size_gb}. Saving ..\")\n",
        "            np.save(f\"{prefix_filename}_indptr_{file_pointer}.npy\", indptr)\n",
        "            np.save(f\"{prefix_filename}_indices_{file_pointer}.npy\", indices)\n",
        "            np.save(f\"{prefix_filename}_data_{file_pointer}.npy\", data_s)\n",
        "            # Re-initialize\n",
        "            indptr = np.array([], dtype=np.int64)\n",
        "            indices = np.array([], dtype=np.int32)\n",
        "            data_s = np.array([], dtype=np.float32)\n",
        "            # Increment pointer\n",
        "            file_pointer += 1\n",
        "\n",
        "        pbar.set_description(\"Reading .h5 chunk\")\n",
        "        df = pd.read_hdf(h5_file_path, start=start, stop=start+chunksize)\n",
        "        pbar.set_description(\"Extracting non-zero values\")\n",
        "        x_coords, y_coords = df.values.nonzero()\n",
        "        tmp_data = df.values[df.values != 0.0]\n",
        "\n",
        "        loaded_rows = df.shape[0]\n",
        "\n",
        "        # Convert types\n",
        "        y_coords = y_coords.astype(np.int32, copy=False)\n",
        "        tmp_data = tmp_data.astype(np.float32, copy=False)\n",
        "\n",
        "        # Compress x_coords\n",
        "        pbar.set_description(\"Compressing rows values\")\n",
        "        x_coords = create_indptr(x_coords, start_pos=start_pos, nrows=loaded_rows)\n",
        "\n",
        "        gc.collect()\n",
        "\n",
        "        # Update variables\n",
        "        pbar.set_description(\"Update variables\")\n",
        "        start_pos += y_coords.shape[0]\n",
        "        start += chunksize\n",
        "        # Append data at the end of each array\n",
        "        indptr = np.hstack((indptr, x_coords))\n",
        "        indices = np.hstack((indices, y_coords))\n",
        "        data_s = np.hstack((data_s, tmp_data))\n",
        "\n",
        "        pbar.update(loaded_rows)\n",
        "\n",
        "    print('Done. Save last files')\n",
        "    np.save(f\"{prefix_filename}_indptr_{file_pointer}.npy\", indptr)\n",
        "    np.save(f\"{prefix_filename}_indices_{file_pointer}.npy\", indices)\n",
        "    np.save(f\"{prefix_filename}_data_{file_pointer}.npy\", data_s)\n",
        "    \n",
        "    del indptr, indices, data_s"
      ],
      "metadata": {
        "id": "hVq6XQKFzgTw"
      },
      "execution_count": null,
      "outputs": []
    },
    {
      "cell_type": "code",
      "source": [
        "create_csr_arrays(path_train_multi_inputs)"
      ],
      "metadata": {
        "colab": {
          "base_uri": "https://localhost:8080/"
        },
        "id": "QTi5EZAK015w",
        "outputId": "e39498d8-20b7-48be-8993-dfc5c171c522"
      },
      "execution_count": null,
      "outputs": [
        {
          "output_type": "stream",
          "name": "stdout",
          "text": [
            "\n",
            "\n",
            "Processing File /content/drive/MyDrive/multimodal/train_multi_inputs.h5\n"
          ]
        },
        {
          "output_type": "stream",
          "name": "stderr",
          "text": [
            "Update variables: : 105942it [25:20, 59.47it/s]"
          ]
        },
        {
          "output_type": "stream",
          "name": "stdout",
          "text": [
            "Done. Save last files\n"
          ]
        },
        {
          "output_type": "stream",
          "name": "stderr",
          "text": [
            "Update variables: : 105942it [25:38, 68.87it/s]\n"
          ]
        }
      ]
    },
    {
      "cell_type": "code",
      "source": [
        "indptr = np.load('train_multi_inputs_indptr_0.npy')\n",
        "indices = np.load('train_multi_inputs_indices_0.npy')\n",
        "data = np.load('train_multi_inputs_data_0.npy')\n",
        "indptr = np.append(indptr, indptr[-1] + indices[indptr[-1]:].shape)\n",
        "N_ROWS = group_train_multi_inputs['block0_values'].shape[0]\n",
        "N_COLS = group_train_multi_inputs['block0_values'].shape[1]\n",
        "csr_matrix = sps.csr_matrix((data, indices, indptr), shape=(N_ROWS, N_COLS))\n",
        "sps.save_npz('train_multi_inputs_sparse.npz', csr_matrix)\n",
        "del csr_matrix, indices, indptr, data"
      ],
      "metadata": {
        "id": "lmV3uKrm5QLq"
      },
      "execution_count": null,
      "outputs": []
    },
    {
      "cell_type": "code",
      "source": [
        "create_csr_arrays(path_train_multi_targets)"
      ],
      "metadata": {
        "colab": {
          "base_uri": "https://localhost:8080/"
        },
        "id": "iUCehtUw1ex4",
        "outputId": "43cea6bb-6e0c-47bb-bb8b-6a19a216ce70"
      },
      "execution_count": null,
      "outputs": [
        {
          "output_type": "stream",
          "name": "stdout",
          "text": [
            "\n",
            "\n",
            "Processing File /content/drive/MyDrive/multimodal/train_multi_targets.h5\n"
          ]
        },
        {
          "output_type": "stream",
          "name": "stderr",
          "text": [
            "Update variables: : 105942it [03:37, 444.17it/s]"
          ]
        },
        {
          "output_type": "stream",
          "name": "stdout",
          "text": [
            "Done. Save last files\n"
          ]
        },
        {
          "output_type": "stream",
          "name": "stderr",
          "text": [
            "\rUpdate variables: : 105942it [03:49, 461.64it/s]\n"
          ]
        }
      ]
    },
    {
      "cell_type": "code",
      "source": [
        "indptr = np.load('train_multi_targets_indptr_0.npy')\n",
        "indices = np.load('train_multi_targets_indices_0.npy')\n",
        "data = np.load('train_multi_targets_data_0.npy')\n",
        "indptr = np.append(indptr, indptr[-1] + indices[indptr[-1]:].shape)\n",
        "N_ROWS = group_train_multi_targets['block0_values'].shape[0]\n",
        "N_COLS = group_train_multi_targets['block0_values'].shape[1]\n",
        "csr_matrix = sps.csr_matrix((data, indices, indptr), shape=(N_ROWS, N_COLS))\n",
        "sps.save_npz('train_multi_targets_sparse.npz', csr_matrix)\n",
        "del csr_matrix, indices, indptr, data"
      ],
      "metadata": {
        "id": "VbDIjfh25bIW"
      },
      "execution_count": null,
      "outputs": []
    },
    {
      "cell_type": "code",
      "source": [
        "create_csr_arrays(path_test_multi_inputs)"
      ],
      "metadata": {
        "colab": {
          "base_uri": "https://localhost:8080/"
        },
        "id": "u7harJTv1fei",
        "outputId": "e3ebe56f-b3d1-48ad-8da4-0e1156583178"
      },
      "execution_count": null,
      "outputs": [
        {
          "output_type": "stream",
          "name": "stdout",
          "text": [
            "\n",
            "\n",
            "Processing File /content/drive/MyDrive/multimodal/test_multi_inputs.h5\n"
          ]
        },
        {
          "output_type": "stream",
          "name": "stderr",
          "text": [
            "Update variables: : 55935it [15:07, 62.40it/s]"
          ]
        },
        {
          "output_type": "stream",
          "name": "stdout",
          "text": [
            "Done. Save last files\n"
          ]
        },
        {
          "output_type": "stream",
          "name": "stderr",
          "text": [
            "\rUpdate variables: : 55935it [15:17, 60.99it/s]\n"
          ]
        }
      ]
    },
    {
      "cell_type": "code",
      "source": [
        "indptr = np.load('test_multi_inputs_indptr_0.npy')\n",
        "indices = np.load('test_multi_inputs_indices_0.npy')\n",
        "data = np.load('test_multi_inputs_data_0.npy')\n",
        "indptr = np.append(indptr, indptr[-1] + indices[indptr[-1]:].shape)\n",
        "N_ROWS = group_test_multi_inputs['block0_values'].shape[0]\n",
        "N_COLS = group_test_multi_inputs['block0_values'].shape[1]\n",
        "csr_matrix = sps.csr_matrix((data, indices, indptr), shape=(N_ROWS, N_COLS))\n",
        "sps.save_npz('test_multi_inputs_sparse.npz', csr_matrix)\n",
        "del csr_matrix, indices, indptr, data"
      ],
      "metadata": {
        "id": "ayoFhfX75Wzl"
      },
      "execution_count": null,
      "outputs": []
    },
    {
      "cell_type": "markdown",
      "source": [
        "## Load Compiled Data"
      ],
      "metadata": {
        "id": "4NjUGRr80tdL"
      }
    },
    {
      "cell_type": "code",
      "source": [
        "import torch\n",
        "import torch.nn as nn\n",
        "import torch.utils.data as Data\n",
        "from torch.utils.data.sampler import SubsetRandomSampler\n",
        "\n",
        "import numpy as np\n",
        "import pandas as pd\n",
        "from sklearn import decomposition\n",
        "\n",
        "import os\n",
        "import scipy.sparse as sps\n",
        "from tqdm import tqdm as tqdm\n",
        "import gc\n",
        "\n",
        "import matplotlib.pyplot as plt"
      ],
      "metadata": {
        "id": "lyCAh0Nx2QN2"
      },
      "execution_count": 73,
      "outputs": []
    },
    {
      "cell_type": "markdown",
      "source": [
        "Copy data to local disk and load into python:"
      ],
      "metadata": {
        "id": "7suLbHzl0e_S"
      }
    },
    {
      "cell_type": "code",
      "source": [
        "!cp /content/drive/MyDrive/multimodal_sparse/*.npz /content/"
      ],
      "metadata": {
        "id": "O-6Abheg1Wf0"
      },
      "execution_count": null,
      "outputs": []
    },
    {
      "cell_type": "code",
      "source": [
        "train_input = sps.load_npz('/content/train_multi_inputs_sparse.npz')\n",
        "train_target = sps.load_npz('/content/train_multi_targets_sparse.npz')"
      ],
      "metadata": {
        "id": "w7Jr_TKt1UPw"
      },
      "execution_count": null,
      "outputs": []
    },
    {
      "cell_type": "markdown",
      "source": [
        "## Denoising and Normalization"
      ],
      "metadata": {
        "id": "1N7Uy3qewoKu"
      }
    },
    {
      "cell_type": "code",
      "source": [
        "!pip install fbpca\n",
        "import fbpca"
      ],
      "metadata": {
        "colab": {
          "base_uri": "https://localhost:8080/"
        },
        "id": "4DZaRAZHgdWI",
        "outputId": "c604f495-c4d5-4704-a3fc-4a269da6bbf3"
      },
      "execution_count": null,
      "outputs": [
        {
          "output_type": "stream",
          "name": "stdout",
          "text": [
            "Looking in indexes: https://pypi.org/simple, https://us-python.pkg.dev/colab-wheels/public/simple/\n",
            "Requirement already satisfied: fbpca in /usr/local/lib/python3.7/dist-packages (1.0)\n"
          ]
        }
      ]
    },
    {
      "cell_type": "code",
      "source": [
        "k_svd_input = 128\n",
        "U_input, s_input, Va_input = fbpca.pca(train_input,k=k_svd_input)\n",
        "U_input.shape, s_input.shape, Va_input.shape, train_input.shape"
      ],
      "metadata": {
        "colab": {
          "base_uri": "https://localhost:8080/"
        },
        "id": "yxaXgZrCh0SK",
        "outputId": "843ac352-da57-465a-b2f8-7f1dd1b86397"
      },
      "execution_count": null,
      "outputs": [
        {
          "output_type": "execute_result",
          "data": {
            "text/plain": [
              "((105942, 128), (128,), (128, 228942), (105942, 228942))"
            ]
          },
          "metadata": {},
          "execution_count": 11
        }
      ]
    },
    {
      "cell_type": "code",
      "source": [
        "k_svd_target = 128\n",
        "U_target, s_target, Va_target = fbpca.pca(train_target,k=k_svd_target)\n",
        "U_target.shape, s_target.shape, Va_target.shape, train_target.shape"
      ],
      "metadata": {
        "colab": {
          "base_uri": "https://localhost:8080/"
        },
        "id": "svzY-uA1mRA_",
        "outputId": "b15e342b-1a8e-451b-ad2c-a97c011fc930"
      },
      "execution_count": null,
      "outputs": [
        {
          "output_type": "execute_result",
          "data": {
            "text/plain": [
              "((105942, 128), (128,), (128, 23418), (105942, 23418))"
            ]
          },
          "metadata": {},
          "execution_count": 13
        }
      ]
    },
    {
      "cell_type": "markdown",
      "source": [
        "Normalize targets:"
      ],
      "metadata": {
        "id": "Lf9hY6UcqbO5"
      }
    },
    {
      "cell_type": "code",
      "source": [
        "U_target_std = U_target.std(axis=1).reshape(-1, 1)\n",
        "U_target_norm = U_target / U_target_std"
      ],
      "metadata": {
        "id": "1iUGN1Rbqepm"
      },
      "execution_count": null,
      "outputs": []
    },
    {
      "cell_type": "markdown",
      "source": [
        "## PyTorch Workflow"
      ],
      "metadata": {
        "id": "PWTDDJRZ3a_-"
      }
    },
    {
      "cell_type": "code",
      "source": [
        "class TrainDataset(Data.Dataset):\n",
        "    def __init__(self):\n",
        "      self.inputs_data = U_input.astype('float32')\n",
        "      self.targets_data = U_target_norm.astype('float32')\n",
        "\n",
        "    def __len__(self):\n",
        "      return self.inputs_data.shape[0]\n",
        "\n",
        "    def __getitem__(self, idx):\n",
        "      inputs_sliced = self.inputs_data[idx, ...]#.toarray()\n",
        "      targets_sliced = self.targets_data[idx, ...]#.toarray()\n",
        "\n",
        "      return inputs_sliced, targets_sliced"
      ],
      "metadata": {
        "id": "xvvRd1cL0_L2",
        "colab": {
          "base_uri": "https://localhost:8080/"
        },
        "outputId": "5858a565-b1c3-4ad4-bb46-1b8097aa646f"
      },
      "execution_count": null,
      "outputs": [
        {
          "output_type": "stream",
          "name": "stdout",
          "text": [
            "Train data:  1656\n"
          ]
        }
      ]
    },
    {
      "cell_type": "code",
      "source": [
        "validation_split = .2\n",
        "shuffle_dataset = True\n",
        "random_seed = 42\n",
        "\n",
        "# Creating data indices for training and validation splits:\n",
        "dataset_size = len(TrainDataset())\n",
        "indices = list(range(dataset_size))\n",
        "split = int(np.floor(validation_split * dataset_size))\n",
        "if shuffle_dataset :\n",
        "    np.random.seed(random_seed)\n",
        "    np.random.shuffle(indices)\n",
        "train_indices, val_indices = indices[split:], indices[:split]\n",
        "\n",
        "train_sampler = SubsetRandomSampler(train_indices)\n",
        "valid_sampler = SubsetRandomSampler(val_indices)"
      ],
      "metadata": {
        "id": "ijHqUsMmrZj-"
      },
      "execution_count": null,
      "outputs": []
    },
    {
      "cell_type": "code",
      "source": [
        "batch_size = 128\n",
        "\n",
        "train_dataloader = torch.utils.data.DataLoader(TrainDataset(), batch_size=batch_size, \n",
        "                                                sampler=train_sampler)\n",
        "valid_dataloader = torch.utils.data.DataLoader(TrainDataset(), batch_size=batch_size,\n",
        "                                                sampler=valid_sampler)\n",
        "\n",
        "len(train_dataloader), len(valid_dataloader)"
      ],
      "metadata": {
        "colab": {
          "base_uri": "https://localhost:8080/"
        },
        "id": "3FiuK7imsvHu",
        "outputId": "2864f3ca-894e-4d9b-c327-9f129dde8522"
      },
      "execution_count": null,
      "outputs": [
        {
          "output_type": "execute_result",
          "data": {
            "text/plain": [
              "(663, 166)"
            ]
          },
          "metadata": {},
          "execution_count": 66
        }
      ]
    },
    {
      "cell_type": "markdown",
      "source": [
        "Construct models:"
      ],
      "metadata": {
        "id": "nRkKZVbWq5iu"
      }
    },
    {
      "cell_type": "code",
      "source": [
        "class DenseModel(nn.Module):\n",
        "    def __init__(self, input_size=k_svd_input, hidden_size=32, output_size=k_svd_target):\n",
        "        super(DenseModel, self).__init__()\n",
        "        self.dense1 = nn.Sequential(\n",
        "            nn.Linear(input_size, hidden_size),\n",
        "            nn.ReLU())\n",
        "        \n",
        "        self.dense2 = nn.Sequential(\n",
        "            #nn.BatchNorm1d(1),\n",
        "            nn.Linear(hidden_size, hidden_size),\n",
        "            nn.ReLU())\n",
        "                \n",
        "        self.dense3 = nn.Sequential(\n",
        "            #nn.BatchNorm1d(1),\n",
        "            nn.Linear(hidden_size, output_size))\n",
        "\n",
        "    def forward(self, input):\n",
        "        output = self.dense1(input)\n",
        "        output = self.dense2(output)\n",
        "        output = self.dense3(output)\n",
        "        return output"
      ],
      "metadata": {
        "id": "hrX8xZm3q-wZ"
      },
      "execution_count": null,
      "outputs": []
    },
    {
      "cell_type": "code",
      "source": [
        "dense_model = DenseModel().cuda()"
      ],
      "metadata": {
        "id": "5cwrXl8xsANC"
      },
      "execution_count": null,
      "outputs": []
    },
    {
      "cell_type": "code",
      "source": [
        "criterion = nn.MSELoss()\n",
        "\n",
        "num_epochs = 100\n",
        "learning_rate = 0.01\n",
        "optimizer = torch.optim.Adam(params=dense_model.parameters(), lr=learning_rate)\n",
        "\n",
        "total_step = len(train_dataloader)"
      ],
      "metadata": {
        "id": "keLoFGm-rzPV"
      },
      "execution_count": 69,
      "outputs": []
    },
    {
      "cell_type": "code",
      "source": [
        "metric_train = np.zeros(shape=num_epochs)\n",
        "metric_valid = np.zeros(shape=num_epochs)\n",
        "\n",
        "for epoch in range(num_epochs):\n",
        "    dense_model.train()\n",
        "    loss_train = np.zeros(shape=len(train_dataloader))\n",
        "\n",
        "    for i, (inputs, targets) in enumerate(train_dataloader):\n",
        "\n",
        "        inputs = inputs.cuda()\n",
        "        targets = targets.cuda()\n",
        "\n",
        "        outputs = dense_model(inputs)\n",
        "        loss = criterion(outputs, targets)\n",
        "        loss_train[i] = loss\n",
        "\n",
        "        optimizer.zero_grad()\n",
        "        loss.backward()\n",
        "        optimizer.step()\n",
        "\n",
        "        #if (i+1) % 100 == 0:\n",
        "        #    print ('Epoch [{}/{}], Step [{}/{}], Loss: {:.10f}'\n",
        "        #           .format(epoch+1, num_epochs, i+1, total_step, loss.item()))\n",
        "\n",
        "    dense_model.eval()\n",
        "    loss_valid = np.zeros(shape=len(valid_dataloader))\n",
        "\n",
        "    with torch.no_grad():\n",
        "        for i, (inputs, targets) in enumerate(valid_dataloader):\n",
        "\n",
        "          inputs = inputs.cuda()\n",
        "          targets = targets.cuda()\n",
        "\n",
        "          outputs = dense_model(inputs)\n",
        "          loss = criterion(outputs, targets)\n",
        "          loss_valid[i] = loss\n",
        "\n",
        "    metric_train[epoch] = np.mean(loss_train)\n",
        "    metric_valid[epoch] = np.mean(loss_valid)\n",
        "\n",
        "    print('Epoch', epoch+1,'| train:',round(metric_train[epoch],4) ,'| valid:',round(metric_valid[epoch],4))"
      ],
      "metadata": {
        "colab": {
          "base_uri": "https://localhost:8080/"
        },
        "id": "6uSUv2Hvs1cL",
        "outputId": "33536ed1-2a5f-41b3-dda3-60207bab2997"
      },
      "execution_count": 70,
      "outputs": [
        {
          "output_type": "stream",
          "name": "stdout",
          "text": [
            "Epoch 1 | train: 0.9232 | valid: 0.9221\n",
            "Epoch 2 | train: 0.9214 | valid: 0.9212\n",
            "Epoch 3 | train: 0.9201 | valid: 0.9196\n",
            "Epoch 4 | train: 0.9192 | valid: 0.9183\n",
            "Epoch 5 | train: 0.9185 | valid: 0.9189\n",
            "Epoch 6 | train: 0.9181 | valid: 0.9179\n",
            "Epoch 7 | train: 0.9177 | valid: 0.9178\n",
            "Epoch 8 | train: 0.9174 | valid: 0.9185\n",
            "Epoch 9 | train: 0.9171 | valid: 0.9181\n",
            "Epoch 10 | train: 0.9169 | valid: 0.9175\n"
          ]
        }
      ]
    },
    {
      "cell_type": "code",
      "source": [
        "plt.plot(metric_train, color='r')\n",
        "plt.plot(metric_valid, color='g')\n",
        "plt.show()"
      ],
      "metadata": {
        "colab": {
          "base_uri": "https://localhost:8080/",
          "height": 198
        },
        "id": "dBTJWlUKv-K2",
        "outputId": "4ffde520-f871-4f93-d8ba-df5f6ea274ad"
      },
      "execution_count": 72,
      "outputs": [
        {
          "output_type": "error",
          "ename": "NameError",
          "evalue": "ignored",
          "traceback": [
            "\u001b[0;31m---------------------------------------------------------------------------\u001b[0m",
            "\u001b[0;31mNameError\u001b[0m                                 Traceback (most recent call last)",
            "\u001b[0;32m<ipython-input-72-d75725ea280d>\u001b[0m in \u001b[0;36m<module>\u001b[0;34m\u001b[0m\n\u001b[0;32m----> 1\u001b[0;31m \u001b[0mplt\u001b[0m\u001b[0;34m.\u001b[0m\u001b[0mplot\u001b[0m\u001b[0;34m(\u001b[0m\u001b[0mmetric_train\u001b[0m\u001b[0;34m,\u001b[0m \u001b[0mcolor\u001b[0m\u001b[0;34m=\u001b[0m\u001b[0;34m'r'\u001b[0m\u001b[0;34m)\u001b[0m\u001b[0;34m\u001b[0m\u001b[0;34m\u001b[0m\u001b[0m\n\u001b[0m\u001b[1;32m      2\u001b[0m \u001b[0mplt\u001b[0m\u001b[0;34m.\u001b[0m\u001b[0mplot\u001b[0m\u001b[0;34m(\u001b[0m\u001b[0mmetric_valid\u001b[0m\u001b[0;34m,\u001b[0m \u001b[0mcolor\u001b[0m\u001b[0;34m=\u001b[0m\u001b[0;34m'g'\u001b[0m\u001b[0;34m)\u001b[0m\u001b[0;34m\u001b[0m\u001b[0;34m\u001b[0m\u001b[0m\n\u001b[1;32m      3\u001b[0m \u001b[0mplt\u001b[0m\u001b[0;34m.\u001b[0m\u001b[0mshow\u001b[0m\u001b[0;34m(\u001b[0m\u001b[0;34m)\u001b[0m\u001b[0;34m\u001b[0m\u001b[0;34m\u001b[0m\u001b[0m\n",
            "\u001b[0;31mNameError\u001b[0m: name 'plt' is not defined"
          ]
        }
      ]
    },
    {
      "cell_type": "code",
      "source": [],
      "metadata": {
        "id": "evRJW6QjwSlt"
      },
      "execution_count": null,
      "outputs": []
    }
  ]
}