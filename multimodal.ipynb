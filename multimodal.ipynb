{
  "cells": [
    {
      "cell_type": "markdown",
      "metadata": {
        "id": "view-in-github",
        "colab_type": "text"
      },
      "source": [
        "<a href=\"https://colab.research.google.com/github/Enterprise-D/sc_multimodal/blob/main/multimodal.ipynb\" target=\"_parent\"><img src=\"https://colab.research.google.com/assets/colab-badge.svg\" alt=\"Open In Colab\"/></a>"
      ]
    },
    {
      "cell_type": "markdown",
      "metadata": {
        "id": "gPw7A6MeT12G"
      },
      "source": [
        "## Colab Administrative"
      ]
    },
    {
      "cell_type": "markdown",
      "metadata": {
        "id": "aXvd5fxMTp60"
      },
      "source": [
        "Mount Google Drive:"
      ]
    },
    {
      "cell_type": "code",
      "execution_count": null,
      "metadata": {
        "colab": {
          "base_uri": "https://localhost:8080/"
        },
        "id": "VRT--MTkTflt",
        "outputId": "026b1707-705b-41ba-d3ae-42c2da8e13c4"
      },
      "outputs": [
        {
          "output_type": "stream",
          "name": "stdout",
          "text": [
            "Drive already mounted at /content/drive; to attempt to forcibly remount, call drive.mount(\"/content/drive\", force_remount=True).\n"
          ]
        }
      ],
      "source": [
        "from google.colab import drive\n",
        "drive.mount('/content/drive')"
      ]
    },
    {
      "cell_type": "markdown",
      "metadata": {
        "id": "8tng64uyCOGb"
      },
      "source": [
        "## Data Compression"
      ]
    },
    {
      "cell_type": "markdown",
      "metadata": {
        "id": "ZeLMI5ReCluQ"
      },
      "source": [
        "Install and load h5df modules:"
      ]
    },
    {
      "cell_type": "code",
      "execution_count": null,
      "metadata": {
        "id": "Pw8PddPwCPRy",
        "colab": {
          "base_uri": "https://localhost:8080/"
        },
        "outputId": "2e571322-a939-4452-a266-cc808039cce2"
      },
      "outputs": [
        {
          "output_type": "stream",
          "name": "stdout",
          "text": [
            "Looking in indexes: https://pypi.org/simple, https://us-python.pkg.dev/colab-wheels/public/simple/\n",
            "Collecting hdf5plugin\n",
            "  Downloading hdf5plugin-3.3.1-py3-none-manylinux_2_17_x86_64.manylinux2014_x86_64.whl (9.7 MB)\n",
            "\u001b[K     |████████████████████████████████| 9.7 MB 19.1 MB/s \n",
            "\u001b[?25hRequirement already satisfied: h5py in /usr/local/lib/python3.7/dist-packages (from hdf5plugin) (3.1.0)\n",
            "Requirement already satisfied: cached-property in /usr/local/lib/python3.7/dist-packages (from h5py->hdf5plugin) (1.5.2)\n",
            "Requirement already satisfied: numpy>=1.14.5 in /usr/local/lib/python3.7/dist-packages (from h5py->hdf5plugin) (1.21.6)\n",
            "Installing collected packages: hdf5plugin\n",
            "Successfully installed hdf5plugin-3.3.1\n"
          ]
        }
      ],
      "source": [
        "import h5py\n",
        "\n",
        "!pip install hdf5plugin\n",
        "import hdf5plugin"
      ]
    },
    {
      "cell_type": "markdown",
      "metadata": {
        "id": "-Fv5wM1vDvgQ"
      },
      "source": [
        "handle inputs:"
      ]
    },
    {
      "cell_type": "code",
      "execution_count": null,
      "metadata": {
        "id": "bUsBrfM2Cedl",
        "colab": {
          "base_uri": "https://localhost:8080/"
        },
        "outputId": "def657cd-e797-4061-8536-646553ecdd4a"
      },
      "outputs": [
        {
          "output_type": "execute_result",
          "data": {
            "text/plain": [
              "(<KeysViewHDF5 ['train_multi_inputs']>, <KeysViewHDF5 ['test_multi_inputs']>)"
            ]
          },
          "metadata": {},
          "execution_count": 3
        }
      ],
      "source": [
        "path_train_multi_inputs = '/content/drive/MyDrive/multimodal/train_multi_inputs.h5'\n",
        "file_train_multi_inputs = h5py.File(path_train_multi_inputs, \"r\")\n",
        "\n",
        "path_test_multi_inputs = '/content/drive/MyDrive/multimodal/test_multi_inputs.h5'\n",
        "file_test_multi_inputs = h5py.File(path_test_multi_inputs, \"r\")\n",
        "\n",
        "file_train_multi_inputs.keys(), file_test_multi_inputs.keys()"
      ]
    },
    {
      "cell_type": "code",
      "execution_count": null,
      "metadata": {
        "id": "rIq_boddfJxB",
        "colab": {
          "base_uri": "https://localhost:8080/"
        },
        "outputId": "dd49ae15-f10e-4a73-a511-25ceb3608c75"
      },
      "outputs": [
        {
          "output_type": "execute_result",
          "data": {
            "text/plain": [
              "(<KeysViewHDF5 ['axis0', 'axis1', 'block0_items', 'block0_values']>,\n",
              " <KeysViewHDF5 ['axis0', 'axis1', 'block0_items', 'block0_values']>)"
            ]
          },
          "metadata": {},
          "execution_count": 4
        }
      ],
      "source": [
        "group_train_multi_inputs = file_train_multi_inputs['train_multi_inputs']\n",
        "\n",
        "group_test_multi_inputs = file_test_multi_inputs['test_multi_inputs']\n",
        "\n",
        "group_train_multi_inputs.keys(), group_test_multi_inputs.keys()"
      ]
    },
    {
      "cell_type": "code",
      "execution_count": null,
      "metadata": {
        "id": "-Rl_4P0gfiCW",
        "colab": {
          "base_uri": "https://localhost:8080/"
        },
        "outputId": "e18da449-12c2-4334-ebd5-a5bdaf817696"
      },
      "outputs": [
        {
          "output_type": "execute_result",
          "data": {
            "text/plain": [
              "((105942, 228942), (55935, 228942))"
            ]
          },
          "metadata": {},
          "execution_count": 5
        }
      ],
      "source": [
        "group_train_multi_inputs['block0_values'].shape, \\\n",
        "group_test_multi_inputs['block0_values'].shape\n",
        "# axis0 & block0_items: features (genomic coordinates, GRCh38)\n",
        "# axis1: cell_ids\n",
        "# block0_values: entries"
      ]
    },
    {
      "cell_type": "code",
      "execution_count": null,
      "metadata": {
        "id": "sE8IAkUk0mJK",
        "colab": {
          "base_uri": "https://localhost:8080/"
        },
        "outputId": "96de52cd-aced-487d-b2a2-2cea71ca39bf"
      },
      "outputs": [
        {
          "output_type": "execute_result",
          "data": {
            "text/plain": [
              "array([[0., 0., 0., 0., 0.],\n",
              "       [0., 0., 0., 0., 0.],\n",
              "       [0., 0., 0., 0., 0.],\n",
              "       [0., 0., 0., 0., 0.],\n",
              "       [0., 0., 0., 0., 0.],\n",
              "       [0., 0., 0., 0., 0.],\n",
              "       [0., 0., 0., 0., 0.],\n",
              "       [0., 0., 0., 0., 0.],\n",
              "       [0., 0., 0., 0., 0.]], dtype=float32)"
            ]
          },
          "metadata": {},
          "execution_count": 6
        }
      ],
      "source": [
        "group_train_multi_inputs['block0_values'][1:10,1:6]"
      ]
    },
    {
      "cell_type": "markdown",
      "metadata": {
        "id": "im-6LWJhfMFN"
      },
      "source": [
        "handle targets:"
      ]
    },
    {
      "cell_type": "code",
      "execution_count": null,
      "metadata": {
        "id": "gg5xH9eofH_d",
        "colab": {
          "base_uri": "https://localhost:8080/"
        },
        "outputId": "5b534160-d9dc-4f7e-e19a-660b83b32ece"
      },
      "outputs": [
        {
          "output_type": "execute_result",
          "data": {
            "text/plain": [
              "<KeysViewHDF5 ['train_multi_targets']>"
            ]
          },
          "metadata": {},
          "execution_count": 7
        }
      ],
      "source": [
        "path_train_multi_targets = '/content/drive/MyDrive/multimodal/train_multi_targets.h5'\n",
        "file_train_multi_targets = h5py.File(path_train_multi_targets, \"r\")\n",
        "\n",
        "file_train_multi_targets.keys()"
      ]
    },
    {
      "cell_type": "code",
      "execution_count": null,
      "metadata": {
        "id": "TpAqs2WBDykP",
        "colab": {
          "base_uri": "https://localhost:8080/"
        },
        "outputId": "3f5bae6b-0340-4a80-8af3-73bb25b60bc5"
      },
      "outputs": [
        {
          "output_type": "execute_result",
          "data": {
            "text/plain": [
              "<KeysViewHDF5 ['axis0', 'axis1', 'block0_items', 'block0_values']>"
            ]
          },
          "metadata": {},
          "execution_count": 8
        }
      ],
      "source": [
        "group_train_multi_targets = file_train_multi_targets['train_multi_targets']\n",
        "group_train_multi_targets.keys()"
      ]
    },
    {
      "cell_type": "code",
      "execution_count": null,
      "metadata": {
        "id": "3LMUF0_iGY13",
        "colab": {
          "base_uri": "https://localhost:8080/"
        },
        "outputId": "7d57c89b-3a96-4253-b9c6-1ef875827a22"
      },
      "outputs": [
        {
          "output_type": "execute_result",
          "data": {
            "text/plain": [
              "(105942, 23418)"
            ]
          },
          "metadata": {},
          "execution_count": 9
        }
      ],
      "source": [
        "group_train_multi_targets['block0_values'].shape\n",
        "# axis0 & block0_items: features (expression reads, GRCh38)\n",
        "# axis1: cell_ids\n",
        "# block0_values: entries"
      ]
    },
    {
      "cell_type": "code",
      "execution_count": null,
      "metadata": {
        "id": "M0UWdsbM0Qrw",
        "colab": {
          "base_uri": "https://localhost:8080/"
        },
        "outputId": "64268539-b85d-4c26-ca1a-bacb4826b869"
      },
      "outputs": [
        {
          "output_type": "execute_result",
          "data": {
            "text/plain": [
              "array([[0.       , 0.       , 0.       , 0.       , 0.       ],\n",
              "       [0.       , 0.       , 0.       , 0.       , 0.       ],\n",
              "       [4.5079365, 0.       , 0.       , 0.       , 0.       ],\n",
              "       [0.       , 0.       , 0.       , 0.       , 0.       ],\n",
              "       [0.       , 0.       , 0.       , 0.       , 0.       ],\n",
              "       [0.       , 0.       , 0.       , 0.       , 0.       ],\n",
              "       [0.       , 0.       , 0.       , 0.       , 0.       ],\n",
              "       [0.       , 0.       , 0.       , 0.       , 0.       ],\n",
              "       [0.       , 0.       , 0.       , 0.       , 0.       ]],\n",
              "      dtype=float32)"
            ]
          },
          "metadata": {},
          "execution_count": 10
        }
      ],
      "source": [
        "group_train_multi_targets['block0_values'][1:10,1:6]"
      ]
    },
    {
      "cell_type": "code",
      "execution_count": null,
      "metadata": {
        "id": "qHRDARgfhg_U"
      },
      "outputs": [],
      "source": [
        "import numpy as np\n",
        "import pandas as pd\n",
        "import os\n",
        "import scipy.sparse as sps\n",
        "from tqdm import tqdm as tqdm\n",
        "import gc"
      ]
    },
    {
      "cell_type": "markdown",
      "metadata": {
        "id": "LjZvelVQ3van"
      },
      "source": [
        "Datasets are too sparse:"
      ]
    },
    {
      "cell_type": "code",
      "execution_count": null,
      "metadata": {
        "id": "VRjR2Vm43tSZ"
      },
      "outputs": [],
      "source": [
        "%load_ext Cython"
      ]
    },
    {
      "cell_type": "code",
      "execution_count": null,
      "metadata": {
        "id": "ie-kHKl2ywJm"
      },
      "outputs": [],
      "source": [
        "%%cython\n",
        "\n",
        "import cython\n",
        "cimport cython\n",
        "cimport numpy as np\n",
        "import numpy as np\n",
        "from tqdm import tqdm, trange\n",
        "\n",
        "ctypedef np.int64_t INT64_t\n",
        "\n",
        "@cython.boundscheck(False)\n",
        "@cython.wraparound(False)\n",
        "cpdef np.ndarray[INT64_t, ndim=1] create_indptr(INT64_t[:] row_indices, int start_pos, int nrows):\n",
        "    cdef int shape = row_indices.shape[0]\n",
        "    res = np.zeros(nrows, dtype=np.int64)\n",
        "    cdef INT64_t[:] res_view = res\n",
        "    \n",
        "    cdef int i\n",
        "    cdef int curr_row = 0\n",
        "    cdef int prev = row_indices[0]\n",
        "    \n",
        "    for i in range(shape):\n",
        "        if row_indices[i] != prev:\n",
        "            curr_row += 1\n",
        "            res_view[curr_row] = i\n",
        "            prev = row_indices[i]\n",
        "    # res_view[curr_row + 1] = shape\n",
        "    return res + start_pos"
      ]
    },
    {
      "cell_type": "code",
      "execution_count": null,
      "metadata": {
        "id": "hVq6XQKFzgTw"
      },
      "outputs": [],
      "source": [
        "def create_csr_arrays(h5_file_path):\n",
        "    def check_size(xs, ys, datas):\n",
        "        return (xs.nbytes + ys.nbytes + datas.nbytes) * 1e-9\n",
        "\n",
        "    print(f\"\\n\\nProcessing File {h5_file_path}\")\n",
        "    pbar = tqdm()\n",
        "\n",
        "    # Initialize Variables\n",
        "    chunksize = 1000 # Keep it low\n",
        "    loaded_rows = chunksize\n",
        "    start = 0\n",
        "    start_pos = 0\n",
        "    file_pointer = 0\n",
        "\n",
        "    # Initialize CSR arrays\n",
        "    indptr = np.array([], dtype=np.int64)\n",
        "    indices = np.array([], dtype=np.int32)\n",
        "    data_s = np.array([], dtype=np.float32)\n",
        "    \n",
        "    prefix_filename = h5_file_path.split('/')[-1].replace('.h5', '')\n",
        "\n",
        "    while chunksize == loaded_rows:\n",
        "\n",
        "        # Check current size: if the total sum of sizes are > 7GB, then save three arrays and re-initialize them\n",
        "        size_gb = check_size(indptr, indices, data_s)\n",
        "        if size_gb > 7.0:\n",
        "            pbar.set_description(f\"Total size is {size_gb}. Saving ..\")\n",
        "            np.save(f\"{prefix_filename}_indptr_{file_pointer}.npy\", indptr)\n",
        "            np.save(f\"{prefix_filename}_indices_{file_pointer}.npy\", indices)\n",
        "            np.save(f\"{prefix_filename}_data_{file_pointer}.npy\", data_s)\n",
        "            # Re-initialize\n",
        "            indptr = np.array([], dtype=np.int64)\n",
        "            indices = np.array([], dtype=np.int32)\n",
        "            data_s = np.array([], dtype=np.float32)\n",
        "            # Increment pointer\n",
        "            file_pointer += 1\n",
        "\n",
        "        pbar.set_description(\"Reading .h5 chunk\")\n",
        "        df = pd.read_hdf(h5_file_path, start=start, stop=start+chunksize)\n",
        "        pbar.set_description(\"Extracting non-zero values\")\n",
        "        x_coords, y_coords = df.values.nonzero()\n",
        "        tmp_data = df.values[df.values != 0.0]\n",
        "\n",
        "        loaded_rows = df.shape[0]\n",
        "\n",
        "        # Convert types\n",
        "        y_coords = y_coords.astype(np.int32, copy=False)\n",
        "        tmp_data = tmp_data.astype(np.float32, copy=False)\n",
        "\n",
        "        # Compress x_coords\n",
        "        pbar.set_description(\"Compressing rows values\")\n",
        "        x_coords = create_indptr(x_coords, start_pos=start_pos, nrows=loaded_rows)\n",
        "\n",
        "        gc.collect()\n",
        "\n",
        "        # Update variables\n",
        "        pbar.set_description(\"Update variables\")\n",
        "        start_pos += y_coords.shape[0]\n",
        "        start += chunksize\n",
        "        # Append data at the end of each array\n",
        "        indptr = np.hstack((indptr, x_coords))\n",
        "        indices = np.hstack((indices, y_coords))\n",
        "        data_s = np.hstack((data_s, tmp_data))\n",
        "\n",
        "        pbar.update(loaded_rows)\n",
        "\n",
        "    print('Done. Save last files')\n",
        "    np.save(f\"{prefix_filename}_indptr_{file_pointer}.npy\", indptr)\n",
        "    np.save(f\"{prefix_filename}_indices_{file_pointer}.npy\", indices)\n",
        "    np.save(f\"{prefix_filename}_data_{file_pointer}.npy\", data_s)\n",
        "    \n",
        "    del indptr, indices, data_s"
      ]
    },
    {
      "cell_type": "code",
      "execution_count": null,
      "metadata": {
        "id": "QTi5EZAK015w"
      },
      "outputs": [],
      "source": [
        "create_csr_arrays(path_train_multi_inputs)"
      ]
    },
    {
      "cell_type": "code",
      "execution_count": null,
      "metadata": {
        "id": "lmV3uKrm5QLq"
      },
      "outputs": [],
      "source": [
        "indptr = np.load('train_multi_inputs_indptr_0.npy')\n",
        "indices = np.load('train_multi_inputs_indices_0.npy')\n",
        "data = np.load('train_multi_inputs_data_0.npy')\n",
        "indptr = np.append(indptr, indptr[-1] + indices[indptr[-1]:].shape)\n",
        "N_ROWS = group_train_multi_inputs['block0_values'].shape[0]\n",
        "N_COLS = group_train_multi_inputs['block0_values'].shape[1]\n",
        "csr_matrix = sps.csr_matrix((data, indices, indptr), shape=(N_ROWS, N_COLS))\n",
        "sps.save_npz('train_multi_inputs_sparse.npz', csr_matrix)\n",
        "del csr_matrix, indices, indptr, data"
      ]
    },
    {
      "cell_type": "code",
      "execution_count": null,
      "metadata": {
        "id": "iUCehtUw1ex4"
      },
      "outputs": [],
      "source": [
        "create_csr_arrays(path_train_multi_targets)"
      ]
    },
    {
      "cell_type": "code",
      "execution_count": null,
      "metadata": {
        "id": "VbDIjfh25bIW"
      },
      "outputs": [],
      "source": [
        "indptr = np.load('train_multi_targets_indptr_0.npy')\n",
        "indices = np.load('train_multi_targets_indices_0.npy')\n",
        "data = np.load('train_multi_targets_data_0.npy')\n",
        "indptr = np.append(indptr, indptr[-1] + indices[indptr[-1]:].shape)\n",
        "N_ROWS = group_train_multi_targets['block0_values'].shape[0]\n",
        "N_COLS = group_train_multi_targets['block0_values'].shape[1]\n",
        "csr_matrix = sps.csr_matrix((data, indices, indptr), shape=(N_ROWS, N_COLS))\n",
        "sps.save_npz('train_multi_targets_sparse.npz', csr_matrix)\n",
        "del csr_matrix, indices, indptr, data"
      ]
    },
    {
      "cell_type": "code",
      "execution_count": null,
      "metadata": {
        "id": "u7harJTv1fei"
      },
      "outputs": [],
      "source": [
        "create_csr_arrays(path_test_multi_inputs)"
      ]
    },
    {
      "cell_type": "code",
      "execution_count": null,
      "metadata": {
        "id": "ayoFhfX75Wzl"
      },
      "outputs": [],
      "source": [
        "indptr = np.load('test_multi_inputs_indptr_0.npy')\n",
        "indices = np.load('test_multi_inputs_indices_0.npy')\n",
        "data = np.load('test_multi_inputs_data_0.npy')\n",
        "indptr = np.append(indptr, indptr[-1] + indices[indptr[-1]:].shape)\n",
        "N_ROWS = group_test_multi_inputs['block0_values'].shape[0]\n",
        "N_COLS = group_test_multi_inputs['block0_values'].shape[1]\n",
        "csr_matrix = sps.csr_matrix((data, indices, indptr), shape=(N_ROWS, N_COLS))\n",
        "sps.save_npz('test_multi_inputs_sparse.npz', csr_matrix)\n",
        "del csr_matrix, indices, indptr, data"
      ]
    },
    {
      "cell_type": "code",
      "execution_count": null,
      "metadata": {
        "id": "u-3ZSEQR0uZ5"
      },
      "outputs": [],
      "source": [
        "!mv *.npy /content/drive/MyDrive/multimodal_sparse\n",
        "!mv *.npz /content/drive/MyDrive/multimodal_sparse"
      ]
    },
    {
      "cell_type": "markdown",
      "metadata": {
        "id": "4NjUGRr80tdL"
      },
      "source": [
        "## Preprocessing"
      ]
    },
    {
      "cell_type": "code",
      "execution_count": 1,
      "metadata": {
        "id": "lyCAh0Nx2QN2"
      },
      "outputs": [],
      "source": [
        "import random\n",
        "import joblib\n",
        "import numpy as np\n",
        "import pandas as pd\n",
        "from sklearn import decomposition, model_selection, preprocessing\n",
        "\n",
        "import os\n",
        "import gc\n",
        "import scipy.sparse as sps\n",
        "from tqdm import tqdm as tqdm"
      ]
    },
    {
      "cell_type": "markdown",
      "metadata": {
        "id": "ESxaEBAlTKxJ"
      },
      "source": [
        "Fix random seeds:"
      ]
    },
    {
      "cell_type": "code",
      "execution_count": 2,
      "metadata": {
        "id": "4ad_Mo7JTIEO"
      },
      "outputs": [],
      "source": [
        "random_seed = 3407\n",
        "random.seed(random_seed)\n",
        "np.random.seed(random_seed)"
      ]
    },
    {
      "cell_type": "markdown",
      "metadata": {
        "id": "tqZEN5JL7zZj"
      },
      "source": [
        "### Split datasets into training and validation parts:"
      ]
    },
    {
      "cell_type": "markdown",
      "metadata": {
        "id": "7suLbHzl0e_S"
      },
      "source": [
        "Copy data to local disk and load into python:"
      ]
    },
    {
      "cell_type": "code",
      "execution_count": null,
      "metadata": {
        "id": "O-6Abheg1Wf0"
      },
      "outputs": [],
      "source": [
        "!cp /content/drive/MyDrive/multimodal_sparse/*.npz /content/"
      ]
    },
    {
      "cell_type": "code",
      "execution_count": null,
      "metadata": {
        "id": "w7Jr_TKt1UPw"
      },
      "outputs": [],
      "source": [
        "input_csr = sps.load_npz('/content/train_multi_inputs_sparse.npz')"
      ]
    },
    {
      "cell_type": "code",
      "execution_count": null,
      "metadata": {
        "id": "-1HgZfj-uh_e"
      },
      "outputs": [],
      "source": [
        "target_csr = sps.load_npz('/content/train_multi_targets_sparse.npz')"
      ]
    },
    {
      "cell_type": "code",
      "execution_count": null,
      "metadata": {
        "id": "Q1zHlj5zqdTw"
      },
      "outputs": [],
      "source": [
        "input_csr.shape, target_csr.shape"
      ]
    },
    {
      "cell_type": "code",
      "execution_count": null,
      "metadata": {
        "id": "jjQeo-Ve1Ca8"
      },
      "outputs": [],
      "source": [
        "! rm *.npz"
      ]
    },
    {
      "cell_type": "markdown",
      "metadata": {
        "id": "VDX9E4Dg0v_O"
      },
      "source": [
        "Split datasets in advance to prevent model from seeing validation data:"
      ]
    },
    {
      "cell_type": "code",
      "execution_count": null,
      "metadata": {
        "id": "NDZiA17Ww-Yj"
      },
      "outputs": [],
      "source": [
        "X_train, X_test, y_train, y_test = model_selection.train_test_split(input_csr,\n",
        "                                                                    target_csr, \n",
        "                                                                    test_size=0.2, \n",
        "                                                                    random_state = random_seed)\n",
        "del input_csr, target_csr\n",
        "\n",
        "sps.save_npz('X_train.npz', X_train)\n",
        "del X_train\n",
        "\n",
        "sps.save_npz('X_test.npz', X_test)\n",
        "del X_test\n",
        "\n",
        "sps.save_npz('y_train.npz', y_train)\n",
        "del y_train\n",
        "\n",
        "sps.save_npz('y_test.npz', y_test)\n",
        "del y_test"
      ]
    },
    {
      "cell_type": "code",
      "execution_count": null,
      "metadata": {
        "id": "xBQEblm22F8L"
      },
      "outputs": [],
      "source": [
        "!cp *.npz /content/drive/MyDrive/multimodal_split"
      ]
    },
    {
      "cell_type": "code",
      "execution_count": null,
      "metadata": {
        "id": "zMyxaGlzNq2T"
      },
      "outputs": [],
      "source": [
        "!cp /content/drive/MyDrive/multimodal_split/*.npz /content/"
      ]
    },
    {
      "cell_type": "code",
      "execution_count": null,
      "metadata": {
        "id": "gqjvqc5PH5yL"
      },
      "outputs": [],
      "source": [
        "# be careful with memory quota\n",
        "train_input = sps.load_npz('X_train.npz')\n",
        "\n",
        "nmf_input = joblib.load(\"/content/drive/MyDrive/multimodal_nmf/nmf_input.pkl\")\n",
        "\n",
        "#nmf_input = decomposition.NMF(n_components=128, init='nndsvd',max_iter=150)\n",
        "#W_train_input = nmf_input.fit_transform(train_input)\n",
        "W_train_input = nmf_input.transform(train_input)\n",
        "H_train_input = nmf_input.components_\n",
        "\n",
        "np.save(\"W_train_input.npy\", W_train_input)\n",
        "np.save(\"H_train_input.npy\", H_train_input)\n",
        "\n",
        "del train_input"
      ]
    },
    {
      "cell_type": "code",
      "execution_count": null,
      "metadata": {
        "id": "_UgavZSNIx41"
      },
      "outputs": [],
      "source": [
        "valid_input = sps.load_npz('X_test.npz')\n",
        "\n",
        "W_valid_input = nmf_input.transform(valid_input)\n",
        "H_valid_input = nmf_input.components_\n",
        "\n",
        "np.save(\"W_valid_input.npy\", W_valid_input)\n",
        "np.save(\"H_valid_input.npy\", H_valid_input)\n",
        "\n",
        "joblib.dump(nmf_input, '/content/drive/MyDrive/multimodal_nmf/nmf_input.pkl')\n",
        "\n",
        "del valid_input, nmf_input\n",
        "\n",
        "#H_train_input == H_valid_input?"
      ]
    },
    {
      "cell_type": "code",
      "execution_count": null,
      "metadata": {
        "id": "xrqc3xBQP9wB"
      },
      "outputs": [],
      "source": [
        "train_target = sps.load_npz('y_train.npz')\n",
        "\n",
        "nmf_target = decomposition.NMF(n_components=128, init='nndsvd', max_iter=150)\n",
        "W_train_target = nmf_target.fit_transform(train_target)\n",
        "H_train_target = nmf_target.components_\n",
        "\n",
        "np.save(\"W_train_target.npy\", W_train_target)\n",
        "np.save(\"H_train_target.npy\", H_train_target)\n",
        "\n",
        "del train_target"
      ]
    },
    {
      "cell_type": "code",
      "execution_count": null,
      "metadata": {
        "id": "PbaxAtKjP_EY"
      },
      "outputs": [],
      "source": [
        "valid_target = sps.load_npz('y_test.npz')\n",
        "\n",
        "W_valid_target = nmf_target.transform(valid_target)\n",
        "H_valid_target = nmf_target.components_\n",
        "\n",
        "np.save(\"W_valid_target.npy\", W_valid_target)\n",
        "np.save(\"H_valid_target.npy\", H_valid_target)\n",
        "\n",
        "joblib.dump(nmf_target, '/content/drive/MyDrive/multimodal_nmf/nmf_target.pkl')\n",
        "\n",
        "del valid_target, nmf_target"
      ]
    },
    {
      "cell_type": "code",
      "execution_count": null,
      "metadata": {
        "id": "q_59TSVzItOJ"
      },
      "outputs": [],
      "source": [
        "!mv *.npy /content/drive/MyDrive/multimodal_nmf"
      ]
    },
    {
      "cell_type": "markdown",
      "metadata": {
        "id": "FunI90X4XtZX"
      },
      "source": [
        "### Feature Selection"
      ]
    },
    {
      "cell_type": "code",
      "execution_count": 3,
      "metadata": {
        "id": "hACeKJua6Ibx",
        "colab": {
          "base_uri": "https://localhost:8080/",
          "height": 1000
        },
        "outputId": "cca21861-41c1-43fc-d016-9e50b3bc139f"
      },
      "outputs": [
        {
          "output_type": "stream",
          "name": "stdout",
          "text": [
            "Looking in indexes: https://pypi.org/simple, https://us-python.pkg.dev/colab-wheels/public/simple/\n",
            "Collecting scanpy\n",
            "  Downloading scanpy-1.9.1-py3-none-any.whl (2.0 MB)\n",
            "\u001b[K     |████████████████████████████████| 2.0 MB 33.9 MB/s \n",
            "\u001b[?25hRequirement already satisfied: networkx>=2.3 in /usr/local/lib/python3.7/dist-packages (from scanpy) (2.6.3)\n",
            "Collecting umap-learn>=0.3.10\n",
            "  Downloading umap-learn-0.5.3.tar.gz (88 kB)\n",
            "\u001b[K     |████████████████████████████████| 88 kB 10.0 MB/s \n",
            "\u001b[?25hRequirement already satisfied: joblib in /usr/local/lib/python3.7/dist-packages (from scanpy) (1.2.0)\n",
            "Collecting anndata>=0.7.4\n",
            "  Downloading anndata-0.8.0-py3-none-any.whl (96 kB)\n",
            "\u001b[K     |████████████████████████████████| 96 kB 6.6 MB/s \n",
            "\u001b[?25hRequirement already satisfied: scikit-learn>=0.22 in /usr/local/lib/python3.7/dist-packages (from scanpy) (1.0.2)\n",
            "Collecting matplotlib>=3.4\n",
            "  Downloading matplotlib-3.5.3-cp37-cp37m-manylinux_2_5_x86_64.manylinux1_x86_64.whl (11.2 MB)\n",
            "\u001b[K     |████████████████████████████████| 11.2 MB 80.2 MB/s \n",
            "\u001b[?25hRequirement already satisfied: tqdm in /usr/local/lib/python3.7/dist-packages (from scanpy) (4.64.1)\n",
            "Requirement already satisfied: seaborn in /usr/local/lib/python3.7/dist-packages (from scanpy) (0.11.2)\n",
            "Requirement already satisfied: packaging in /usr/local/lib/python3.7/dist-packages (from scanpy) (21.3)\n",
            "Requirement already satisfied: h5py>=3 in /usr/local/lib/python3.7/dist-packages (from scanpy) (3.1.0)\n",
            "Requirement already satisfied: patsy in /usr/local/lib/python3.7/dist-packages (from scanpy) (0.5.3)\n",
            "Collecting session-info\n",
            "  Downloading session_info-1.0.0.tar.gz (24 kB)\n",
            "Requirement already satisfied: statsmodels>=0.10.0rc2 in /usr/local/lib/python3.7/dist-packages (from scanpy) (0.12.2)\n",
            "Requirement already satisfied: pandas>=1.0 in /usr/local/lib/python3.7/dist-packages (from scanpy) (1.3.5)\n",
            "Requirement already satisfied: scipy>=1.4 in /usr/local/lib/python3.7/dist-packages (from scanpy) (1.7.3)\n",
            "Requirement already satisfied: numba>=0.41.0 in /usr/local/lib/python3.7/dist-packages (from scanpy) (0.56.4)\n",
            "Requirement already satisfied: numpy>=1.17.0 in /usr/local/lib/python3.7/dist-packages (from scanpy) (1.21.6)\n",
            "Requirement already satisfied: natsort in /usr/local/lib/python3.7/dist-packages (from scanpy) (5.5.0)\n",
            "Requirement already satisfied: importlib_metadata>=0.7 in /usr/local/lib/python3.7/dist-packages (from scanpy) (4.13.0)\n",
            "Requirement already satisfied: typing_extensions in /usr/local/lib/python3.7/dist-packages (from anndata>=0.7.4->scanpy) (4.1.1)\n",
            "Requirement already satisfied: cached-property in /usr/local/lib/python3.7/dist-packages (from h5py>=3->scanpy) (1.5.2)\n",
            "Requirement already satisfied: zipp>=0.5 in /usr/local/lib/python3.7/dist-packages (from importlib_metadata>=0.7->scanpy) (3.10.0)\n",
            "Requirement already satisfied: kiwisolver>=1.0.1 in /usr/local/lib/python3.7/dist-packages (from matplotlib>=3.4->scanpy) (1.4.4)\n",
            "Requirement already satisfied: pyparsing>=2.2.1 in /usr/local/lib/python3.7/dist-packages (from matplotlib>=3.4->scanpy) (3.0.9)\n",
            "Collecting fonttools>=4.22.0\n",
            "  Downloading fonttools-4.38.0-py3-none-any.whl (965 kB)\n",
            "\u001b[K     |████████████████████████████████| 965 kB 82.2 MB/s \n",
            "\u001b[?25hRequirement already satisfied: python-dateutil>=2.7 in /usr/local/lib/python3.7/dist-packages (from matplotlib>=3.4->scanpy) (2.8.2)\n",
            "Requirement already satisfied: pillow>=6.2.0 in /usr/local/lib/python3.7/dist-packages (from matplotlib>=3.4->scanpy) (7.1.2)\n",
            "Requirement already satisfied: cycler>=0.10 in /usr/local/lib/python3.7/dist-packages (from matplotlib>=3.4->scanpy) (0.11.0)\n",
            "Requirement already satisfied: setuptools in /usr/local/lib/python3.7/dist-packages (from numba>=0.41.0->scanpy) (57.4.0)\n",
            "Requirement already satisfied: llvmlite<0.40,>=0.39.0dev0 in /usr/local/lib/python3.7/dist-packages (from numba>=0.41.0->scanpy) (0.39.1)\n",
            "Requirement already satisfied: pytz>=2017.3 in /usr/local/lib/python3.7/dist-packages (from pandas>=1.0->scanpy) (2022.6)\n",
            "Requirement already satisfied: six>=1.5 in /usr/local/lib/python3.7/dist-packages (from python-dateutil>=2.7->matplotlib>=3.4->scanpy) (1.15.0)\n",
            "Requirement already satisfied: threadpoolctl>=2.0.0 in /usr/local/lib/python3.7/dist-packages (from scikit-learn>=0.22->scanpy) (3.1.0)\n",
            "Collecting pynndescent>=0.5\n",
            "  Downloading pynndescent-0.5.8.tar.gz (1.1 MB)\n",
            "\u001b[K     |████████████████████████████████| 1.1 MB 86.4 MB/s \n",
            "\u001b[?25hCollecting stdlib_list\n",
            "  Downloading stdlib_list-0.8.0-py3-none-any.whl (63 kB)\n",
            "\u001b[K     |████████████████████████████████| 63 kB 2.8 MB/s \n",
            "\u001b[?25hBuilding wheels for collected packages: umap-learn, pynndescent, session-info\n",
            "  Building wheel for umap-learn (setup.py) ... \u001b[?25l\u001b[?25hdone\n",
            "  Created wheel for umap-learn: filename=umap_learn-0.5.3-py3-none-any.whl size=82829 sha256=9e7c732bc2a12e33d49c95f14e2946dac4e757fa2ff02d74c00383a080c404de\n",
            "  Stored in directory: /root/.cache/pip/wheels/b3/52/a5/1fd9e3e76a7ab34f134c07469cd6f16e27ef3a37aeff1fe821\n",
            "  Building wheel for pynndescent (setup.py) ... \u001b[?25l\u001b[?25hdone\n",
            "  Created wheel for pynndescent: filename=pynndescent-0.5.8-py3-none-any.whl size=55513 sha256=20a81a97a9d3d27564848eb1272276d85b582d7130b053b1d24486dc8c3a1f2e\n",
            "  Stored in directory: /root/.cache/pip/wheels/19/bc/eb/974072a56a7082a302f8b4be1ad6d21bf5019235c2eff65928\n",
            "  Building wheel for session-info (setup.py) ... \u001b[?25l\u001b[?25hdone\n",
            "  Created wheel for session-info: filename=session_info-1.0.0-py3-none-any.whl size=8046 sha256=eaf3ba3c04932189311d11ca73ff1940ffa59ee90f5e5122298008fef51971ee\n",
            "  Stored in directory: /root/.cache/pip/wheels/bd/ad/14/6a42359351a18337a8683854cfbba99dd782271f2d1767f87f\n",
            "Successfully built umap-learn pynndescent session-info\n",
            "Installing collected packages: fonttools, stdlib-list, pynndescent, matplotlib, umap-learn, session-info, anndata, scanpy\n",
            "  Attempting uninstall: matplotlib\n",
            "    Found existing installation: matplotlib 3.2.2\n",
            "    Uninstalling matplotlib-3.2.2:\n",
            "      Successfully uninstalled matplotlib-3.2.2\n",
            "Successfully installed anndata-0.8.0 fonttools-4.38.0 matplotlib-3.5.3 pynndescent-0.5.8 scanpy-1.9.1 session-info-1.0.0 stdlib-list-0.8.0 umap-learn-0.5.3\n"
          ]
        },
        {
          "output_type": "display_data",
          "data": {
            "application/vnd.colab-display-data+json": {
              "pip_warning": {
                "packages": [
                  "matplotlib",
                  "mpl_toolkits"
                ]
              }
            }
          },
          "metadata": {}
        }
      ],
      "source": [
        "!pip install scanpy\n",
        "import scanpy as sc\n",
        "import anndata"
      ]
    },
    {
      "cell_type": "code",
      "execution_count": null,
      "metadata": {
        "id": "fYN-t5dyACDy"
      },
      "outputs": [],
      "source": [
        "!cp /content/drive/MyDrive/multimodal_split/*.npz /content/\n",
        "train_target = sps.load_npz('y_train.npz')\n",
        "anndata_train_target = anndata.AnnData(train_target)\n",
        "\n",
        "sc.pp.highly_variable_genes(anndata_train_target, min_mean=0.0125, max_mean=8, min_disp=0.5, n_top_genes = 2048)\n",
        "sc.pl.highly_variable_genes(anndata_train_target)"
      ]
    },
    {
      "cell_type": "code",
      "execution_count": 5,
      "metadata": {
        "id": "vNSqzDKEDMaK"
      },
      "outputs": [],
      "source": [
        "valid_target = sps.load_npz('y_test.npz')\n",
        "anndata_valid_target = anndata.AnnData(valid_target)"
      ]
    },
    {
      "cell_type": "code",
      "execution_count": 6,
      "metadata": {
        "id": "3FytHSqyLCR6",
        "colab": {
          "base_uri": "https://localhost:8080/"
        },
        "outputId": "453a0c1c-8480-49e6-9f1e-46b0d7a043ed"
      },
      "outputs": [
        {
          "output_type": "execute_result",
          "data": {
            "text/plain": [
              "View of AnnData object with n_obs × n_vars = 84753 × 2048\n",
              "    var: 'highly_variable', 'means', 'dispersions', 'dispersions_norm'\n",
              "    uns: 'hvg'"
            ]
          },
          "metadata": {},
          "execution_count": 6
        }
      ],
      "source": [
        "# use the same HVGs\n",
        "anndata_valid_target = anndata_valid_target[:, anndata_train_target.var.highly_variable]\n",
        "valid_target_hvg = anndata_valid_target.X\n",
        "\n",
        "anndata_train_target = anndata_train_target[:, anndata_train_target.var.highly_variable]\n",
        "train_target_hvg = anndata_train_target.X\n",
        "\n",
        "anndata_train_target"
      ]
    },
    {
      "cell_type": "code",
      "execution_count": 7,
      "metadata": {
        "id": "DZ730UqjPZCM"
      },
      "outputs": [],
      "source": [
        "sps.save_npz('y_train_hvg.npz', train_target_hvg)\n",
        "sps.save_npz('y_test_hvg.npz', valid_target_hvg)\n",
        "\n",
        "!mv y_train_hvg.npz /content/drive/MyDrive/multimodal_split\n",
        "!mv y_test_hvg.npz /content/drive/MyDrive/multimodal_split"
      ]
    },
    {
      "cell_type": "code",
      "source": [
        "hvg_index = anndata_train_target.var.highly_variable.index\n",
        "np.save('/content/drive/MyDrive/hvg_index.npy', hvg_index)"
      ],
      "metadata": {
        "id": "k2H3ymAkTarq"
      },
      "execution_count": 11,
      "outputs": []
    },
    {
      "cell_type": "markdown",
      "metadata": {
        "id": "65xevLeABHui"
      },
      "source": [
        "### Truncated SVD"
      ]
    },
    {
      "cell_type": "code",
      "execution_count": null,
      "metadata": {
        "id": "ofFD8psUNs0L"
      },
      "outputs": [],
      "source": [
        "!cp /content/drive/MyDrive/multimodal_split/*.npz /content/"
      ]
    },
    {
      "cell_type": "code",
      "execution_count": null,
      "metadata": {
        "id": "zsa6N-MwBOYJ"
      },
      "outputs": [],
      "source": [
        "train_input= sps.load_npz('X_train.npz')\n",
        "\n",
        "# be careful with memory quota\n",
        "tsvd_input = decomposition.TruncatedSVD(n_components=512,algorithm='arpack',random_state=random_seed)\n",
        "U_train_input = tsvd_input.fit_transform(train_input)\n",
        "s_train_input = tsvd_input.singular_values_\n",
        "Va_train_input = tsvd_input.components_\n",
        "\n",
        "np.save(\"U_train_input.npy\", U_train_input)\n",
        "np.save(\"s_train_input.npy\", s_train_input)\n",
        "np.save(\"Va_train_input.npy\", Va_train_input)\n",
        "\n",
        "del train_input\n",
        "\n",
        "!mv *.npy /content/drive/MyDrive/multimodal_tsvd_arpack"
      ]
    },
    {
      "cell_type": "code",
      "execution_count": null,
      "metadata": {
        "id": "PgbUKkVDBdaO"
      },
      "outputs": [],
      "source": [
        "valid_input = sps.load_npz('X_test.npz')\n",
        "\n",
        "U_valid_input = tsvd_input.transform(valid_input)\n",
        "s_valid_input = tsvd_input.singular_values_\n",
        "Va_valid_input = tsvd_input.components_\n",
        "\n",
        "np.save(\"U_valid_input.npy\", U_valid_input)\n",
        "np.save(\"s_valid_input.npy\", s_valid_input)\n",
        "np.save(\"Va_valid_input.npy\", Va_valid_input)\n",
        "\n",
        "joblib.dump(tsvd_input, '/content/drive/MyDrive/multimodal_tsvd_arpack/tsvd_input.pkl')\n",
        "\n",
        "del valid_input, tsvd_input\n",
        "\n",
        "!mv *.npy /content/drive/MyDrive/multimodal_tsvd_arpack"
      ]
    },
    {
      "cell_type": "code",
      "execution_count": null,
      "metadata": {
        "id": "9PYhGyHBVs5L",
        "colab": {
          "base_uri": "https://localhost:8080/"
        },
        "outputId": "01afbffa-e8ce-4d34-bc7c-ccfed621be70"
      },
      "outputs": [
        {
          "output_type": "stream",
          "name": "stderr",
          "text": [
            "/usr/local/lib/python3.7/dist-packages/sklearn/decomposition/_nmf.py:294: FutureWarning: The 'init' value, when 'init=None' and n_components is less than n_samples and n_features, will be changed from 'nndsvd' to 'nndsvda' in 1.1 (renaming of 0.26).\n",
            "  FutureWarning,\n"
          ]
        }
      ],
      "source": [
        "# be careful with memory quota\n",
        "train_target = sps.load_npz('y_train.npz')#.toarray()\n",
        "\n",
        "#redistributor = preprocessing.PowerTransformer()\n",
        "#train_target = redistributor.fit_transform(train_target)\n",
        "\n",
        "normalizer = preprocessing.Normalizer()\n",
        "train_target = normalizer.fit_transform(train_target)\n",
        "\n",
        "tsvd_target = decomposition.TruncatedSVD(n_components=512)#,algorithm='arpack',random_state=random_seed)\n",
        "U_train_target = tsvd_target.fit_transform(train_target)\n",
        "Va_train_target = tsvd_target.components_\n",
        "\n",
        "np.save(\"U_train_target.npy\", U_train_target)\n",
        "np.save(\"Va_train_target.npy\", Va_train_target)\n",
        "\n",
        "del train_target\n",
        "\n",
        "!mv *.npy /content/drive/MyDrive/multimodal_tsvd_arpack"
      ]
    },
    {
      "cell_type": "code",
      "execution_count": null,
      "metadata": {
        "id": "1Kx9Dj_rgFTq"
      },
      "outputs": [],
      "source": [
        "valid_target = sps.load_npz('y_test.npz')#.toarray()\n",
        "\n",
        "#valid_target = redistributor.transform(valid_target)\n",
        "valid_target = normalizer.fit_transform(valid_target)\n",
        "\n",
        "U_valid_target = tsvd_target.transform(valid_target)\n",
        "Va_valid_target = tsvd_target.components_\n",
        "\n",
        "np.save(\"U_valid_target.npy\", U_valid_target)\n",
        "np.save(\"Va_valid_target.npy\", Va_valid_target)\n",
        "\n",
        "joblib.dump(tsvd_target, '/content/drive/MyDrive/multimodal_tsvd_arpack/tsvd_target.pkl')\n",
        "\n",
        "del valid_target, tsvd_target\n",
        "\n",
        "!mv *.npy /content/drive/MyDrive/multimodal_tsvd_arpack"
      ]
    },
    {
      "cell_type": "markdown",
      "metadata": {
        "id": "BmEBkm0wfqPm"
      },
      "source": [
        "For binarized data (input only):"
      ]
    },
    {
      "cell_type": "code",
      "execution_count": null,
      "metadata": {
        "id": "ArproB-2fk6Z"
      },
      "outputs": [],
      "source": [
        "train_input_binary = sps.load_npz('X_train.npz')\n",
        "train_input_binary[train_input_binary.nonzero()]=1\n",
        "\n",
        "tsvd_input_binary = decomposition.TruncatedSVD(n_components=512,algorithm='arpack',random_state=random_seed)\n",
        "U_train_input_binary = tsvd_input_binary.fit_transform(train_input_binary)\n",
        "s_train_input_binary = tsvd_input_binary.singular_values_\n",
        "Va_train_input_binary = tsvd_input_binary.components_\n",
        "\n",
        "np.save(\"U_train_input_binary.npy\", U_train_input_binary)\n",
        "np.save(\"s_train_input_binary.npy\", s_train_input_binary)\n",
        "np.save(\"Va_train_input_binary.npy\", Va_train_input_binary)\n",
        "\n",
        "del train_input_binary\n",
        "\n",
        "!mv *.npy /content/drive/MyDrive/multimodal_tsvd_arpack"
      ]
    },
    {
      "cell_type": "code",
      "execution_count": null,
      "metadata": {
        "id": "9BHqN_MlfhJx"
      },
      "outputs": [],
      "source": [
        "valid_input_binary = sps.load_npz('X_test.npz')\n",
        "valid_input_binary[valid_input_binary.nonzero()]=1\n",
        "\n",
        "U_valid_input_binary = tsvd_input_binary.transform(valid_input_binary)\n",
        "s_valid_input_binary = tsvd_input_binary.singular_values_\n",
        "Va_valid_input_binary = tsvd_input_binary.components_\n",
        "\n",
        "np.save(\"U_valid_input_binary.npy\", U_valid_input_binary)\n",
        "np.save(\"s_valid_input_binary.npy\", s_valid_input_binary)\n",
        "np.save(\"Va_valid_input_binary.npy\", Va_valid_input_binary)\n",
        "\n",
        "joblib.dump(tsvd_input_binary, '/content/drive/MyDrive/multimodal_tsvd_arpack/tsvd_input_binary.pkl')\n",
        "\n",
        "del valid_input_binary, tsvd_input_binary\n",
        "\n",
        "!mv *.npy /content/drive/MyDrive/multimodal_tsvd_arpack"
      ]
    },
    {
      "cell_type": "markdown",
      "metadata": {
        "id": "dc3NswiO5AMb"
      },
      "source": [
        "### Truncated SVD (HVGs)"
      ]
    },
    {
      "cell_type": "code",
      "execution_count": null,
      "metadata": {
        "id": "jjm2XjxJYTE1"
      },
      "outputs": [],
      "source": [
        "!cp /content/drive/MyDrive/multimodal_split/y_train_hvg.npz /content/\n",
        "!cp /content/drive/MyDrive/multimodal_split/y_test_hvg.npz /content/"
      ]
    },
    {
      "cell_type": "code",
      "execution_count": null,
      "metadata": {
        "id": "mHJxEFN7GYod"
      },
      "outputs": [],
      "source": [
        "train_target_hvg= sps.load_npz('y_train_hvg.npz')\n",
        "\n",
        "tsvd_target_hvg = decomposition.TruncatedSVD(n_components=256,algorithm='arpack',random_state=random_seed)\n",
        "\n",
        "U_train_target_hvg = tsvd_target_hvg.fit_transform(train_target_hvg)\n",
        "Va_train_target_hvg = tsvd_target_hvg.components_\n",
        "\n",
        "np.save(\"U_train_target_hvg.npy\", U_train_target_hvg)\n",
        "np.save(\"Va_train_target_hvg.npy\", Va_train_target_hvg)\n",
        "\n",
        "!mv *.npy /content/drive/MyDrive/multimodal_tsvd_arpack"
      ]
    },
    {
      "cell_type": "code",
      "execution_count": null,
      "metadata": {
        "id": "sZtMBIivS5j0"
      },
      "outputs": [],
      "source": [
        "valid_target_hvg= sps.load_npz('y_test_hvg.npz')\n",
        "\n",
        "U_valid_target_hvg = tsvd_target_hvg.transform(valid_target_hvg)\n",
        "Va_valid_target_hvg = tsvd_target_hvg.components_\n",
        "\n",
        "np.save(\"U_valid_target_hvg.npy\", U_valid_target_hvg)\n",
        "np.save(\"Va_valid_target_hvg.npy\", Va_valid_target_hvg)\n",
        "\n",
        "joblib.dump(tsvd_target_hvg, '/content/drive/MyDrive/multimodal_tsvd_arpack/tsvd_target_hvg.pkl')\n",
        "\n",
        "!mv *.npy /content/drive/MyDrive/multimodal_tsvd_arpack"
      ]
    },
    {
      "cell_type": "markdown",
      "metadata": {
        "id": "7_c1SPfVufjk"
      },
      "source": [
        "## PyTorch Workflow (tSVD, all features)"
      ]
    },
    {
      "cell_type": "code",
      "execution_count": 1,
      "metadata": {
        "id": "wtdMsiwduje1"
      },
      "outputs": [],
      "source": [
        "import torch\n",
        "import torch.nn as nn\n",
        "import torch.utils.data as Data\n",
        "from torch.utils.data.sampler import SubsetRandomSampler\n",
        "\n",
        "import random\n",
        "import joblib\n",
        "import numpy as np\n",
        "import pandas as pd\n",
        "import scipy.sparse as sps\n",
        "from scipy import stats\n",
        "from sklearn import preprocessing\n",
        "\n",
        "import matplotlib.pyplot as plt"
      ]
    },
    {
      "cell_type": "markdown",
      "metadata": {
        "id": "z3NTij8swG48"
      },
      "source": [
        "Fix random seeds:"
      ]
    },
    {
      "cell_type": "code",
      "execution_count": 2,
      "metadata": {
        "id": "EIl8JjKLuqWf"
      },
      "outputs": [],
      "source": [
        "random_seed = 3407\n",
        "torch.manual_seed(random_seed)\n",
        "random.seed(random_seed)\n",
        "np.random.seed(random_seed)"
      ]
    },
    {
      "cell_type": "markdown",
      "metadata": {
        "id": "MaDUV5wtLSpW"
      },
      "source": [
        "Prepare files:"
      ]
    },
    {
      "cell_type": "code",
      "execution_count": 3,
      "metadata": {
        "id": "NQ6iFfUeusdU"
      },
      "outputs": [],
      "source": [
        "!cp /content/drive/MyDrive/multimodal_tsvd_arpack/*.npy /content/"
      ]
    },
    {
      "cell_type": "code",
      "execution_count": 4,
      "metadata": {
        "id": "TFkFkvnZuu0J"
      },
      "outputs": [],
      "source": [
        "U_train_input = np.load(\"U_train_input.npy\")\n",
        "U_train_target = np.load(\"U_train_target.npy\")\n",
        "\n",
        "U_valid_input = np.load(\"U_valid_input.npy\")\n",
        "U_valid_target = np.load(\"U_valid_target.npy\")"
      ]
    },
    {
      "cell_type": "code",
      "execution_count": 5,
      "metadata": {
        "id": "IBuJIOzPB-ST"
      },
      "outputs": [],
      "source": [
        "!cp /content/drive/MyDrive/multimodal_split/y_train.npz /content/\n",
        "!cp /content/drive/MyDrive/multimodal_split/y_test.npz /content/"
      ]
    },
    {
      "cell_type": "code",
      "execution_count": 6,
      "metadata": {
        "id": "Xf049aGdblXL"
      },
      "outputs": [],
      "source": [
        "train_target = sps.load_npz('y_train.npz')\n",
        "valid_target = sps.load_npz('y_test.npz')"
      ]
    },
    {
      "cell_type": "code",
      "source": [
        "U_train_input_bin = np.load(\"U_train_input_binary.npy\")\n",
        "U_valid_input_bin = np.load(\"U_valid_input_binary.npy\")"
      ],
      "metadata": {
        "id": "12YHnAlDvuGG"
      },
      "execution_count": 7,
      "outputs": []
    },
    {
      "cell_type": "markdown",
      "metadata": {
        "id": "oD2O1a-bwJdR"
      },
      "source": [
        "#### Normalize targets (for MSE calculation):"
      ]
    },
    {
      "cell_type": "code",
      "execution_count": 8,
      "metadata": {
        "id": "eUG65-vEvD9L"
      },
      "outputs": [],
      "source": [
        "U_train_input_std = U_train_input.std(axis=1).reshape(-1, 1)\n",
        "U_train_input_norm = U_train_input / U_train_input_std"
      ]
    },
    {
      "cell_type": "code",
      "execution_count": 9,
      "metadata": {
        "id": "HJvikhO8jEiQ"
      },
      "outputs": [],
      "source": [
        "U_valid_input_std = U_valid_input.std(axis=1).reshape(-1, 1)\n",
        "U_valid_input_norm = U_valid_input / U_valid_input_std"
      ]
    },
    {
      "cell_type": "code",
      "source": [
        "train_target_mean = np.ma.mean(np.ma.masked_equal(train_target.toarray(),0),axis=1).data\n",
        "valid_target_mean = np.ma.mean(np.ma.masked_equal(valid_target.toarray(),0),axis=1).data"
      ],
      "metadata": {
        "id": "tsHKyknoRAD9"
      },
      "execution_count": 10,
      "outputs": []
    },
    {
      "cell_type": "code",
      "source": [
        "train_target = train_target/train_target_mean.reshape(-1,1)\n",
        "valid_target = valid_target/valid_target_mean.reshape(-1,1)"
      ],
      "metadata": {
        "id": "c3_0i3iza9Et"
      },
      "execution_count": 11,
      "outputs": []
    },
    {
      "cell_type": "markdown",
      "metadata": {
        "id": "Dtd5eQMhwNkX"
      },
      "source": [
        "#### Construct dataset and dataloader:"
      ]
    },
    {
      "cell_type": "code",
      "source": [
        "class TrainDataset(Data.Dataset):\n",
        "    def __init__(self):\n",
        "      self.inputs_data = torch.from_numpy(U_train_input_norm.astype('float32')).cuda()\n",
        "      self.inputs_data_bin = torch.from_numpy(U_train_input_bin.astype('float32')).cuda()\n",
        "\n",
        "      self.targets_data_ori = torch.from_numpy(train_target.astype('float32'))\n",
        "      # send to GPU as a whole due to small size.\n",
        "\n",
        "    def __len__(self):\n",
        "      return self.inputs_data.shape[0]\n",
        "\n",
        "    def __getitem__(self, idx):\n",
        "      inputs_sliced = torch.squeeze(self.inputs_data[idx, ...])\n",
        "      inputs_sliced_bin = torch.squeeze(self.inputs_data_bin[idx, ...])\n",
        "\n",
        "      targets_ori_sliced = torch.squeeze(self.targets_data_ori[idx, ...]).cuda()\n",
        "\n",
        "      return inputs_sliced, inputs_sliced_bin, targets_ori_sliced\n",
        "\n",
        "class ValidDataset(Data.Dataset):\n",
        "    def __init__(self):\n",
        "      self.inputs_data = torch.from_numpy(U_valid_input_norm.astype('float32')).cuda()\n",
        "      self.inputs_data_bin = torch.from_numpy(U_valid_input_bin.astype('float32')).cuda()\n",
        "\n",
        "      self.targets_data_ori = torch.from_numpy(valid_target.astype('float32'))\n",
        "      # large data, send accordingly\n",
        "\n",
        "    def __len__(self):\n",
        "      return self.inputs_data.shape[0]\n",
        "\n",
        "    def __getitem__(self, idx):\n",
        "      inputs_sliced = torch.squeeze(self.inputs_data[idx, ...])\n",
        "      inputs_sliced_bin = torch.squeeze(self.inputs_data_bin[idx, ...])\n",
        "\n",
        "      targets_ori_sliced = torch.squeeze(self.targets_data_ori[idx, ...]).cuda()\n",
        "\n",
        "      return inputs_sliced, inputs_sliced_bin, targets_ori_sliced"
      ],
      "metadata": {
        "id": "J3aEx_uWaEXD"
      },
      "execution_count": 12,
      "outputs": []
    },
    {
      "cell_type": "code",
      "execution_count": 13,
      "metadata": {
        "id": "fT8XmcE_vhjM",
        "colab": {
          "base_uri": "https://localhost:8080/"
        },
        "outputId": "db68e1b1-746b-4e87-ece6-ca6b9125e83a"
      },
      "outputs": [
        {
          "output_type": "execute_result",
          "data": {
            "text/plain": [
              "(332, 83)"
            ]
          },
          "metadata": {},
          "execution_count": 13
        }
      ],
      "source": [
        "batch_size = 256\n",
        "\n",
        "train_dataloader = torch.utils.data.DataLoader(TrainDataset(),\n",
        "                                               batch_size=batch_size,\n",
        "                                               shuffle = True)\n",
        "valid_dataloader = torch.utils.data.DataLoader(ValidDataset(), \n",
        "                                               batch_size=batch_size,\n",
        "                                               shuffle = True)\n",
        "\n",
        "len(train_dataloader), len(valid_dataloader)"
      ]
    },
    {
      "cell_type": "markdown",
      "metadata": {
        "id": "4tZeEdA5wT1V"
      },
      "source": [
        "#### Construct and train a MLP model:"
      ]
    },
    {
      "cell_type": "code",
      "source": [
        "class DenseModel(nn.Module):\n",
        "    def __init__(self,\n",
        "                 input_size=U_train_input.shape[1],\n",
        "                 output_size=train_target.shape[1]):\n",
        "\n",
        "        super(DenseModel, self).__init__()\n",
        "        \n",
        "        self.dense1 = nn.Sequential(\n",
        "            nn.Linear(input_size*2, 2048),\n",
        "            nn.ReLU())\n",
        "        \n",
        "        self.dense2 = nn.Sequential(\n",
        "            nn.Linear(2048, 2048),\n",
        "            nn.BatchNorm1d(2048),\n",
        "            nn.ReLU(),\n",
        "            nn.Dropout(0.5))\n",
        "        \n",
        "        self.dense3 = nn.Sequential(\n",
        "            nn.Linear(2048, 2048),\n",
        "            nn.BatchNorm1d(2048),\n",
        "            nn.ReLU(),\n",
        "            nn.Dropout(0.5))\n",
        "        \n",
        "        self.dense4 = nn.Sequential(\n",
        "            nn.Linear(2048, 2048),\n",
        "            nn.BatchNorm1d(2048),\n",
        "            nn.ReLU(),\n",
        "            nn.Dropout(0.5))\n",
        "        \n",
        "        self.dense5 = nn.Sequential(\n",
        "            nn.Linear(2048, 2048),\n",
        "            nn.BatchNorm1d(2048),\n",
        "            nn.ReLU(),\n",
        "            nn.Dropout(0.5))\n",
        "                \n",
        "        self.dense6 = nn.Sequential(\n",
        "            nn.Linear(2048, output_size))\n",
        "\n",
        "    def forward(self, input_val, input_bin):\n",
        "        output = self.dense1(torch.cat((input_val, input_bin),1))\n",
        "        output = self.dense2(output)\n",
        "        output = self.dense3(output)\n",
        "        output = self.dense4(output)\n",
        "        output = self.dense5(output)\n",
        "        output = self.dense6(output)\n",
        "        return output"
      ],
      "metadata": {
        "id": "wvwYWBQd7Lu_"
      },
      "execution_count": 101,
      "outputs": []
    },
    {
      "cell_type": "code",
      "execution_count": 102,
      "metadata": {
        "id": "emgdI3ShvodC"
      },
      "outputs": [],
      "source": [
        "dense_model = DenseModel().cuda()"
      ]
    },
    {
      "cell_type": "code",
      "execution_count": 103,
      "metadata": {
        "id": "kt_GtOrrvruY"
      },
      "outputs": [],
      "source": [
        "criterion = nn.MSELoss()\n",
        "\n",
        "num_epochs = 100\n",
        "learning_rate = 0.003\n",
        "optimizer = torch.optim.AdamW(params=dense_model.parameters(), lr=learning_rate)\n",
        "scheduler = torch.optim.lr_scheduler.ReduceLROnPlateau(optimizer)"
      ]
    },
    {
      "cell_type": "code",
      "execution_count": 104,
      "metadata": {
        "id": "zVxlL-CMvxkW",
        "colab": {
          "base_uri": "https://localhost:8080/"
        },
        "outputId": "4a8f6b0b-0756-4c21-87d4-bf39e08fbd43"
      },
      "outputs": [
        {
          "output_type": "stream",
          "name": "stdout",
          "text": [
            "epoch 1 | train_loss: 2.4728 | valid_loss: 0.0843\n",
            "epoch 2 | train_loss: 0.0814 | valid_loss: 0.18\n",
            "epoch 3 | train_loss: 0.0899 | valid_loss: 0.0807\n",
            "epoch 4 | train_loss: 0.0795 | valid_loss: 0.0806\n",
            "epoch 5 | train_loss: 0.0791 | valid_loss: 0.0782\n",
            "epoch 6 | train_loss: 0.0778 | valid_loss: 0.0779\n",
            "epoch 7 | train_loss: 0.0774 | valid_loss: 0.0789\n",
            "epoch 8 | train_loss: 0.0775 | valid_loss: 0.1047\n",
            "epoch 9 | train_loss: 0.0819 | valid_loss: 0.0793\n",
            "epoch 10 | train_loss: 0.0788 | valid_loss: 0.0784\n",
            "epoch 11 | train_loss: 0.0781 | valid_loss: 0.0779\n",
            "epoch 12 | train_loss: 0.0776 | valid_loss: 0.0777\n",
            "epoch 13 | train_loss: 0.0773 | valid_loss: 0.0807\n",
            "epoch 14 | train_loss: 0.0855 | valid_loss: 0.0815\n",
            "epoch 15 | train_loss: 0.0808 | valid_loss: 0.0802\n",
            "epoch 16 | train_loss: 0.0803 | valid_loss: 0.0798\n",
            "epoch 17 | train_loss: 0.0795 | valid_loss: 0.0794\n",
            "epoch 18 | train_loss: 0.079 | valid_loss: 0.0789\n",
            "epoch 19 | train_loss: 0.0787 | valid_loss: 0.0787\n",
            "epoch 20 | train_loss: 0.0784 | valid_loss: 0.0785\n",
            "epoch 21 | train_loss: 0.0781 | valid_loss: 0.0784\n",
            "epoch 22 | train_loss: 0.0777 | valid_loss: 0.0779\n",
            "epoch 23 | train_loss: 0.0774 | valid_loss: 0.0777\n",
            "epoch 24 | train_loss: 0.077 | valid_loss: 0.0776\n",
            "epoch 25 | train_loss: 0.0769 | valid_loss: 0.0776\n",
            "epoch 26 | train_loss: 0.0768 | valid_loss: 0.0776\n",
            "epoch 27 | train_loss: 0.0767 | valid_loss: 0.0776\n",
            "epoch 28 | train_loss: 0.0767 | valid_loss: 0.0776\n",
            "epoch 29 | train_loss: 0.0766 | valid_loss: 0.0776\n",
            "epoch 30 | train_loss: 0.0766 | valid_loss: 0.0775\n",
            "epoch 31 | train_loss: 0.0765 | valid_loss: 0.0775\n",
            "epoch 32 | train_loss: 0.0764 | valid_loss: 0.0775\n",
            "epoch 33 | train_loss: 0.0764 | valid_loss: 0.0775\n",
            "epoch 34 | train_loss: 0.0763 | valid_loss: 0.0775\n",
            "epoch 35 | train_loss: 0.0763 | valid_loss: 0.0774\n",
            "epoch 36 | train_loss: 0.0764 | valid_loss: 0.0775\n",
            "epoch 37 | train_loss: 0.0763 | valid_loss: 0.0775\n",
            "epoch 38 | train_loss: 0.0762 | valid_loss: 0.0774\n",
            "epoch 39 | train_loss: 0.0762 | valid_loss: 0.0775\n",
            "epoch 40 | train_loss: 0.0761 | valid_loss: 0.0774\n",
            "epoch 41 | train_loss: 0.0761 | valid_loss: 0.0774\n",
            "epoch 42 | train_loss: 0.0761 | valid_loss: 0.0774\n",
            "epoch 43 | train_loss: 0.076 | valid_loss: 0.0774\n",
            "epoch 44 | train_loss: 0.076 | valid_loss: 0.0774\n",
            "epoch 45 | train_loss: 0.0759 | valid_loss: 0.0773\n",
            "epoch 46 | train_loss: 0.0759 | valid_loss: 0.0774\n",
            "epoch 47 | train_loss: 0.0758 | valid_loss: 0.0773\n",
            "epoch 48 | train_loss: 0.0758 | valid_loss: 0.0773\n",
            "epoch 49 | train_loss: 0.0757 | valid_loss: 0.0773\n",
            "epoch 50 | train_loss: 0.0757 | valid_loss: 0.0773\n",
            "epoch 51 | train_loss: 0.0756 | valid_loss: 0.0773\n",
            "epoch 52 | train_loss: 0.0756 | valid_loss: 0.0772\n",
            "epoch 53 | train_loss: 0.0755 | valid_loss: 0.0772\n",
            "epoch 54 | train_loss: 0.0755 | valid_loss: 0.0772\n",
            "epoch 55 | train_loss: 0.0754 | valid_loss: 0.0774\n",
            "epoch 56 | train_loss: 0.0753 | valid_loss: 0.0772\n",
            "epoch 57 | train_loss: 0.0753 | valid_loss: 0.0771\n",
            "epoch 58 | train_loss: 0.0752 | valid_loss: 0.0771\n",
            "epoch 59 | train_loss: 0.0752 | valid_loss: 0.077\n",
            "epoch 60 | train_loss: 0.0751 | valid_loss: 0.0773\n",
            "epoch 61 | train_loss: 0.075 | valid_loss: 0.077\n",
            "epoch 62 | train_loss: 0.075 | valid_loss: 0.0771\n",
            "epoch 63 | train_loss: 0.0749 | valid_loss: 0.0769\n",
            "epoch 64 | train_loss: 0.0749 | valid_loss: 0.077\n",
            "epoch 65 | train_loss: 0.0748 | valid_loss: 0.0769\n",
            "epoch 66 | train_loss: 0.0748 | valid_loss: 0.077\n",
            "epoch 67 | train_loss: 0.0747 | valid_loss: 0.0769\n",
            "epoch 68 | train_loss: 0.0747 | valid_loss: 0.0769\n",
            "epoch 69 | train_loss: 0.0747 | valid_loss: 0.0768\n",
            "epoch 70 | train_loss: 0.0746 | valid_loss: 0.077\n",
            "epoch 71 | train_loss: 0.0746 | valid_loss: 0.0767\n",
            "epoch 72 | train_loss: 0.0745 | valid_loss: 0.0767\n",
            "epoch 73 | train_loss: 0.0745 | valid_loss: 0.0767\n",
            "epoch 74 | train_loss: 0.0745 | valid_loss: 0.0766\n",
            "epoch 75 | train_loss: 0.0744 | valid_loss: 0.0767\n",
            "epoch 76 | train_loss: 0.0744 | valid_loss: 0.0766\n",
            "epoch 77 | train_loss: 0.0744 | valid_loss: 0.0766\n",
            "epoch 78 | train_loss: 0.0744 | valid_loss: 0.0766\n",
            "epoch 79 | train_loss: 0.0743 | valid_loss: 0.0765\n",
            "epoch 80 | train_loss: 0.0743 | valid_loss: 0.0767\n",
            "epoch 81 | train_loss: 0.0742 | valid_loss: 0.0765\n",
            "epoch 82 | train_loss: 0.0742 | valid_loss: 0.0766\n",
            "epoch 83 | train_loss: 0.0742 | valid_loss: 0.0766\n",
            "epoch 84 | train_loss: 0.0742 | valid_loss: 0.0765\n",
            "epoch 85 | train_loss: 0.0741 | valid_loss: 0.0765\n",
            "epoch 86 | train_loss: 0.0741 | valid_loss: 0.0765\n",
            "epoch 87 | train_loss: 0.0741 | valid_loss: 0.0766\n",
            "epoch 88 | train_loss: 0.0741 | valid_loss: 0.0767\n",
            "epoch 89 | train_loss: 0.0741 | valid_loss: 0.0765\n",
            "epoch 90 | train_loss: 0.074 | valid_loss: 0.0764\n",
            "epoch 91 | train_loss: 0.074 | valid_loss: 0.0765\n",
            "epoch 92 | train_loss: 0.074 | valid_loss: 0.0763\n",
            "epoch 93 | train_loss: 0.074 | valid_loss: 0.0764\n",
            "epoch 94 | train_loss: 0.0739 | valid_loss: 0.0764\n",
            "epoch 95 | train_loss: 0.0739 | valid_loss: 0.0764\n",
            "epoch 96 | train_loss: 0.0739 | valid_loss: 0.0763\n",
            "epoch 97 | train_loss: 0.0739 | valid_loss: 0.0763\n",
            "epoch 98 | train_loss: 0.0739 | valid_loss: 0.0765\n",
            "epoch 99 | train_loss: 0.0739 | valid_loss: 0.0763\n",
            "epoch 100 | train_loss: 0.0738 | valid_loss: 0.0763\n"
          ]
        }
      ],
      "source": [
        "metric_train = np.zeros(shape=num_epochs)\n",
        "metric_valid = np.zeros(shape=num_epochs)\n",
        "\n",
        "for epoch in range(num_epochs):\n",
        "\n",
        "    loss_train = np.zeros(shape=len(train_dataloader))\n",
        "    weights_train = np.zeros(shape=len(train_dataloader))\n",
        "    \n",
        "    for i, (input_val, input_bin, targets_ori) in enumerate(train_dataloader):\n",
        "        weights_train[i] = targets_ori.shape[0]\n",
        "\n",
        "        dense_model.train()\n",
        "\n",
        "        outputs = dense_model(input_val, input_bin)\n",
        "\n",
        "        loss = criterion(outputs, targets_ori)\n",
        "\n",
        "        optimizer.zero_grad()\n",
        "        loss.backward()\n",
        "        optimizer.step()\n",
        "\n",
        "        dense_model.eval()\n",
        "        with torch.no_grad():\n",
        "          outputs = dense_model(input_val, input_bin)\n",
        "          loss_train[i] = criterion(outputs, targets_ori)\n",
        "\n",
        "    loss_valid = np.zeros(shape=len(valid_dataloader))\n",
        "    weights_valid = np.zeros(shape=len(valid_dataloader))\n",
        "\n",
        "    with torch.no_grad():\n",
        "        for i, (input_val, input_bin, targets_ori) in enumerate(valid_dataloader):\n",
        "          weights_valid[i] = targets_ori.shape[0]\n",
        "\n",
        "          outputs = dense_model(input_val, input_bin)\n",
        "          loss_valid[i] = criterion(outputs, targets_ori)\n",
        "\n",
        "    metric_train[epoch] = np.average(loss_train, weights=weights_train)\n",
        "    metric_valid[epoch] = np.average(loss_valid, weights=weights_valid)\n",
        "\n",
        "    scheduler.step(metric_valid[epoch])\n",
        "\n",
        "    print('epoch', epoch+1,\n",
        "          '| train_loss:',round(metric_train[epoch],4),\n",
        "          '| valid_loss:',round(metric_valid[epoch],4))"
      ]
    },
    {
      "cell_type": "code",
      "execution_count": 105,
      "metadata": {
        "id": "vzu-VlXAvx_0",
        "colab": {
          "base_uri": "https://localhost:8080/",
          "height": 265
        },
        "outputId": "238c15d3-0184-4b5d-9e70-948c7c037595"
      },
      "outputs": [
        {
          "output_type": "display_data",
          "data": {
            "text/plain": [
              "<Figure size 432x288 with 1 Axes>"
            ],
            "image/png": "[encoded data removed]"
          },
          "metadata": {
            "needs_background": "light"
          }
        }
      ],
      "source": [
        "plt.plot(metric_train[1:epoch], color='r')\n",
        "plt.plot(metric_valid[1:epoch], color='g')\n",
        "plt.show()"
      ]
    },
    {
      "cell_type": "markdown",
      "metadata": {
        "id": "yvpjrlT7wXKf"
      },
      "source": [
        "#### Evaluation by correlation"
      ]
    },
    {
      "cell_type": "code",
      "execution_count": 106,
      "metadata": {
        "id": "0umPqVMtwAeu"
      },
      "outputs": [],
      "source": [
        "def pcorr_vec(X,Y):\n",
        "  Xnorm = X-X.mean(axis=1).reshape(-1, 1)\n",
        "  Ynorm = Y-Y.mean(axis=1).reshape(-1, 1)\n",
        "  cov = torch.diagonal(torch.matmul(Xnorm,torch.transpose(Ynorm,1,0)))\n",
        "  Xsigma2 = torch.diagonal(torch.matmul(Xnorm,torch.transpose(Xnorm,1,0)))\n",
        "  Ysigma2 = torch.diagonal(torch.matmul(Ynorm,torch.transpose(Ynorm,1,0)))\n",
        "  sigma = torch.sqrt(torch.mul(Xsigma2,Ysigma2))\n",
        "  return torch.mean(cov/sigma)"
      ]
    },
    {
      "cell_type": "code",
      "execution_count": 28,
      "metadata": {
        "id": "kBOgUuW6RmOO"
      },
      "outputs": [],
      "source": [
        "Va_valid_target = torch.from_numpy(np.load(\"Va_valid_target.npy\").astype('float32')).cuda()"
      ]
    },
    {
      "cell_type": "code",
      "execution_count": 29,
      "metadata": {
        "id": "zeKDZh93w3mT",
        "colab": {
          "base_uri": "https://localhost:8080/"
        },
        "outputId": "e4eb259a-f165-41e7-deac-39567b5ec74a"
      },
      "outputs": [
        {
          "output_type": "execute_result",
          "data": {
            "text/plain": [
              "0.66785"
            ]
          },
          "metadata": {},
          "execution_count": 29
        }
      ],
      "source": [
        "dense_model.eval()\n",
        "\n",
        "#pcorr_avg_decomp = np.zeros(shape=len(valid_dataloader))\n",
        "#pcorr_avg_recomp = np.zeros(shape=len(valid_dataloader))\n",
        "pcorr_avg_true = np.zeros(shape=len(valid_dataloader))\n",
        "weights = np.zeros(shape=len(valid_dataloader))\n",
        "\n",
        "with torch.no_grad():\n",
        "    for i, (input_val, input_bin, targets_ori) in enumerate(valid_dataloader):\n",
        "\n",
        "      outputs = dense_model(input_val, input_bin)\n",
        "\n",
        "      #A_targets = torch.matmul(targets,Va_valid_target)\n",
        "      #A_outputs = torch.matmul(outputs,Va_valid_target)\n",
        "      \n",
        "      weights[i] = outputs.shape[0]\n",
        "      #pcorr_avg_decomp[i] = pcorr_vec(targets,outputs)\n",
        "      #pcorr_avg_recomp[i] = pcorr_vec(A_targets,A_outputs)\n",
        "      pcorr_avg_true[i] = pcorr_vec(targets_ori,outputs)\n",
        "\n",
        "#score_decomp = round(np.average(pcorr_avg_decomp,weights = weights),6)\n",
        "#score_recomp = round(np.average(pcorr_avg_recomp,weights = weights),6)\n",
        "score_true = round(np.average(pcorr_avg_true,weights = weights),6)\n",
        "\n",
        "#score_decomp, score_recomp, \n",
        "score_true"
      ]
    },
    {
      "cell_type": "code",
      "source": [
        "torch.save(dense_model.state_dict(), '/content/drive/MyDrive/dense_model.pt')"
      ],
      "metadata": {
        "id": "t_dNT_Trd1Ik"
      },
      "execution_count": 30,
      "outputs": []
    },
    {
      "cell_type": "markdown",
      "metadata": {
        "id": "j5jazFWBH6vu"
      },
      "source": [
        "## PyTorch Workflow (tSVD, HVGs)"
      ]
    },
    {
      "cell_type": "code",
      "execution_count": 31,
      "metadata": {
        "id": "paUZ8k6mH6vx"
      },
      "outputs": [],
      "source": [
        "import torch\n",
        "import torch.nn as nn\n",
        "import torch.utils.data as Data\n",
        "from torch.utils.data.sampler import SubsetRandomSampler\n",
        "\n",
        "import random\n",
        "import joblib\n",
        "import numpy as np\n",
        "import pandas as pd\n",
        "import scipy.sparse as sps\n",
        "from scipy import stats\n",
        "\n",
        "import matplotlib.pyplot as plt"
      ]
    },
    {
      "cell_type": "markdown",
      "metadata": {
        "id": "ImspV3tzH6vy"
      },
      "source": [
        "Fix random seeds:"
      ]
    },
    {
      "cell_type": "code",
      "execution_count": 32,
      "metadata": {
        "id": "zQfcn36tH6vy"
      },
      "outputs": [],
      "source": [
        "random_seed = 3407\n",
        "torch.manual_seed(random_seed)\n",
        "random.seed(random_seed)\n",
        "np.random.seed(random_seed)"
      ]
    },
    {
      "cell_type": "markdown",
      "metadata": {
        "id": "fsinNHkNH6vz"
      },
      "source": [
        "Prepare files:"
      ]
    },
    {
      "cell_type": "code",
      "execution_count": 33,
      "metadata": {
        "id": "-AhPrBRXH6vz"
      },
      "outputs": [],
      "source": [
        "!cp /content/drive/MyDrive/multimodal_tsvd_arpack/*.npy /content/"
      ]
    },
    {
      "cell_type": "code",
      "execution_count": 34,
      "metadata": {
        "id": "fdEUyJsHH6vz"
      },
      "outputs": [],
      "source": [
        "U_train_input = np.load(\"U_train_input.npy\")\n",
        "U_train_input_bin = np.load(\"U_train_input_binary.npy\")\n",
        "\n",
        "U_valid_input = np.load(\"U_valid_input.npy\")\n",
        "U_valid_input_bin = np.load(\"U_valid_input_binary.npy\")"
      ]
    },
    {
      "cell_type": "code",
      "execution_count": 35,
      "metadata": {
        "id": "TFsHSjMQH6vz"
      },
      "outputs": [],
      "source": [
        "!cp /content/drive/MyDrive/multimodal_split/y_train_hvg.npz /content/\n",
        "!cp /content/drive/MyDrive/multimodal_split/y_test_hvg.npz /content/"
      ]
    },
    {
      "cell_type": "code",
      "execution_count": 36,
      "metadata": {
        "id": "OQTW6_efH6vz"
      },
      "outputs": [],
      "source": [
        "train_target_hvg = sps.load_npz('y_train_hvg.npz')\n",
        "valid_target_hvg = sps.load_npz('y_test_hvg.npz')"
      ]
    },
    {
      "cell_type": "markdown",
      "metadata": {
        "id": "0RajGU-EH6vz"
      },
      "source": [
        "#### Normalize targets (for MSE calculation):"
      ]
    },
    {
      "cell_type": "code",
      "execution_count": 37,
      "metadata": {
        "id": "lnoP64HnH6v0"
      },
      "outputs": [],
      "source": [
        "U_train_input_std = U_train_input.std(axis=1).reshape(-1, 1)\n",
        "U_train_input_norm = U_train_input / U_train_input_std"
      ]
    },
    {
      "cell_type": "code",
      "execution_count": 38,
      "metadata": {
        "id": "W8NCpjExH6v0"
      },
      "outputs": [],
      "source": [
        "U_valid_input_std = U_valid_input.std(axis=1).reshape(-1, 1)\n",
        "U_valid_input_norm = U_valid_input / U_valid_input_std"
      ]
    },
    {
      "cell_type": "code",
      "source": [
        "train_target_hvg = train_target_hvg/train_target_mean.reshape(-1,1)\n",
        "valid_target_hvg = valid_target_hvg/valid_target_mean.reshape(-1,1)"
      ],
      "metadata": {
        "id": "r44zXEM4Vkdu"
      },
      "execution_count": 39,
      "outputs": []
    },
    {
      "cell_type": "markdown",
      "metadata": {
        "id": "0WKDAp0_H6v0"
      },
      "source": [
        "#### Construct dataset and dataloader:"
      ]
    },
    {
      "cell_type": "code",
      "execution_count": 42,
      "metadata": {
        "id": "xLjZ4cUyH6v0"
      },
      "outputs": [],
      "source": [
        "class TrainDatasetHVG(Data.Dataset):\n",
        "    def __init__(self):\n",
        "      self.inputs_data = torch.from_numpy(U_train_input_norm.astype('float32')).cuda()\n",
        "      self.inputs_data_bin = torch.from_numpy(U_train_input_bin.astype('float32')).cuda()\n",
        "\n",
        "      self.targets_data_ori = torch.from_numpy(train_target_hvg.astype('float32'))\n",
        "      # send to GPU as a whole due to small size.\n",
        "\n",
        "    def __len__(self):\n",
        "      return self.inputs_data.shape[0]\n",
        "\n",
        "    def __getitem__(self, idx):\n",
        "      inputs_sliced = torch.squeeze(self.inputs_data[idx, ...])\n",
        "      inputs_sliced_bin = torch.squeeze(self.inputs_data_bin[idx, ...])\n",
        "\n",
        "      targets_ori_sliced = torch.squeeze(self.targets_data_ori[idx, ...]).cuda()\n",
        "\n",
        "      return inputs_sliced, inputs_sliced_bin, targets_ori_sliced\n",
        "\n",
        "class ValidDatasetHVG(Data.Dataset):\n",
        "    def __init__(self):\n",
        "      self.inputs_data = torch.from_numpy(U_valid_input_norm.astype('float32')).cuda()\n",
        "      self.inputs_data_bin = torch.from_numpy(U_valid_input_bin.astype('float32')).cuda()\n",
        "\n",
        "      self.targets_data_ori = torch.from_numpy(valid_target_hvg.astype('float32'))\n",
        "      # large true data, send accordingly\n",
        "\n",
        "    def __len__(self):\n",
        "      return self.inputs_data.shape[0]\n",
        "\n",
        "    def __getitem__(self, idx):\n",
        "      inputs_sliced = torch.squeeze(self.inputs_data[idx, ...])\n",
        "      inputs_sliced_bin = torch.squeeze(self.inputs_data_bin[idx, ...])\n",
        "\n",
        "      targets_ori_sliced = torch.squeeze(self.targets_data_ori[idx, ...]).cuda()\n",
        "\n",
        "      return inputs_sliced, inputs_sliced_bin, targets_ori_sliced"
      ]
    },
    {
      "cell_type": "code",
      "execution_count": 43,
      "metadata": {
        "id": "fsp0CPcIH6v1",
        "colab": {
          "base_uri": "https://localhost:8080/"
        },
        "outputId": "187261c0-ddcb-40d8-b823-a10cba5e1ecc"
      },
      "outputs": [
        {
          "output_type": "execute_result",
          "data": {
            "text/plain": [
              "(332, 83)"
            ]
          },
          "metadata": {},
          "execution_count": 43
        }
      ],
      "source": [
        "batch_size = 256\n",
        "\n",
        "train_dataloader_hvg = torch.utils.data.DataLoader(TrainDatasetHVG(),\n",
        "                                               batch_size=batch_size,\n",
        "                                               shuffle = True)\n",
        "valid_dataloader_hvg = torch.utils.data.DataLoader(ValidDatasetHVG(), \n",
        "                                               batch_size=batch_size,\n",
        "                                               shuffle = True)\n",
        "\n",
        "len(train_dataloader_hvg), len(valid_dataloader_hvg)"
      ]
    },
    {
      "cell_type": "markdown",
      "metadata": {
        "id": "J5OYq1wlH6v1"
      },
      "source": [
        "#### Construct and train a MLP model:"
      ]
    },
    {
      "cell_type": "code",
      "execution_count": 44,
      "metadata": {
        "id": "NvkF8GEDH6v1"
      },
      "outputs": [],
      "source": [
        "class DenseModelHVG(nn.Module):\n",
        "    def __init__(self,\n",
        "                 input_size=U_train_input.shape[1],\n",
        "                 output_size=train_target_hvg.shape[1]):\n",
        "\n",
        "        super(DenseModelHVG, self).__init__()\n",
        "\n",
        "        self.dense1 = nn.Sequential(\n",
        "            nn.Linear(input_size*2, 2048),\n",
        "            nn.ReLU())\n",
        "        \n",
        "        self.dense2 = nn.Sequential(\n",
        "            nn.Linear(2048, 2048),\n",
        "            nn.BatchNorm1d(2048),\n",
        "            nn.ReLU(),\n",
        "            nn.Dropout(0.5))\n",
        "        \n",
        "        self.dense3 = nn.Sequential(\n",
        "            nn.Linear(2048, 2048),\n",
        "            nn.BatchNorm1d(2048),\n",
        "            nn.ReLU(),\n",
        "            nn.Dropout(0.5))\n",
        "        \n",
        "        self.dense4 = nn.Sequential(\n",
        "            nn.Linear(2048, 2048),\n",
        "            nn.BatchNorm1d(2048),\n",
        "            nn.ReLU(),\n",
        "            nn.Dropout(0.5))\n",
        "        \n",
        "        self.dense5 = nn.Sequential(\n",
        "            nn.Linear(2048, 2048),\n",
        "            nn.BatchNorm1d(2048),\n",
        "            nn.ReLU(),\n",
        "            nn.Dropout(0.5))\n",
        "                \n",
        "        self.dense6 = nn.Sequential(\n",
        "            nn.Linear(2048, output_size))\n",
        "\n",
        "    def forward(self, input_val, input_bin):\n",
        "        output = self.dense1(torch.cat((input_val,input_bin),1))\n",
        "        output = self.dense2(output)\n",
        "        output = self.dense3(output)\n",
        "        output = self.dense4(output)\n",
        "        output = self.dense5(output)\n",
        "        output = self.dense6(output)\n",
        "        return output"
      ]
    },
    {
      "cell_type": "code",
      "execution_count": 51,
      "metadata": {
        "id": "TLagKBB0H6v2"
      },
      "outputs": [],
      "source": [
        "dense_model_hvg = DenseModelHVG().cuda()"
      ]
    },
    {
      "cell_type": "code",
      "execution_count": 52,
      "metadata": {
        "id": "lZ0PX-qrH6v2"
      },
      "outputs": [],
      "source": [
        "criterion = nn.MSELoss()\n",
        "\n",
        "num_epochs = 100\n",
        "learning_rate = 0.003\n",
        "optimizer = torch.optim.AdamW(params=dense_model_hvg.parameters(), lr=learning_rate)\n",
        "scheduler = torch.optim.lr_scheduler.ReduceLROnPlateau(optimizer)"
      ]
    },
    {
      "cell_type": "code",
      "execution_count": 53,
      "metadata": {
        "id": "yAfOOuu9H6v2",
        "colab": {
          "base_uri": "https://localhost:8080/"
        },
        "outputId": "91af6804-8913-46d4-ae41-66acfab63ff9"
      },
      "outputs": [
        {
          "output_type": "stream",
          "name": "stdout",
          "text": [
            "epoch 1 | train_loss: 0.1705 | valid_loss: 0.0709\n",
            "epoch 2 | train_loss: 0.0687 | valid_loss: 0.0921\n",
            "epoch 3 | train_loss: 0.0741 | valid_loss: 0.0692\n",
            "epoch 4 | train_loss: 0.0677 | valid_loss: 0.0668\n",
            "epoch 5 | train_loss: 0.0664 | valid_loss: 0.0671\n",
            "epoch 6 | train_loss: 0.0665 | valid_loss: 0.0658\n",
            "epoch 7 | train_loss: 0.0655 | valid_loss: 0.0656\n",
            "epoch 8 | train_loss: 0.0651 | valid_loss: 0.0665\n",
            "epoch 9 | train_loss: 0.0659 | valid_loss: 0.067\n",
            "epoch 10 | train_loss: 0.0673 | valid_loss: 0.0669\n",
            "epoch 11 | train_loss: 0.0674 | valid_loss: 0.0663\n",
            "epoch 12 | train_loss: 0.0659 | valid_loss: 0.0658\n",
            "epoch 13 | train_loss: 0.0654 | valid_loss: 0.0656\n",
            "epoch 14 | train_loss: 0.0651 | valid_loss: 0.0657\n",
            "epoch 15 | train_loss: 0.0649 | valid_loss: 0.0654\n",
            "epoch 16 | train_loss: 0.0647 | valid_loss: 0.0654\n",
            "epoch 17 | train_loss: 0.0644 | valid_loss: 0.0654\n",
            "epoch 18 | train_loss: 0.0641 | valid_loss: 0.065\n",
            "epoch 19 | train_loss: 0.0638 | valid_loss: 0.0651\n",
            "epoch 20 | train_loss: 0.0635 | valid_loss: 0.0647\n",
            "epoch 21 | train_loss: 0.0634 | valid_loss: 0.0645\n",
            "epoch 22 | train_loss: 0.063 | valid_loss: 0.0645\n",
            "epoch 23 | train_loss: 0.0628 | valid_loss: 0.0647\n",
            "epoch 24 | train_loss: 0.0627 | valid_loss: 0.0642\n",
            "epoch 25 | train_loss: 0.0626 | valid_loss: 0.0642\n",
            "epoch 26 | train_loss: 0.0626 | valid_loss: 0.0642\n",
            "epoch 27 | train_loss: 0.0623 | valid_loss: 0.0641\n",
            "epoch 28 | train_loss: 0.0623 | valid_loss: 0.0641\n",
            "epoch 29 | train_loss: 0.0621 | valid_loss: 0.0642\n",
            "epoch 30 | train_loss: 0.062 | valid_loss: 0.0642\n",
            "epoch 31 | train_loss: 0.062 | valid_loss: 0.0639\n",
            "epoch 32 | train_loss: 0.0619 | valid_loss: 0.0639\n",
            "epoch 33 | train_loss: 0.0617 | valid_loss: 0.0639\n",
            "epoch 34 | train_loss: 0.0618 | valid_loss: 0.064\n",
            "epoch 35 | train_loss: 0.0616 | valid_loss: 0.064\n",
            "epoch 36 | train_loss: 0.0615 | valid_loss: 0.0638\n",
            "epoch 37 | train_loss: 0.0614 | valid_loss: 0.0639\n",
            "epoch 38 | train_loss: 0.0613 | valid_loss: 0.0638\n",
            "epoch 39 | train_loss: 0.0613 | valid_loss: 0.0637\n",
            "epoch 40 | train_loss: 0.0616 | valid_loss: 0.0642\n",
            "epoch 41 | train_loss: 0.0613 | valid_loss: 0.0637\n",
            "epoch 42 | train_loss: 0.0613 | valid_loss: 0.0638\n",
            "epoch 43 | train_loss: 0.0611 | valid_loss: 0.064\n",
            "epoch 44 | train_loss: 0.0611 | valid_loss: 0.0637\n",
            "epoch 45 | train_loss: 0.061 | valid_loss: 0.0637\n",
            "epoch 46 | train_loss: 0.061 | valid_loss: 0.0638\n",
            "epoch 47 | train_loss: 0.0609 | valid_loss: 0.0637\n",
            "epoch 48 | train_loss: 0.0609 | valid_loss: 0.0637\n",
            "epoch 49 | train_loss: 0.0609 | valid_loss: 0.0639\n",
            "epoch 50 | train_loss: 0.061 | valid_loss: 0.064\n",
            "epoch 51 | train_loss: 0.0608 | valid_loss: 0.0634\n",
            "epoch 52 | train_loss: 0.0606 | valid_loss: 0.0635\n",
            "epoch 53 | train_loss: 0.0606 | valid_loss: 0.0635\n",
            "epoch 54 | train_loss: 0.0605 | valid_loss: 0.0635\n",
            "epoch 55 | train_loss: 0.0605 | valid_loss: 0.0635\n",
            "epoch 56 | train_loss: 0.0605 | valid_loss: 0.0634\n",
            "epoch 57 | train_loss: 0.0605 | valid_loss: 0.0635\n",
            "epoch 58 | train_loss: 0.0604 | valid_loss: 0.0635\n",
            "epoch 59 | train_loss: 0.0604 | valid_loss: 0.0635\n",
            "epoch 60 | train_loss: 0.0604 | valid_loss: 0.0635\n",
            "epoch 61 | train_loss: 0.0604 | valid_loss: 0.0634\n",
            "epoch 62 | train_loss: 0.0604 | valid_loss: 0.0634\n",
            "epoch 63 | train_loss: 0.0603 | valid_loss: 0.0634\n",
            "epoch 64 | train_loss: 0.0603 | valid_loss: 0.0635\n",
            "epoch 65 | train_loss: 0.0603 | valid_loss: 0.0635\n",
            "epoch 66 | train_loss: 0.0603 | valid_loss: 0.0636\n",
            "epoch 67 | train_loss: 0.0603 | valid_loss: 0.0635\n",
            "epoch 68 | train_loss: 0.0602 | valid_loss: 0.0635\n",
            "epoch 69 | train_loss: 0.0602 | valid_loss: 0.0635\n",
            "epoch 70 | train_loss: 0.0602 | valid_loss: 0.0635\n",
            "epoch 71 | train_loss: 0.0602 | valid_loss: 0.0634\n",
            "epoch 72 | train_loss: 0.0602 | valid_loss: 0.0635\n",
            "epoch 73 | train_loss: 0.0602 | valid_loss: 0.0636\n",
            "epoch 74 | train_loss: 0.0602 | valid_loss: 0.0635\n",
            "epoch 75 | train_loss: 0.0602 | valid_loss: 0.0635\n",
            "epoch 76 | train_loss: 0.0602 | valid_loss: 0.0634\n",
            "epoch 77 | train_loss: 0.0602 | valid_loss: 0.0634\n",
            "epoch 78 | train_loss: 0.0602 | valid_loss: 0.0635\n",
            "epoch 79 | train_loss: 0.0602 | valid_loss: 0.0635\n",
            "epoch 80 | train_loss: 0.0602 | valid_loss: 0.0635\n",
            "epoch 81 | train_loss: 0.0602 | valid_loss: 0.0635\n",
            "epoch 82 | train_loss: 0.0602 | valid_loss: 0.0635\n",
            "epoch 83 | train_loss: 0.0602 | valid_loss: 0.0635\n",
            "epoch 84 | train_loss: 0.0602 | valid_loss: 0.0634\n",
            "epoch 85 | train_loss: 0.0602 | valid_loss: 0.0634\n",
            "epoch 86 | train_loss: 0.0602 | valid_loss: 0.0634\n",
            "epoch 87 | train_loss: 0.0602 | valid_loss: 0.0636\n",
            "epoch 88 | train_loss: 0.0602 | valid_loss: 0.0635\n",
            "epoch 89 | train_loss: 0.0602 | valid_loss: 0.0635\n",
            "epoch 90 | train_loss: 0.0602 | valid_loss: 0.0635\n",
            "epoch 91 | train_loss: 0.0602 | valid_loss: 0.0635\n",
            "epoch 92 | train_loss: 0.0602 | valid_loss: 0.0634\n",
            "epoch 93 | train_loss: 0.0602 | valid_loss: 0.0635\n",
            "epoch 94 | train_loss: 0.0602 | valid_loss: 0.0635\n",
            "epoch 95 | train_loss: 0.0602 | valid_loss: 0.0634\n",
            "epoch 96 | train_loss: 0.0602 | valid_loss: 0.0634\n",
            "epoch 97 | train_loss: 0.0602 | valid_loss: 0.0635\n",
            "epoch 98 | train_loss: 0.0602 | valid_loss: 0.0634\n",
            "epoch 99 | train_loss: 0.0602 | valid_loss: 0.0634\n",
            "epoch 100 | train_loss: 0.0602 | valid_loss: 0.0635\n"
          ]
        }
      ],
      "source": [
        "metric_train = np.zeros(shape=num_epochs)\n",
        "metric_valid = np.zeros(shape=num_epochs)\n",
        "\n",
        "for epoch in range(num_epochs):\n",
        "    loss_train = np.zeros(shape=len(train_dataloader_hvg))\n",
        "    weights_train = np.zeros(shape=len(train_dataloader_hvg))\n",
        "    \n",
        "    for i, (inputs_val, inputs_bin, targets_ori) in enumerate(train_dataloader_hvg):\n",
        "        weights_train[i] = targets_ori.shape[0]\n",
        "\n",
        "        dense_model_hvg.train()\n",
        "\n",
        "        outputs = dense_model_hvg(inputs_val, inputs_bin)\n",
        "        loss = criterion(outputs, targets_ori)\n",
        "\n",
        "        optimizer.zero_grad()\n",
        "        loss.backward()\n",
        "        optimizer.step()\n",
        "\n",
        "        dense_model_hvg.eval()\n",
        "        with torch.no_grad():\n",
        "          outputs = dense_model_hvg(inputs_val, inputs_bin)\n",
        "          loss_train[i] = criterion(outputs, targets_ori)\n",
        "\n",
        "    loss_valid = np.zeros(shape=len(valid_dataloader_hvg))\n",
        "    weights_valid = np.zeros(shape=len(valid_dataloader_hvg))\n",
        "\n",
        "    with torch.no_grad():\n",
        "        for i, (inputs_val, inputs_bin, targets_ori) in enumerate(valid_dataloader_hvg):\n",
        "          weights_valid[i] = targets_ori.shape[0]\n",
        "\n",
        "          outputs = dense_model_hvg(inputs_val, inputs_bin)\n",
        "          loss_valid[i] = criterion(outputs, targets_ori)\n",
        "\n",
        "    metric_train[epoch] = np.average(loss_train, weights=weights_train)\n",
        "    metric_valid[epoch] = np.average(loss_valid, weights=weights_valid)\n",
        "\n",
        "    scheduler.step(metric_valid[epoch])\n",
        "\n",
        "    print('epoch', epoch+1,\n",
        "          '| train_loss:',round(metric_train[epoch],4),\n",
        "          '| valid_loss:',round(metric_valid[epoch],4))"
      ]
    },
    {
      "cell_type": "code",
      "execution_count": 54,
      "metadata": {
        "id": "PJ_lToHFH6v2",
        "colab": {
          "base_uri": "https://localhost:8080/",
          "height": 265
        },
        "outputId": "4315ae8f-8fde-4902-da75-9b1fb57762dd"
      },
      "outputs": [
        {
          "output_type": "display_data",
          "data": {
            "text/plain": [
              "<Figure size 432x288 with 1 Axes>"
            ],
            "image/png": "[encoded data removed]"
          },
          "metadata": {
            "needs_background": "light"
          }
        }
      ],
      "source": [
        "plt.plot(metric_train, color='r')\n",
        "plt.plot(metric_valid, color='g')\n",
        "plt.show()"
      ]
    },
    {
      "cell_type": "markdown",
      "metadata": {
        "id": "h5zeh273H6v3"
      },
      "source": [
        "#### Evaluation by correlation"
      ]
    },
    {
      "cell_type": "code",
      "execution_count": 55,
      "metadata": {
        "id": "1n1VkGlhH6v3"
      },
      "outputs": [],
      "source": [
        "def pcorr_vec(X,Y):\n",
        "  Xnorm = X-X.mean(axis=1).reshape(-1, 1)\n",
        "  Ynorm = Y-Y.mean(axis=1).reshape(-1, 1)\n",
        "  cov = torch.diagonal(torch.matmul(Xnorm,torch.transpose(Ynorm,1,0)))\n",
        "  Xsigma2 = torch.diagonal(torch.matmul(Xnorm,torch.transpose(Xnorm,1,0)))\n",
        "  Ysigma2 = torch.diagonal(torch.matmul(Ynorm,torch.transpose(Ynorm,1,0)))\n",
        "  sigma = torch.sqrt(torch.mul(Xsigma2,Ysigma2))\n",
        "  return torch.mean(cov/sigma)"
      ]
    },
    {
      "cell_type": "code",
      "execution_count": 56,
      "metadata": {
        "id": "3GeRslBOH6v3",
        "colab": {
          "base_uri": "https://localhost:8080/"
        },
        "outputId": "a70b2552-3485-4847-c6ba-fe4008a0b3b8"
      },
      "outputs": [
        {
          "output_type": "execute_result",
          "data": {
            "text/plain": [
              "0.702209"
            ]
          },
          "metadata": {},
          "execution_count": 56
        }
      ],
      "source": [
        "dense_model_hvg.eval()\n",
        "\n",
        "pcorr_avg_true = np.zeros(shape=len(valid_dataloader_hvg))\n",
        "weights = np.zeros(shape=len(valid_dataloader_hvg))\n",
        "\n",
        "with torch.no_grad():\n",
        "    for i, (inputs_val, inputs_bin, targets_ori) in enumerate(valid_dataloader_hvg):\n",
        "\n",
        "      weights[i] = targets_ori.shape[0]\n",
        "\n",
        "      outputs = dense_model_hvg(inputs_val, inputs_bin)\n",
        "\n",
        "      pcorr_avg_true[i] = pcorr_vec(targets_ori,outputs)\n",
        "\n",
        "score_true = round(np.average(pcorr_avg_true,weights = weights),6)\n",
        "\n",
        "score_true"
      ]
    },
    {
      "cell_type": "code",
      "source": [
        "torch.save(dense_model_hvg.state_dict(), '/content/drive/MyDrive/dense_model_hvg.pt')"
      ],
      "metadata": {
        "id": "G7n5ft2soIw8"
      },
      "execution_count": 57,
      "outputs": []
    },
    {
      "cell_type": "markdown",
      "source": [
        "## Final Evaluation"
      ],
      "metadata": {
        "id": "OKeninNlXflb"
      }
    },
    {
      "cell_type": "code",
      "source": [
        "import torch\n",
        "import torch.nn as nn\n",
        "import torch.utils.data as Data\n",
        "\n",
        "import random\n",
        "import joblib\n",
        "import numpy as np\n",
        "import pandas as pd\n",
        "import scipy.sparse as sps\n",
        "from scipy import stats"
      ],
      "metadata": {
        "id": "Z8L1k-0wWJZR"
      },
      "execution_count": 58,
      "outputs": []
    },
    {
      "cell_type": "code",
      "execution_count": 59,
      "metadata": {
        "id": "xSw1ejjwX847"
      },
      "outputs": [],
      "source": [
        "random_seed = 3407\n",
        "torch.manual_seed(random_seed)\n",
        "random.seed(random_seed)\n",
        "np.random.seed(random_seed)"
      ]
    },
    {
      "cell_type": "markdown",
      "metadata": {
        "id": "aQr3j6nZX85B"
      },
      "source": [
        "Prepare files:"
      ]
    },
    {
      "cell_type": "code",
      "execution_count": 60,
      "metadata": {
        "id": "Jw_fZtVSX85C"
      },
      "outputs": [],
      "source": [
        "U_valid_input = np.load(\"/content/drive/MyDrive/multimodal_tsvd_arpack/U_valid_input.npy\")\n",
        "valid_target = sps.load_npz('/content/drive/MyDrive/multimodal_split/y_test.npz')\n",
        "U_valid_input_bin = np.load(\"/content/drive/MyDrive/multimodal_tsvd_arpack/U_valid_input_binary.npy\")"
      ]
    },
    {
      "cell_type": "code",
      "execution_count": 61,
      "metadata": {
        "id": "ecgDrkuWX85D"
      },
      "outputs": [],
      "source": [
        "U_valid_input_std = U_valid_input.std(axis=1).reshape(-1, 1)\n",
        "U_valid_input_norm = U_valid_input / U_valid_input_std"
      ]
    },
    {
      "cell_type": "code",
      "source": [
        "valid_target_mean = np.ma.mean(np.ma.masked_equal(valid_target.toarray(),0),axis=1).data\n",
        "valid_target = valid_target/valid_target_mean.reshape(-1,1)"
      ],
      "metadata": {
        "id": "lebw6qXYX85E"
      },
      "execution_count": 62,
      "outputs": []
    },
    {
      "cell_type": "code",
      "source": [
        "class ValidDatasetFINAL(Data.Dataset):\n",
        "    def __init__(self):\n",
        "      self.inputs_data = torch.from_numpy(U_valid_input_norm.astype('float32')).cuda()\n",
        "      self.inputs_data_bin = torch.from_numpy(U_valid_input_bin.astype('float32')).cuda()\n",
        "      self.targets_data_ori = torch.from_numpy(valid_target.astype('float32'))\n",
        "      # large true data, send accordingly\n",
        "\n",
        "    def __len__(self):\n",
        "      return self.inputs_data.shape[0]\n",
        "\n",
        "    def __getitem__(self, idx):\n",
        "      inputs_sliced = torch.squeeze(self.inputs_data[idx, ...])\n",
        "      inputs_sliced_bin = torch.squeeze(self.inputs_data_bin[idx, ...])\n",
        "      targets_ori_sliced = torch.squeeze(self.targets_data_ori[idx, ...]).cuda()\n",
        "\n",
        "      return inputs_sliced, inputs_sliced_bin, targets_ori_sliced\n",
        "\n",
        "valid_dataloader_final = torch.utils.data.DataLoader(ValidDatasetFINAL(), \n",
        "                                               batch_size=256,\n",
        "                                               shuffle = True)"
      ],
      "metadata": {
        "id": "-KLEkysRYfoA"
      },
      "execution_count": 63,
      "outputs": []
    },
    {
      "cell_type": "code",
      "source": [
        "dense_model2 = DenseModel().cuda()\n",
        "dense_model2.load_state_dict(torch.load('/content/drive/MyDrive/dense_model.pt'))\n",
        "dense_model2.eval()\n",
        "\n",
        "dense_model2_hvg = DenseModelHVG().cuda()\n",
        "dense_model2_hvg.load_state_dict(torch.load('/content/drive/MyDrive/dense_model_hvg.pt'))\n",
        "dense_model2_hvg.eval()\n",
        "\n",
        "dense_model2, dense_model2_hvg"
      ],
      "metadata": {
        "colab": {
          "base_uri": "https://localhost:8080/"
        },
        "id": "LiuDDkqOeXxn",
        "outputId": "95522e76-3e40-41b3-b000-1397e45d1f0b"
      },
      "execution_count": 65,
      "outputs": [
        {
          "output_type": "execute_result",
          "data": {
            "text/plain": [
              "(DenseModel(\n",
              "   (dense1): Sequential(\n",
              "     (0): Linear(in_features=1024, out_features=2048, bias=True)\n",
              "     (1): ReLU()\n",
              "   )\n",
              "   (dense2): Sequential(\n",
              "     (0): Linear(in_features=2048, out_features=2048, bias=True)\n",
              "     (1): BatchNorm1d(2048, eps=1e-05, momentum=0.1, affine=True, track_running_stats=True)\n",
              "     (2): ReLU()\n",
              "     (3): Dropout(p=0.5, inplace=False)\n",
              "   )\n",
              "   (dense3): Sequential(\n",
              "     (0): Linear(in_features=2048, out_features=2048, bias=True)\n",
              "     (1): BatchNorm1d(2048, eps=1e-05, momentum=0.1, affine=True, track_running_stats=True)\n",
              "     (2): ReLU()\n",
              "     (3): Dropout(p=0.5, inplace=False)\n",
              "   )\n",
              "   (dense4): Sequential(\n",
              "     (0): Linear(in_features=2048, out_features=2048, bias=True)\n",
              "     (1): BatchNorm1d(2048, eps=1e-05, momentum=0.1, affine=True, track_running_stats=True)\n",
              "     (2): ReLU()\n",
              "     (3): Dropout(p=0.5, inplace=False)\n",
              "   )\n",
              "   (dense5): Sequential(\n",
              "     (0): Linear(in_features=2048, out_features=2048, bias=True)\n",
              "     (1): BatchNorm1d(2048, eps=1e-05, momentum=0.1, affine=True, track_running_stats=True)\n",
              "     (2): ReLU()\n",
              "     (3): Dropout(p=0.5, inplace=False)\n",
              "   )\n",
              "   (dense6): Sequential(\n",
              "     (0): Linear(in_features=2048, out_features=23418, bias=True)\n",
              "   )\n",
              " ), DenseModelHVG(\n",
              "   (dense1): Sequential(\n",
              "     (0): Linear(in_features=1024, out_features=2048, bias=True)\n",
              "     (1): ReLU()\n",
              "   )\n",
              "   (dense2): Sequential(\n",
              "     (0): Linear(in_features=2048, out_features=2048, bias=True)\n",
              "     (1): BatchNorm1d(2048, eps=1e-05, momentum=0.1, affine=True, track_running_stats=True)\n",
              "     (2): ReLU()\n",
              "     (3): Dropout(p=0.5, inplace=False)\n",
              "   )\n",
              "   (dense3): Sequential(\n",
              "     (0): Linear(in_features=2048, out_features=2048, bias=True)\n",
              "     (1): BatchNorm1d(2048, eps=1e-05, momentum=0.1, affine=True, track_running_stats=True)\n",
              "     (2): ReLU()\n",
              "     (3): Dropout(p=0.5, inplace=False)\n",
              "   )\n",
              "   (dense4): Sequential(\n",
              "     (0): Linear(in_features=2048, out_features=2048, bias=True)\n",
              "     (1): BatchNorm1d(2048, eps=1e-05, momentum=0.1, affine=True, track_running_stats=True)\n",
              "     (2): ReLU()\n",
              "     (3): Dropout(p=0.5, inplace=False)\n",
              "   )\n",
              "   (dense5): Sequential(\n",
              "     (0): Linear(in_features=2048, out_features=2048, bias=True)\n",
              "     (1): BatchNorm1d(2048, eps=1e-05, momentum=0.1, affine=True, track_running_stats=True)\n",
              "     (2): ReLU()\n",
              "     (3): Dropout(p=0.5, inplace=False)\n",
              "   )\n",
              "   (dense6): Sequential(\n",
              "     (0): Linear(in_features=2048, out_features=2048, bias=True)\n",
              "   )\n",
              " ))"
            ]
          },
          "metadata": {},
          "execution_count": 65
        }
      ]
    },
    {
      "cell_type": "code",
      "source": [
        "hvg_index = np.load('/content/drive/MyDrive/hvg_index.npy', allow_pickle=True)\n",
        "hvg_index"
      ],
      "metadata": {
        "colab": {
          "base_uri": "https://localhost:8080/"
        },
        "id": "TZ2WxZtpYLr2",
        "outputId": "7b2eaf31-439b-426b-c9ba-8817b3adee4f"
      },
      "execution_count": 68,
      "outputs": [
        {
          "output_type": "execute_result",
          "data": {
            "text/plain": [
              "array(['2', '13', '18', ..., '23316', '23377', '23401'], dtype=object)"
            ]
          },
          "metadata": {},
          "execution_count": 68
        }
      ]
    },
    {
      "cell_type": "code",
      "source": [
        "pcorr_avg_true = np.zeros(shape=len(valid_dataloader_hvg))\n",
        "weights = np.zeros(shape=len(valid_dataloader_hvg))\n",
        "\n",
        "with torch.no_grad():\n",
        "    for i, (inputs_val, inputs_bin, targets_ori) in enumerate(valid_dataloader_final):\n",
        "      \n",
        "      outputs = dense_model(inputs_val, inputs_bin)\n",
        "      outputs_hvg = dense_model_hvg(inputs_val, inputs_bin)\n",
        "\n",
        "      for j in range(outputs_hvg.shape[1]):\n",
        "        outputs[:,int(hvg_index[j])] = outputs_hvg[:,j]\n",
        "\n",
        "      weights[i] = targets_ori.shape[0]\n",
        "      pcorr_avg_true[i] = pcorr_vec(targets_ori,outputs)\n",
        "\n",
        "score_true = round(np.average(pcorr_avg_true,weights = weights),6)\n",
        "\n",
        "score_true"
      ],
      "metadata": {
        "id": "Kh2HvshxZICE",
        "colab": {
          "base_uri": "https://localhost:8080/"
        },
        "outputId": "ee4e0dad-36c1-4550-ca7a-616a29ab503d"
      },
      "execution_count": 83,
      "outputs": [
        {
          "output_type": "execute_result",
          "data": {
            "text/plain": [
              "0.668379"
            ]
          },
          "metadata": {},
          "execution_count": 83
        }
      ]
    },
    {
      "cell_type": "code",
      "source": [
        "outputs_hvg[:,1].shape, outputs[:,int(hvg_index[i])].shape"
      ],
      "metadata": {
        "colab": {
          "base_uri": "https://localhost:8080/"
        },
        "id": "9BOc65EM12CM",
        "outputId": "4418816a-13de-446e-c501-cc2b0d61cab4"
      },
      "execution_count": 79,
      "outputs": [
        {
          "output_type": "execute_result",
          "data": {
            "text/plain": [
              "(torch.Size([256]), torch.Size([256]))"
            ]
          },
          "metadata": {},
          "execution_count": 79
        }
      ]
    },
    {
      "cell_type": "markdown",
      "metadata": {
        "id": "8aq5zKj9Rrap"
      },
      "source": [
        "## Reconstruction test\n",
        "\n"
      ]
    },
    {
      "cell_type": "code",
      "execution_count": null,
      "metadata": {
        "id": "zXf3V96nNME9"
      },
      "outputs": [],
      "source": [
        "Mtrain = torch.from_numpy(train_target[0:2000].todense()).cuda()\n",
        "Mvalid = torch.from_numpy(valid_target[0:2000].todense()).cuda()\n",
        "Utrain = torch.from_numpy(U_train_target_norm[0:2000]).cuda()\n",
        "Uvalid = torch.from_numpy(U_valid_target_norm[0:2000]).cuda()"
      ]
    },
    {
      "cell_type": "code",
      "execution_count": null,
      "metadata": {
        "id": "JLz2SThqb6V0"
      },
      "outputs": [],
      "source": [
        "Atrain = torch.matmul(Utrain,Va_valid_target)\n",
        "Avalid = torch.matmul(Uvalid,Va_valid_target)"
      ]
    },
    {
      "cell_type": "code",
      "execution_count": null,
      "metadata": {
        "id": "2q8Ret1YyU7d",
        "colab": {
          "base_uri": "https://localhost:8080/"
        },
        "outputId": "a22492eb-a5f6-46fe-eb71-3a2f822b4631"
      },
      "outputs": [
        {
          "output_type": "execute_result",
          "data": {
            "text/plain": [
              "(tensor(0.9746, device='cuda:0'), tensor(0.9758, device='cuda:0'))"
            ]
          },
          "metadata": {},
          "execution_count": 18
        }
      ],
      "source": [
        "pcorr_vec(Mtrain,Atrain), pcorr_vec(Mvalid,Avalid)"
      ]
    }
  ],
  "metadata": {
    "colab": {
      "collapsed_sections": [
        "gPw7A6MeT12G",
        "8tng64uyCOGb",
        "4NjUGRr80tdL",
        "tqZEN5JL7zZj",
        "FunI90X4XtZX",
        "dc3NswiO5AMb",
        "j5jazFWBH6vu",
        "J5OYq1wlH6v1"
      ],
      "machine_shape": "hm",
      "provenance": [],
      "mount_file_id": "1vCVjjaWwOdjxf_oNXIwx3u2cfRZY5ljE",
      "authorship_tag": "ABX9TyMD35o/1Q7YSAmRzb9icjG/",
      "include_colab_link": true
    },
    "gpuClass": "standard",
    "kernelspec": {
      "display_name": "Python 3",
      "name": "python3"
    },
    "language_info": {
      "name": "python"
    },
    "accelerator": "GPU"
  },
  "nbformat": 4,
  "nbformat_minor": 0
}