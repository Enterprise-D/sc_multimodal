{
  "nbformat": 4,
  "nbformat_minor": 0,
  "metadata": {
    "colab": {
      "provenance": [],
      "machine_shape": "hm",
      "collapsed_sections": [
        "gPw7A6MeT12G",
        "8tng64uyCOGb",
        "4NjUGRr80tdL"
      ],
      "mount_file_id": "1O5_-Xx8wXr1suQIEaL19CPWpOfQQGhFK",
      "authorship_tag": "ABX9TyMWWxjd/xu/y2WVU7jqdSAj",
      "include_colab_link": true
    },
    "kernelspec": {
      "name": "python3",
      "display_name": "Python 3"
    },
    "language_info": {
      "name": "python"
    },
    "gpuClass": "standard",
    "accelerator": "GPU"
  },
  "cells": [
    {
      "cell_type": "markdown",
      "metadata": {
        "id": "view-in-github",
        "colab_type": "text"
      },
      "source": [
        "<a href=\"https://colab.research.google.com/github/Enterprise-D/sc_multimodal/blob/main/multimodal.ipynb\" target=\"_parent\"><img src=\"https://colab.research.google.com/assets/colab-badge.svg\" alt=\"Open In Colab\"/></a>"
      ]
    },
    {
      "cell_type": "markdown",
      "source": [
        "## Colab Administrative"
      ],
      "metadata": {
        "id": "gPw7A6MeT12G"
      }
    },
    {
      "cell_type": "markdown",
      "source": [
        "Mount Google Drive:"
      ],
      "metadata": {
        "id": "aXvd5fxMTp60"
      }
    },
    {
      "cell_type": "code",
      "source": [
        "from google.colab import drive\n",
        "drive.mount('/content/drive')"
      ],
      "metadata": {
        "colab": {
          "base_uri": "https://localhost:8080/"
        },
        "id": "VRT--MTkTflt",
        "outputId": "6466147c-1cde-42d8-8729-a1c7b01f8529"
      },
      "execution_count": null,
      "outputs": [
        {
          "output_type": "stream",
          "name": "stdout",
          "text": [
            "Drive already mounted at /content/drive; to attempt to forcibly remount, call drive.mount(\"/content/drive\", force_remount=True).\n"
          ]
        }
      ]
    },
    {
      "cell_type": "markdown",
      "source": [
        "## Data Compression"
      ],
      "metadata": {
        "id": "8tng64uyCOGb"
      }
    },
    {
      "cell_type": "markdown",
      "source": [
        "Install and load h5df modules:"
      ],
      "metadata": {
        "id": "ZeLMI5ReCluQ"
      }
    },
    {
      "cell_type": "code",
      "source": [
        "import h5py\n",
        "\n",
        "!pip install hdf5plugin\n",
        "import hdf5plugin"
      ],
      "metadata": {
        "id": "Pw8PddPwCPRy",
        "colab": {
          "base_uri": "https://localhost:8080/"
        },
        "outputId": "1090ad91-d8ea-474a-d205-17a82bc7bc1b"
      },
      "execution_count": null,
      "outputs": [
        {
          "output_type": "stream",
          "name": "stdout",
          "text": [
            "Looking in indexes: https://pypi.org/simple, https://us-python.pkg.dev/colab-wheels/public/simple/\n",
            "Requirement already satisfied: hdf5plugin in /usr/local/lib/python3.7/dist-packages (3.3.1)\n",
            "Requirement already satisfied: h5py in /usr/local/lib/python3.7/dist-packages (from hdf5plugin) (3.1.0)\n",
            "Requirement already satisfied: numpy>=1.14.5 in /usr/local/lib/python3.7/dist-packages (from h5py->hdf5plugin) (1.21.6)\n",
            "Requirement already satisfied: cached-property in /usr/local/lib/python3.7/dist-packages (from h5py->hdf5plugin) (1.5.2)\n"
          ]
        }
      ]
    },
    {
      "cell_type": "markdown",
      "source": [
        "handle inputs:"
      ],
      "metadata": {
        "id": "-Fv5wM1vDvgQ"
      }
    },
    {
      "cell_type": "code",
      "source": [
        "path_train_multi_inputs = '/content/drive/MyDrive/multimodal/train_multi_inputs.h5'\n",
        "file_train_multi_inputs = h5py.File(path_train_multi_inputs, \"r\")\n",
        "\n",
        "path_test_multi_inputs = '/content/drive/MyDrive/multimodal/test_multi_inputs.h5'\n",
        "file_test_multi_inputs = h5py.File(path_test_multi_inputs, \"r\")\n",
        "\n",
        "file_train_multi_inputs.keys(), file_test_multi_inputs.keys()"
      ],
      "metadata": {
        "id": "bUsBrfM2Cedl",
        "colab": {
          "base_uri": "https://localhost:8080/"
        },
        "outputId": "45c446b7-195a-43c3-a604-3c9e9f589315"
      },
      "execution_count": null,
      "outputs": [
        {
          "output_type": "execute_result",
          "data": {
            "text/plain": [
              "(<KeysViewHDF5 ['train_multi_inputs']>, <KeysViewHDF5 ['test_multi_inputs']>)"
            ]
          },
          "metadata": {},
          "execution_count": 2
        }
      ]
    },
    {
      "cell_type": "code",
      "source": [
        "group_train_multi_inputs = file_train_multi_inputs['train_multi_inputs']\n",
        "\n",
        "group_test_multi_inputs = file_test_multi_inputs['test_multi_inputs']\n",
        "\n",
        "group_train_multi_inputs.keys(), group_test_multi_inputs.keys()"
      ],
      "metadata": {
        "id": "rIq_boddfJxB",
        "colab": {
          "base_uri": "https://localhost:8080/"
        },
        "outputId": "10625612-11c9-41b2-f462-091b0107dada"
      },
      "execution_count": null,
      "outputs": [
        {
          "output_type": "execute_result",
          "data": {
            "text/plain": [
              "(<KeysViewHDF5 ['axis0', 'axis1', 'block0_items', 'block0_values']>,\n",
              " <KeysViewHDF5 ['axis0', 'axis1', 'block0_items', 'block0_values']>)"
            ]
          },
          "metadata": {},
          "execution_count": 3
        }
      ]
    },
    {
      "cell_type": "code",
      "source": [
        "group_train_multi_inputs['block0_values'].shape, \\\n",
        "group_test_multi_inputs['block0_values'].shape\n",
        "# axis0 & block0_items: features (genomic coordinates, GRCh38)\n",
        "# axis1: cell_ids\n",
        "# block0_values: entries"
      ],
      "metadata": {
        "id": "-Rl_4P0gfiCW",
        "colab": {
          "base_uri": "https://localhost:8080/"
        },
        "outputId": "59034ed2-7464-4994-f32c-c81fdaa38c5b"
      },
      "execution_count": null,
      "outputs": [
        {
          "output_type": "execute_result",
          "data": {
            "text/plain": [
              "((105942, 228942), (55935, 228942))"
            ]
          },
          "metadata": {},
          "execution_count": 4
        }
      ]
    },
    {
      "cell_type": "code",
      "source": [
        "group_train_multi_inputs['block0_values'][1:10,1:6]"
      ],
      "metadata": {
        "id": "sE8IAkUk0mJK"
      },
      "execution_count": null,
      "outputs": []
    },
    {
      "cell_type": "markdown",
      "source": [
        "handle targets:"
      ],
      "metadata": {
        "id": "im-6LWJhfMFN"
      }
    },
    {
      "cell_type": "code",
      "source": [
        "path_train_multi_targets = '/content/drive/MyDrive/multimodal/train_multi_targets.h5'\n",
        "file_train_multi_targets = h5py.File(path_train_multi_targets, \"r\")\n",
        "\n",
        "file_train_multi_targets.keys()"
      ],
      "metadata": {
        "id": "gg5xH9eofH_d"
      },
      "execution_count": null,
      "outputs": []
    },
    {
      "cell_type": "code",
      "source": [
        "group_train_multi_targets = file_train_multi_targets['train_multi_targets']\n",
        "group_train_multi_targets.keys()"
      ],
      "metadata": {
        "id": "TpAqs2WBDykP"
      },
      "execution_count": null,
      "outputs": []
    },
    {
      "cell_type": "code",
      "source": [
        "group_train_multi_targets['block0_values'].shape\n",
        "# axis0 & block0_items: features (expression reads, GRCh38)\n",
        "# axis1: cell_ids\n",
        "# block0_values: entries"
      ],
      "metadata": {
        "id": "3LMUF0_iGY13"
      },
      "execution_count": null,
      "outputs": []
    },
    {
      "cell_type": "code",
      "source": [
        "group_train_multi_targets['block0_values'][1:10,1:6]"
      ],
      "metadata": {
        "id": "M0UWdsbM0Qrw"
      },
      "execution_count": null,
      "outputs": []
    },
    {
      "cell_type": "code",
      "source": [
        "import numpy as np\n",
        "import pandas as pd\n",
        "import os\n",
        "import scipy.sparse as sps\n",
        "from tqdm import tqdm as tqdm\n",
        "import gc"
      ],
      "metadata": {
        "id": "qHRDARgfhg_U"
      },
      "execution_count": null,
      "outputs": []
    },
    {
      "cell_type": "markdown",
      "source": [
        "Datasets are too sparse:"
      ],
      "metadata": {
        "id": "LjZvelVQ3van"
      }
    },
    {
      "cell_type": "code",
      "source": [
        "%load_ext Cython"
      ],
      "metadata": {
        "id": "VRjR2Vm43tSZ"
      },
      "execution_count": null,
      "outputs": []
    },
    {
      "cell_type": "code",
      "source": [
        "%%cython\n",
        "\n",
        "import cython\n",
        "cimport cython\n",
        "cimport numpy as np\n",
        "import numpy as np\n",
        "from tqdm import tqdm, trange\n",
        "\n",
        "ctypedef np.int64_t INT64_t\n",
        "\n",
        "@cython.boundscheck(False)\n",
        "@cython.wraparound(False)\n",
        "cpdef np.ndarray[INT64_t, ndim=1] create_indptr(INT64_t[:] row_indices, int start_pos, int nrows):\n",
        "    cdef int shape = row_indices.shape[0]\n",
        "    res = np.zeros(nrows, dtype=np.int64)\n",
        "    cdef INT64_t[:] res_view = res\n",
        "    \n",
        "    cdef int i\n",
        "    cdef int curr_row = 0\n",
        "    cdef int prev = row_indices[0]\n",
        "    \n",
        "    for i in range(shape):\n",
        "        if row_indices[i] != prev:\n",
        "            curr_row += 1\n",
        "            res_view[curr_row] = i\n",
        "            prev = row_indices[i]\n",
        "    # res_view[curr_row + 1] = shape\n",
        "    return res + start_pos"
      ],
      "metadata": {
        "id": "ie-kHKl2ywJm"
      },
      "execution_count": null,
      "outputs": []
    },
    {
      "cell_type": "code",
      "source": [
        "def create_csr_arrays(h5_file_path):\n",
        "    def check_size(xs, ys, datas):\n",
        "        return (xs.nbytes + ys.nbytes + datas.nbytes) * 1e-9\n",
        "\n",
        "    print(f\"\\n\\nProcessing File {h5_file_path}\")\n",
        "    pbar = tqdm()\n",
        "\n",
        "    # Initialize Variables\n",
        "    chunksize = 1000 # Keep it low\n",
        "    loaded_rows = chunksize\n",
        "    start = 0\n",
        "    start_pos = 0\n",
        "    file_pointer = 0\n",
        "\n",
        "    # Initialize CSR arrays\n",
        "    indptr = np.array([], dtype=np.int64)\n",
        "    indices = np.array([], dtype=np.int32)\n",
        "    data_s = np.array([], dtype=np.float32)\n",
        "    \n",
        "    prefix_filename = h5_file_path.split('/')[-1].replace('.h5', '')\n",
        "\n",
        "    while chunksize == loaded_rows:\n",
        "\n",
        "        # Check current size: if the total sum of sizes are > 7GB, then save three arrays and re-initialize them\n",
        "        size_gb = check_size(indptr, indices, data_s)\n",
        "        if size_gb > 7.0:\n",
        "            pbar.set_description(f\"Total size is {size_gb}. Saving ..\")\n",
        "            np.save(f\"{prefix_filename}_indptr_{file_pointer}.npy\", indptr)\n",
        "            np.save(f\"{prefix_filename}_indices_{file_pointer}.npy\", indices)\n",
        "            np.save(f\"{prefix_filename}_data_{file_pointer}.npy\", data_s)\n",
        "            # Re-initialize\n",
        "            indptr = np.array([], dtype=np.int64)\n",
        "            indices = np.array([], dtype=np.int32)\n",
        "            data_s = np.array([], dtype=np.float32)\n",
        "            # Increment pointer\n",
        "            file_pointer += 1\n",
        "\n",
        "        pbar.set_description(\"Reading .h5 chunk\")\n",
        "        df = pd.read_hdf(h5_file_path, start=start, stop=start+chunksize)\n",
        "        pbar.set_description(\"Extracting non-zero values\")\n",
        "        x_coords, y_coords = df.values.nonzero()\n",
        "        tmp_data = df.values[df.values != 0.0]\n",
        "\n",
        "        loaded_rows = df.shape[0]\n",
        "\n",
        "        # Convert types\n",
        "        y_coords = y_coords.astype(np.int32, copy=False)\n",
        "        tmp_data = tmp_data.astype(np.float32, copy=False)\n",
        "\n",
        "        # Compress x_coords\n",
        "        pbar.set_description(\"Compressing rows values\")\n",
        "        x_coords = create_indptr(x_coords, start_pos=start_pos, nrows=loaded_rows)\n",
        "\n",
        "        gc.collect()\n",
        "\n",
        "        # Update variables\n",
        "        pbar.set_description(\"Update variables\")\n",
        "        start_pos += y_coords.shape[0]\n",
        "        start += chunksize\n",
        "        # Append data at the end of each array\n",
        "        indptr = np.hstack((indptr, x_coords))\n",
        "        indices = np.hstack((indices, y_coords))\n",
        "        data_s = np.hstack((data_s, tmp_data))\n",
        "\n",
        "        pbar.update(loaded_rows)\n",
        "\n",
        "    print('Done. Save last files')\n",
        "    np.save(f\"{prefix_filename}_indptr_{file_pointer}.npy\", indptr)\n",
        "    np.save(f\"{prefix_filename}_indices_{file_pointer}.npy\", indices)\n",
        "    np.save(f\"{prefix_filename}_data_{file_pointer}.npy\", data_s)\n",
        "    \n",
        "    del indptr, indices, data_s"
      ],
      "metadata": {
        "id": "hVq6XQKFzgTw"
      },
      "execution_count": null,
      "outputs": []
    },
    {
      "cell_type": "code",
      "source": [
        "create_csr_arrays(path_train_multi_inputs)"
      ],
      "metadata": {
        "id": "QTi5EZAK015w"
      },
      "execution_count": null,
      "outputs": []
    },
    {
      "cell_type": "code",
      "source": [
        "indptr = np.load('train_multi_inputs_indptr_0.npy')\n",
        "indices = np.load('train_multi_inputs_indices_0.npy')\n",
        "data = np.load('train_multi_inputs_data_0.npy')\n",
        "indptr = np.append(indptr, indptr[-1] + indices[indptr[-1]:].shape)\n",
        "N_ROWS = group_train_multi_inputs['block0_values'].shape[0]\n",
        "N_COLS = group_train_multi_inputs['block0_values'].shape[1]\n",
        "csr_matrix = sps.csr_matrix((data, indices, indptr), shape=(N_ROWS, N_COLS))\n",
        "sps.save_npz('train_multi_inputs_sparse.npz', csr_matrix)\n",
        "del csr_matrix, indices, indptr, data"
      ],
      "metadata": {
        "id": "lmV3uKrm5QLq"
      },
      "execution_count": null,
      "outputs": []
    },
    {
      "cell_type": "code",
      "source": [
        "create_csr_arrays(path_train_multi_targets)"
      ],
      "metadata": {
        "id": "iUCehtUw1ex4"
      },
      "execution_count": null,
      "outputs": []
    },
    {
      "cell_type": "code",
      "source": [
        "indptr = np.load('train_multi_targets_indptr_0.npy')\n",
        "indices = np.load('train_multi_targets_indices_0.npy')\n",
        "data = np.load('train_multi_targets_data_0.npy')\n",
        "indptr = np.append(indptr, indptr[-1] + indices[indptr[-1]:].shape)\n",
        "N_ROWS = group_train_multi_targets['block0_values'].shape[0]\n",
        "N_COLS = group_train_multi_targets['block0_values'].shape[1]\n",
        "csr_matrix = sps.csr_matrix((data, indices, indptr), shape=(N_ROWS, N_COLS))\n",
        "sps.save_npz('train_multi_targets_sparse.npz', csr_matrix)\n",
        "del csr_matrix, indices, indptr, data"
      ],
      "metadata": {
        "id": "VbDIjfh25bIW"
      },
      "execution_count": null,
      "outputs": []
    },
    {
      "cell_type": "code",
      "source": [
        "create_csr_arrays(path_test_multi_inputs)"
      ],
      "metadata": {
        "id": "u7harJTv1fei"
      },
      "execution_count": null,
      "outputs": []
    },
    {
      "cell_type": "code",
      "source": [
        "indptr = np.load('test_multi_inputs_indptr_0.npy')\n",
        "indices = np.load('test_multi_inputs_indices_0.npy')\n",
        "data = np.load('test_multi_inputs_data_0.npy')\n",
        "indptr = np.append(indptr, indptr[-1] + indices[indptr[-1]:].shape)\n",
        "N_ROWS = group_test_multi_inputs['block0_values'].shape[0]\n",
        "N_COLS = group_test_multi_inputs['block0_values'].shape[1]\n",
        "csr_matrix = sps.csr_matrix((data, indices, indptr), shape=(N_ROWS, N_COLS))\n",
        "sps.save_npz('test_multi_inputs_sparse.npz', csr_matrix)\n",
        "del csr_matrix, indices, indptr, data"
      ],
      "metadata": {
        "id": "ayoFhfX75Wzl"
      },
      "execution_count": null,
      "outputs": []
    },
    {
      "cell_type": "code",
      "source": [
        "!mv *.npy /content/drive/MyDrive/multimodal_sparse\n",
        "!mv *.npz /content/drive/MyDrive/multimodal_sparse"
      ],
      "metadata": {
        "id": "u-3ZSEQR0uZ5"
      },
      "execution_count": null,
      "outputs": []
    },
    {
      "cell_type": "markdown",
      "source": [
        "## Denoising and Normalization"
      ],
      "metadata": {
        "id": "4NjUGRr80tdL"
      }
    },
    {
      "cell_type": "code",
      "source": [
        "import random\n",
        "import numpy as np\n",
        "import pandas as pd\n",
        "from sklearn import decomposition\n",
        "\n",
        "import os\n",
        "import gc\n",
        "import scipy.sparse as sps\n",
        "from tqdm import tqdm as tqdm"
      ],
      "metadata": {
        "id": "lyCAh0Nx2QN2"
      },
      "execution_count": null,
      "outputs": []
    },
    {
      "cell_type": "markdown",
      "source": [
        "Fix random seeds:"
      ],
      "metadata": {
        "id": "ESxaEBAlTKxJ"
      }
    },
    {
      "cell_type": "code",
      "source": [
        "random_seed = 3407\n",
        "random.seed(random_seed)\n",
        "np.random.seed(random_seed)"
      ],
      "metadata": {
        "id": "4ad_Mo7JTIEO"
      },
      "execution_count": null,
      "outputs": []
    },
    {
      "cell_type": "markdown",
      "source": [
        "Copy data to local disk and load into python:"
      ],
      "metadata": {
        "id": "7suLbHzl0e_S"
      }
    },
    {
      "cell_type": "code",
      "source": [
        "!cp /content/drive/MyDrive/multimodal_sparse/*.npz /content/"
      ],
      "metadata": {
        "id": "O-6Abheg1Wf0"
      },
      "execution_count": null,
      "outputs": []
    },
    {
      "cell_type": "code",
      "source": [
        "train_input = sps.load_npz('/content/train_multi_inputs_sparse.npz')\n",
        "train_target = sps.load_npz('/content/train_multi_targets_sparse.npz')"
      ],
      "metadata": {
        "id": "w7Jr_TKt1UPw"
      },
      "execution_count": null,
      "outputs": []
    },
    {
      "cell_type": "markdown",
      "source": [
        "Dimensionality reduction with Meta Randomized SVD: "
      ],
      "metadata": {
        "id": "KaZZz_e2z62s"
      }
    },
    {
      "cell_type": "code",
      "source": [
        "!pip install fbpca\n",
        "import fbpca"
      ],
      "metadata": {
        "colab": {
          "base_uri": "https://localhost:8080/"
        },
        "id": "4DZaRAZHgdWI",
        "outputId": "2c5c1b6f-351c-44fd-8d1e-c9138b019086"
      },
      "execution_count": null,
      "outputs": [
        {
          "output_type": "stream",
          "name": "stdout",
          "text": [
            "Looking in indexes: https://pypi.org/simple, https://us-python.pkg.dev/colab-wheels/public/simple/\n",
            "Requirement already satisfied: fbpca in /usr/local/lib/python3.7/dist-packages (1.0)\n"
          ]
        }
      ]
    },
    {
      "cell_type": "code",
      "source": [
        "k_svd_input = 136\n",
        "U_input, s_input, Va_input = fbpca.pca(train_input,k=k_svd_input,n_iter=4)\n",
        "\n",
        "np.save(\"U_input.npy\", U_input)\n",
        "np.save(\"s_input.npy\", s_input)\n",
        "np.save(\"Va_input.npy\", Va_input)"
      ],
      "metadata": {
        "id": "yxaXgZrCh0SK"
      },
      "execution_count": null,
      "outputs": []
    },
    {
      "cell_type": "code",
      "source": [
        "k_svd_target = 128\n",
        "U_target, s_target, Va_target = fbpca.pca(train_target,k=k_svd_target,n_iter=4)\n",
        "\n",
        "np.save(\"U_target.npy\", U_target)\n",
        "np.save(\"s_target.npy\", s_target)\n",
        "np.save(\"Va_target.npy\", Va_target)"
      ],
      "metadata": {
        "id": "svzY-uA1mRA_"
      },
      "execution_count": null,
      "outputs": []
    },
    {
      "cell_type": "code",
      "source": [
        "!mv *.npy /content/drive/MyDrive/multimodal_compiled"
      ],
      "metadata": {
        "id": "1iUGN1Rbqepm"
      },
      "execution_count": null,
      "outputs": []
    },
    {
      "cell_type": "markdown",
      "source": [
        "## PyTorch Workflow"
      ],
      "metadata": {
        "id": "PWTDDJRZ3a_-"
      }
    },
    {
      "cell_type": "code",
      "source": [
        "import torch\n",
        "import torch.nn as nn\n",
        "import torch.utils.data as Data\n",
        "from torch.utils.data.sampler import SubsetRandomSampler\n",
        "\n",
        "import random\n",
        "import numpy as np\n",
        "import pandas as pd\n",
        "from scipy import stats\n",
        "\n",
        "import matplotlib.pyplot as plt"
      ],
      "metadata": {
        "id": "8qL24wDn63cY"
      },
      "execution_count": 1,
      "outputs": []
    },
    {
      "cell_type": "markdown",
      "source": [
        "Fix random seeds:"
      ],
      "metadata": {
        "id": "m0MrUgKGQqNS"
      }
    },
    {
      "cell_type": "code",
      "source": [
        "random_seed = 3407\n",
        "torch.manual_seed(random_seed)\n",
        "random.seed(random_seed)\n",
        "np.random.seed(random_seed)"
      ],
      "metadata": {
        "id": "2OoOPmbEQtHI"
      },
      "execution_count": 2,
      "outputs": []
    },
    {
      "cell_type": "code",
      "source": [
        "!cp /content/drive/MyDrive/multimodal_compiled/*.npy /content/"
      ],
      "metadata": {
        "id": "vqQtdbbj0RNy"
      },
      "execution_count": 3,
      "outputs": []
    },
    {
      "cell_type": "code",
      "source": [
        "U_input = np.load(\"U_input.npy\")\n",
        "U_target = np.load(\"U_target.npy\")"
      ],
      "metadata": {
        "id": "j-uNvFVQ5B9a"
      },
      "execution_count": 4,
      "outputs": []
    },
    {
      "cell_type": "markdown",
      "source": [
        "Normalize targets (for MSE calculation):"
      ],
      "metadata": {
        "id": "l-aQIO5s0R-5"
      }
    },
    {
      "cell_type": "code",
      "source": [
        "U_input_std = U_input.std(axis=0).reshape(1, -1)\n",
        "U_input_avg = U_input.mean(axis=0).reshape(1, -1)\n",
        "U_input_norm = (U_input - U_input_avg) / U_input_std\n",
        "\n",
        "U_target_std = U_target.std(axis=0).reshape(1, -1)\n",
        "U_target_avg = U_target.mean(axis=0).reshape(1, -1)\n",
        "U_target_norm = (U_target - U_target_avg) / U_target_std\n",
        "\n",
        "U_target_norm.shape, U_target_avg.shape, U_target_std.shape"
      ],
      "metadata": {
        "id": "AKMxD56m0N6j",
        "colab": {
          "base_uri": "https://localhost:8080/"
        },
        "outputId": "8d9bbf02-5923-4b68-ebcb-c7fe95a750b7"
      },
      "execution_count": 5,
      "outputs": [
        {
          "output_type": "execute_result",
          "data": {
            "text/plain": [
              "((105942, 128), (1, 128), (1, 128))"
            ]
          },
          "metadata": {},
          "execution_count": 5
        }
      ]
    },
    {
      "cell_type": "markdown",
      "source": [
        "Construct dataset and dataloader:"
      ],
      "metadata": {
        "id": "vywIBWgU0Xfp"
      }
    },
    {
      "cell_type": "code",
      "source": [
        "class TrainDataset(Data.Dataset):\n",
        "    def __init__(self):\n",
        "      self.inputs_data = torch.from_numpy(U_input_norm.astype('float32')).cuda()\n",
        "      self.targets_data = torch.from_numpy(U_target_norm.astype('float32')).cuda()\n",
        "      # send to GPU as a whole due to small size.\n",
        "\n",
        "    def __len__(self):\n",
        "      return self.inputs_data.shape[0]\n",
        "\n",
        "    def __getitem__(self, idx):\n",
        "      inputs_sliced = self.inputs_data[idx, ...]\n",
        "      targets_sliced = self.targets_data[idx, ...]\n",
        "\n",
        "      return inputs_sliced, targets_sliced"
      ],
      "metadata": {
        "id": "xvvRd1cL0_L2"
      },
      "execution_count": 6,
      "outputs": []
    },
    {
      "cell_type": "code",
      "source": [
        "validation_split = .2\n",
        "shuffle_dataset = True\n",
        "\n",
        "# Creating data indices for training and validation splits:\n",
        "dataset_size = len(TrainDataset())\n",
        "indices = list(range(dataset_size))\n",
        "split = int(np.floor(validation_split * dataset_size))\n",
        "if shuffle_dataset :\n",
        "    np.random.seed(random_seed)\n",
        "    np.random.shuffle(indices)\n",
        "train_indices, val_indices = indices[split:], indices[:split]\n",
        "\n",
        "train_sampler = SubsetRandomSampler(train_indices)\n",
        "valid_sampler = SubsetRandomSampler(val_indices)"
      ],
      "metadata": {
        "id": "ijHqUsMmrZj-"
      },
      "execution_count": 7,
      "outputs": []
    },
    {
      "cell_type": "code",
      "source": [
        "batch_size = 256\n",
        "\n",
        "train_dataloader = torch.utils.data.DataLoader(TrainDataset(),\n",
        "                                               batch_size=batch_size,\n",
        "                                               sampler=train_sampler)\n",
        "valid_dataloader = torch.utils.data.DataLoader(TrainDataset(), \n",
        "                                               batch_size=batch_size,\n",
        "                                               sampler=valid_sampler)\n",
        "\n",
        "len(train_dataloader), len(valid_dataloader)"
      ],
      "metadata": {
        "colab": {
          "base_uri": "https://localhost:8080/"
        },
        "id": "3FiuK7imsvHu",
        "outputId": "e9b566ab-59f9-4fc0-b478-a1fb37949d80"
      },
      "execution_count": 8,
      "outputs": [
        {
          "output_type": "execute_result",
          "data": {
            "text/plain": [
              "(332, 83)"
            ]
          },
          "metadata": {},
          "execution_count": 8
        }
      ]
    },
    {
      "cell_type": "markdown",
      "source": [
        "Construct models:"
      ],
      "metadata": {
        "id": "nRkKZVbWq5iu"
      }
    },
    {
      "cell_type": "code",
      "source": [
        "class DenseModel(nn.Module):\n",
        "    def __init__(self,\n",
        "                 input_size=U_input_norm.shape[1],\n",
        "                 output_size=U_target_norm.shape[1],\n",
        "                 hidden_size=256):\n",
        "\n",
        "        super(DenseModel, self).__init__()\n",
        "        self.dense1 = nn.Sequential(\n",
        "            nn.Linear(input_size, hidden_size),\n",
        "            nn.LeakyReLU())\n",
        "        \n",
        "        self.dense2 = nn.Sequential(\n",
        "            nn.Dropout(0.3),\n",
        "            nn.BatchNorm1d(hidden_size),\n",
        "            nn.Linear(hidden_size, hidden_size),\n",
        "            nn.LeakyReLU())\n",
        "        \n",
        "        self.dense3 = nn.Sequential(\n",
        "            nn.Dropout(0.3),\n",
        "            nn.BatchNorm1d(hidden_size),\n",
        "            nn.Linear(hidden_size, hidden_size),\n",
        "            nn.LeakyReLU())\n",
        "        \n",
        "        self.dense4 = nn.Sequential(\n",
        "            nn.Dropout(0.3),\n",
        "            nn.BatchNorm1d(hidden_size),\n",
        "            nn.Linear(hidden_size, hidden_size),\n",
        "            nn.LeakyReLU())\n",
        "                \n",
        "        self.dense5 = nn.Sequential(\n",
        "            nn.BatchNorm1d(hidden_size),\n",
        "            nn.Linear(hidden_size, output_size))\n",
        "\n",
        "    def forward(self, input):\n",
        "        output = self.dense1(input)\n",
        "        output = self.dense2(output)\n",
        "        output = self.dense3(output)\n",
        "        output = self.dense4(output)\n",
        "        output = self.dense5(output)\n",
        "        return output"
      ],
      "metadata": {
        "id": "hrX8xZm3q-wZ"
      },
      "execution_count": 9,
      "outputs": []
    },
    {
      "cell_type": "code",
      "source": [
        "dense_model = DenseModel().cuda()"
      ],
      "metadata": {
        "id": "5cwrXl8xsANC"
      },
      "execution_count": 10,
      "outputs": []
    },
    {
      "cell_type": "code",
      "source": [
        "criterion = nn.MSELoss()\n",
        "\n",
        "num_epochs = 100\n",
        "learning_rate = 0.01\n",
        "optimizer = torch.optim.Adam(params=dense_model.parameters(), lr=learning_rate)\n",
        "scheduler = torch.optim.lr_scheduler.ReduceLROnPlateau(optimizer)"
      ],
      "metadata": {
        "id": "keLoFGm-rzPV"
      },
      "execution_count": 11,
      "outputs": []
    },
    {
      "cell_type": "code",
      "source": [
        "metric_train = np.zeros(shape=num_epochs)\n",
        "metric_valid = np.zeros(shape=num_epochs)\n",
        "\n",
        "for epoch in range(num_epochs):\n",
        "    loss_train = np.zeros(shape=len(train_dataloader))\n",
        "    weights_train = np.zeros(shape=len(train_dataloader))\n",
        "    \n",
        "    for i, (inputs, targets) in enumerate(train_dataloader):\n",
        "        weights_train[i] = targets.shape[0]\n",
        "\n",
        "        dense_model.train()\n",
        "\n",
        "        outputs = dense_model(inputs)\n",
        "        loss = criterion(outputs, targets)\n",
        "\n",
        "        optimizer.zero_grad()\n",
        "        loss.backward()\n",
        "        optimizer.step()\n",
        "\n",
        "        dense_model.eval()\n",
        "        with torch.no_grad():\n",
        "          outputs = dense_model(inputs)\n",
        "          loss_train[i] = criterion(outputs, targets)\n",
        "\n",
        "    loss_valid = np.zeros(shape=len(valid_dataloader))\n",
        "    weights_valid = np.zeros(shape=len(valid_dataloader))\n",
        "\n",
        "    with torch.no_grad():\n",
        "        for i, (inputs, targets) in enumerate(valid_dataloader):\n",
        "          weights_valid[i] = targets.shape[0]\n",
        "\n",
        "          outputs = dense_model(inputs)\n",
        "          loss_valid[i] = criterion(outputs, targets)\n",
        "\n",
        "    metric_train[epoch] = np.average(loss_train, weights=weights_train)\n",
        "    metric_valid[epoch] = np.average(loss_valid, weights=weights_valid)\n",
        "\n",
        "    scheduler.step(metric_valid[epoch])\n",
        "\n",
        "    print('epoch', epoch+1,\n",
        "          '| train_loss:',round(metric_train[epoch],4),\n",
        "          '| valid_loss:',round(metric_valid[epoch],4))"
      ],
      "metadata": {
        "colab": {
          "base_uri": "https://localhost:8080/"
        },
        "id": "6uSUv2Hvs1cL",
        "outputId": "122fad1f-13c7-4fec-9e2d-b8a73097a712"
      },
      "execution_count": 12,
      "outputs": [
        {
          "output_type": "stream",
          "name": "stdout",
          "text": [
            "epoch 1 | train_loss: 0.8951 | valid_loss: 0.8553\n",
            "epoch 2 | train_loss: 0.8442 | valid_loss: 0.841\n",
            "epoch 3 | train_loss: 0.834 | valid_loss: 0.8347\n",
            "epoch 4 | train_loss: 0.8282 | valid_loss: 0.8318\n",
            "epoch 5 | train_loss: 0.8249 | valid_loss: 0.8287\n",
            "epoch 6 | train_loss: 0.8224 | valid_loss: 0.826\n",
            "epoch 7 | train_loss: 0.8207 | valid_loss: 0.8249\n",
            "epoch 8 | train_loss: 0.819 | valid_loss: 0.8244\n",
            "epoch 9 | train_loss: 0.8181 | valid_loss: 0.8247\n",
            "epoch 10 | train_loss: 0.8169 | valid_loss: 0.8236\n",
            "epoch 11 | train_loss: 0.8163 | valid_loss: 0.8226\n",
            "epoch 12 | train_loss: 0.8156 | valid_loss: 0.8217\n",
            "epoch 13 | train_loss: 0.815 | valid_loss: 0.8216\n",
            "epoch 14 | train_loss: 0.8143 | valid_loss: 0.8219\n",
            "epoch 15 | train_loss: 0.8138 | valid_loss: 0.8216\n",
            "epoch 16 | train_loss: 0.8133 | valid_loss: 0.821\n",
            "epoch 17 | train_loss: 0.8131 | valid_loss: 0.8213\n",
            "epoch 18 | train_loss: 0.8127 | valid_loss: 0.8201\n",
            "epoch 19 | train_loss: 0.8119 | valid_loss: 0.8206\n",
            "epoch 20 | train_loss: 0.8118 | valid_loss: 0.8192\n",
            "epoch 21 | train_loss: 0.8113 | valid_loss: 0.8199\n",
            "epoch 22 | train_loss: 0.811 | valid_loss: 0.8195\n",
            "epoch 23 | train_loss: 0.8104 | valid_loss: 0.8205\n",
            "epoch 24 | train_loss: 0.8104 | valid_loss: 0.8196\n",
            "epoch 25 | train_loss: 0.8101 | valid_loss: 0.8191\n",
            "epoch 26 | train_loss: 0.8099 | valid_loss: 0.8196\n",
            "epoch 27 | train_loss: 0.8095 | valid_loss: 0.8184\n",
            "epoch 28 | train_loss: 0.8093 | valid_loss: 0.8181\n",
            "epoch 29 | train_loss: 0.8089 | valid_loss: 0.8192\n",
            "epoch 30 | train_loss: 0.8087 | valid_loss: 0.8185\n",
            "epoch 31 | train_loss: 0.8086 | valid_loss: 0.8178\n",
            "epoch 32 | train_loss: 0.8081 | valid_loss: 0.8182\n",
            "epoch 33 | train_loss: 0.8081 | valid_loss: 0.8173\n",
            "epoch 34 | train_loss: 0.8079 | valid_loss: 0.8178\n",
            "epoch 35 | train_loss: 0.8076 | valid_loss: 0.8179\n",
            "epoch 36 | train_loss: 0.8075 | valid_loss: 0.819\n",
            "epoch 37 | train_loss: 0.8075 | valid_loss: 0.8177\n",
            "epoch 38 | train_loss: 0.8071 | valid_loss: 0.8175\n",
            "epoch 39 | train_loss: 0.8069 | valid_loss: 0.8173\n",
            "epoch 40 | train_loss: 0.8066 | valid_loss: 0.8169\n",
            "epoch 41 | train_loss: 0.8065 | valid_loss: 0.8167\n",
            "epoch 42 | train_loss: 0.8063 | valid_loss: 0.8163\n",
            "epoch 43 | train_loss: 0.8062 | valid_loss: 0.8168\n",
            "epoch 44 | train_loss: 0.8061 | valid_loss: 0.8188\n",
            "epoch 45 | train_loss: 0.806 | valid_loss: 0.8172\n",
            "epoch 46 | train_loss: 0.8058 | valid_loss: 0.818\n",
            "epoch 47 | train_loss: 0.8057 | valid_loss: 0.8184\n",
            "epoch 48 | train_loss: 0.8056 | valid_loss: 0.817\n",
            "epoch 49 | train_loss: 0.8053 | valid_loss: 0.816\n",
            "epoch 50 | train_loss: 0.8053 | valid_loss: 0.8167\n",
            "epoch 51 | train_loss: 0.805 | valid_loss: 0.8158\n",
            "epoch 52 | train_loss: 0.8048 | valid_loss: 0.8173\n",
            "epoch 53 | train_loss: 0.8051 | valid_loss: 0.8161\n",
            "epoch 54 | train_loss: 0.8046 | valid_loss: 0.8167\n",
            "epoch 55 | train_loss: 0.8046 | valid_loss: 0.8164\n",
            "epoch 56 | train_loss: 0.8046 | valid_loss: 0.8161\n",
            "epoch 57 | train_loss: 0.8046 | valid_loss: 0.8163\n",
            "epoch 58 | train_loss: 0.8044 | valid_loss: 0.8155\n",
            "epoch 59 | train_loss: 0.8043 | valid_loss: 0.8164\n",
            "epoch 60 | train_loss: 0.8042 | valid_loss: 0.8163\n",
            "epoch 61 | train_loss: 0.8041 | valid_loss: 0.8159\n",
            "epoch 62 | train_loss: 0.8039 | valid_loss: 0.8157\n",
            "epoch 63 | train_loss: 0.804 | valid_loss: 0.817\n",
            "epoch 64 | train_loss: 0.8039 | valid_loss: 0.8156\n",
            "epoch 65 | train_loss: 0.8037 | valid_loss: 0.8162\n",
            "epoch 66 | train_loss: 0.8036 | valid_loss: 0.8164\n",
            "epoch 67 | train_loss: 0.8038 | valid_loss: 0.8157\n",
            "epoch 68 | train_loss: 0.8033 | valid_loss: 0.8157\n",
            "epoch 69 | train_loss: 0.8034 | valid_loss: 0.8157\n",
            "epoch 70 | train_loss: 0.7978 | valid_loss: 0.8087\n",
            "epoch 71 | train_loss: 0.7961 | valid_loss: 0.8086\n",
            "epoch 72 | train_loss: 0.7957 | valid_loss: 0.8085\n",
            "epoch 73 | train_loss: 0.7952 | valid_loss: 0.8079\n",
            "epoch 74 | train_loss: 0.795 | valid_loss: 0.8079\n",
            "epoch 75 | train_loss: 0.7948 | valid_loss: 0.808\n",
            "epoch 76 | train_loss: 0.7945 | valid_loss: 0.8078\n",
            "epoch 77 | train_loss: 0.7945 | valid_loss: 0.8076\n",
            "epoch 78 | train_loss: 0.7943 | valid_loss: 0.8078\n",
            "epoch 79 | train_loss: 0.7942 | valid_loss: 0.8074\n",
            "epoch 80 | train_loss: 0.7941 | valid_loss: 0.8077\n",
            "epoch 81 | train_loss: 0.794 | valid_loss: 0.8076\n",
            "epoch 82 | train_loss: 0.7939 | valid_loss: 0.8071\n",
            "epoch 83 | train_loss: 0.7938 | valid_loss: 0.8077\n",
            "epoch 84 | train_loss: 0.7938 | valid_loss: 0.8075\n",
            "epoch 85 | train_loss: 0.7936 | valid_loss: 0.8075\n",
            "epoch 86 | train_loss: 0.7935 | valid_loss: 0.8074\n",
            "epoch 87 | train_loss: 0.7935 | valid_loss: 0.8074\n",
            "epoch 88 | train_loss: 0.7934 | valid_loss: 0.8076\n",
            "epoch 89 | train_loss: 0.7934 | valid_loss: 0.8075\n",
            "epoch 90 | train_loss: 0.7934 | valid_loss: 0.8073\n",
            "epoch 91 | train_loss: 0.7933 | valid_loss: 0.8078\n",
            "epoch 92 | train_loss: 0.7932 | valid_loss: 0.8074\n",
            "epoch 93 | train_loss: 0.7932 | valid_loss: 0.8074\n",
            "epoch 94 | train_loss: 0.7925 | valid_loss: 0.8068\n",
            "epoch 95 | train_loss: 0.7924 | valid_loss: 0.8067\n",
            "epoch 96 | train_loss: 0.7923 | valid_loss: 0.8069\n",
            "epoch 97 | train_loss: 0.7923 | valid_loss: 0.8067\n",
            "epoch 98 | train_loss: 0.7923 | valid_loss: 0.8068\n",
            "epoch 99 | train_loss: 0.7923 | valid_loss: 0.8068\n",
            "epoch 100 | train_loss: 0.7922 | valid_loss: 0.8069\n"
          ]
        }
      ]
    },
    {
      "cell_type": "code",
      "source": [
        "plt.plot(metric_train, color='r')\n",
        "plt.plot(metric_valid, color='g')\n",
        "\n",
        "plt.show()"
      ],
      "metadata": {
        "id": "dBTJWlUKv-K2",
        "colab": {
          "base_uri": "https://localhost:8080/",
          "height": 269
        },
        "outputId": "af5d1455-f6ef-461c-8cb6-1650d3cf6597"
      },
      "execution_count": 15,
      "outputs": [
        {
          "output_type": "display_data",
          "data": {
            "text/plain": [
              "<Figure size 432x288 with 1 Axes>"
            ],
            "image/png": "[encoded data removed]"
          },
          "metadata": {
            "needs_background": "light"
          }
        }
      ]
    },
    {
      "cell_type": "markdown",
      "source": [
        "### Evaluation by correlation"
      ],
      "metadata": {
        "id": "0pNzo7pZVR9W"
      }
    },
    {
      "cell_type": "markdown",
      "source": [
        "Load s and Va from SVD:"
      ],
      "metadata": {
        "id": "izu8L7RoGavE"
      }
    },
    {
      "cell_type": "code",
      "source": [
        "s_input = np.diag(np.load(\"s_input.npy\"))\n",
        "s_target = torch.from_numpy(np.diag(np.load(\"s_target.npy\")).astype('float32')).cuda()\n",
        "\n",
        "Va_input = np.load(\"Va_input.npy\")\n",
        "Va_target = torch.from_numpy(np.load(\"Va_target.npy\").astype('float32')).cuda()\n",
        "\n",
        "U_target_std_tensor = torch.from_numpy(U_target_std.astype('float32')).cuda()\n",
        "U_target_avg_tensor = torch.from_numpy(U_target_avg.astype('float32')).cuda()"
      ],
      "metadata": {
        "id": "Ul-6u38D-eDZ"
      },
      "execution_count": 16,
      "outputs": []
    },
    {
      "cell_type": "markdown",
      "source": [
        "Vectorized version of pearson correlation coefficient:"
      ],
      "metadata": {
        "id": "7Kuc58BvGOmk"
      }
    },
    {
      "cell_type": "code",
      "source": [
        "def pcorr_vec(X,Y):\n",
        "  Xnorm = X-X.mean(axis=1).reshape(-1, 1)\n",
        "  Ynorm = Y-Y.mean(axis=1).reshape(-1, 1)\n",
        "  cov = torch.diagonal(torch.matmul(Xnorm,torch.transpose(Ynorm,1,0)))\n",
        "  Xsigma2 = torch.diagonal(torch.matmul(Xnorm,torch.transpose(Xnorm,1,0)))\n",
        "  Ysigma2 = torch.diagonal(torch.matmul(Ynorm,torch.transpose(Ynorm,1,0)))\n",
        "  sigma = torch.sqrt(torch.mul(Xsigma2,Ysigma2))\n",
        "  return torch.mean(cov/sigma)"
      ],
      "metadata": {
        "id": "JAR_Nn9GGOAU"
      },
      "execution_count": 17,
      "outputs": []
    },
    {
      "cell_type": "markdown",
      "source": [
        "Final evaluation:"
      ],
      "metadata": {
        "id": "dsyUytSDJozU"
      }
    },
    {
      "cell_type": "code",
      "source": [
        "dense_model.eval()\n",
        "\n",
        "pcorr_avg = np.zeros(shape=len(valid_dataloader))\n",
        "weights = np.zeros(shape=len(valid_dataloader))\n",
        "\n",
        "with torch.no_grad():\n",
        "    for i, (inputs, targets) in enumerate(valid_dataloader):\n",
        "\n",
        "      outputs = dense_model(inputs)\n",
        "\n",
        "      targets = targets * U_target_std_tensor + U_target_avg_tensor\n",
        "      outputs = outputs * U_target_std_tensor + U_target_avg_tensor\n",
        "\n",
        "      A_targets = torch.matmul(torch.matmul(targets,s_target),Va_target)\n",
        "      A_outputs = torch.matmul(torch.matmul(outputs,s_target),Va_target)\n",
        "\n",
        "      weights[i] = A_outputs.shape[0]\n",
        "      pcorr_avg[i] = pcorr_vec(A_targets,A_outputs)\n",
        "\n",
        "\n",
        "score = round(np.average(pcorr_avg,weights = weights),6)\n",
        "score"
      ],
      "metadata": {
        "id": "o45QLh_X_tSo",
        "colab": {
          "base_uri": "https://localhost:8080/"
        },
        "outputId": "9022f71c-aaf4-48d6-fc1c-bd99ded44209"
      },
      "execution_count": 18,
      "outputs": [
        {
          "output_type": "execute_result",
          "data": {
            "text/plain": [
              "0.789132"
            ]
          },
          "metadata": {},
          "execution_count": 18
        }
      ]
    },
    {
      "cell_type": "code",
      "source": [],
      "metadata": {
        "id": "Bt5-Pl4uQNaV"
      },
      "execution_count": 18,
      "outputs": []
    }
  ]
}