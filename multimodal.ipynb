{
  "nbformat": 4,
  "nbformat_minor": 0,
  "metadata": {
    "colab": {
      "provenance": [],
      "machine_shape": "hm",
      "collapsed_sections": [
        "8tng64uyCOGb"
      ],
      "mount_file_id": "1O5_-Xx8wXr1suQIEaL19CPWpOfQQGhFK",
      "authorship_tag": "ABX9TyN0i8IPc/P4FhS6f8Gl0V0a",
      "include_colab_link": true
    },
    "kernelspec": {
      "name": "python3",
      "display_name": "Python 3"
    },
    "language_info": {
      "name": "python"
    },
    "gpuClass": "standard",
    "accelerator": "GPU"
  },
  "cells": [
    {
      "cell_type": "markdown",
      "metadata": {
        "id": "view-in-github",
        "colab_type": "text"
      },
      "source": [
        "<a href=\"https://colab.research.google.com/github/Enterprise-D/sc_multimodal/blob/main/multimodal.ipynb\" target=\"_parent\"><img src=\"https://colab.research.google.com/assets/colab-badge.svg\" alt=\"Open In Colab\"/></a>"
      ]
    },
    {
      "cell_type": "markdown",
      "source": [
        "## Data Compression"
      ],
      "metadata": {
        "id": "8tng64uyCOGb"
      }
    },
    {
      "cell_type": "markdown",
      "source": [
        "Install and load h5df modules:"
      ],
      "metadata": {
        "id": "ZeLMI5ReCluQ"
      }
    },
    {
      "cell_type": "code",
      "source": [
        "!pip install hdf5plugin\n",
        "import h5py\n",
        "import hdf5plugin"
      ],
      "metadata": {
        "id": "Pw8PddPwCPRy",
        "colab": {
          "base_uri": "https://localhost:8080/"
        },
        "outputId": "1090ad91-d8ea-474a-d205-17a82bc7bc1b"
      },
      "execution_count": 5,
      "outputs": [
        {
          "output_type": "stream",
          "name": "stdout",
          "text": [
            "Looking in indexes: https://pypi.org/simple, https://us-python.pkg.dev/colab-wheels/public/simple/\n",
            "Requirement already satisfied: hdf5plugin in /usr/local/lib/python3.7/dist-packages (3.3.1)\n",
            "Requirement already satisfied: h5py in /usr/local/lib/python3.7/dist-packages (from hdf5plugin) (3.1.0)\n",
            "Requirement already satisfied: numpy>=1.14.5 in /usr/local/lib/python3.7/dist-packages (from h5py->hdf5plugin) (1.21.6)\n",
            "Requirement already satisfied: cached-property in /usr/local/lib/python3.7/dist-packages (from h5py->hdf5plugin) (1.5.2)\n"
          ]
        }
      ]
    },
    {
      "cell_type": "markdown",
      "source": [
        "handle inputs:"
      ],
      "metadata": {
        "id": "-Fv5wM1vDvgQ"
      }
    },
    {
      "cell_type": "code",
      "source": [
        "path_train_multi_inputs = '/content/drive/MyDrive/multimodal/train_multi_inputs.h5'\n",
        "file_train_multi_inputs = h5py.File(path_train_multi_inputs, \"r\")\n",
        "\n",
        "path_test_multi_inputs = '/content/drive/MyDrive/multimodal/test_multi_inputs.h5'\n",
        "file_test_multi_inputs = h5py.File(path_test_multi_inputs, \"r\")\n",
        "\n",
        "file_train_multi_inputs.keys(), file_test_multi_inputs.keys()"
      ],
      "metadata": {
        "id": "bUsBrfM2Cedl",
        "colab": {
          "base_uri": "https://localhost:8080/"
        },
        "outputId": "45c446b7-195a-43c3-a604-3c9e9f589315"
      },
      "execution_count": 2,
      "outputs": [
        {
          "output_type": "execute_result",
          "data": {
            "text/plain": [
              "(<KeysViewHDF5 ['train_multi_inputs']>, <KeysViewHDF5 ['test_multi_inputs']>)"
            ]
          },
          "metadata": {},
          "execution_count": 2
        }
      ]
    },
    {
      "cell_type": "code",
      "source": [
        "group_train_multi_inputs = file_train_multi_inputs['train_multi_inputs']\n",
        "\n",
        "group_test_multi_inputs = file_test_multi_inputs['test_multi_inputs']\n",
        "\n",
        "group_train_multi_inputs.keys(), group_test_multi_inputs.keys()"
      ],
      "metadata": {
        "id": "rIq_boddfJxB",
        "colab": {
          "base_uri": "https://localhost:8080/"
        },
        "outputId": "10625612-11c9-41b2-f462-091b0107dada"
      },
      "execution_count": 3,
      "outputs": [
        {
          "output_type": "execute_result",
          "data": {
            "text/plain": [
              "(<KeysViewHDF5 ['axis0', 'axis1', 'block0_items', 'block0_values']>,\n",
              " <KeysViewHDF5 ['axis0', 'axis1', 'block0_items', 'block0_values']>)"
            ]
          },
          "metadata": {},
          "execution_count": 3
        }
      ]
    },
    {
      "cell_type": "code",
      "source": [
        "group_train_multi_inputs['block0_values'].shape, \\\n",
        "group_test_multi_inputs['block0_values'].shape\n",
        "# axis0 & block0_items: features (genomic coordinates, GRCh38)\n",
        "# axis1: cell_ids\n",
        "# block0_values: entries"
      ],
      "metadata": {
        "id": "-Rl_4P0gfiCW",
        "colab": {
          "base_uri": "https://localhost:8080/"
        },
        "outputId": "59034ed2-7464-4994-f32c-c81fdaa38c5b"
      },
      "execution_count": 4,
      "outputs": [
        {
          "output_type": "execute_result",
          "data": {
            "text/plain": [
              "((105942, 228942), (55935, 228942))"
            ]
          },
          "metadata": {},
          "execution_count": 4
        }
      ]
    },
    {
      "cell_type": "code",
      "source": [
        "group_train_multi_inputs['block0_values'][1:10,1:6]"
      ],
      "metadata": {
        "id": "sE8IAkUk0mJK"
      },
      "execution_count": null,
      "outputs": []
    },
    {
      "cell_type": "markdown",
      "source": [
        "handle targets:"
      ],
      "metadata": {
        "id": "im-6LWJhfMFN"
      }
    },
    {
      "cell_type": "code",
      "source": [
        "path_train_multi_targets = '/content/drive/MyDrive/multimodal/train_multi_targets.h5'\n",
        "file_train_multi_targets = h5py.File(path_train_multi_targets, \"r\")\n",
        "\n",
        "file_train_multi_targets.keys()"
      ],
      "metadata": {
        "id": "gg5xH9eofH_d"
      },
      "execution_count": null,
      "outputs": []
    },
    {
      "cell_type": "code",
      "source": [
        "group_train_multi_targets = file_train_multi_targets['train_multi_targets']\n",
        "group_train_multi_targets.keys()"
      ],
      "metadata": {
        "id": "TpAqs2WBDykP"
      },
      "execution_count": null,
      "outputs": []
    },
    {
      "cell_type": "code",
      "source": [
        "group_train_multi_targets['block0_values'].shape\n",
        "# axis0 & block0_items: features (expression reads, GRCh38)\n",
        "# axis1: cell_ids\n",
        "# block0_values: entries"
      ],
      "metadata": {
        "id": "3LMUF0_iGY13"
      },
      "execution_count": null,
      "outputs": []
    },
    {
      "cell_type": "code",
      "source": [
        "group_train_multi_targets['block0_values'][1:10,1:6]"
      ],
      "metadata": {
        "id": "M0UWdsbM0Qrw"
      },
      "execution_count": null,
      "outputs": []
    },
    {
      "cell_type": "code",
      "source": [
        "import numpy as np\n",
        "import pandas as pd\n",
        "import os\n",
        "import scipy.sparse as sps\n",
        "from tqdm import tqdm as tqdm\n",
        "import gc"
      ],
      "metadata": {
        "id": "qHRDARgfhg_U"
      },
      "execution_count": null,
      "outputs": []
    },
    {
      "cell_type": "markdown",
      "source": [
        "Datasets are too sparse:"
      ],
      "metadata": {
        "id": "LjZvelVQ3van"
      }
    },
    {
      "cell_type": "code",
      "source": [
        "%load_ext Cython"
      ],
      "metadata": {
        "id": "VRjR2Vm43tSZ"
      },
      "execution_count": null,
      "outputs": []
    },
    {
      "cell_type": "code",
      "source": [
        "%%cython\n",
        "\n",
        "import cython\n",
        "cimport cython\n",
        "cimport numpy as np\n",
        "import numpy as np\n",
        "from tqdm import tqdm, trange\n",
        "\n",
        "ctypedef np.int64_t INT64_t\n",
        "\n",
        "@cython.boundscheck(False)\n",
        "@cython.wraparound(False)\n",
        "cpdef np.ndarray[INT64_t, ndim=1] create_indptr(INT64_t[:] row_indices, int start_pos, int nrows):\n",
        "    cdef int shape = row_indices.shape[0]\n",
        "    res = np.zeros(nrows, dtype=np.int64)\n",
        "    cdef INT64_t[:] res_view = res\n",
        "    \n",
        "    cdef int i\n",
        "    cdef int curr_row = 0\n",
        "    cdef int prev = row_indices[0]\n",
        "    \n",
        "    for i in range(shape):\n",
        "        if row_indices[i] != prev:\n",
        "            curr_row += 1\n",
        "            res_view[curr_row] = i\n",
        "            prev = row_indices[i]\n",
        "    # res_view[curr_row + 1] = shape\n",
        "    return res + start_pos"
      ],
      "metadata": {
        "id": "ie-kHKl2ywJm"
      },
      "execution_count": null,
      "outputs": []
    },
    {
      "cell_type": "code",
      "source": [
        "def create_csr_arrays(h5_file_path):\n",
        "    def check_size(xs, ys, datas):\n",
        "        return (xs.nbytes + ys.nbytes + datas.nbytes) * 1e-9\n",
        "\n",
        "    print(f\"\\n\\nProcessing File {h5_file_path}\")\n",
        "    pbar = tqdm()\n",
        "\n",
        "    # Initialize Variables\n",
        "    chunksize = 1000 # Keep it low\n",
        "    loaded_rows = chunksize\n",
        "    start = 0\n",
        "    start_pos = 0\n",
        "    file_pointer = 0\n",
        "\n",
        "    # Initialize CSR arrays\n",
        "    indptr = np.array([], dtype=np.int64)\n",
        "    indices = np.array([], dtype=np.int32)\n",
        "    data_s = np.array([], dtype=np.float32)\n",
        "    \n",
        "    prefix_filename = h5_file_path.split('/')[-1].replace('.h5', '')\n",
        "\n",
        "    while chunksize == loaded_rows:\n",
        "\n",
        "        # Check current size: if the total sum of sizes are > 7GB, then save three arrays and re-initialize them\n",
        "        size_gb = check_size(indptr, indices, data_s)\n",
        "        if size_gb > 7.0:\n",
        "            pbar.set_description(f\"Total size is {size_gb}. Saving ..\")\n",
        "            np.save(f\"{prefix_filename}_indptr_{file_pointer}.npy\", indptr)\n",
        "            np.save(f\"{prefix_filename}_indices_{file_pointer}.npy\", indices)\n",
        "            np.save(f\"{prefix_filename}_data_{file_pointer}.npy\", data_s)\n",
        "            # Re-initialize\n",
        "            indptr = np.array([], dtype=np.int64)\n",
        "            indices = np.array([], dtype=np.int32)\n",
        "            data_s = np.array([], dtype=np.float32)\n",
        "            # Increment pointer\n",
        "            file_pointer += 1\n",
        "\n",
        "        pbar.set_description(\"Reading .h5 chunk\")\n",
        "        df = pd.read_hdf(h5_file_path, start=start, stop=start+chunksize)\n",
        "        pbar.set_description(\"Extracting non-zero values\")\n",
        "        x_coords, y_coords = df.values.nonzero()\n",
        "        tmp_data = df.values[df.values != 0.0]\n",
        "\n",
        "        loaded_rows = df.shape[0]\n",
        "\n",
        "        # Convert types\n",
        "        y_coords = y_coords.astype(np.int32, copy=False)\n",
        "        tmp_data = tmp_data.astype(np.float32, copy=False)\n",
        "\n",
        "        # Compress x_coords\n",
        "        pbar.set_description(\"Compressing rows values\")\n",
        "        x_coords = create_indptr(x_coords, start_pos=start_pos, nrows=loaded_rows)\n",
        "\n",
        "        gc.collect()\n",
        "\n",
        "        # Update variables\n",
        "        pbar.set_description(\"Update variables\")\n",
        "        start_pos += y_coords.shape[0]\n",
        "        start += chunksize\n",
        "        # Append data at the end of each array\n",
        "        indptr = np.hstack((indptr, x_coords))\n",
        "        indices = np.hstack((indices, y_coords))\n",
        "        data_s = np.hstack((data_s, tmp_data))\n",
        "\n",
        "        pbar.update(loaded_rows)\n",
        "\n",
        "    print('Done. Save last files')\n",
        "    np.save(f\"{prefix_filename}_indptr_{file_pointer}.npy\", indptr)\n",
        "    np.save(f\"{prefix_filename}_indices_{file_pointer}.npy\", indices)\n",
        "    np.save(f\"{prefix_filename}_data_{file_pointer}.npy\", data_s)\n",
        "    \n",
        "    del indptr, indices, data_s"
      ],
      "metadata": {
        "id": "hVq6XQKFzgTw"
      },
      "execution_count": null,
      "outputs": []
    },
    {
      "cell_type": "code",
      "source": [
        "create_csr_arrays(path_train_multi_inputs)"
      ],
      "metadata": {
        "id": "QTi5EZAK015w"
      },
      "execution_count": null,
      "outputs": []
    },
    {
      "cell_type": "code",
      "source": [
        "indptr = np.load('train_multi_inputs_indptr_0.npy')\n",
        "indices = np.load('train_multi_inputs_indices_0.npy')\n",
        "data = np.load('train_multi_inputs_data_0.npy')\n",
        "indptr = np.append(indptr, indptr[-1] + indices[indptr[-1]:].shape)\n",
        "N_ROWS = group_train_multi_inputs['block0_values'].shape[0]\n",
        "N_COLS = group_train_multi_inputs['block0_values'].shape[1]\n",
        "csr_matrix = sps.csr_matrix((data, indices, indptr), shape=(N_ROWS, N_COLS))\n",
        "sps.save_npz('train_multi_inputs_sparse.npz', csr_matrix)\n",
        "del csr_matrix, indices, indptr, data"
      ],
      "metadata": {
        "id": "lmV3uKrm5QLq"
      },
      "execution_count": null,
      "outputs": []
    },
    {
      "cell_type": "code",
      "source": [
        "create_csr_arrays(path_train_multi_targets)"
      ],
      "metadata": {
        "id": "iUCehtUw1ex4"
      },
      "execution_count": null,
      "outputs": []
    },
    {
      "cell_type": "code",
      "source": [
        "indptr = np.load('train_multi_targets_indptr_0.npy')\n",
        "indices = np.load('train_multi_targets_indices_0.npy')\n",
        "data = np.load('train_multi_targets_data_0.npy')\n",
        "indptr = np.append(indptr, indptr[-1] + indices[indptr[-1]:].shape)\n",
        "N_ROWS = group_train_multi_targets['block0_values'].shape[0]\n",
        "N_COLS = group_train_multi_targets['block0_values'].shape[1]\n",
        "csr_matrix = sps.csr_matrix((data, indices, indptr), shape=(N_ROWS, N_COLS))\n",
        "sps.save_npz('train_multi_targets_sparse.npz', csr_matrix)\n",
        "del csr_matrix, indices, indptr, data"
      ],
      "metadata": {
        "id": "VbDIjfh25bIW"
      },
      "execution_count": null,
      "outputs": []
    },
    {
      "cell_type": "code",
      "source": [
        "create_csr_arrays(path_test_multi_inputs)"
      ],
      "metadata": {
        "id": "u7harJTv1fei"
      },
      "execution_count": null,
      "outputs": []
    },
    {
      "cell_type": "code",
      "source": [
        "indptr = np.load('test_multi_inputs_indptr_0.npy')\n",
        "indices = np.load('test_multi_inputs_indices_0.npy')\n",
        "data = np.load('test_multi_inputs_data_0.npy')\n",
        "indptr = np.append(indptr, indptr[-1] + indices[indptr[-1]:].shape)\n",
        "N_ROWS = group_test_multi_inputs['block0_values'].shape[0]\n",
        "N_COLS = group_test_multi_inputs['block0_values'].shape[1]\n",
        "csr_matrix = sps.csr_matrix((data, indices, indptr), shape=(N_ROWS, N_COLS))\n",
        "sps.save_npz('test_multi_inputs_sparse.npz', csr_matrix)\n",
        "del csr_matrix, indices, indptr, data"
      ],
      "metadata": {
        "id": "ayoFhfX75Wzl"
      },
      "execution_count": null,
      "outputs": []
    },
    {
      "cell_type": "code",
      "source": [
        "!mv *.npy /content/drive/MyDrive/multimodal_sparse\n",
        "!mv *.npz /content/drive/MyDrive/multimodal_sparse"
      ],
      "metadata": {
        "id": "u-3ZSEQR0uZ5"
      },
      "execution_count": null,
      "outputs": []
    },
    {
      "cell_type": "markdown",
      "source": [
        "## Denoising and Normalization"
      ],
      "metadata": {
        "id": "4NjUGRr80tdL"
      }
    },
    {
      "cell_type": "code",
      "source": [
        "import numpy as np\n",
        "import pandas as pd\n",
        "from sklearn import decomposition\n",
        "\n",
        "import os\n",
        "import scipy.sparse as sps\n",
        "from tqdm import tqdm as tqdm\n",
        "import gc"
      ],
      "metadata": {
        "id": "lyCAh0Nx2QN2"
      },
      "execution_count": null,
      "outputs": []
    },
    {
      "cell_type": "markdown",
      "source": [
        "Copy data to local disk and load into python:"
      ],
      "metadata": {
        "id": "7suLbHzl0e_S"
      }
    },
    {
      "cell_type": "code",
      "source": [
        "!cp /content/drive/MyDrive/multimodal_sparse/*.npz /content/"
      ],
      "metadata": {
        "id": "O-6Abheg1Wf0"
      },
      "execution_count": null,
      "outputs": []
    },
    {
      "cell_type": "code",
      "source": [
        "train_input = sps.load_npz('/content/train_multi_inputs_sparse.npz')\n",
        "train_target = sps.load_npz('/content/train_multi_targets_sparse.npz')"
      ],
      "metadata": {
        "id": "w7Jr_TKt1UPw"
      },
      "execution_count": null,
      "outputs": []
    },
    {
      "cell_type": "markdown",
      "source": [
        "Dimensionality reduction with Meta Randomized SVD: "
      ],
      "metadata": {
        "id": "KaZZz_e2z62s"
      }
    },
    {
      "cell_type": "code",
      "source": [
        "!pip install fbpca\n",
        "import fbpca"
      ],
      "metadata": {
        "colab": {
          "base_uri": "https://localhost:8080/"
        },
        "id": "4DZaRAZHgdWI",
        "outputId": "10ff3afd-5f77-4e7f-e8a4-1ad267401f83"
      },
      "execution_count": null,
      "outputs": [
        {
          "output_type": "stream",
          "name": "stdout",
          "text": [
            "Looking in indexes: https://pypi.org/simple, https://us-python.pkg.dev/colab-wheels/public/simple/\n",
            "Collecting fbpca\n",
            "  Downloading fbpca-1.0.tar.gz (11 kB)\n",
            "Building wheels for collected packages: fbpca\n",
            "  Building wheel for fbpca (setup.py) ... \u001b[?25l\u001b[?25hdone\n",
            "  Created wheel for fbpca: filename=fbpca-1.0-py3-none-any.whl size=11377 sha256=f6b3f7323e0dcd5c33ebeb8d88be6ad9b5ca1512527d82c578e9f211aea5fa12\n",
            "  Stored in directory: /root/.cache/pip/wheels/93/08/0c/1b9866c35c8d3f136d100dfe88036a32e0795437daca089f70\n",
            "Successfully built fbpca\n",
            "Installing collected packages: fbpca\n",
            "Successfully installed fbpca-1.0\n"
          ]
        }
      ]
    },
    {
      "cell_type": "code",
      "source": [
        "k_svd_input = 128\n",
        "U_input, s_input, Va_input = fbpca.pca(train_input,k=k_svd_input)\n",
        "\n",
        "\n",
        "np.save(\"U_input.npy\", U_input)\n",
        "np.save(\"s_input.npy\", s_input)\n",
        "np.save(\"Va_input.npy\", Va_input)"
      ],
      "metadata": {
        "id": "yxaXgZrCh0SK"
      },
      "execution_count": null,
      "outputs": []
    },
    {
      "cell_type": "code",
      "source": [
        "k_svd_target = 128\n",
        "U_target, s_target, Va_target = fbpca.pca(train_target,k=k_svd_target)\n",
        "\n",
        "np.save(\"U_target.npy\", U_target)\n",
        "np.save(\"s_target.npy\", s_target)\n",
        "np.save(\"Va_target.npy\", Va_target)"
      ],
      "metadata": {
        "id": "svzY-uA1mRA_"
      },
      "execution_count": null,
      "outputs": []
    },
    {
      "cell_type": "code",
      "source": [
        "!mv *.npy /content/drive/MyDrive/multimodal_compiled"
      ],
      "metadata": {
        "id": "1iUGN1Rbqepm"
      },
      "execution_count": null,
      "outputs": []
    },
    {
      "cell_type": "markdown",
      "source": [
        "## PyTorch Workflow"
      ],
      "metadata": {
        "id": "PWTDDJRZ3a_-"
      }
    },
    {
      "cell_type": "code",
      "source": [
        "import torch\n",
        "import torch.nn as nn\n",
        "import torch.utils.data as Data\n",
        "from torch.utils.data.sampler import SubsetRandomSampler\n",
        "\n",
        "import numpy as np\n",
        "import pandas as pd\n",
        "from scipy import stats\n",
        "\n",
        "import matplotlib.pyplot as plt"
      ],
      "metadata": {
        "id": "8qL24wDn63cY"
      },
      "execution_count": 14,
      "outputs": []
    },
    {
      "cell_type": "code",
      "source": [
        "!cp /content/drive/MyDrive/multimodal_compiled/*.npy /content/"
      ],
      "metadata": {
        "id": "vqQtdbbj0RNy"
      },
      "execution_count": 2,
      "outputs": []
    },
    {
      "cell_type": "code",
      "source": [
        "U_input = np.load(\"U_input.npy\")\n",
        "U_target = np.load(\"U_target.npy\")"
      ],
      "metadata": {
        "id": "j-uNvFVQ5B9a"
      },
      "execution_count": 4,
      "outputs": []
    },
    {
      "cell_type": "markdown",
      "source": [
        "Normalize targets (for MSE calculation):"
      ],
      "metadata": {
        "id": "l-aQIO5s0R-5"
      }
    },
    {
      "cell_type": "code",
      "source": [
        "U_input_std = U_input.std(axis=1).reshape(-1, 1)\n",
        "U_input_avg = U_input.mean(axis=1).reshape(-1, 1)\n",
        "U_input_norm = (U_input - U_input_avg) / U_input_std\n",
        "\n",
        "U_target_std = U_target.std(axis=1).reshape(-1, 1)\n",
        "U_target_avg = U_target.mean(axis=1).reshape(-1, 1)\n",
        "U_target_norm = (U_target - U_target_avg) / U_target_std\n",
        "\n",
        "U_target_norm.shape, U_target_avg.shape, U_target_std.shape"
      ],
      "metadata": {
        "id": "AKMxD56m0N6j",
        "colab": {
          "base_uri": "https://localhost:8080/"
        },
        "outputId": "7cbecaa6-a0dc-4311-ffce-5d9d11676253"
      },
      "execution_count": 39,
      "outputs": [
        {
          "output_type": "execute_result",
          "data": {
            "text/plain": [
              "((105942, 128), (105942, 1), (105942, 1))"
            ]
          },
          "metadata": {},
          "execution_count": 39
        }
      ]
    },
    {
      "cell_type": "markdown",
      "source": [
        "Construct dataset:"
      ],
      "metadata": {
        "id": "vywIBWgU0Xfp"
      }
    },
    {
      "cell_type": "code",
      "source": [
        "class TrainDataset(Data.Dataset):\n",
        "    def __init__(self):\n",
        "      self.inputs_data = U_input_norm.astype('float32')\n",
        "      self.targets_data = U_target_norm.astype('float32')\n",
        "      self.targets_std = U_target_std.astype('float32')\n",
        "      self.targets_avg = U_target_avg.astype('float32')\n",
        "\n",
        "    def __len__(self):\n",
        "      return self.inputs_data.shape[0]\n",
        "\n",
        "    def __getitem__(self, idx):\n",
        "      inputs_sliced = self.inputs_data[idx, ...]\n",
        "      targets_sliced = self.targets_data[idx, ...]\n",
        "      targets_std_sliced = self.targets_std[idx, ...]\n",
        "      targets_avg_sliced = self.targets_avg[idx, ...]\n",
        "\n",
        "      return inputs_sliced, targets_sliced, targets_std_sliced, targets_avg_sliced"
      ],
      "metadata": {
        "id": "xvvRd1cL0_L2"
      },
      "execution_count": 40,
      "outputs": []
    },
    {
      "cell_type": "code",
      "source": [
        "validation_split = .2\n",
        "shuffle_dataset = True\n",
        "random_seed = 42\n",
        "\n",
        "# Creating data indices for training and validation splits:\n",
        "dataset_size = len(TrainDataset())\n",
        "indices = list(range(dataset_size))\n",
        "split = int(np.floor(validation_split * dataset_size))\n",
        "if shuffle_dataset :\n",
        "    np.random.seed(random_seed)\n",
        "    np.random.shuffle(indices)\n",
        "train_indices, val_indices = indices[split:], indices[:split]\n",
        "\n",
        "train_sampler = SubsetRandomSampler(train_indices)\n",
        "valid_sampler = SubsetRandomSampler(val_indices)"
      ],
      "metadata": {
        "id": "ijHqUsMmrZj-"
      },
      "execution_count": 41,
      "outputs": []
    },
    {
      "cell_type": "code",
      "source": [
        "batch_size = 256\n",
        "\n",
        "train_dataloader = torch.utils.data.DataLoader(TrainDataset(),\n",
        "                                               batch_size=batch_size,\n",
        "                                               sampler=train_sampler,\n",
        "                                               shuffle = False)\n",
        "valid_dataloader = torch.utils.data.DataLoader(TrainDataset(), \n",
        "                                               batch_size=batch_size,\n",
        "                                               sampler=valid_sampler,\n",
        "                                               shuffle = False)\n",
        "\n",
        "len(train_dataloader), len(valid_dataloader)"
      ],
      "metadata": {
        "colab": {
          "base_uri": "https://localhost:8080/"
        },
        "id": "3FiuK7imsvHu",
        "outputId": "e5100ec1-c21f-456b-864a-11c424fed68e"
      },
      "execution_count": 69,
      "outputs": [
        {
          "output_type": "execute_result",
          "data": {
            "text/plain": [
              "(332, 83)"
            ]
          },
          "metadata": {},
          "execution_count": 69
        }
      ]
    },
    {
      "cell_type": "markdown",
      "source": [
        "Construct models:"
      ],
      "metadata": {
        "id": "nRkKZVbWq5iu"
      }
    },
    {
      "cell_type": "code",
      "source": [
        "class DenseModel(nn.Module):\n",
        "    def __init__(self, input_size=128, hidden_size=128, output_size=128):\n",
        "        super(DenseModel, self).__init__()\n",
        "        self.dense1 = nn.Sequential(\n",
        "            nn.Linear(input_size, hidden_size),\n",
        "            nn.ReLU())\n",
        "        \n",
        "        self.dense2 = nn.Sequential(\n",
        "            #nn.Dropout(0.3),\n",
        "            nn.BatchNorm1d(hidden_size),\n",
        "            nn.Linear(hidden_size, hidden_size),\n",
        "            nn.ReLU())\n",
        "        \n",
        "        self.dense3 = nn.Sequential(\n",
        "            #nn.Dropout(0.3),\n",
        "            nn.BatchNorm1d(hidden_size),\n",
        "            nn.Linear(hidden_size, hidden_size),\n",
        "            nn.ReLU())\n",
        "        \n",
        "        self.dense4 = nn.Sequential(\n",
        "            #nn.Dropout(0.3),\n",
        "            nn.BatchNorm1d(hidden_size),\n",
        "            nn.Linear(hidden_size, hidden_size),\n",
        "            nn.ReLU())\n",
        "                \n",
        "        self.dense5 = nn.Sequential(\n",
        "            nn.BatchNorm1d(hidden_size),\n",
        "            nn.Linear(hidden_size, output_size))\n",
        "\n",
        "    def forward(self, input):\n",
        "        output = self.dense1(input)\n",
        "        output = self.dense2(output)\n",
        "        output = self.dense3(output)\n",
        "        #output = self.dense4(output)\n",
        "        output = self.dense5(output)\n",
        "        return output"
      ],
      "metadata": {
        "id": "hrX8xZm3q-wZ"
      },
      "execution_count": 101,
      "outputs": []
    },
    {
      "cell_type": "code",
      "source": [
        "dense_model = DenseModel().cuda()"
      ],
      "metadata": {
        "id": "5cwrXl8xsANC"
      },
      "execution_count": 77,
      "outputs": []
    },
    {
      "cell_type": "code",
      "source": [
        "criterion = nn.MSELoss()\n",
        "\n",
        "num_epochs = 20\n",
        "learning_rate = 0.01\n",
        "optimizer = torch.optim.Adam(params=dense_model.parameters(), lr=learning_rate)\n",
        "\n",
        "total_step = len(train_dataloader)"
      ],
      "metadata": {
        "id": "keLoFGm-rzPV"
      },
      "execution_count": 78,
      "outputs": []
    },
    {
      "cell_type": "code",
      "source": [
        "metric_train = np.zeros(shape=num_epochs)\n",
        "metric_valid = np.zeros(shape=num_epochs)\n",
        "\n",
        "for epoch in range(num_epochs):\n",
        "    dense_model.train()\n",
        "    loss_train = np.zeros(shape=len(train_dataloader))\n",
        "\n",
        "    for i, (inputs, targets, _, _) in enumerate(train_dataloader):\n",
        "\n",
        "        inputs = inputs.cuda()\n",
        "        targets = targets.cuda()\n",
        "\n",
        "        outputs = dense_model(inputs)\n",
        "        loss = criterion(outputs, targets)\n",
        "        loss_train[i] = loss\n",
        "\n",
        "        optimizer.zero_grad()\n",
        "        loss.backward()\n",
        "        optimizer.step()\n",
        "\n",
        "        #if (i+1) % 100 == 0:\n",
        "        #    print ('Epoch [{}/{}], Step [{}/{}], Loss: {:.10f}'\n",
        "        #           .format(epoch+1, num_epochs, i+1, total_step, loss.item()))\n",
        "\n",
        "    dense_model.eval()\n",
        "    loss_valid = np.zeros(shape=len(valid_dataloader))\n",
        "\n",
        "    with torch.no_grad():\n",
        "        for i, (inputs, targets, _, _) in enumerate(valid_dataloader):\n",
        "\n",
        "          inputs = inputs.cuda()\n",
        "          targets = targets.cuda()\n",
        "\n",
        "          outputs = dense_model(inputs)\n",
        "          loss = criterion(outputs, targets)\n",
        "          loss_valid[i] = loss\n",
        "\n",
        "    metric_train[epoch] = np.mean(loss_train)\n",
        "    metric_valid[epoch] = np.mean(loss_valid)\n",
        "\n",
        "    print('Epoch', epoch+1,'| train:',round(metric_train[epoch],4) ,'| valid:',round(metric_valid[epoch],4))"
      ],
      "metadata": {
        "colab": {
          "base_uri": "https://localhost:8080/",
          "height": 409
        },
        "id": "6uSUv2Hvs1cL",
        "outputId": "e246ebdc-35a4-4a53-99d1-2c1c8fd627c5"
      },
      "execution_count": 102,
      "outputs": [
        {
          "output_type": "stream",
          "name": "stdout",
          "text": [
            "Epoch 1 | train: 0.8698 | valid: 0.8694\n",
            "Epoch 2 | train: 0.8677 | valid: 0.8673\n"
          ]
        },
        {
          "output_type": "error",
          "ename": "KeyboardInterrupt",
          "evalue": "ignored",
          "traceback": [
            "\u001b[0;31m---------------------------------------------------------------------------\u001b[0m",
            "\u001b[0;31mKeyboardInterrupt\u001b[0m                         Traceback (most recent call last)",
            "\u001b[0;32m<ipython-input-102-8411b7779c3b>\u001b[0m in \u001b[0;36m<module>\u001b[0;34m\u001b[0m\n\u001b[1;32m     11\u001b[0m         \u001b[0mtargets\u001b[0m \u001b[0;34m=\u001b[0m \u001b[0mtargets\u001b[0m\u001b[0;34m.\u001b[0m\u001b[0mcuda\u001b[0m\u001b[0;34m(\u001b[0m\u001b[0;34m)\u001b[0m\u001b[0;34m\u001b[0m\u001b[0;34m\u001b[0m\u001b[0m\n\u001b[1;32m     12\u001b[0m \u001b[0;34m\u001b[0m\u001b[0m\n\u001b[0;32m---> 13\u001b[0;31m         \u001b[0moutputs\u001b[0m \u001b[0;34m=\u001b[0m \u001b[0mdense_model\u001b[0m\u001b[0;34m(\u001b[0m\u001b[0minputs\u001b[0m\u001b[0;34m)\u001b[0m\u001b[0;34m\u001b[0m\u001b[0;34m\u001b[0m\u001b[0m\n\u001b[0m\u001b[1;32m     14\u001b[0m         \u001b[0mloss\u001b[0m \u001b[0;34m=\u001b[0m \u001b[0mcriterion\u001b[0m\u001b[0;34m(\u001b[0m\u001b[0moutputs\u001b[0m\u001b[0;34m,\u001b[0m \u001b[0mtargets\u001b[0m\u001b[0;34m)\u001b[0m\u001b[0;34m\u001b[0m\u001b[0;34m\u001b[0m\u001b[0m\n\u001b[1;32m     15\u001b[0m         \u001b[0mloss_train\u001b[0m\u001b[0;34m[\u001b[0m\u001b[0mi\u001b[0m\u001b[0;34m]\u001b[0m \u001b[0;34m=\u001b[0m \u001b[0mloss\u001b[0m\u001b[0;34m\u001b[0m\u001b[0;34m\u001b[0m\u001b[0m\n",
            "\u001b[0;32m/usr/local/lib/python3.7/dist-packages/torch/nn/modules/module.py\u001b[0m in \u001b[0;36m_call_impl\u001b[0;34m(self, *input, **kwargs)\u001b[0m\n\u001b[1;32m   1128\u001b[0m         if not (self._backward_hooks or self._forward_hooks or self._forward_pre_hooks or _global_backward_hooks\n\u001b[1;32m   1129\u001b[0m                 or _global_forward_hooks or _global_forward_pre_hooks):\n\u001b[0;32m-> 1130\u001b[0;31m             \u001b[0;32mreturn\u001b[0m \u001b[0mforward_call\u001b[0m\u001b[0;34m(\u001b[0m\u001b[0;34m*\u001b[0m\u001b[0minput\u001b[0m\u001b[0;34m,\u001b[0m \u001b[0;34m**\u001b[0m\u001b[0mkwargs\u001b[0m\u001b[0;34m)\u001b[0m\u001b[0;34m\u001b[0m\u001b[0;34m\u001b[0m\u001b[0m\n\u001b[0m\u001b[1;32m   1131\u001b[0m         \u001b[0;31m# Do not call functions when jit is used\u001b[0m\u001b[0;34m\u001b[0m\u001b[0;34m\u001b[0m\u001b[0;34m\u001b[0m\u001b[0m\n\u001b[1;32m   1132\u001b[0m         \u001b[0mfull_backward_hooks\u001b[0m\u001b[0;34m,\u001b[0m \u001b[0mnon_full_backward_hooks\u001b[0m \u001b[0;34m=\u001b[0m \u001b[0;34m[\u001b[0m\u001b[0;34m]\u001b[0m\u001b[0;34m,\u001b[0m \u001b[0;34m[\u001b[0m\u001b[0;34m]\u001b[0m\u001b[0;34m\u001b[0m\u001b[0;34m\u001b[0m\u001b[0m\n",
            "\u001b[0;32m<ipython-input-76-907abbf040a2>\u001b[0m in \u001b[0;36mforward\u001b[0;34m(self, input)\u001b[0m\n\u001b[1;32m     29\u001b[0m \u001b[0;34m\u001b[0m\u001b[0m\n\u001b[1;32m     30\u001b[0m     \u001b[0;32mdef\u001b[0m \u001b[0mforward\u001b[0m\u001b[0;34m(\u001b[0m\u001b[0mself\u001b[0m\u001b[0;34m,\u001b[0m \u001b[0minput\u001b[0m\u001b[0;34m)\u001b[0m\u001b[0;34m:\u001b[0m\u001b[0;34m\u001b[0m\u001b[0;34m\u001b[0m\u001b[0m\n\u001b[0;32m---> 31\u001b[0;31m         \u001b[0moutput\u001b[0m \u001b[0;34m=\u001b[0m \u001b[0mself\u001b[0m\u001b[0;34m.\u001b[0m\u001b[0mdense1\u001b[0m\u001b[0;34m(\u001b[0m\u001b[0minput\u001b[0m\u001b[0;34m)\u001b[0m\u001b[0;34m\u001b[0m\u001b[0;34m\u001b[0m\u001b[0m\n\u001b[0m\u001b[1;32m     32\u001b[0m         \u001b[0moutput\u001b[0m \u001b[0;34m=\u001b[0m \u001b[0mself\u001b[0m\u001b[0;34m.\u001b[0m\u001b[0mdense2\u001b[0m\u001b[0;34m(\u001b[0m\u001b[0moutput\u001b[0m\u001b[0;34m)\u001b[0m\u001b[0;34m\u001b[0m\u001b[0;34m\u001b[0m\u001b[0m\n\u001b[1;32m     33\u001b[0m         \u001b[0moutput\u001b[0m \u001b[0;34m=\u001b[0m \u001b[0mself\u001b[0m\u001b[0;34m.\u001b[0m\u001b[0mdense3\u001b[0m\u001b[0;34m(\u001b[0m\u001b[0moutput\u001b[0m\u001b[0;34m)\u001b[0m\u001b[0;34m\u001b[0m\u001b[0;34m\u001b[0m\u001b[0m\n",
            "\u001b[0;32m/usr/local/lib/python3.7/dist-packages/torch/nn/modules/module.py\u001b[0m in \u001b[0;36m_call_impl\u001b[0;34m(self, *input, **kwargs)\u001b[0m\n\u001b[1;32m   1128\u001b[0m         if not (self._backward_hooks or self._forward_hooks or self._forward_pre_hooks or _global_backward_hooks\n\u001b[1;32m   1129\u001b[0m                 or _global_forward_hooks or _global_forward_pre_hooks):\n\u001b[0;32m-> 1130\u001b[0;31m             \u001b[0;32mreturn\u001b[0m \u001b[0mforward_call\u001b[0m\u001b[0;34m(\u001b[0m\u001b[0;34m*\u001b[0m\u001b[0minput\u001b[0m\u001b[0;34m,\u001b[0m \u001b[0;34m**\u001b[0m\u001b[0mkwargs\u001b[0m\u001b[0;34m)\u001b[0m\u001b[0;34m\u001b[0m\u001b[0;34m\u001b[0m\u001b[0m\n\u001b[0m\u001b[1;32m   1131\u001b[0m         \u001b[0;31m# Do not call functions when jit is used\u001b[0m\u001b[0;34m\u001b[0m\u001b[0;34m\u001b[0m\u001b[0;34m\u001b[0m\u001b[0m\n\u001b[1;32m   1132\u001b[0m         \u001b[0mfull_backward_hooks\u001b[0m\u001b[0;34m,\u001b[0m \u001b[0mnon_full_backward_hooks\u001b[0m \u001b[0;34m=\u001b[0m \u001b[0;34m[\u001b[0m\u001b[0;34m]\u001b[0m\u001b[0;34m,\u001b[0m \u001b[0;34m[\u001b[0m\u001b[0;34m]\u001b[0m\u001b[0;34m\u001b[0m\u001b[0;34m\u001b[0m\u001b[0m\n",
            "\u001b[0;32m/usr/local/lib/python3.7/dist-packages/torch/nn/modules/container.py\u001b[0m in \u001b[0;36mforward\u001b[0;34m(self, input)\u001b[0m\n\u001b[1;32m    137\u001b[0m     \u001b[0;32mdef\u001b[0m \u001b[0mforward\u001b[0m\u001b[0;34m(\u001b[0m\u001b[0mself\u001b[0m\u001b[0;34m,\u001b[0m \u001b[0minput\u001b[0m\u001b[0;34m)\u001b[0m\u001b[0;34m:\u001b[0m\u001b[0;34m\u001b[0m\u001b[0;34m\u001b[0m\u001b[0m\n\u001b[1;32m    138\u001b[0m         \u001b[0;32mfor\u001b[0m \u001b[0mmodule\u001b[0m \u001b[0;32min\u001b[0m \u001b[0mself\u001b[0m\u001b[0;34m:\u001b[0m\u001b[0;34m\u001b[0m\u001b[0;34m\u001b[0m\u001b[0m\n\u001b[0;32m--> 139\u001b[0;31m             \u001b[0minput\u001b[0m \u001b[0;34m=\u001b[0m \u001b[0mmodule\u001b[0m\u001b[0;34m(\u001b[0m\u001b[0minput\u001b[0m\u001b[0;34m)\u001b[0m\u001b[0;34m\u001b[0m\u001b[0;34m\u001b[0m\u001b[0m\n\u001b[0m\u001b[1;32m    140\u001b[0m         \u001b[0;32mreturn\u001b[0m \u001b[0minput\u001b[0m\u001b[0;34m\u001b[0m\u001b[0;34m\u001b[0m\u001b[0m\n\u001b[1;32m    141\u001b[0m \u001b[0;34m\u001b[0m\u001b[0m\n",
            "\u001b[0;32m/usr/local/lib/python3.7/dist-packages/torch/nn/modules/module.py\u001b[0m in \u001b[0;36m_call_impl\u001b[0;34m(self, *input, **kwargs)\u001b[0m\n\u001b[1;32m   1128\u001b[0m         if not (self._backward_hooks or self._forward_hooks or self._forward_pre_hooks or _global_backward_hooks\n\u001b[1;32m   1129\u001b[0m                 or _global_forward_hooks or _global_forward_pre_hooks):\n\u001b[0;32m-> 1130\u001b[0;31m             \u001b[0;32mreturn\u001b[0m \u001b[0mforward_call\u001b[0m\u001b[0;34m(\u001b[0m\u001b[0;34m*\u001b[0m\u001b[0minput\u001b[0m\u001b[0;34m,\u001b[0m \u001b[0;34m**\u001b[0m\u001b[0mkwargs\u001b[0m\u001b[0;34m)\u001b[0m\u001b[0;34m\u001b[0m\u001b[0;34m\u001b[0m\u001b[0m\n\u001b[0m\u001b[1;32m   1131\u001b[0m         \u001b[0;31m# Do not call functions when jit is used\u001b[0m\u001b[0;34m\u001b[0m\u001b[0;34m\u001b[0m\u001b[0;34m\u001b[0m\u001b[0m\n\u001b[1;32m   1132\u001b[0m         \u001b[0mfull_backward_hooks\u001b[0m\u001b[0;34m,\u001b[0m \u001b[0mnon_full_backward_hooks\u001b[0m \u001b[0;34m=\u001b[0m \u001b[0;34m[\u001b[0m\u001b[0;34m]\u001b[0m\u001b[0;34m,\u001b[0m \u001b[0;34m[\u001b[0m\u001b[0;34m]\u001b[0m\u001b[0;34m\u001b[0m\u001b[0;34m\u001b[0m\u001b[0m\n",
            "\u001b[0;32m/usr/local/lib/python3.7/dist-packages/torch/nn/modules/linear.py\u001b[0m in \u001b[0;36mforward\u001b[0;34m(self, input)\u001b[0m\n\u001b[1;32m    112\u001b[0m \u001b[0;34m\u001b[0m\u001b[0m\n\u001b[1;32m    113\u001b[0m     \u001b[0;32mdef\u001b[0m \u001b[0mforward\u001b[0m\u001b[0;34m(\u001b[0m\u001b[0mself\u001b[0m\u001b[0;34m,\u001b[0m \u001b[0minput\u001b[0m\u001b[0;34m:\u001b[0m \u001b[0mTensor\u001b[0m\u001b[0;34m)\u001b[0m \u001b[0;34m->\u001b[0m \u001b[0mTensor\u001b[0m\u001b[0;34m:\u001b[0m\u001b[0;34m\u001b[0m\u001b[0;34m\u001b[0m\u001b[0m\n\u001b[0;32m--> 114\u001b[0;31m         \u001b[0;32mreturn\u001b[0m \u001b[0mF\u001b[0m\u001b[0;34m.\u001b[0m\u001b[0mlinear\u001b[0m\u001b[0;34m(\u001b[0m\u001b[0minput\u001b[0m\u001b[0;34m,\u001b[0m \u001b[0mself\u001b[0m\u001b[0;34m.\u001b[0m\u001b[0mweight\u001b[0m\u001b[0;34m,\u001b[0m \u001b[0mself\u001b[0m\u001b[0;34m.\u001b[0m\u001b[0mbias\u001b[0m\u001b[0;34m)\u001b[0m\u001b[0;34m\u001b[0m\u001b[0;34m\u001b[0m\u001b[0m\n\u001b[0m\u001b[1;32m    115\u001b[0m \u001b[0;34m\u001b[0m\u001b[0m\n\u001b[1;32m    116\u001b[0m     \u001b[0;32mdef\u001b[0m \u001b[0mextra_repr\u001b[0m\u001b[0;34m(\u001b[0m\u001b[0mself\u001b[0m\u001b[0;34m)\u001b[0m \u001b[0;34m->\u001b[0m \u001b[0mstr\u001b[0m\u001b[0;34m:\u001b[0m\u001b[0;34m\u001b[0m\u001b[0;34m\u001b[0m\u001b[0m\n",
            "\u001b[0;31mKeyboardInterrupt\u001b[0m: "
          ]
        }
      ]
    },
    {
      "cell_type": "code",
      "source": [
        "plt.plot(metric_train, color='r')\n",
        "plt.plot(metric_valid, color='g')\n",
        "plt.show()"
      ],
      "metadata": {
        "colab": {
          "base_uri": "https://localhost:8080/",
          "height": 265
        },
        "id": "dBTJWlUKv-K2",
        "outputId": "3e07689a-ccc6-442c-dd1f-c932ec6bf568"
      },
      "execution_count": 30,
      "outputs": [
        {
          "output_type": "display_data",
          "data": {
            "text/plain": [
              "<Figure size 432x288 with 1 Axes>"
            ],
            "image/png": "[encoded data removed]"
          },
          "metadata": {
            "needs_background": "light"
          }
        }
      ]
    },
    {
      "cell_type": "markdown",
      "source": [
        "### Evaluation by correlation"
      ],
      "metadata": {
        "id": "0pNzo7pZVR9W"
      }
    },
    {
      "cell_type": "markdown",
      "source": [
        "Load s and Va from SVD:"
      ],
      "metadata": {
        "id": "izu8L7RoGavE"
      }
    },
    {
      "cell_type": "code",
      "source": [
        "s_input = np.diag(np.load(\"s_input.npy\"))\n",
        "s_target = torch.from_numpy(np.diag(np.load(\"s_target.npy\")).astype('float32')).cuda()\n",
        "\n",
        "Va_input = np.load(\"Va_input.npy\")\n",
        "Va_target = torch.from_numpy(np.load(\"Va_target.npy\").astype('float32')).cuda()"
      ],
      "metadata": {
        "id": "Ul-6u38D-eDZ"
      },
      "execution_count": 117,
      "outputs": []
    },
    {
      "cell_type": "markdown",
      "source": [
        "Vectorized version of pearson correlation coefficient:"
      ],
      "metadata": {
        "id": "7Kuc58BvGOmk"
      }
    },
    {
      "cell_type": "code",
      "source": [
        "def pcorr_vec(X,Y):\n",
        "  Xmean = X.mean(axis=1).reshape(-1, 1)\n",
        "  Ymean = Y.mean(axis=1).reshape(-1, 1)\n",
        "  Xnorm = X-Xmean\n",
        "  Ynorm = Y-Ymean\n",
        "  cov = torch.diagonal(torch.matmul(Xnorm,torch.transpose(Ynorm,1,0)))\n",
        "  Xsigma = torch.diagonal(torch.matmul(Xnorm,torch.transpose(Xnorm,1,0)))\n",
        "  Ysigma = torch.diagonal(torch.matmul(Ynorm,torch.transpose(Ynorm,1,0)))\n",
        "  sigma = torch.sqrt(torch.mul(Xsigma,Ysigma))\n",
        "  return torch.mean(cov/sigma)"
      ],
      "metadata": {
        "id": "JAR_Nn9GGOAU"
      },
      "execution_count": 118,
      "outputs": []
    },
    {
      "cell_type": "code",
      "source": [
        "dense_model.eval()\n",
        "\n",
        "pcorr_avg = np.zeros(shape=len(valid_dataloader))\n",
        "\n",
        "with torch.no_grad():\n",
        "    for i, (inputs, targets, targets_std, targets_avg) in enumerate(valid_dataloader):\n",
        "\n",
        "      inputs = inputs.cuda()\n",
        "      targets = targets.cuda()\n",
        "      targets_std = targets_std.cuda()\n",
        "      targets_avg = targets_avg.cuda()\n",
        "\n",
        "      outputs = dense_model(inputs)\n",
        "\n",
        "      targets = targets * targets_std + targets_avg\n",
        "      outputs = outputs * targets_std + targets_avg\n",
        "\n",
        "      A_targets = torch.matmul(torch.matmul(targets,s_target),Va_target)\n",
        "      A_outputs = torch.matmul(torch.matmul(outputs,s_target),Va_target)\n",
        "\n",
        "      pcorr_avg[i] = pcorr_vec(A_targets,A_outputs)\n",
        "\n",
        "np.mean(pcorr_avg)"
      ],
      "metadata": {
        "id": "o45QLh_X_tSo",
        "colab": {
          "base_uri": "https://localhost:8080/"
        },
        "outputId": "49f2785c-bd7c-4b16-f739-b55baf278fcb"
      },
      "execution_count": 119,
      "outputs": [
        {
          "output_type": "execute_result",
          "data": {
            "text/plain": [
              "0.747620303228677"
            ]
          },
          "metadata": {},
          "execution_count": 119
        }
      ]
    }
  ]
}